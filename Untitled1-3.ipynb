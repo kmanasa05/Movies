{
  "nbformat": 4,
  "nbformat_minor": 0,
  "metadata": {
    "colab": {
      "provenance": []
    },
    "kernelspec": {
      "name": "python3",
      "display_name": "Python 3"
    },
    "language_info": {
      "name": "python"
    }
  },
  "cells": [
    {
      "cell_type": "markdown",
      "source": [
        "Movie Recommendation System\n",
        "\n",
        "\n",
        "Recommender System is a system that seeks to predict or filter preferences according to the user's choices. Recommender systems are utilized in a variety of areas including movies, music, news, books, research articles, search queries, social tags, and products in general. Recommender systems produce a list of recommendations in any of the two ways -\n",
        "\n",
        "Collaborative filtering: Collaborative filtering approaches build a model from the user's past behavior (i.e. items purchased or searched by the user) as well as similar decisions made by other users. This model is then used to predict items(or ratings for items) that users may have an interest in.\n",
        "\n",
        "Content-based filtering: Content-base filtering approaches uses a series of discrete characteristics of an item in order to recommend additional items with similar properties. Content-based filtering methods are totally based on a description of the item and a profile of the user's preferences. It recommends items based on the user's past preferences. Let's develop a basic recommendation system using Python and Pandas.\n",
        "\n",
        "Let's develop a basic recommendation system by suggesting items that are most similar to a particular item, in this case, movies. It just tells what movies/items are most similar to the user's movie choice."
      ],
      "metadata": {
        "id": "M2fg4CXxUKDw"
      }
    },
    {
      "cell_type": "markdown",
      "source": [
        "Import Library"
      ],
      "metadata": {
        "id": "z9c11iljUjD9"
      }
    },
    {
      "cell_type": "code",
      "source": [
        "import pandas as pd"
      ],
      "metadata": {
        "id": "fDxL9XtbUnRI"
      },
      "execution_count": null,
      "outputs": []
    },
    {
      "cell_type": "code",
      "source": [
        "import numpy as np"
      ],
      "metadata": {
        "id": "UsZGv2kXUr3t"
      },
      "execution_count": null,
      "outputs": []
    },
    {
      "cell_type": "markdown",
      "source": [
        "Import Dataset"
      ],
      "metadata": {
        "id": "sRcP8LuFUwPH"
      }
    },
    {
      "cell_type": "code",
      "source": [
        "df = pd.read_csv(r'https://raw.githubusercontent.com/YBI-Foundation/Dataset/main/Movies%20Recommendation.csv')"
      ],
      "metadata": {
        "id": "FrH-A9rZU2T2"
      },
      "execution_count": null,
      "outputs": []
    },
    {
      "cell_type": "code",
      "source": [
        "df.head()"
      ],
      "metadata": {
        "colab": {
          "base_uri": "https://localhost:8080/",
          "height": 627
        },
        "id": "Y5jyGciGU_0v",
        "outputId": "2f20a5da-8ccc-40fb-eeb5-be6b6da4c629"
      },
      "execution_count": null,
      "outputs": [
        {
          "output_type": "execute_result",
          "data": {
            "text/plain": [
              "   Movie_ID      Movie_Title                       Movie_Genre Movie_Language  \\\n",
              "0         1       Four Rooms                      Crime Comedy             en   \n",
              "1         2        Star Wars  Adventure Action Science Fiction             en   \n",
              "2         3     Finding Nemo                  Animation Family             en   \n",
              "3         4     Forrest Gump              Comedy Drama Romance             en   \n",
              "4         5  American Beauty                             Drama             en   \n",
              "\n",
              "   Movie_Budget  Movie_Popularity Movie_Release_Date  Movie_Revenue  \\\n",
              "0       4000000         22.876230         09-12-1995        4300000   \n",
              "1      11000000        126.393695         25-05-1977      775398007   \n",
              "2      94000000         85.688789         30-05-2003      940335536   \n",
              "3      55000000        138.133331         06-07-1994      677945399   \n",
              "4      15000000         80.878605         15-09-1999      356296601   \n",
              "\n",
              "   Movie_Runtime  Movie_Vote  ...  \\\n",
              "0           98.0         6.5  ...   \n",
              "1          121.0         8.1  ...   \n",
              "2          100.0         7.6  ...   \n",
              "3          142.0         8.2  ...   \n",
              "4          122.0         7.9  ...   \n",
              "\n",
              "                                      Movie_Homepage  \\\n",
              "0                                                NaN   \n",
              "1  http://www.starwars.com/films/star-wars-episod...   \n",
              "2              http://movies.disney.com/finding-nemo   \n",
              "3                                                NaN   \n",
              "4                      http://www.dreamworks.com/ab/   \n",
              "\n",
              "                                      Movie_Keywords  \\\n",
              "0          hotel new year's eve witch bet hotel room   \n",
              "1        android galaxy hermit death star lightsaber   \n",
              "2  father son relationship harbor underwater fish...   \n",
              "3  vietnam veteran hippie mentally disabled runni...   \n",
              "4  male nudity female nudity adultery midlife cri...   \n",
              "\n",
              "                                      Movie_Overview  \\\n",
              "0  It's Ted the Bellhop's first night on the job....   \n",
              "1  Princess Leia is captured and held hostage by ...   \n",
              "2  Nemo, an adventurous young clownfish, is unexp...   \n",
              "3  A man with a low IQ has accomplished great thi...   \n",
              "4  Lester Burnham, a depressed suburban father in...   \n",
              "\n",
              "                              Movie_Production_House  \\\n",
              "0  [{\"name\": \"Miramax Films\", \"id\": 14}, {\"name\":...   \n",
              "1  [{\"name\": \"Lucasfilm\", \"id\": 1}, {\"name\": \"Twe...   \n",
              "2     [{\"name\": \"Pixar Animation Studios\", \"id\": 3}]   \n",
              "3          [{\"name\": \"Paramount Pictures\", \"id\": 4}]   \n",
              "4  [{\"name\": \"DreamWorks SKG\", \"id\": 27}, {\"name\"...   \n",
              "\n",
              "                            Movie_Production_Country  \\\n",
              "0  [{\"iso_3166_1\": \"US\", \"name\": \"United States o...   \n",
              "1  [{\"iso_3166_1\": \"US\", \"name\": \"United States o...   \n",
              "2  [{\"iso_3166_1\": \"US\", \"name\": \"United States o...   \n",
              "3  [{\"iso_3166_1\": \"US\", \"name\": \"United States o...   \n",
              "4  [{\"iso_3166_1\": \"US\", \"name\": \"United States o...   \n",
              "\n",
              "                      Movie_Spoken_Language  \\\n",
              "0  [{\"iso_639_1\": \"en\", \"name\": \"English\"}]   \n",
              "1  [{\"iso_639_1\": \"en\", \"name\": \"English\"}]   \n",
              "2  [{\"iso_639_1\": \"en\", \"name\": \"English\"}]   \n",
              "3  [{\"iso_639_1\": \"en\", \"name\": \"English\"}]   \n",
              "4  [{\"iso_639_1\": \"en\", \"name\": \"English\"}]   \n",
              "\n",
              "                                       Movie_Tagline  \\\n",
              "0  Twelve outrageous guests. Four scandalous requ...   \n",
              "1       A long time ago in a galaxy far, far away...   \n",
              "2  There are 3.7 trillion fish in the ocean, they...   \n",
              "3  The world will never be the same, once you've ...   \n",
              "4                                       Look closer.   \n",
              "\n",
              "                                          Movie_Cast  \\\n",
              "0  Tim Roth Antonio Banderas Jennifer Beals Madon...   \n",
              "1  Mark Hamill Harrison Ford Carrie Fisher Peter ...   \n",
              "2  Albert Brooks Ellen DeGeneres Alexander Gould ...   \n",
              "3  Tom Hanks Robin Wright Gary Sinise Mykelti Wil...   \n",
              "4  Kevin Spacey Annette Bening Thora Birch Wes Be...   \n",
              "\n",
              "                                          Movie_Crew   Movie_Director  \n",
              "0  [{'name': 'Allison Anders', 'gender': 1, 'depa...   Allison Anders  \n",
              "1  [{'name': 'George Lucas', 'gender': 2, 'depart...     George Lucas  \n",
              "2  [{'name': 'Andrew Stanton', 'gender': 2, 'depa...   Andrew Stanton  \n",
              "3  [{'name': 'Alan Silvestri', 'gender': 2, 'depa...  Robert Zemeckis  \n",
              "4  [{'name': 'Thomas Newman', 'gender': 2, 'depar...       Sam Mendes  \n",
              "\n",
              "[5 rows x 21 columns]"
            ],
            "text/html": [
              "\n",
              "  <div id=\"df-4332e10b-2d24-4e9c-8283-536f95e8e740\" class=\"colab-df-container\">\n",
              "    <div>\n",
              "<style scoped>\n",
              "    .dataframe tbody tr th:only-of-type {\n",
              "        vertical-align: middle;\n",
              "    }\n",
              "\n",
              "    .dataframe tbody tr th {\n",
              "        vertical-align: top;\n",
              "    }\n",
              "\n",
              "    .dataframe thead th {\n",
              "        text-align: right;\n",
              "    }\n",
              "</style>\n",
              "<table border=\"1\" class=\"dataframe\">\n",
              "  <thead>\n",
              "    <tr style=\"text-align: right;\">\n",
              "      <th></th>\n",
              "      <th>Movie_ID</th>\n",
              "      <th>Movie_Title</th>\n",
              "      <th>Movie_Genre</th>\n",
              "      <th>Movie_Language</th>\n",
              "      <th>Movie_Budget</th>\n",
              "      <th>Movie_Popularity</th>\n",
              "      <th>Movie_Release_Date</th>\n",
              "      <th>Movie_Revenue</th>\n",
              "      <th>Movie_Runtime</th>\n",
              "      <th>Movie_Vote</th>\n",
              "      <th>...</th>\n",
              "      <th>Movie_Homepage</th>\n",
              "      <th>Movie_Keywords</th>\n",
              "      <th>Movie_Overview</th>\n",
              "      <th>Movie_Production_House</th>\n",
              "      <th>Movie_Production_Country</th>\n",
              "      <th>Movie_Spoken_Language</th>\n",
              "      <th>Movie_Tagline</th>\n",
              "      <th>Movie_Cast</th>\n",
              "      <th>Movie_Crew</th>\n",
              "      <th>Movie_Director</th>\n",
              "    </tr>\n",
              "  </thead>\n",
              "  <tbody>\n",
              "    <tr>\n",
              "      <th>0</th>\n",
              "      <td>1</td>\n",
              "      <td>Four Rooms</td>\n",
              "      <td>Crime Comedy</td>\n",
              "      <td>en</td>\n",
              "      <td>4000000</td>\n",
              "      <td>22.876230</td>\n",
              "      <td>09-12-1995</td>\n",
              "      <td>4300000</td>\n",
              "      <td>98.0</td>\n",
              "      <td>6.5</td>\n",
              "      <td>...</td>\n",
              "      <td>NaN</td>\n",
              "      <td>hotel new year's eve witch bet hotel room</td>\n",
              "      <td>It's Ted the Bellhop's first night on the job....</td>\n",
              "      <td>[{\"name\": \"Miramax Films\", \"id\": 14}, {\"name\":...</td>\n",
              "      <td>[{\"iso_3166_1\": \"US\", \"name\": \"United States o...</td>\n",
              "      <td>[{\"iso_639_1\": \"en\", \"name\": \"English\"}]</td>\n",
              "      <td>Twelve outrageous guests. Four scandalous requ...</td>\n",
              "      <td>Tim Roth Antonio Banderas Jennifer Beals Madon...</td>\n",
              "      <td>[{'name': 'Allison Anders', 'gender': 1, 'depa...</td>\n",
              "      <td>Allison Anders</td>\n",
              "    </tr>\n",
              "    <tr>\n",
              "      <th>1</th>\n",
              "      <td>2</td>\n",
              "      <td>Star Wars</td>\n",
              "      <td>Adventure Action Science Fiction</td>\n",
              "      <td>en</td>\n",
              "      <td>11000000</td>\n",
              "      <td>126.393695</td>\n",
              "      <td>25-05-1977</td>\n",
              "      <td>775398007</td>\n",
              "      <td>121.0</td>\n",
              "      <td>8.1</td>\n",
              "      <td>...</td>\n",
              "      <td>http://www.starwars.com/films/star-wars-episod...</td>\n",
              "      <td>android galaxy hermit death star lightsaber</td>\n",
              "      <td>Princess Leia is captured and held hostage by ...</td>\n",
              "      <td>[{\"name\": \"Lucasfilm\", \"id\": 1}, {\"name\": \"Twe...</td>\n",
              "      <td>[{\"iso_3166_1\": \"US\", \"name\": \"United States o...</td>\n",
              "      <td>[{\"iso_639_1\": \"en\", \"name\": \"English\"}]</td>\n",
              "      <td>A long time ago in a galaxy far, far away...</td>\n",
              "      <td>Mark Hamill Harrison Ford Carrie Fisher Peter ...</td>\n",
              "      <td>[{'name': 'George Lucas', 'gender': 2, 'depart...</td>\n",
              "      <td>George Lucas</td>\n",
              "    </tr>\n",
              "    <tr>\n",
              "      <th>2</th>\n",
              "      <td>3</td>\n",
              "      <td>Finding Nemo</td>\n",
              "      <td>Animation Family</td>\n",
              "      <td>en</td>\n",
              "      <td>94000000</td>\n",
              "      <td>85.688789</td>\n",
              "      <td>30-05-2003</td>\n",
              "      <td>940335536</td>\n",
              "      <td>100.0</td>\n",
              "      <td>7.6</td>\n",
              "      <td>...</td>\n",
              "      <td>http://movies.disney.com/finding-nemo</td>\n",
              "      <td>father son relationship harbor underwater fish...</td>\n",
              "      <td>Nemo, an adventurous young clownfish, is unexp...</td>\n",
              "      <td>[{\"name\": \"Pixar Animation Studios\", \"id\": 3}]</td>\n",
              "      <td>[{\"iso_3166_1\": \"US\", \"name\": \"United States o...</td>\n",
              "      <td>[{\"iso_639_1\": \"en\", \"name\": \"English\"}]</td>\n",
              "      <td>There are 3.7 trillion fish in the ocean, they...</td>\n",
              "      <td>Albert Brooks Ellen DeGeneres Alexander Gould ...</td>\n",
              "      <td>[{'name': 'Andrew Stanton', 'gender': 2, 'depa...</td>\n",
              "      <td>Andrew Stanton</td>\n",
              "    </tr>\n",
              "    <tr>\n",
              "      <th>3</th>\n",
              "      <td>4</td>\n",
              "      <td>Forrest Gump</td>\n",
              "      <td>Comedy Drama Romance</td>\n",
              "      <td>en</td>\n",
              "      <td>55000000</td>\n",
              "      <td>138.133331</td>\n",
              "      <td>06-07-1994</td>\n",
              "      <td>677945399</td>\n",
              "      <td>142.0</td>\n",
              "      <td>8.2</td>\n",
              "      <td>...</td>\n",
              "      <td>NaN</td>\n",
              "      <td>vietnam veteran hippie mentally disabled runni...</td>\n",
              "      <td>A man with a low IQ has accomplished great thi...</td>\n",
              "      <td>[{\"name\": \"Paramount Pictures\", \"id\": 4}]</td>\n",
              "      <td>[{\"iso_3166_1\": \"US\", \"name\": \"United States o...</td>\n",
              "      <td>[{\"iso_639_1\": \"en\", \"name\": \"English\"}]</td>\n",
              "      <td>The world will never be the same, once you've ...</td>\n",
              "      <td>Tom Hanks Robin Wright Gary Sinise Mykelti Wil...</td>\n",
              "      <td>[{'name': 'Alan Silvestri', 'gender': 2, 'depa...</td>\n",
              "      <td>Robert Zemeckis</td>\n",
              "    </tr>\n",
              "    <tr>\n",
              "      <th>4</th>\n",
              "      <td>5</td>\n",
              "      <td>American Beauty</td>\n",
              "      <td>Drama</td>\n",
              "      <td>en</td>\n",
              "      <td>15000000</td>\n",
              "      <td>80.878605</td>\n",
              "      <td>15-09-1999</td>\n",
              "      <td>356296601</td>\n",
              "      <td>122.0</td>\n",
              "      <td>7.9</td>\n",
              "      <td>...</td>\n",
              "      <td>http://www.dreamworks.com/ab/</td>\n",
              "      <td>male nudity female nudity adultery midlife cri...</td>\n",
              "      <td>Lester Burnham, a depressed suburban father in...</td>\n",
              "      <td>[{\"name\": \"DreamWorks SKG\", \"id\": 27}, {\"name\"...</td>\n",
              "      <td>[{\"iso_3166_1\": \"US\", \"name\": \"United States o...</td>\n",
              "      <td>[{\"iso_639_1\": \"en\", \"name\": \"English\"}]</td>\n",
              "      <td>Look closer.</td>\n",
              "      <td>Kevin Spacey Annette Bening Thora Birch Wes Be...</td>\n",
              "      <td>[{'name': 'Thomas Newman', 'gender': 2, 'depar...</td>\n",
              "      <td>Sam Mendes</td>\n",
              "    </tr>\n",
              "  </tbody>\n",
              "</table>\n",
              "<p>5 rows × 21 columns</p>\n",
              "</div>\n",
              "    <div class=\"colab-df-buttons\">\n",
              "\n",
              "  <div class=\"colab-df-container\">\n",
              "    <button class=\"colab-df-convert\" onclick=\"convertToInteractive('df-4332e10b-2d24-4e9c-8283-536f95e8e740')\"\n",
              "            title=\"Convert this dataframe to an interactive table.\"\n",
              "            style=\"display:none;\">\n",
              "\n",
              "  <svg xmlns=\"http://www.w3.org/2000/svg\" height=\"24px\" viewBox=\"0 -960 960 960\">\n",
              "    <path d=\"M120-120v-720h720v720H120Zm60-500h600v-160H180v160Zm220 220h160v-160H400v160Zm0 220h160v-160H400v160ZM180-400h160v-160H180v160Zm440 0h160v-160H620v160ZM180-180h160v-160H180v160Zm440 0h160v-160H620v160Z\"/>\n",
              "  </svg>\n",
              "    </button>\n",
              "\n",
              "  <style>\n",
              "    .colab-df-container {\n",
              "      display:flex;\n",
              "      gap: 12px;\n",
              "    }\n",
              "\n",
              "    .colab-df-convert {\n",
              "      background-color: #E8F0FE;\n",
              "      border: none;\n",
              "      border-radius: 50%;\n",
              "      cursor: pointer;\n",
              "      display: none;\n",
              "      fill: #1967D2;\n",
              "      height: 32px;\n",
              "      padding: 0 0 0 0;\n",
              "      width: 32px;\n",
              "    }\n",
              "\n",
              "    .colab-df-convert:hover {\n",
              "      background-color: #E2EBFA;\n",
              "      box-shadow: 0px 1px 2px rgba(60, 64, 67, 0.3), 0px 1px 3px 1px rgba(60, 64, 67, 0.15);\n",
              "      fill: #174EA6;\n",
              "    }\n",
              "\n",
              "    .colab-df-buttons div {\n",
              "      margin-bottom: 4px;\n",
              "    }\n",
              "\n",
              "    [theme=dark] .colab-df-convert {\n",
              "      background-color: #3B4455;\n",
              "      fill: #D2E3FC;\n",
              "    }\n",
              "\n",
              "    [theme=dark] .colab-df-convert:hover {\n",
              "      background-color: #434B5C;\n",
              "      box-shadow: 0px 1px 3px 1px rgba(0, 0, 0, 0.15);\n",
              "      filter: drop-shadow(0px 1px 2px rgba(0, 0, 0, 0.3));\n",
              "      fill: #FFFFFF;\n",
              "    }\n",
              "  </style>\n",
              "\n",
              "    <script>\n",
              "      const buttonEl =\n",
              "        document.querySelector('#df-4332e10b-2d24-4e9c-8283-536f95e8e740 button.colab-df-convert');\n",
              "      buttonEl.style.display =\n",
              "        google.colab.kernel.accessAllowed ? 'block' : 'none';\n",
              "\n",
              "      async function convertToInteractive(key) {\n",
              "        const element = document.querySelector('#df-4332e10b-2d24-4e9c-8283-536f95e8e740');\n",
              "        const dataTable =\n",
              "          await google.colab.kernel.invokeFunction('convertToInteractive',\n",
              "                                                    [key], {});\n",
              "        if (!dataTable) return;\n",
              "\n",
              "        const docLinkHtml = 'Like what you see? Visit the ' +\n",
              "          '<a target=\"_blank\" href=https://colab.research.google.com/notebooks/data_table.ipynb>data table notebook</a>'\n",
              "          + ' to learn more about interactive tables.';\n",
              "        element.innerHTML = '';\n",
              "        dataTable['output_type'] = 'display_data';\n",
              "        await google.colab.output.renderOutput(dataTable, element);\n",
              "        const docLink = document.createElement('div');\n",
              "        docLink.innerHTML = docLinkHtml;\n",
              "        element.appendChild(docLink);\n",
              "      }\n",
              "    </script>\n",
              "  </div>\n",
              "\n",
              "\n",
              "<div id=\"df-6a8b6dab-dd10-4089-8c0f-d4a5bb7f24ab\">\n",
              "  <button class=\"colab-df-quickchart\" onclick=\"quickchart('df-6a8b6dab-dd10-4089-8c0f-d4a5bb7f24ab')\"\n",
              "            title=\"Suggest charts\"\n",
              "            style=\"display:none;\">\n",
              "\n",
              "<svg xmlns=\"http://www.w3.org/2000/svg\" height=\"24px\"viewBox=\"0 0 24 24\"\n",
              "     width=\"24px\">\n",
              "    <g>\n",
              "        <path d=\"M19 3H5c-1.1 0-2 .9-2 2v14c0 1.1.9 2 2 2h14c1.1 0 2-.9 2-2V5c0-1.1-.9-2-2-2zM9 17H7v-7h2v7zm4 0h-2V7h2v10zm4 0h-2v-4h2v4z\"/>\n",
              "    </g>\n",
              "</svg>\n",
              "  </button>\n",
              "\n",
              "<style>\n",
              "  .colab-df-quickchart {\n",
              "      --bg-color: #E8F0FE;\n",
              "      --fill-color: #1967D2;\n",
              "      --hover-bg-color: #E2EBFA;\n",
              "      --hover-fill-color: #174EA6;\n",
              "      --disabled-fill-color: #AAA;\n",
              "      --disabled-bg-color: #DDD;\n",
              "  }\n",
              "\n",
              "  [theme=dark] .colab-df-quickchart {\n",
              "      --bg-color: #3B4455;\n",
              "      --fill-color: #D2E3FC;\n",
              "      --hover-bg-color: #434B5C;\n",
              "      --hover-fill-color: #FFFFFF;\n",
              "      --disabled-bg-color: #3B4455;\n",
              "      --disabled-fill-color: #666;\n",
              "  }\n",
              "\n",
              "  .colab-df-quickchart {\n",
              "    background-color: var(--bg-color);\n",
              "    border: none;\n",
              "    border-radius: 50%;\n",
              "    cursor: pointer;\n",
              "    display: none;\n",
              "    fill: var(--fill-color);\n",
              "    height: 32px;\n",
              "    padding: 0;\n",
              "    width: 32px;\n",
              "  }\n",
              "\n",
              "  .colab-df-quickchart:hover {\n",
              "    background-color: var(--hover-bg-color);\n",
              "    box-shadow: 0 1px 2px rgba(60, 64, 67, 0.3), 0 1px 3px 1px rgba(60, 64, 67, 0.15);\n",
              "    fill: var(--button-hover-fill-color);\n",
              "  }\n",
              "\n",
              "  .colab-df-quickchart-complete:disabled,\n",
              "  .colab-df-quickchart-complete:disabled:hover {\n",
              "    background-color: var(--disabled-bg-color);\n",
              "    fill: var(--disabled-fill-color);\n",
              "    box-shadow: none;\n",
              "  }\n",
              "\n",
              "  .colab-df-spinner {\n",
              "    border: 2px solid var(--fill-color);\n",
              "    border-color: transparent;\n",
              "    border-bottom-color: var(--fill-color);\n",
              "    animation:\n",
              "      spin 1s steps(1) infinite;\n",
              "  }\n",
              "\n",
              "  @keyframes spin {\n",
              "    0% {\n",
              "      border-color: transparent;\n",
              "      border-bottom-color: var(--fill-color);\n",
              "      border-left-color: var(--fill-color);\n",
              "    }\n",
              "    20% {\n",
              "      border-color: transparent;\n",
              "      border-left-color: var(--fill-color);\n",
              "      border-top-color: var(--fill-color);\n",
              "    }\n",
              "    30% {\n",
              "      border-color: transparent;\n",
              "      border-left-color: var(--fill-color);\n",
              "      border-top-color: var(--fill-color);\n",
              "      border-right-color: var(--fill-color);\n",
              "    }\n",
              "    40% {\n",
              "      border-color: transparent;\n",
              "      border-right-color: var(--fill-color);\n",
              "      border-top-color: var(--fill-color);\n",
              "    }\n",
              "    60% {\n",
              "      border-color: transparent;\n",
              "      border-right-color: var(--fill-color);\n",
              "    }\n",
              "    80% {\n",
              "      border-color: transparent;\n",
              "      border-right-color: var(--fill-color);\n",
              "      border-bottom-color: var(--fill-color);\n",
              "    }\n",
              "    90% {\n",
              "      border-color: transparent;\n",
              "      border-bottom-color: var(--fill-color);\n",
              "    }\n",
              "  }\n",
              "</style>\n",
              "\n",
              "  <script>\n",
              "    async function quickchart(key) {\n",
              "      const quickchartButtonEl =\n",
              "        document.querySelector('#' + key + ' button');\n",
              "      quickchartButtonEl.disabled = true;  // To prevent multiple clicks.\n",
              "      quickchartButtonEl.classList.add('colab-df-spinner');\n",
              "      try {\n",
              "        const charts = await google.colab.kernel.invokeFunction(\n",
              "            'suggestCharts', [key], {});\n",
              "      } catch (error) {\n",
              "        console.error('Error during call to suggestCharts:', error);\n",
              "      }\n",
              "      quickchartButtonEl.classList.remove('colab-df-spinner');\n",
              "      quickchartButtonEl.classList.add('colab-df-quickchart-complete');\n",
              "    }\n",
              "    (() => {\n",
              "      let quickchartButtonEl =\n",
              "        document.querySelector('#df-6a8b6dab-dd10-4089-8c0f-d4a5bb7f24ab button');\n",
              "      quickchartButtonEl.style.display =\n",
              "        google.colab.kernel.accessAllowed ? 'block' : 'none';\n",
              "    })();\n",
              "  </script>\n",
              "</div>\n",
              "\n",
              "    </div>\n",
              "  </div>\n"
            ],
            "application/vnd.google.colaboratory.intrinsic+json": {
              "type": "dataframe",
              "variable_name": "df"
            }
          },
          "metadata": {},
          "execution_count": 5
        }
      ]
    },
    {
      "cell_type": "code",
      "source": [
        "df.info()"
      ],
      "metadata": {
        "colab": {
          "base_uri": "https://localhost:8080/"
        },
        "id": "f6dfzy74VF1B",
        "outputId": "2c9acdb2-17a7-4c08-d385-c790ac02ef5e"
      },
      "execution_count": null,
      "outputs": [
        {
          "output_type": "stream",
          "name": "stdout",
          "text": [
            "<class 'pandas.core.frame.DataFrame'>\n",
            "RangeIndex: 4760 entries, 0 to 4759\n",
            "Data columns (total 21 columns):\n",
            " #   Column                    Non-Null Count  Dtype  \n",
            "---  ------                    --------------  -----  \n",
            " 0   Movie_ID                  4760 non-null   int64  \n",
            " 1   Movie_Title               4760 non-null   object \n",
            " 2   Movie_Genre               4760 non-null   object \n",
            " 3   Movie_Language            4760 non-null   object \n",
            " 4   Movie_Budget              4760 non-null   int64  \n",
            " 5   Movie_Popularity          4760 non-null   float64\n",
            " 6   Movie_Release_Date        4760 non-null   object \n",
            " 7   Movie_Revenue             4760 non-null   int64  \n",
            " 8   Movie_Runtime             4758 non-null   float64\n",
            " 9   Movie_Vote                4760 non-null   float64\n",
            " 10  Movie_Vote_Count          4760 non-null   int64  \n",
            " 11  Movie_Homepage            1699 non-null   object \n",
            " 12  Movie_Keywords            4373 non-null   object \n",
            " 13  Movie_Overview            4757 non-null   object \n",
            " 14  Movie_Production_House    4760 non-null   object \n",
            " 15  Movie_Production_Country  4760 non-null   object \n",
            " 16  Movie_Spoken_Language     4760 non-null   object \n",
            " 17  Movie_Tagline             3942 non-null   object \n",
            " 18  Movie_Cast                4733 non-null   object \n",
            " 19  Movie_Crew                4760 non-null   object \n",
            " 20  Movie_Director            4738 non-null   object \n",
            "dtypes: float64(3), int64(4), object(14)\n",
            "memory usage: 781.1+ KB\n"
          ]
        }
      ]
    },
    {
      "cell_type": "code",
      "source": [
        "df.shape"
      ],
      "metadata": {
        "colab": {
          "base_uri": "https://localhost:8080/"
        },
        "id": "48bbOARNVIDx",
        "outputId": "524d5e0b-bcec-4b41-d416-bc38f0f2e327"
      },
      "execution_count": null,
      "outputs": [
        {
          "output_type": "execute_result",
          "data": {
            "text/plain": [
              "(4760, 21)"
            ]
          },
          "metadata": {},
          "execution_count": 7
        }
      ]
    },
    {
      "cell_type": "code",
      "source": [
        "df.columns"
      ],
      "metadata": {
        "colab": {
          "base_uri": "https://localhost:8080/"
        },
        "id": "5tMRlTadVL92",
        "outputId": "550d2d7e-b6ce-42ec-c042-337656859215"
      },
      "execution_count": null,
      "outputs": [
        {
          "output_type": "execute_result",
          "data": {
            "text/plain": [
              "Index(['Movie_ID', 'Movie_Title', 'Movie_Genre', 'Movie_Language',\n",
              "       'Movie_Budget', 'Movie_Popularity', 'Movie_Release_Date',\n",
              "       'Movie_Revenue', 'Movie_Runtime', 'Movie_Vote', 'Movie_Vote_Count',\n",
              "       'Movie_Homepage', 'Movie_Keywords', 'Movie_Overview',\n",
              "       'Movie_Production_House', 'Movie_Production_Country',\n",
              "       'Movie_Spoken_Language', 'Movie_Tagline', 'Movie_Cast', 'Movie_Crew',\n",
              "       'Movie_Director'],\n",
              "      dtype='object')"
            ]
          },
          "metadata": {},
          "execution_count": 8
        }
      ]
    },
    {
      "cell_type": "markdown",
      "source": [
        "Get Feature Selection"
      ],
      "metadata": {
        "id": "4Rd1M1P9VTJz"
      }
    },
    {
      "cell_type": "code",
      "source": [
        "df_features = df[['Movie_Genre','Movie_Keywords','Movie_Tagline','Movie_Cast','Movie_Director']].fillna('')"
      ],
      "metadata": {
        "id": "5XnMRNaaVYp1"
      },
      "execution_count": null,
      "outputs": []
    },
    {
      "cell_type": "markdown",
      "source": [
        "Selected five existing features to recommend movies. It may vary from one project to another. Like one can add vote counts, budget, language, etc."
      ],
      "metadata": {
        "id": "r5uHrSSYVdx2"
      }
    },
    {
      "cell_type": "code",
      "source": [
        "df_features.shape"
      ],
      "metadata": {
        "colab": {
          "base_uri": "https://localhost:8080/"
        },
        "id": "004a4-hkViKz",
        "outputId": "449488a7-a587-4fdd-a787-543a9e27f3e1"
      },
      "execution_count": null,
      "outputs": [
        {
          "output_type": "execute_result",
          "data": {
            "text/plain": [
              "(4760, 5)"
            ]
          },
          "metadata": {},
          "execution_count": 10
        }
      ]
    },
    {
      "cell_type": "code",
      "source": [
        "df_features"
      ],
      "metadata": {
        "colab": {
          "base_uri": "https://localhost:8080/",
          "height": 419
        },
        "id": "KVm3Nyh5Vms4",
        "outputId": "de90e5e0-43b2-41ee-81b0-0d8414e17e82"
      },
      "execution_count": null,
      "outputs": [
        {
          "output_type": "execute_result",
          "data": {
            "text/plain": [
              "                           Movie_Genre  \\\n",
              "0                         Crime Comedy   \n",
              "1     Adventure Action Science Fiction   \n",
              "2                     Animation Family   \n",
              "3                 Comedy Drama Romance   \n",
              "4                                Drama   \n",
              "...                                ...   \n",
              "4755                            Horror   \n",
              "4756               Comedy Family Drama   \n",
              "4757                    Thriller Drama   \n",
              "4758                            Family   \n",
              "4759                       Documentary   \n",
              "\n",
              "                                         Movie_Keywords  \\\n",
              "0             hotel new year's eve witch bet hotel room   \n",
              "1           android galaxy hermit death star lightsaber   \n",
              "2     father son relationship harbor underwater fish...   \n",
              "3     vietnam veteran hippie mentally disabled runni...   \n",
              "4     male nudity female nudity adultery midlife cri...   \n",
              "...                                                 ...   \n",
              "4755                                                      \n",
              "4756                                                      \n",
              "4757                     christian film sex trafficking   \n",
              "4758                                                      \n",
              "4759  music actors legendary perfomer classic hollyw...   \n",
              "\n",
              "                                          Movie_Tagline  \\\n",
              "0     Twelve outrageous guests. Four scandalous requ...   \n",
              "1          A long time ago in a galaxy far, far away...   \n",
              "2     There are 3.7 trillion fish in the ocean, they...   \n",
              "3     The world will never be the same, once you've ...   \n",
              "4                                          Look closer.   \n",
              "...                                                 ...   \n",
              "4755                The hot spot where Satan's waitin'.   \n",
              "4756           It’s better to stand out than to fit in.   \n",
              "4757           She never knew it could happen to her...   \n",
              "4758                                                      \n",
              "4759                                                      \n",
              "\n",
              "                                             Movie_Cast     Movie_Director  \n",
              "0     Tim Roth Antonio Banderas Jennifer Beals Madon...     Allison Anders  \n",
              "1     Mark Hamill Harrison Ford Carrie Fisher Peter ...       George Lucas  \n",
              "2     Albert Brooks Ellen DeGeneres Alexander Gould ...     Andrew Stanton  \n",
              "3     Tom Hanks Robin Wright Gary Sinise Mykelti Wil...    Robert Zemeckis  \n",
              "4     Kevin Spacey Annette Bening Thora Birch Wes Be...         Sam Mendes  \n",
              "...                                                 ...                ...  \n",
              "4755  Lisa Hart Carroll Michael Des Barres Paul Drak...         Pece Dingo  \n",
              "4756  Roni Akurati Brighton Sharbino Jason Lee Anjul...       Frank Lotito  \n",
              "4757  Nicole Smolen Kim Baldwin Ariana Stephens Brys...       Jaco Booyens  \n",
              "4758                                                                        \n",
              "4759                                    Tony Oppedisano  Simon Napier-Bell  \n",
              "\n",
              "[4760 rows x 5 columns]"
            ],
            "text/html": [
              "\n",
              "  <div id=\"df-a3c2d88e-d6e6-4931-8f42-a87f87ae1e45\" class=\"colab-df-container\">\n",
              "    <div>\n",
              "<style scoped>\n",
              "    .dataframe tbody tr th:only-of-type {\n",
              "        vertical-align: middle;\n",
              "    }\n",
              "\n",
              "    .dataframe tbody tr th {\n",
              "        vertical-align: top;\n",
              "    }\n",
              "\n",
              "    .dataframe thead th {\n",
              "        text-align: right;\n",
              "    }\n",
              "</style>\n",
              "<table border=\"1\" class=\"dataframe\">\n",
              "  <thead>\n",
              "    <tr style=\"text-align: right;\">\n",
              "      <th></th>\n",
              "      <th>Movie_Genre</th>\n",
              "      <th>Movie_Keywords</th>\n",
              "      <th>Movie_Tagline</th>\n",
              "      <th>Movie_Cast</th>\n",
              "      <th>Movie_Director</th>\n",
              "    </tr>\n",
              "  </thead>\n",
              "  <tbody>\n",
              "    <tr>\n",
              "      <th>0</th>\n",
              "      <td>Crime Comedy</td>\n",
              "      <td>hotel new year's eve witch bet hotel room</td>\n",
              "      <td>Twelve outrageous guests. Four scandalous requ...</td>\n",
              "      <td>Tim Roth Antonio Banderas Jennifer Beals Madon...</td>\n",
              "      <td>Allison Anders</td>\n",
              "    </tr>\n",
              "    <tr>\n",
              "      <th>1</th>\n",
              "      <td>Adventure Action Science Fiction</td>\n",
              "      <td>android galaxy hermit death star lightsaber</td>\n",
              "      <td>A long time ago in a galaxy far, far away...</td>\n",
              "      <td>Mark Hamill Harrison Ford Carrie Fisher Peter ...</td>\n",
              "      <td>George Lucas</td>\n",
              "    </tr>\n",
              "    <tr>\n",
              "      <th>2</th>\n",
              "      <td>Animation Family</td>\n",
              "      <td>father son relationship harbor underwater fish...</td>\n",
              "      <td>There are 3.7 trillion fish in the ocean, they...</td>\n",
              "      <td>Albert Brooks Ellen DeGeneres Alexander Gould ...</td>\n",
              "      <td>Andrew Stanton</td>\n",
              "    </tr>\n",
              "    <tr>\n",
              "      <th>3</th>\n",
              "      <td>Comedy Drama Romance</td>\n",
              "      <td>vietnam veteran hippie mentally disabled runni...</td>\n",
              "      <td>The world will never be the same, once you've ...</td>\n",
              "      <td>Tom Hanks Robin Wright Gary Sinise Mykelti Wil...</td>\n",
              "      <td>Robert Zemeckis</td>\n",
              "    </tr>\n",
              "    <tr>\n",
              "      <th>4</th>\n",
              "      <td>Drama</td>\n",
              "      <td>male nudity female nudity adultery midlife cri...</td>\n",
              "      <td>Look closer.</td>\n",
              "      <td>Kevin Spacey Annette Bening Thora Birch Wes Be...</td>\n",
              "      <td>Sam Mendes</td>\n",
              "    </tr>\n",
              "    <tr>\n",
              "      <th>...</th>\n",
              "      <td>...</td>\n",
              "      <td>...</td>\n",
              "      <td>...</td>\n",
              "      <td>...</td>\n",
              "      <td>...</td>\n",
              "    </tr>\n",
              "    <tr>\n",
              "      <th>4755</th>\n",
              "      <td>Horror</td>\n",
              "      <td></td>\n",
              "      <td>The hot spot where Satan's waitin'.</td>\n",
              "      <td>Lisa Hart Carroll Michael Des Barres Paul Drak...</td>\n",
              "      <td>Pece Dingo</td>\n",
              "    </tr>\n",
              "    <tr>\n",
              "      <th>4756</th>\n",
              "      <td>Comedy Family Drama</td>\n",
              "      <td></td>\n",
              "      <td>It’s better to stand out than to fit in.</td>\n",
              "      <td>Roni Akurati Brighton Sharbino Jason Lee Anjul...</td>\n",
              "      <td>Frank Lotito</td>\n",
              "    </tr>\n",
              "    <tr>\n",
              "      <th>4757</th>\n",
              "      <td>Thriller Drama</td>\n",
              "      <td>christian film sex trafficking</td>\n",
              "      <td>She never knew it could happen to her...</td>\n",
              "      <td>Nicole Smolen Kim Baldwin Ariana Stephens Brys...</td>\n",
              "      <td>Jaco Booyens</td>\n",
              "    </tr>\n",
              "    <tr>\n",
              "      <th>4758</th>\n",
              "      <td>Family</td>\n",
              "      <td></td>\n",
              "      <td></td>\n",
              "      <td></td>\n",
              "      <td></td>\n",
              "    </tr>\n",
              "    <tr>\n",
              "      <th>4759</th>\n",
              "      <td>Documentary</td>\n",
              "      <td>music actors legendary perfomer classic hollyw...</td>\n",
              "      <td></td>\n",
              "      <td>Tony Oppedisano</td>\n",
              "      <td>Simon Napier-Bell</td>\n",
              "    </tr>\n",
              "  </tbody>\n",
              "</table>\n",
              "<p>4760 rows × 5 columns</p>\n",
              "</div>\n",
              "    <div class=\"colab-df-buttons\">\n",
              "\n",
              "  <div class=\"colab-df-container\">\n",
              "    <button class=\"colab-df-convert\" onclick=\"convertToInteractive('df-a3c2d88e-d6e6-4931-8f42-a87f87ae1e45')\"\n",
              "            title=\"Convert this dataframe to an interactive table.\"\n",
              "            style=\"display:none;\">\n",
              "\n",
              "  <svg xmlns=\"http://www.w3.org/2000/svg\" height=\"24px\" viewBox=\"0 -960 960 960\">\n",
              "    <path d=\"M120-120v-720h720v720H120Zm60-500h600v-160H180v160Zm220 220h160v-160H400v160Zm0 220h160v-160H400v160ZM180-400h160v-160H180v160Zm440 0h160v-160H620v160ZM180-180h160v-160H180v160Zm440 0h160v-160H620v160Z\"/>\n",
              "  </svg>\n",
              "    </button>\n",
              "\n",
              "  <style>\n",
              "    .colab-df-container {\n",
              "      display:flex;\n",
              "      gap: 12px;\n",
              "    }\n",
              "\n",
              "    .colab-df-convert {\n",
              "      background-color: #E8F0FE;\n",
              "      border: none;\n",
              "      border-radius: 50%;\n",
              "      cursor: pointer;\n",
              "      display: none;\n",
              "      fill: #1967D2;\n",
              "      height: 32px;\n",
              "      padding: 0 0 0 0;\n",
              "      width: 32px;\n",
              "    }\n",
              "\n",
              "    .colab-df-convert:hover {\n",
              "      background-color: #E2EBFA;\n",
              "      box-shadow: 0px 1px 2px rgba(60, 64, 67, 0.3), 0px 1px 3px 1px rgba(60, 64, 67, 0.15);\n",
              "      fill: #174EA6;\n",
              "    }\n",
              "\n",
              "    .colab-df-buttons div {\n",
              "      margin-bottom: 4px;\n",
              "    }\n",
              "\n",
              "    [theme=dark] .colab-df-convert {\n",
              "      background-color: #3B4455;\n",
              "      fill: #D2E3FC;\n",
              "    }\n",
              "\n",
              "    [theme=dark] .colab-df-convert:hover {\n",
              "      background-color: #434B5C;\n",
              "      box-shadow: 0px 1px 3px 1px rgba(0, 0, 0, 0.15);\n",
              "      filter: drop-shadow(0px 1px 2px rgba(0, 0, 0, 0.3));\n",
              "      fill: #FFFFFF;\n",
              "    }\n",
              "  </style>\n",
              "\n",
              "    <script>\n",
              "      const buttonEl =\n",
              "        document.querySelector('#df-a3c2d88e-d6e6-4931-8f42-a87f87ae1e45 button.colab-df-convert');\n",
              "      buttonEl.style.display =\n",
              "        google.colab.kernel.accessAllowed ? 'block' : 'none';\n",
              "\n",
              "      async function convertToInteractive(key) {\n",
              "        const element = document.querySelector('#df-a3c2d88e-d6e6-4931-8f42-a87f87ae1e45');\n",
              "        const dataTable =\n",
              "          await google.colab.kernel.invokeFunction('convertToInteractive',\n",
              "                                                    [key], {});\n",
              "        if (!dataTable) return;\n",
              "\n",
              "        const docLinkHtml = 'Like what you see? Visit the ' +\n",
              "          '<a target=\"_blank\" href=https://colab.research.google.com/notebooks/data_table.ipynb>data table notebook</a>'\n",
              "          + ' to learn more about interactive tables.';\n",
              "        element.innerHTML = '';\n",
              "        dataTable['output_type'] = 'display_data';\n",
              "        await google.colab.output.renderOutput(dataTable, element);\n",
              "        const docLink = document.createElement('div');\n",
              "        docLink.innerHTML = docLinkHtml;\n",
              "        element.appendChild(docLink);\n",
              "      }\n",
              "    </script>\n",
              "  </div>\n",
              "\n",
              "\n",
              "<div id=\"df-a7de4229-2ee0-4df3-9acf-7c7c5670baa6\">\n",
              "  <button class=\"colab-df-quickchart\" onclick=\"quickchart('df-a7de4229-2ee0-4df3-9acf-7c7c5670baa6')\"\n",
              "            title=\"Suggest charts\"\n",
              "            style=\"display:none;\">\n",
              "\n",
              "<svg xmlns=\"http://www.w3.org/2000/svg\" height=\"24px\"viewBox=\"0 0 24 24\"\n",
              "     width=\"24px\">\n",
              "    <g>\n",
              "        <path d=\"M19 3H5c-1.1 0-2 .9-2 2v14c0 1.1.9 2 2 2h14c1.1 0 2-.9 2-2V5c0-1.1-.9-2-2-2zM9 17H7v-7h2v7zm4 0h-2V7h2v10zm4 0h-2v-4h2v4z\"/>\n",
              "    </g>\n",
              "</svg>\n",
              "  </button>\n",
              "\n",
              "<style>\n",
              "  .colab-df-quickchart {\n",
              "      --bg-color: #E8F0FE;\n",
              "      --fill-color: #1967D2;\n",
              "      --hover-bg-color: #E2EBFA;\n",
              "      --hover-fill-color: #174EA6;\n",
              "      --disabled-fill-color: #AAA;\n",
              "      --disabled-bg-color: #DDD;\n",
              "  }\n",
              "\n",
              "  [theme=dark] .colab-df-quickchart {\n",
              "      --bg-color: #3B4455;\n",
              "      --fill-color: #D2E3FC;\n",
              "      --hover-bg-color: #434B5C;\n",
              "      --hover-fill-color: #FFFFFF;\n",
              "      --disabled-bg-color: #3B4455;\n",
              "      --disabled-fill-color: #666;\n",
              "  }\n",
              "\n",
              "  .colab-df-quickchart {\n",
              "    background-color: var(--bg-color);\n",
              "    border: none;\n",
              "    border-radius: 50%;\n",
              "    cursor: pointer;\n",
              "    display: none;\n",
              "    fill: var(--fill-color);\n",
              "    height: 32px;\n",
              "    padding: 0;\n",
              "    width: 32px;\n",
              "  }\n",
              "\n",
              "  .colab-df-quickchart:hover {\n",
              "    background-color: var(--hover-bg-color);\n",
              "    box-shadow: 0 1px 2px rgba(60, 64, 67, 0.3), 0 1px 3px 1px rgba(60, 64, 67, 0.15);\n",
              "    fill: var(--button-hover-fill-color);\n",
              "  }\n",
              "\n",
              "  .colab-df-quickchart-complete:disabled,\n",
              "  .colab-df-quickchart-complete:disabled:hover {\n",
              "    background-color: var(--disabled-bg-color);\n",
              "    fill: var(--disabled-fill-color);\n",
              "    box-shadow: none;\n",
              "  }\n",
              "\n",
              "  .colab-df-spinner {\n",
              "    border: 2px solid var(--fill-color);\n",
              "    border-color: transparent;\n",
              "    border-bottom-color: var(--fill-color);\n",
              "    animation:\n",
              "      spin 1s steps(1) infinite;\n",
              "  }\n",
              "\n",
              "  @keyframes spin {\n",
              "    0% {\n",
              "      border-color: transparent;\n",
              "      border-bottom-color: var(--fill-color);\n",
              "      border-left-color: var(--fill-color);\n",
              "    }\n",
              "    20% {\n",
              "      border-color: transparent;\n",
              "      border-left-color: var(--fill-color);\n",
              "      border-top-color: var(--fill-color);\n",
              "    }\n",
              "    30% {\n",
              "      border-color: transparent;\n",
              "      border-left-color: var(--fill-color);\n",
              "      border-top-color: var(--fill-color);\n",
              "      border-right-color: var(--fill-color);\n",
              "    }\n",
              "    40% {\n",
              "      border-color: transparent;\n",
              "      border-right-color: var(--fill-color);\n",
              "      border-top-color: var(--fill-color);\n",
              "    }\n",
              "    60% {\n",
              "      border-color: transparent;\n",
              "      border-right-color: var(--fill-color);\n",
              "    }\n",
              "    80% {\n",
              "      border-color: transparent;\n",
              "      border-right-color: var(--fill-color);\n",
              "      border-bottom-color: var(--fill-color);\n",
              "    }\n",
              "    90% {\n",
              "      border-color: transparent;\n",
              "      border-bottom-color: var(--fill-color);\n",
              "    }\n",
              "  }\n",
              "</style>\n",
              "\n",
              "  <script>\n",
              "    async function quickchart(key) {\n",
              "      const quickchartButtonEl =\n",
              "        document.querySelector('#' + key + ' button');\n",
              "      quickchartButtonEl.disabled = true;  // To prevent multiple clicks.\n",
              "      quickchartButtonEl.classList.add('colab-df-spinner');\n",
              "      try {\n",
              "        const charts = await google.colab.kernel.invokeFunction(\n",
              "            'suggestCharts', [key], {});\n",
              "      } catch (error) {\n",
              "        console.error('Error during call to suggestCharts:', error);\n",
              "      }\n",
              "      quickchartButtonEl.classList.remove('colab-df-spinner');\n",
              "      quickchartButtonEl.classList.add('colab-df-quickchart-complete');\n",
              "    }\n",
              "    (() => {\n",
              "      let quickchartButtonEl =\n",
              "        document.querySelector('#df-a7de4229-2ee0-4df3-9acf-7c7c5670baa6 button');\n",
              "      quickchartButtonEl.style.display =\n",
              "        google.colab.kernel.accessAllowed ? 'block' : 'none';\n",
              "    })();\n",
              "  </script>\n",
              "</div>\n",
              "\n",
              "  <div id=\"id_b78a13bc-1992-47f7-9e99-008988da996e\">\n",
              "    <style>\n",
              "      .colab-df-generate {\n",
              "        background-color: #E8F0FE;\n",
              "        border: none;\n",
              "        border-radius: 50%;\n",
              "        cursor: pointer;\n",
              "        display: none;\n",
              "        fill: #1967D2;\n",
              "        height: 32px;\n",
              "        padding: 0 0 0 0;\n",
              "        width: 32px;\n",
              "      }\n",
              "\n",
              "      .colab-df-generate:hover {\n",
              "        background-color: #E2EBFA;\n",
              "        box-shadow: 0px 1px 2px rgba(60, 64, 67, 0.3), 0px 1px 3px 1px rgba(60, 64, 67, 0.15);\n",
              "        fill: #174EA6;\n",
              "      }\n",
              "\n",
              "      [theme=dark] .colab-df-generate {\n",
              "        background-color: #3B4455;\n",
              "        fill: #D2E3FC;\n",
              "      }\n",
              "\n",
              "      [theme=dark] .colab-df-generate:hover {\n",
              "        background-color: #434B5C;\n",
              "        box-shadow: 0px 1px 3px 1px rgba(0, 0, 0, 0.15);\n",
              "        filter: drop-shadow(0px 1px 2px rgba(0, 0, 0, 0.3));\n",
              "        fill: #FFFFFF;\n",
              "      }\n",
              "    </style>\n",
              "    <button class=\"colab-df-generate\" onclick=\"generateWithVariable('df_features')\"\n",
              "            title=\"Generate code using this dataframe.\"\n",
              "            style=\"display:none;\">\n",
              "\n",
              "  <svg xmlns=\"http://www.w3.org/2000/svg\" height=\"24px\"viewBox=\"0 0 24 24\"\n",
              "       width=\"24px\">\n",
              "    <path d=\"M7,19H8.4L18.45,9,17,7.55,7,17.6ZM5,21V16.75L18.45,3.32a2,2,0,0,1,2.83,0l1.4,1.43a1.91,1.91,0,0,1,.58,1.4,1.91,1.91,0,0,1-.58,1.4L9.25,21ZM18.45,9,17,7.55Zm-12,3A5.31,5.31,0,0,0,4.9,8.1,5.31,5.31,0,0,0,1,6.5,5.31,5.31,0,0,0,4.9,4.9,5.31,5.31,0,0,0,6.5,1,5.31,5.31,0,0,0,8.1,4.9,5.31,5.31,0,0,0,12,6.5,5.46,5.46,0,0,0,6.5,12Z\"/>\n",
              "  </svg>\n",
              "    </button>\n",
              "    <script>\n",
              "      (() => {\n",
              "      const buttonEl =\n",
              "        document.querySelector('#id_b78a13bc-1992-47f7-9e99-008988da996e button.colab-df-generate');\n",
              "      buttonEl.style.display =\n",
              "        google.colab.kernel.accessAllowed ? 'block' : 'none';\n",
              "\n",
              "      buttonEl.onclick = () => {\n",
              "        google.colab.notebook.generateWithVariable('df_features');\n",
              "      }\n",
              "      })();\n",
              "    </script>\n",
              "  </div>\n",
              "\n",
              "    </div>\n",
              "  </div>\n"
            ],
            "application/vnd.google.colaboratory.intrinsic+json": {
              "type": "dataframe",
              "variable_name": "df_features",
              "summary": "{\n  \"name\": \"df_features\",\n  \"rows\": 4760,\n  \"fields\": [\n    {\n      \"column\": \"Movie_Genre\",\n      \"properties\": {\n        \"dtype\": \"category\",\n        \"num_unique_values\": 1164,\n        \"samples\": [\n          \"Family Animation Adventure\",\n          \"Adventure Science Fiction Action\",\n          \"Action Crime Drama Romance Thriller\"\n        ],\n        \"semantic_type\": \"\",\n        \"description\": \"\"\n      }\n    },\n    {\n      \"column\": \"Movie_Keywords\",\n      \"properties\": {\n        \"dtype\": \"string\",\n        \"num_unique_values\": 4203,\n        \"samples\": [\n          \"canada nazis sequel spin off ancient evil\",\n          \"sex professor wedding woman director columbia university\",\n          \"prophecy sea beach gold small town\"\n        ],\n        \"semantic_type\": \"\",\n        \"description\": \"\"\n      }\n    },\n    {\n      \"column\": \"Movie_Tagline\",\n      \"properties\": {\n        \"dtype\": \"string\",\n        \"num_unique_values\": 3928,\n        \"samples\": [\n          \"The messenger must be silenced.\",\n          \"It's not the house that's haunted.\",\n          \"The final hunt begins.\"\n        ],\n        \"semantic_type\": \"\",\n        \"description\": \"\"\n      }\n    },\n    {\n      \"column\": \"Movie_Cast\",\n      \"properties\": {\n        \"dtype\": \"string\",\n        \"num_unique_values\": 4715,\n        \"samples\": [\n          \"Robin Tunney Fairuza Balk Neve Campbell Rachel True Skeet Ulrich\",\n          \"Peter Sellers Christopher Plummer Herbert Lom Catherine Schell Peter Arne\",\n          \"John Wayne Laraine Day Cedric Hardwicke Judith Anderson Anthony Quinn\"\n        ],\n        \"semantic_type\": \"\",\n        \"description\": \"\"\n      }\n    },\n    {\n      \"column\": \"Movie_Director\",\n      \"properties\": {\n        \"dtype\": \"category\",\n        \"num_unique_values\": 2332,\n        \"samples\": [\n          \"Rob McKittrick\",\n          \"Terron R. Parsons\",\n          \"Cyrus Nowrasteh\"\n        ],\n        \"semantic_type\": \"\",\n        \"description\": \"\"\n      }\n    }\n  ]\n}"
            }
          },
          "metadata": {},
          "execution_count": 11
        }
      ]
    },
    {
      "cell_type": "code",
      "source": [
        "x=df_features['Movie_Genre'] + ' ' + df_features['Movie_Keywords'] + ' ' + df_features['Movie_Tagline'] + ' ' + df_features['Movie_Cast'] + ' ' + df_features['Movie_Director']"
      ],
      "metadata": {
        "id": "BCOmWycBVvV5"
      },
      "execution_count": null,
      "outputs": []
    },
    {
      "cell_type": "code",
      "source": [
        "x"
      ],
      "metadata": {
        "colab": {
          "base_uri": "https://localhost:8080/",
          "height": 453
        },
        "id": "cYTSdrDcVx-Y",
        "outputId": "2a305693-f495-43a6-ec97-723e62215f56"
      },
      "execution_count": null,
      "outputs": [
        {
          "output_type": "execute_result",
          "data": {
            "text/plain": [
              "0       Crime Comedy hotel new year's eve witch bet ho...\n",
              "1       Adventure Action Science Fiction android galax...\n",
              "2       Animation Family father son relationship harbo...\n",
              "3       Comedy Drama Romance vietnam veteran hippie me...\n",
              "4       Drama male nudity female nudity adultery midli...\n",
              "                              ...                        \n",
              "4755    Horror  The hot spot where Satan's waitin'. Li...\n",
              "4756    Comedy Family Drama  It’s better to stand out ...\n",
              "4757    Thriller Drama christian film sex trafficking ...\n",
              "4758                                           Family    \n",
              "4759    Documentary music actors legendary perfomer cl...\n",
              "Length: 4760, dtype: object"
            ],
            "text/html": [
              "<div>\n",
              "<style scoped>\n",
              "    .dataframe tbody tr th:only-of-type {\n",
              "        vertical-align: middle;\n",
              "    }\n",
              "\n",
              "    .dataframe tbody tr th {\n",
              "        vertical-align: top;\n",
              "    }\n",
              "\n",
              "    .dataframe thead th {\n",
              "        text-align: right;\n",
              "    }\n",
              "</style>\n",
              "<table border=\"1\" class=\"dataframe\">\n",
              "  <thead>\n",
              "    <tr style=\"text-align: right;\">\n",
              "      <th></th>\n",
              "      <th>0</th>\n",
              "    </tr>\n",
              "  </thead>\n",
              "  <tbody>\n",
              "    <tr>\n",
              "      <th>0</th>\n",
              "      <td>Crime Comedy hotel new year's eve witch bet ho...</td>\n",
              "    </tr>\n",
              "    <tr>\n",
              "      <th>1</th>\n",
              "      <td>Adventure Action Science Fiction android galax...</td>\n",
              "    </tr>\n",
              "    <tr>\n",
              "      <th>2</th>\n",
              "      <td>Animation Family father son relationship harbo...</td>\n",
              "    </tr>\n",
              "    <tr>\n",
              "      <th>3</th>\n",
              "      <td>Comedy Drama Romance vietnam veteran hippie me...</td>\n",
              "    </tr>\n",
              "    <tr>\n",
              "      <th>4</th>\n",
              "      <td>Drama male nudity female nudity adultery midli...</td>\n",
              "    </tr>\n",
              "    <tr>\n",
              "      <th>...</th>\n",
              "      <td>...</td>\n",
              "    </tr>\n",
              "    <tr>\n",
              "      <th>4755</th>\n",
              "      <td>Horror  The hot spot where Satan's waitin'. Li...</td>\n",
              "    </tr>\n",
              "    <tr>\n",
              "      <th>4756</th>\n",
              "      <td>Comedy Family Drama  It’s better to stand out ...</td>\n",
              "    </tr>\n",
              "    <tr>\n",
              "      <th>4757</th>\n",
              "      <td>Thriller Drama christian film sex trafficking ...</td>\n",
              "    </tr>\n",
              "    <tr>\n",
              "      <th>4758</th>\n",
              "      <td>Family</td>\n",
              "    </tr>\n",
              "    <tr>\n",
              "      <th>4759</th>\n",
              "      <td>Documentary music actors legendary perfomer cl...</td>\n",
              "    </tr>\n",
              "  </tbody>\n",
              "</table>\n",
              "<p>4760 rows × 1 columns</p>\n",
              "</div><br><label><b>dtype:</b> object</label>"
            ]
          },
          "metadata": {},
          "execution_count": 13
        }
      ]
    },
    {
      "cell_type": "code",
      "source": [
        "x.shape"
      ],
      "metadata": {
        "colab": {
          "base_uri": "https://localhost:8080/"
        },
        "id": "i4B4CHK_V6kc",
        "outputId": "b1d02cea-ecfa-49eb-e980-c0f51c33f0ce"
      },
      "execution_count": null,
      "outputs": [
        {
          "output_type": "execute_result",
          "data": {
            "text/plain": [
              "(4760,)"
            ]
          },
          "metadata": {},
          "execution_count": 14
        }
      ]
    },
    {
      "cell_type": "markdown",
      "source": [
        "Get Feature Text Conversions to Tokens"
      ],
      "metadata": {
        "id": "woIuxlgBV8tm"
      }
    },
    {
      "cell_type": "code",
      "source": [
        "!pip install numpy==1.21.2"
      ],
      "metadata": {
        "colab": {
          "base_uri": "https://localhost:8080/",
          "height": 793
        },
        "id": "afN4oAHmWBRi",
        "outputId": "e67f5aad-1465-4213-826e-e16980ee5000"
      },
      "execution_count": null,
      "outputs": [
        {
          "output_type": "stream",
          "name": "stdout",
          "text": [
            "Collecting numpy==1.21.2\n",
            "  Downloading numpy-1.21.2-cp310-cp310-manylinux_2_17_x86_64.manylinux2014_x86_64.whl.metadata (2.1 kB)\n",
            "Downloading numpy-1.21.2-cp310-cp310-manylinux_2_17_x86_64.manylinux2014_x86_64.whl (15.9 MB)\n",
            "\u001b[2K   \u001b[90m━━━━━━━━━━━━━━━━━━━━━━━━━━━━━━━━━━━━━━━━\u001b[0m \u001b[32m15.9/15.9 MB\u001b[0m \u001b[31m68.0 MB/s\u001b[0m eta \u001b[36m0:00:00\u001b[0m\n",
            "\u001b[?25hInstalling collected packages: numpy\n",
            "  Attempting uninstall: numpy\n",
            "    Found existing installation: numpy 1.26.4\n",
            "    Uninstalling numpy-1.26.4:\n",
            "      Successfully uninstalled numpy-1.26.4\n",
            "\u001b[31mERROR: pip's dependency resolver does not currently take into account all the packages that are installed. This behaviour is the source of the following dependency conflicts.\n",
            "albucore 0.0.16 requires numpy>=1.24, but you have numpy 1.21.2 which is incompatible.\n",
            "albumentations 1.4.15 requires numpy>=1.24.4, but you have numpy 1.21.2 which is incompatible.\n",
            "arviz 0.19.0 requires numpy>=1.23.0, but you have numpy 1.21.2 which is incompatible.\n",
            "astropy 6.1.4 requires numpy>=1.23, but you have numpy 1.21.2 which is incompatible.\n",
            "bigframes 1.22.0 requires numpy>=1.24.0, but you have numpy 1.21.2 which is incompatible.\n",
            "chex 0.1.87 requires numpy>=1.24.1, but you have numpy 1.21.2 which is incompatible.\n",
            "contourpy 1.3.0 requires numpy>=1.23, but you have numpy 1.21.2 which is incompatible.\n",
            "cudf-cu12 24.10.1 requires numpy<3.0a0,>=1.23, but you have numpy 1.21.2 which is incompatible.\n",
            "flax 0.8.5 requires numpy>=1.22, but you have numpy 1.21.2 which is incompatible.\n",
            "geopandas 1.0.1 requires numpy>=1.22, but you have numpy 1.21.2 which is incompatible.\n",
            "ibis-framework 9.2.0 requires numpy<3,>=1.23.2, but you have numpy 1.21.2 which is incompatible.\n",
            "jax 0.4.33 requires numpy>=1.24, but you have numpy 1.21.2 which is incompatible.\n",
            "jaxlib 0.4.33 requires numpy>=1.24, but you have numpy 1.21.2 which is incompatible.\n",
            "mizani 0.11.4 requires numpy>=1.23.0, but you have numpy 1.21.2 which is incompatible.\n",
            "numba 0.60.0 requires numpy<2.1,>=1.22, but you have numpy 1.21.2 which is incompatible.\n",
            "numexpr 2.10.1 requires numpy>=1.23.0, but you have numpy 1.21.2 which is incompatible.\n",
            "nx-cugraph-cu12 24.10.0 requires numpy<3.0a0,>=1.23, but you have numpy 1.21.2 which is incompatible.\n",
            "pandas 2.2.2 requires numpy>=1.22.4; python_version < \"3.11\", but you have numpy 1.21.2 which is incompatible.\n",
            "pandas-stubs 2.2.2.240909 requires numpy>=1.23.5, but you have numpy 1.21.2 which is incompatible.\n",
            "plotnine 0.13.6 requires numpy>=1.23.0, but you have numpy 1.21.2 which is incompatible.\n",
            "pylibraft-cu12 24.10.0 requires numpy<3.0a0,>=1.23, but you have numpy 1.21.2 which is incompatible.\n",
            "rmm-cu12 24.10.0 requires numpy<3.0a0,>=1.23, but you have numpy 1.21.2 which is incompatible.\n",
            "scikit-image 0.24.0 requires numpy>=1.23, but you have numpy 1.21.2 which is incompatible.\n",
            "scipy 1.13.1 requires numpy<2.3,>=1.22.4, but you have numpy 1.21.2 which is incompatible.\n",
            "statsmodels 0.14.4 requires numpy<3,>=1.22.3, but you have numpy 1.21.2 which is incompatible.\n",
            "tensorflow 2.17.0 requires numpy<2.0.0,>=1.23.5; python_version <= \"3.11\", but you have numpy 1.21.2 which is incompatible.\n",
            "tensorstore 0.1.66 requires numpy>=1.22.0, but you have numpy 1.21.2 which is incompatible.\n",
            "xarray 2024.9.0 requires numpy>=1.24, but you have numpy 1.21.2 which is incompatible.\n",
            "xarray-einstats 0.8.0 requires numpy>=1.23, but you have numpy 1.21.2 which is incompatible.\u001b[0m\u001b[31m\n",
            "\u001b[0mSuccessfully installed numpy-1.21.2\n"
          ]
        },
        {
          "output_type": "display_data",
          "data": {
            "application/vnd.colab-display-data+json": {
              "pip_warning": {
                "packages": [
                  "numpy"
                ]
              },
              "id": "ecfbdd7476354537b7d15602644cd2fc"
            }
          },
          "metadata": {}
        }
      ]
    },
    {
      "cell_type": "code",
      "source": [
        "from sklearn.feature_extraction.text import TfidfVectorizer"
      ],
      "metadata": {
        "id": "nUzBdtZaWR-a"
      },
      "execution_count": null,
      "outputs": []
    },
    {
      "cell_type": "code",
      "source": [
        "tfidf = TfidfVectorizer()"
      ],
      "metadata": {
        "id": "tFjxfm1pWVci"
      },
      "execution_count": null,
      "outputs": []
    },
    {
      "cell_type": "code",
      "source": [
        "X = tfidf.fit_transform(x)"
      ],
      "metadata": {
        "id": "p6LOxhvrWcrc"
      },
      "execution_count": null,
      "outputs": []
    },
    {
      "cell_type": "code",
      "source": [
        "X.shape"
      ],
      "metadata": {
        "colab": {
          "base_uri": "https://localhost:8080/"
        },
        "id": "edMk9oRhWkbI",
        "outputId": "fedf5178-4899-4309-cbe6-d327a56caa00"
      },
      "execution_count": null,
      "outputs": [
        {
          "output_type": "execute_result",
          "data": {
            "text/plain": [
              "(4760, 17258)"
            ]
          },
          "metadata": {},
          "execution_count": 37
        }
      ]
    },
    {
      "cell_type": "code",
      "source": [
        "print(X)"
      ],
      "metadata": {
        "colab": {
          "base_uri": "https://localhost:8080/"
        },
        "id": "m-eCbuo2WrNm",
        "outputId": "7b5169c6-de43-42bd-9262-93616f1b02b3"
      },
      "execution_count": null,
      "outputs": [
        {
          "output_type": "stream",
          "name": "stdout",
          "text": [
            "  (0, 3583)\t0.06486754376295062\n",
            "  (0, 3240)\t0.04527089872278055\n",
            "  (0, 7213)\t0.25146675849405775\n",
            "  (0, 10898)\t0.17625708810661284\n",
            "  (0, 17052)\t0.26079573581490934\n",
            "  (0, 5059)\t0.29553419178998613\n",
            "  (0, 16862)\t0.12768803549311025\n",
            "  (0, 1595)\t0.15687561633854538\n",
            "  (0, 13052)\t0.1465525095337543\n",
            "  (0, 15708)\t0.17654247479915475\n",
            "  (0, 11362)\t0.18801785343006192\n",
            "  (0, 6463)\t0.18801785343006192\n",
            "  (0, 5662)\t0.1465525095337543\n",
            "  (0, 13467)\t0.19712637387361423\n",
            "  (0, 12731)\t0.19712637387361423\n",
            "  (0, 614)\t0.07642616241686973\n",
            "  (0, 11244)\t0.08262965296941757\n",
            "  (0, 9206)\t0.15186283580984414\n",
            "  (0, 1495)\t0.19712637387361423\n",
            "  (0, 7454)\t0.14745635785412262\n",
            "  (0, 7071)\t0.19822417598406614\n",
            "  (0, 5499)\t0.11454057510303811\n",
            "  (0, 3878)\t0.11998399582562203\n",
            "  (0, 11242)\t0.07277788238484746\n",
            "  (0, 15219)\t0.09800472886453934\n",
            "  :\t:\n",
            "  (4757, 3485)\t0.199161573117024\n",
            "  (4757, 1184)\t0.18890726729447022\n",
            "  (4757, 14568)\t0.24255077606762876\n",
            "  (4757, 15508)\t0.24255077606762876\n",
            "  (4757, 5802)\t0.24255077606762876\n",
            "  (4757, 819)\t0.27474840155297187\n",
            "  (4757, 14195)\t0.28805858134028367\n",
            "  (4757, 2227)\t0.28805858134028367\n",
            "  (4757, 7691)\t0.28805858134028367\n",
            "  (4757, 1932)\t0.28805858134028367\n",
            "  (4758, 5238)\t1.0\n",
            "  (4759, 10666)\t0.15888268987343043\n",
            "  (4759, 1490)\t0.21197258705292082\n",
            "  (4759, 15431)\t0.19628653185946862\n",
            "  (4759, 5690)\t0.19534291014627303\n",
            "  (4759, 14051)\t0.20084315377640435\n",
            "  (4759, 4358)\t0.18306542312175342\n",
            "  (4759, 10761)\t0.3126617295732147\n",
            "  (4759, 7130)\t0.26419662449963793\n",
            "  (4759, 3058)\t0.2812896191863103\n",
            "  (4759, 14062)\t0.3237911628497312\n",
            "  (4759, 8902)\t0.3040290704566037\n",
            "  (4759, 205)\t0.3237911628497312\n",
            "  (4759, 11708)\t0.33947721804318337\n",
            "  (4759, 11264)\t0.33947721804318337\n"
          ]
        }
      ]
    },
    {
      "cell_type": "markdown",
      "source": [
        "Get Similarity Score using Cosine Similarity\n",
        "\n",
        "\n",
        "cosine_similarity computes the L2-normalized dot product of vectors. Euclidean(L2) normalization projects the vectors onto the unit sphere, and their dot product is then the cosine the angle between the points denoted by the vectors."
      ],
      "metadata": {
        "id": "Dtgdoaw8WyWt"
      }
    },
    {
      "cell_type": "code",
      "source": [
        "from sklearn.metrics.pairwise import cosine_similarity"
      ],
      "metadata": {
        "id": "yXIk0BLcW5-A"
      },
      "execution_count": null,
      "outputs": []
    },
    {
      "cell_type": "code",
      "source": [
        "Similarity_Score = cosine_similarity(X)"
      ],
      "metadata": {
        "id": "_gDs2q4WW-Gk"
      },
      "execution_count": null,
      "outputs": []
    },
    {
      "cell_type": "code",
      "source": [
        "Similarity_Score"
      ],
      "metadata": {
        "colab": {
          "base_uri": "https://localhost:8080/"
        },
        "id": "vsp3M6dJXBeG",
        "outputId": "3ee8b02a-adad-4c68-e338-150b0ef52cbc"
      },
      "execution_count": null,
      "outputs": [
        {
          "output_type": "execute_result",
          "data": {
            "text/plain": [
              "array([[1.        , 0.01351235, 0.03570468, ..., 0.        , 0.        ,\n",
              "        0.        ],\n",
              "       [0.01351235, 1.        , 0.00806674, ..., 0.        , 0.        ,\n",
              "        0.        ],\n",
              "       [0.03570468, 0.00806674, 1.        , ..., 0.        , 0.08014876,\n",
              "        0.        ],\n",
              "       ...,\n",
              "       [0.        , 0.        , 0.        , ..., 1.        , 0.        ,\n",
              "        0.        ],\n",
              "       [0.        , 0.        , 0.08014876, ..., 0.        , 1.        ,\n",
              "        0.        ],\n",
              "       [0.        , 0.        , 0.        , ..., 0.        , 0.        ,\n",
              "        1.        ]])"
            ]
          },
          "metadata": {},
          "execution_count": 41
        }
      ]
    },
    {
      "cell_type": "code",
      "source": [
        "Similarity_Score.shape"
      ],
      "metadata": {
        "colab": {
          "base_uri": "https://localhost:8080/"
        },
        "id": "adYdDwYCXII8",
        "outputId": "8c29bdae-36fd-4f21-cadc-4eb1abaf58c1"
      },
      "execution_count": null,
      "outputs": [
        {
          "output_type": "execute_result",
          "data": {
            "text/plain": [
              "(4760, 4760)"
            ]
          },
          "metadata": {},
          "execution_count": 42
        }
      ]
    },
    {
      "cell_type": "markdown",
      "source": [
        "Get Movie Name as Input from User and Validate for Closest Spelling"
      ],
      "metadata": {
        "id": "sPVkklNeXRJ9"
      }
    },
    {
      "cell_type": "code",
      "source": [
        "Favorite_Movie_Name = input(' Enter your favorite movie name : ')"
      ],
      "metadata": {
        "colab": {
          "base_uri": "https://localhost:8080/"
        },
        "id": "xbcdXnZ0XTp1",
        "outputId": "4b2f80e6-9136-4d0b-a5da-294de0f678d9"
      },
      "execution_count": null,
      "outputs": [
        {
          "name": "stdout",
          "output_type": "stream",
          "text": [
            " Enter your favorite movie name : Finding Nemo\n"
          ]
        }
      ]
    },
    {
      "cell_type": "code",
      "source": [
        "All_Movies_Title_List = df['Movie_Title'].tolist()"
      ],
      "metadata": {
        "id": "OisJoTDGXhI6"
      },
      "execution_count": null,
      "outputs": []
    },
    {
      "cell_type": "code",
      "source": [
        "import difflib"
      ],
      "metadata": {
        "id": "XrueXWqHXrIc"
      },
      "execution_count": null,
      "outputs": []
    },
    {
      "cell_type": "code",
      "source": [
        "Movie_Recommendation = difflib.get_close_matches(Favorite_Movie_Name, All_Movies_Title_List)\n",
        "print(Movie_Recommendation)"
      ],
      "metadata": {
        "colab": {
          "base_uri": "https://localhost:8080/"
        },
        "id": "rFoaQ4BYXvi4",
        "outputId": "0b6e16b3-a4cf-4d65-9a6e-ef734adac9a8"
      },
      "execution_count": null,
      "outputs": [
        {
          "output_type": "stream",
          "name": "stdout",
          "text": [
            "['Finding Nemo', 'Finding Neverland', 'Finding Forrester']\n"
          ]
        }
      ]
    },
    {
      "cell_type": "code",
      "source": [
        "Close_Match = Movie_Recommendation[0]\n",
        "print(Close_Match)"
      ],
      "metadata": {
        "colab": {
          "base_uri": "https://localhost:8080/"
        },
        "id": "x05y8vfbX1C_",
        "outputId": "2f2afa64-b9ba-48f8-992a-ec6762560bb1"
      },
      "execution_count": null,
      "outputs": [
        {
          "output_type": "stream",
          "name": "stdout",
          "text": [
            "Finding Nemo\n"
          ]
        }
      ]
    },
    {
      "cell_type": "code",
      "source": [
        "Index_of_Close_Match_Movie = df[df.Movie_Title == Close_Match]['Movie_ID'].values[0]\n",
        "print(Index_of_Close_Match_Movie)"
      ],
      "metadata": {
        "colab": {
          "base_uri": "https://localhost:8080/"
        },
        "id": "Einbg3LoX5gR",
        "outputId": "1aea5b2e-e88a-47aa-e46f-0af7be0dbd4e"
      },
      "execution_count": null,
      "outputs": [
        {
          "output_type": "stream",
          "name": "stdout",
          "text": [
            "3\n"
          ]
        }
      ]
    },
    {
      "cell_type": "code",
      "source": [
        "# getting a list of similar movies\n",
        "Recommendation_Score = list(enumerate(Similarity_Score[Index_of_Close_Match_Movie]))\n",
        "print(Recommendation_Score)"
      ],
      "metadata": {
        "colab": {
          "base_uri": "https://localhost:8080/"
        },
        "id": "YQedDMvaX_hL",
        "outputId": "569afc67-feca-413b-b578-6e17cb2d641b"
      },
      "execution_count": null,
      "outputs": [
        {
          "output_type": "stream",
          "name": "stdout",
          "text": [
            "[(0, 0.031389805561765814), (1, 0.0), (2, 0.010521591718659169), (3, 1.0000000000000002), (4, 0.0027090731075112796), (5, 0.051991101182556704), (6, 0.03362337142952708), (7, 0.04871036100310375), (8, 0.009423750708816837), (9, 0.03142442817063111), (10, 0.01306760331485426), (11, 0.01535686620666722), (12, 0.12113761972627256), (13, 0.06497614809897558), (14, 0.014412946101960474), (15, 0.022629595606704064), (16, 0.002140027973020624), (17, 0.0), (18, 0.02751282591387441), (19, 0.028909640014530318), (20, 0.002685576464944684), (21, 0.0027457101217876873), (22, 0.03190460522891306), (23, 0.021014751189773563), (24, 0.0016769415048338069), (25, 0.04650444092238118), (26, 0.002512220809421148), (27, 0.014400126672840541), (28, 0.04027077198037511), (29, 0.03209160357055785), (30, 0.0), (31, 0.012294064824934019), (32, 0.01988942575845245), (33, 0.026641768971019896), (34, 0.05950856374455928), (35, 0.05245230431298357), (36, 0.023348407579821488), (37, 0.04582204427181403), (38, 0.028303769303117128), (39, 0.08023132979222701), (40, 0.011373128624278899), (41, 0.017837342766393573), (42, 0.003568382906565819), (43, 0.09566139359553241), (44, 0.06262277271031223), (45, 0.06387456411129853), (46, 0.019527082746645084), (47, 0.0), (48, 0.043772704716197944), (49, 0.034068839411434605), (50, 0.07701597707581857), (51, 0.009129600006610627), (52, 0.0222428773265625), (53, 0.036811383139009876), (54, 0.0), (55, 0.03694613554763754), (56, 0.06774035995527501), (57, 0.05980193434790941), (58, 0.010281750778967707), (59, 0.003594295528287061), (60, 0.02658524861981776), (61, 0.028277903348624227), (62, 0.024264428856520637), (63, 0.025623127490841384), (64, 0.021499897039921733), (65, 0.023552842694651095), (66, 0.01757835666352584), (67, 0.04541847409867375), (68, 0.00272302751480883), (69, 0.0), (70, 0.010070020451863346), (71, 0.008889664217753803), (72, 0.011892313793560311), (73, 0.04765088993235882), (74, 0.052865138231668996), (75, 0.06509511924822968), (76, 0.024284149616662667), (77, 0.0), (78, 0.027214096506513), (79, 0.03286580868184336), (80, 0.011235534728400425), (81, 0.02054490326556206), (82, 0.050963277021738654), (83, 0.01916490439221156), (84, 0.04487936917872589), (85, 0.014745193285137823), (86, 0.04215368402795401), (87, 0.0024785863046322023), (88, 0.07344961205056624), (89, 0.012953723418909355), (90, 0.020276870913285748), (91, 0.08455606075163971), (92, 0.0022595512880432345), (93, 0.0), (94, 0.011260722059021717), (95, 0.0), (96, 0.05112307304797353), (97, 0.059938196196615744), (98, 0.03655681874736586), (99, 0.039580997539331315), (100, 0.031179005483521004), (101, 0.042058642060742044), (102, 0.02804512964150038), (103, 0.01053748093904321), (104, 0.057197486399854995), (105, 0.029628976436649676), (106, 0.02859443762248541), (107, 0.03140357886054654), (108, 0.09575331242074896), (109, 0.029822551439722546), (110, 0.02234212016286994), (111, 0.03660744748504929), (112, 0.022957183883449337), (113, 0.018341786724898786), (114, 0.012177546936732953), (115, 0.037089282525699145), (116, 0.020895996282477642), (117, 0.045168363253599034), (118, 0.0), (119, 0.075443691271782), (120, 0.002647992825624751), (121, 0.01626169109113968), (122, 0.031072649752047626), (123, 0.0389226283856849), (124, 0.0691692278156905), (125, 0.0076131062338095), (126, 0.019795922433162073), (127, 0.05242989633924968), (128, 0.024398798332991606), (129, 0.02760968994912702), (130, 0.05764319004105656), (131, 0.040179417743113066), (132, 0.007693090523471574), (133, 0.0), (134, 0.0035637670768959265), (135, 0.05135117471580796), (136, 0.0023710290753699223), (137, 0.019471293465224953), (138, 0.05438136753195495), (139, 0.003914149239360486), (140, 0.0024051062369709053), (141, 0.01905833112867378), (142, 0.017131589133699006), (143, 0.0), (144, 0.037647354617029546), (145, 0.02372964189959103), (146, 0.010353519576594954), (147, 0.00797476476621098), (148, 0.0193092568716752), (149, 0.01716841661298655), (150, 0.012003499844017933), (151, 0.0), (152, 0.02210946371995271), (153, 0.018512264689381944), (154, 0.035142969621951126), (155, 0.0049623996769662705), (156, 0.03257090765102276), (157, 0.0167096023372294), (158, 0.014737951234051467), (159, 0.026408313104601837), (160, 0.021145343267716707), (161, 0.034942186688403175), (162, 0.04040428506362985), (163, 0.0), (164, 0.14589758456473872), (165, 0.05398632418536522), (166, 0.03050534936851945), (167, 0.0111903988380411), (168, 0.014863756505600963), (169, 0.037173918346319675), (170, 0.022220648896413852), (171, 0.024367137562380056), (172, 0.03804656537788816), (173, 0.03140341230421844), (174, 0.018585569225251213), (175, 0.021083535298245207), (176, 0.002638272616218978), (177, 0.026575798234230293), (178, 0.02323298295056201), (179, 0.058661213203498604), (180, 0.0), (181, 0.0), (182, 0.04680790977513004), (183, 0.008453651242103054), (184, 0.03667268124751378), (185, 0.009585139492964228), (186, 0.019039199521774332), (187, 0.0), (188, 0.025315654612253095), (189, 0.06563788801251441), (190, 0.01988613716767594), (191, 0.043349303255539755), (192, 0.0425632959993079), (193, 0.016205576717940345), (194, 0.006962055309102449), (195, 0.05198235286187505), (196, 0.0195733879665914), (197, 0.10020116492102218), (198, 0.048803535474788926), (199, 0.008404799077386088), (200, 0.027458542180423935), (201, 0.03900331875974426), (202, 0.042745489232818484), (203, 0.04041460135838952), (204, 0.03166373750422273), (205, 0.014817406655384106), (206, 0.17910479970435603), (207, 0.0), (208, 0.009786043005873556), (209, 0.02167449201371437), (210, 0.002767183106811639), (211, 0.029180089257160292), (212, 0.07827328834436109), (213, 0.010958683762208807), (214, 0.036317701419760234), (215, 0.028316578440947086), (216, 0.02728535740301938), (217, 0.028628859733557693), (218, 0.028444159245155698), (219, 0.012722888892989916), (220, 0.04010317072739344), (221, 0.0315678213035532), (222, 0.04634442061674302), (223, 0.011807937402167616), (224, 0.006639037752791262), (225, 0.02915348910713203), (226, 0.0025672064123432848), (227, 0.033829900748183275), (228, 0.0654105618834449), (229, 0.00239371757346028), (230, 0.006476190556561405), (231, 0.013946922841306443), (232, 0.02036246308171532), (233, 0.034897848349552715), (234, 0.01055349891842243), (235, 0.12400604704949816), (236, 0.002411747953056569), (237, 0.03526016493596604), (238, 0.006176871448531915), (239, 0.047197759802509336), (240, 0.04879748425999869), (241, 0.03117386965350651), (242, 0.05162057323757445), (243, 0.023755515845896993), (244, 0.019283148586834338), (245, 0.0035784128206092676), (246, 0.06063979725607677), (247, 0.0025386734428399223), (248, 0.040766356694718904), (249, 0.03451354799647002), (250, 0.10208695685084583), (251, 0.07058226439929306), (252, 0.014055397621234502), (253, 0.054301314183290705), (254, 0.054465470363861034), (255, 0.018527882435850157), (256, 0.029431364469359046), (257, 0.010030676426110167), (258, 0.03927885360036589), (259, 0.05104661421094849), (260, 0.024348041678295344), (261, 0.024766914661297233), (262, 0.03655005575019824), (263, 0.05714701743334861), (264, 0.07989967350866659), (265, 0.0), (266, 0.04571386638650919), (267, 0.0021758579021435953), (268, 0.002290009772016618), (269, 0.0684886687229144), (270, 0.012314111743431775), (271, 0.06642731475158625), (272, 0.06129566749249628), (273, 0.0064533133719347265), (274, 0.056738397294023836), (275, 0.021120694314765508), (276, 0.0024209220267167823), (277, 0.05848400478877059), (278, 0.010478110496030433), (279, 0.02286870399317167), (280, 0.06491991768725482), (281, 0.0028985121875174133), (282, 0.04109651227303907), (283, 0.006745500588826851), (284, 0.01169426420191805), (285, 0.04303944427989961), (286, 0.0022032704605936633), (287, 0.0431668066935218), (288, 0.04761797990368623), (289, 0.0), (290, 0.0), (291, 0.02914434783426599), (292, 0.02084014249545454), (293, 0.022537855734647345), (294, 0.01709415949242077), (295, 0.0), (296, 0.011892541110747123), (297, 0.04061167948095922), (298, 0.012809269950070413), (299, 0.033002889166316524), (300, 0.0063355638844378665), (301, 0.035920618703760135), (302, 0.03683466844179592), (303, 0.011399036368139529), (304, 0.016976408469756437), (305, 0.012250356481831651), (306, 0.022595823017577298), (307, 0.1228769129612349), (308, 0.01571815776350914), (309, 0.031697154990038286), (310, 0.053840820857785424), (311, 0.0032744513254385032), (312, 0.021233024514136084), (313, 0.006891828685235902), (314, 0.0), (315, 0.0), (316, 0.0), (317, 0.013894170958127002), (318, 0.019972362715184315), (319, 0.02295306431059221), (320, 0.0), (321, 0.006454634165240067), (322, 0.03267666008493493), (323, 0.0), (324, 0.04625797095690377), (325, 0.011496443473382682), (326, 0.010626742269998057), (327, 0.01696546581611679), (328, 0.06959695956707428), (329, 0.015392951493181694), (330, 0.055628134402843185), (331, 0.031879955748323696), (332, 0.03248936261422587), (333, 0.0), (334, 0.03931205401337801), (335, 0.019847800428124538), (336, 0.0515165144353115), (337, 0.011129457717533856), (338, 0.025557779155612557), (339, 0.01210087425825274), (340, 0.022039607303174752), (341, 0.04806265627520388), (342, 0.07443312090736337), (343, 0.04065559896693685), (344, 0.020235047425438746), (345, 0.03161368930270231), (346, 0.033769239384688156), (347, 0.018434265945250508), (348, 0.04122590225297962), (349, 0.03305484720628375), (350, 0.006593118643439805), (351, 0.0753540018109471), (352, 0.023744387322573), (353, 0.07500768126261928), (354, 0.04885378443013917), (355, 0.008001350373298067), (356, 0.04240606440881446), (357, 0.055541042451585074), (358, 0.021374719018545336), (359, 0.002356263089180655), (360, 0.0), (361, 0.059334584455909875), (362, 0.04188703169700994), (363, 0.011078819362217896), (364, 0.00996539590445927), (365, 0.029723366582399945), (366, 0.012214089754354316), (367, 0.017754923345125167), (368, 0.048790923732183786), (369, 0.022316037237483703), (370, 0.014033487728000189), (371, 0.08152444079477916), (372, 0.07848899524940633), (373, 0.024209694679113433), (374, 0.039248454366937295), (375, 0.009098917850533787), (376, 0.01825013281818848), (377, 0.015726116073156392), (378, 0.0025785547441565105), (379, 0.012347817758613823), (380, 0.014086936499429128), (381, 0.0100152584038519), (382, 0.012332261768523409), (383, 0.0031091833139591375), (384, 0.030193485210942755), (385, 0.010625511059573618), (386, 0.021359501736530444), (387, 0.11477520957929307), (388, 0.11544228583648783), (389, 0.020916018544659028), (390, 0.01011047249572029), (391, 0.06032128006813801), (392, 0.06305561111929797), (393, 0.003089392759855011), (394, 0.0), (395, 0.027076973216922325), (396, 0.04845689624900107), (397, 0.030592172738379702), (398, 0.009665162762812617), (399, 0.03158017602223937), (400, 0.013927199655767487), (401, 0.027127733142246094), (402, 0.028136244965485408), (403, 0.09693738427823909), (404, 0.00338553085564829), (405, 0.010289958645934945), (406, 0.01563808624088793), (407, 0.05790868288386337), (408, 0.028502059964978323), (409, 0.02417249852157986), (410, 0.03195504398330048), (411, 0.02361223058208988), (412, 0.05871374808664351), (413, 0.014551613824223267), (414, 0.020280476108086577), (415, 0.02795426612126471), (416, 0.019983394156780365), (417, 0.023005217133418705), (418, 0.058644799443410556), (419, 0.01799272227055549), (420, 0.013185636858915668), (421, 0.012181537796565505), (422, 0.020694063416344437), (423, 0.0), (424, 0.029663060691212627), (425, 0.02963732468691123), (426, 0.02443561076389236), (427, 0.0383700455685176), (428, 0.042568833525135276), (429, 0.0026908703284352275), (430, 0.0027635336433314223), (431, 0.014347634321983315), (432, 0.04203820012929217), (433, 0.043674114153518295), (434, 0.015113715352309487), (435, 0.0), (436, 0.0157265385803649), (437, 0.01505631625576713), (438, 0.016114315328025673), (439, 0.012190092218942137), (440, 0.02915512914019763), (441, 0.027883338984642358), (442, 0.012296481902554635), (443, 0.013618668368616716), (444, 0.017861345691555546), (445, 0.028652339569785967), (446, 0.008991893032308042), (447, 0.0122261800585173), (448, 0.02416948437849041), (449, 0.02733765988948148), (450, 0.014344017653742698), (451, 0.028576092562018224), (452, 0.13980809021421695), (453, 0.0019633277883869754), (454, 0.027484024725623262), (455, 0.031248109712184995), (456, 0.030849506257636418), (457, 0.049670722089749514), (458, 0.0028648964399279617), (459, 0.003417757621793038), (460, 0.03775623137748366), (461, 0.004131274958824264), (462, 0.0), (463, 0.04131211942942826), (464, 0.07142954067353233), (465, 0.020064476817935654), (466, 0.002538405848396342), (467, 0.0734369492535448), (468, 0.07593550738111692), (469, 0.02894860195576935), (470, 0.04471016110779567), (471, 0.011361265180397137), (472, 0.028403691397072345), (473, 0.00547907149081869), (474, 0.010085533303733293), (475, 0.00535831952313296), (476, 0.017596662087215338), (477, 0.02486718286111111), (478, 0.0029058199348062728), (479, 0.041366020773739354), (480, 0.011470864026860761), (481, 0.038869582845729785), (482, 0.009621119195480962), (483, 0.06762740339377991), (484, 0.031662258130685385), (485, 0.020827910837929925), (486, 0.011775708374723706), (487, 0.0024578682311527664), (488, 0.021801822803165054), (489, 0.051038584578048746), (490, 0.00859258709863078), (491, 0.030010206016092576), (492, 0.011448526637770393), (493, 0.020366357615851677), (494, 0.020449857572949696), (495, 0.013116410412239012), (496, 0.05779858163405605), (497, 0.023364540397850214), (498, 0.015016037943613718), (499, 0.002794189681797705), (500, 0.07355480034151606), (501, 0.0), (502, 0.028197797391846684), (503, 0.0033936064071479186), (504, 0.024575862335183437), (505, 0.005753249812554398), (506, 0.05087077917603999), (507, 0.01720049574956809), (508, 0.02106306946485937), (509, 0.018062184997129183), (510, 0.01952642829961302), (511, 0.03374388723939415), (512, 0.014574373495571589), (513, 0.0), (514, 0.03834505094312163), (515, 0.05957183813889034), (516, 0.0), (517, 0.00956777582335929), (518, 0.0164785646960802), (519, 0.008138701376925716), (520, 0.017565077876095216), (521, 0.02156766724964437), (522, 0.05720885663131978), (523, 0.03277076179544172), (524, 0.1274427335967744), (525, 0.015666546246772793), (526, 0.0032286621690680696), (527, 0.023176610608337405), (528, 0.027253758830433746), (529, 0.033555495326746884), (530, 0.035450612185074094), (531, 0.01571282255067242), (532, 0.013907678316794172), (533, 0.002887857744066844), (534, 0.013882848922158115), (535, 0.00344223523761519), (536, 0.018465692908256018), (537, 0.022894285210385307), (538, 0.039119057459836196), (539, 0.0), (540, 0.022634507923468702), (541, 0.03810477039976225), (542, 0.0018004905652402468), (543, 0.029831215432673502), (544, 0.05209362407542986), (545, 0.02705320521056912), (546, 0.03660439381546316), (547, 0.02326114467862216), (548, 0.011498862287164829), (549, 0.019742052133228532), (550, 0.0), (551, 0.029214233225721094), (552, 0.0), (553, 0.06085655143775047), (554, 0.0), (555, 0.051282922101398426), (556, 0.0), (557, 0.0), (558, 0.0023675916681274774), (559, 0.0), (560, 0.02134260850799992), (561, 0.05011498778827138), (562, 0.021464213843008964), (563, 0.06795067215578927), (564, 0.009090826384045259), (565, 0.027966568689789507), (566, 0.05381365880225545), (567, 0.011203322101928528), (568, 0.028913528217961625), (569, 0.044517502789491445), (570, 0.0), (571, 0.0019796274614391975), (572, 0.013745264042902631), (573, 0.019013155444413603), (574, 0.0), (575, 0.02930469697458723), (576, 0.00978185630328853), (577, 0.0261643452616385), (578, 0.012337516692718048), (579, 0.02147217323403752), (580, 0.0026829949230014203), (581, 0.0023137812441322613), (582, 0.019142071095003276), (583, 0.029009199851207982), (584, 0.016586994949758693), (585, 0.015152159178229447), (586, 0.03024859214063402), (587, 0.009543201857072659), (588, 0.03574850073011193), (589, 0.011275075347442407), (590, 0.026025798888059927), (591, 0.0374964745773974), (592, 0.0), (593, 0.0026188278447565544), (594, 0.02733354384172801), (595, 0.0), (596, 0.0028768240358485963), (597, 0.0413543866978208), (598, 0.0023922517853804427), (599, 0.01290039985482553), (600, 0.019900347203923266), (601, 0.0), (602, 0.0), (603, 0.013042407300877289), (604, 0.02340261809068587), (605, 0.018806316320811187), (606, 0.07415195209163582), (607, 0.0435390202160343), (608, 0.06807186087298957), (609, 0.08782544300767502), (610, 0.012191798240697606), (611, 0.004125153089544757), (612, 0.00921298045967105), (613, 0.034377510564489455), (614, 0.017015049162034536), (615, 0.019590994263232155), (616, 0.03011981168584335), (617, 0.03755705066973159), (618, 0.03796122727501287), (619, 0.031367990296451674), (620, 0.03493446031911885), (621, 0.011390723436781934), (622, 0.01493596745741825), (623, 0.0336198606165508), (624, 0.011956836374723534), (625, 0.0), (626, 0.002175889504568845), (627, 0.003476687206632144), (628, 0.0025886700109589047), (629, 0.02174662937723827), (630, 0.017072587333956505), (631, 0.02208540602113161), (632, 0.018397903927153802), (633, 0.05363162195148252), (634, 0.06184711556759907), (635, 0.03403574948020351), (636, 0.002593029689429659), (637, 0.002658819334892687), (638, 0.02496874726605129), (639, 0.010354470935881413), (640, 0.02807859102230965), (641, 0.006600745592053667), (642, 0.04354949301526097), (643, 0.04068421253704912), (644, 0.0198917388344561), (645, 0.0020970320488099933), (646, 0.0024690989901126853), (647, 0.010330860169068246), (648, 0.01569009816153287), (649, 0.009096717080010967), (650, 0.0), (651, 0.008899197098531254), (652, 0.002626218119552039), (653, 0.07499900365132167), (654, 0.0129240240267141), (655, 0.07581221034544651), (656, 0.0670974803734091), (657, 0.040852877469026966), (658, 0.011666271404767246), (659, 0.036915294341370274), (660, 0.020037175490469808), (661, 0.01150310439667484), (662, 0.0033824459308668155), (663, 0.08750568841394554), (664, 0.020080023302259775), (665, 0.013116247677264027), (666, 0.013798493886822357), (667, 0.0036677757478249715), (668, 0.020352104031847215), (669, 0.058183535631743), (670, 0.017322740766395762), (671, 0.01677796319385933), (672, 0.005400298183478753), (673, 0.0028018780424018475), (674, 0.0), (675, 0.01617244827575245), (676, 0.012673232483428888), (677, 0.05131138679098712), (678, 0.0038031775853366507), (679, 0.017261011232421276), (680, 0.01577125509000531), (681, 0.062499475181972755), (682, 0.0), (683, 0.02971166855779737), (684, 0.05365707759841962), (685, 0.0998786212851564), (686, 0.03780788523309721), (687, 0.02747795142152276), (688, 0.02468009080038946), (689, 0.036324735024200444), (690, 0.027129635457851062), (691, 0.03009070495270202), (692, 0.026944056978275985), (693, 0.008445609127716025), (694, 0.04625758129178477), (695, 0.0), (696, 0.02711143752194871), (697, 0.049237236920611535), (698, 0.00820986683972422), (699, 0.0341614575578441), (700, 0.07155505431083266), (701, 0.05602432108546512), (702, 0.025042090803610403), (703, 0.10785985844708129), (704, 0.013258912254099869), (705, 0.044804101374144895), (706, 0.06072907703257889), (707, 0.033508008830611946), (708, 0.022597281470730913), (709, 0.00803743779580528), (710, 0.019177758896517107), (711, 0.004097795798865602), (712, 0.005350591141527781), (713, 0.0), (714, 0.10113204323678006), (715, 0.010171607511280822), (716, 0.002692436382485364), (717, 0.01546502142036598), (718, 0.0), (719, 0.06305610063151622), (720, 0.0033552535221399527), (721, 0.0029418768934066624), (722, 0.025372857913529244), (723, 0.05991426614472087), (724, 0.03511492516366535), (725, 0.07314188290183303), (726, 0.08548264154197945), (727, 0.06135674232356449), (728, 0.04090601002572547), (729, 0.042292106673581915), (730, 0.003592133855954383), (731, 0.04769377183298744), (732, 0.008228599338346255), (733, 0.044659158556454394), (734, 0.09138497286686673), (735, 0.016612659772709603), (736, 0.08289075312502786), (737, 0.05194586727049376), (738, 0.020203265472189605), (739, 0.06914547697619788), (740, 0.004062729635641237), (741, 0.0266481186419463), (742, 0.02884546182384291), (743, 0.002638401046272076), (744, 0.06138819191111468), (745, 0.0032255015118743758), (746, 0.02546258534795988), (747, 0.04742570996346151), (748, 0.020068340979913116), (749, 0.027108358719600545), (750, 0.013317677132649655), (751, 0.11383198385280849), (752, 0.02876707779082014), (753, 0.013317728675103701), (754, 0.01028325161535737), (755, 0.005885560478849423), (756, 0.04362347374498181), (757, 0.044846304399460545), (758, 0.026960724701386198), (759, 0.005513968465809033), (760, 0.011011114754079078), (761, 0.002567939721854314), (762, 0.05886730729353812), (763, 0.029430887363590792), (764, 0.014008339543024956), (765, 0.012959507726107725), (766, 0.06289736501386402), (767, 0.03586405992409993), (768, 0.038369358456965263), (769, 0.03280828359099388), (770, 0.0032222178283398016), (771, 0.0037584638124951654), (772, 0.025677701483784905), (773, 0.06495479206963754), (774, 0.008991015241593731), (775, 0.028937215425178207), (776, 0.0567535476912637), (777, 0.0030859183293524784), (778, 0.0266435223072837), (779, 0.010481881749439365), (780, 0.03984161925963165), (781, 0.016587740342178896), (782, 0.03163607635989986), (783, 0.02326513962012053), (784, 0.009952307888386693), (785, 0.0341431515573672), (786, 0.008039192129034317), (787, 0.04212066787275776), (788, 0.03699831176324056), (789, 0.019791538519181563), (790, 0.01188497370818766), (791, 0.012648897748357073), (792, 0.01577488441433734), (793, 0.003623053808968971), (794, 0.05884593772870067), (795, 0.011344738652705463), (796, 0.007204129695422064), (797, 0.015630959986317815), (798, 0.034457953254175507), (799, 0.002502977927671527), (800, 0.0297786607843498), (801, 0.0), (802, 0.06772203621600496), (803, 0.032878985573340576), (804, 0.014368799026953075), (805, 0.05492446540352856), (806, 0.0026496589741944894), (807, 0.04498312980511203), (808, 0.06368184817363123), (809, 0.07221122910329876), (810, 0.02987277450588699), (811, 0.0), (812, 0.0062879061330173465), (813, 0.05286011578249004), (814, 0.017246154977753468), (815, 0.014272505344597603), (816, 0.01707683455751445), (817, 0.008920084967195896), (818, 0.016638843855243484), (819, 0.005790991209543668), (820, 0.019310378319763892), (821, 0.02051563790814594), (822, 0.0035033780648896454), (823, 0.018414289236343848), (824, 0.01794377469697252), (825, 0.0), (826, 0.002738278571358697), (827, 0.014272919294274924), (828, 0.030530342907792916), (829, 0.08616623234997911), (830, 0.018799746977805815), (831, 0.01131677168127239), (832, 0.015078712104653802), (833, 0.006223662986701521), (834, 0.00659595338910969), (835, 0.006287658751295124), (836, 0.003075482217329023), (837, 0.002681722921396708), (838, 0.014252384576461169), (839, 0.003941491090939392), (840, 0.03899318609647935), (841, 0.0038306157610582753), (842, 0.004265706615715706), (843, 0.06234166078862283), (844, 0.05295064670344735), (845, 0.012326695398924933), (846, 0.03699786481408427), (847, 0.035638531335385144), (848, 0.0025893883224982145), (849, 0.003486316101361592), (850, 0.05216606718108499), (851, 0.00530542942744069), (852, 0.10296479032542377), (853, 0.016607774361796983), (854, 0.014152883716804336), (855, 0.0), (856, 0.05161212719304183), (857, 0.02489047635959314), (858, 0.0017336094808185721), (859, 0.009073009973942139), (860, 0.0029748737248781352), (861, 0.01125683582773405), (862, 0.04247793342909302), (863, 0.011949115251767072), (864, 0.05091509842017641), (865, 0.05945032543961981), (866, 0.04028866019423738), (867, 0.03831228410080912), (868, 0.0023838780711921085), (869, 0.0293334767611117), (870, 0.021003455421885652), (871, 0.0183756708081856), (872, 0.02089621716839546), (873, 0.02013743697738318), (874, 0.029098428145820816), (875, 0.010104927777906388), (876, 0.059212706625418464), (877, 0.020089498524450654), (878, 0.014006951743432184), (879, 0.012692569270392483), (880, 0.008552753781218333), (881, 0.038691879394732884), (882, 0.010869692331138072), (883, 0.023335088155215105), (884, 0.006300884504030145), (885, 0.02191098291913225), (886, 0.03400557365827954), (887, 0.05592352232382941), (888, 0.01820959009732255), (889, 0.0033043634644788966), (890, 0.02547704724976571), (891, 0.11770483501438778), (892, 0.01897438606034524), (893, 0.010359652156046222), (894, 0.014690505546817426), (895, 0.049056060043087324), (896, 0.002804870011410795), (897, 0.027799536933151164), (898, 0.03736319967739689), (899, 0.0473881023008909), (900, 0.017226612168828294), (901, 0.025004022701456963), (902, 0.013810210761368864), (903, 0.005676865448227027), (904, 0.029154346844714362), (905, 0.0040355797155344104), (906, 0.013244626731925118), (907, 0.03479465347401128), (908, 0.02782767520106031), (909, 0.09618020057477147), (910, 0.012867060699388035), (911, 0.038369138462096025), (912, 0.01629739032910423), (913, 0.050513102875660534), (914, 0.01716416726881062), (915, 0.011799424370315196), (916, 0.06116575385548475), (917, 0.0022982024143152254), (918, 0.024579202892145546), (919, 0.09634504757220613), (920, 0.0032026074078659096), (921, 0.014265013168314042), (922, 0.0028806350133298944), (923, 0.032192538725565406), (924, 0.032051510185351545), (925, 0.006963586913833484), (926, 0.018298524407686905), (927, 0.019334907506821833), (928, 0.030398728824055084), (929, 0.03059214040875062), (930, 0.06907496466012103), (931, 0.01574000011007027), (932, 0.0), (933, 0.006185030041959052), (934, 0.04903247519707507), (935, 0.03660449907574157), (936, 0.04956024402669121), (937, 0.0595450439875631), (938, 0.03094987197998996), (939, 0.02645671247004896), (940, 0.03249893566582443), (941, 0.08744258661239473), (942, 0.00208733901899014), (943, 0.0034969802108603017), (944, 0.020627570504569814), (945, 0.01594873874101766), (946, 0.009551644735107006), (947, 0.003463457837582885), (948, 0.027525256093952757), (949, 0.0356283843231406), (950, 0.05108414713060393), (951, 0.02065714087007965), (952, 0.024341531174447324), (953, 0.002067284498008495), (954, 0.0), (955, 0.024001697379108643), (956, 0.0318151784376709), (957, 0.028871556793070338), (958, 0.017682179290490325), (959, 0.0770414605457901), (960, 0.02648104545473913), (961, 0.012937733998721678), (962, 0.031994869545672114), (963, 0.06508617172312683), (964, 0.002908271341206503), (965, 0.003480988361355605), (966, 0.04025485179844798), (967, 0.03590428031320878), (968, 0.014373829526230793), (969, 0.08125544810327132), (970, 0.018926320088714886), (971, 0.022501373132201304), (972, 0.0026721549742290385), (973, 0.0361480086127941), (974, 0.032649429400477874), (975, 0.016742341842461643), (976, 0.009703992595401353), (977, 0.0), (978, 0.030617830457996723), (979, 0.03521509808402326), (980, 0.002653638124603261), (981, 0.03646131408492574), (982, 0.05922011247454054), (983, 0.044154932265386374), (984, 0.005760669741355915), (985, 0.013916974891725595), (986, 0.0025655984809659135), (987, 0.01657011133401223), (988, 0.025163679179845633), (989, 0.0025253868126055277), (990, 0.0038323110150085666), (991, 0.0027560853766519997), (992, 0.0), (993, 0.05675826571354553), (994, 0.016290742975668075), (995, 0.0394552454676093), (996, 0.004922768133654968), (997, 0.012108012698320953), (998, 0.01379174131317976), (999, 0.013780453734146221), (1000, 0.013338523604241545), (1001, 0.025820827272959635), (1002, 0.038282478877993575), (1003, 0.0), (1004, 0.05340580360754334), (1005, 0.03957345099102897), (1006, 0.026085738367936068), (1007, 0.006375646511111641), (1008, 0.011990685000018715), (1009, 0.0081772237638261), (1010, 0.023038972612626628), (1011, 0.0372777060274152), (1012, 0.006587812065109098), (1013, 0.05214707457276087), (1014, 0.0077045667377564995), (1015, 0.009964028362485583), (1016, 0.05720711974009264), (1017, 0.008959378222919919), (1018, 0.028232022353484567), (1019, 0.04473655046836845), (1020, 0.014704991073467896), (1021, 0.01265650582186039), (1022, 0.015678834515372612), (1023, 0.01722911241623782), (1024, 0.0036335069266729626), (1025, 0.014036102388358356), (1026, 0.026583718543313963), (1027, 0.01834248778616536), (1028, 0.0383402851514012), (1029, 0.03504083963007382), (1030, 0.011397501320528887), (1031, 0.013037507188500537), (1032, 0.002425076048243319), (1033, 0.045091312759699936), (1034, 0.018369791638739343), (1035, 0.014406798336090336), (1036, 0.0024215885944733886), (1037, 0.00749822626613556), (1038, 0.008766212101051978), (1039, 0.03868887756386702), (1040, 0.009502149526047443), (1041, 0.02543064564555203), (1042, 0.014709854343873372), (1043, 0.02347310681536336), (1044, 0.015528976484376749), (1045, 0.01542733265582809), (1046, 0.023193889991362793), (1047, 0.06419501829084986), (1048, 0.11304603430735158), (1049, 0.014426053721878523), (1050, 0.0021873666811585194), (1051, 0.0), (1052, 0.048896000992698696), (1053, 0.010206260691190117), (1054, 0.03234642154219915), (1055, 0.0), (1056, 0.013341486425535882), (1057, 0.011271590830664039), (1058, 0.0), (1059, 0.05323964861174661), (1060, 0.04497066048658757), (1061, 0.01675796102489508), (1062, 0.0029169812295178612), (1063, 0.011100386901223783), (1064, 0.003110684355864439), (1065, 0.007931066451228288), (1066, 0.05403367420727738), (1067, 0.021569209094209132), (1068, 0.04696950134437894), (1069, 0.04700119204453894), (1070, 0.0029817178302954917), (1071, 0.05508284663711759), (1072, 0.002543046684565979), (1073, 0.009125376781846991), (1074, 0.040204398437639594), (1075, 0.02258264152115705), (1076, 0.0), (1077, 0.06430897571139493), (1078, 0.0050434789078881645), (1079, 0.005569220094488125), (1080, 0.06576371056610866), (1081, 0.0), (1082, 0.0), (1083, 0.0026714376837206877), (1084, 0.011921070299674551), (1085, 0.012942436871014264), (1086, 0.033984409675585255), (1087, 0.14468135603945587), (1088, 0.005177059246237447), (1089, 0.003835494620632082), (1090, 0.06436310736102947), (1091, 0.0), (1092, 0.02376149714418096), (1093, 0.028649580414670254), (1094, 0.015901378005107235), (1095, 0.03984227071631424), (1096, 0.029150484811419478), (1097, 0.0), (1098, 0.0020936930978605775), (1099, 0.01075083627639759), (1100, 0.005955945830070409), (1101, 0.02807448566721568), (1102, 0.0025482504567911585), (1103, 0.023601468058821098), (1104, 0.012906598655336667), (1105, 0.028429075847059764), (1106, 0.06436394573495477), (1107, 0.021644155153406897), (1108, 0.04917200421802753), (1109, 0.05948105183372347), (1110, 0.015756842695357858), (1111, 0.06674788595450949), (1112, 0.021016957366639756), (1113, 0.040425253199374844), (1114, 0.025909508597782648), (1115, 0.026709288917105507), (1116, 0.016596568000261006), (1117, 0.015909268729787044), (1118, 0.04173536818910429), (1119, 0.01754194628264909), (1120, 0.10763674508378011), (1121, 0.020584429658473572), (1122, 0.020530860237251432), (1123, 0.0024401831882674883), (1124, 0.025084069183779464), (1125, 0.01956146128444012), (1126, 0.009478034253474816), (1127, 0.0), (1128, 0.10817761505635787), (1129, 0.05125208413677662), (1130, 0.05696317501957455), (1131, 0.051505657383691505), (1132, 0.08460375585511554), (1133, 0.012668146736725583), (1134, 0.0), (1135, 0.019242136847259637), (1136, 0.029581245992944864), (1137, 0.0), (1138, 0.002597264718266207), (1139, 0.014087391237667566), (1140, 0.025736623867621003), (1141, 0.009850650942242856), (1142, 0.003654749442981261), (1143, 0.026115780974481764), (1144, 0.027858688739250417), (1145, 0.011999130467789285), (1146, 0.01828637997785777), (1147, 0.0), (1148, 0.002898943301383189), (1149, 0.01876607537786564), (1150, 0.01322592209951853), (1151, 0.0), (1152, 0.01887244032443266), (1153, 0.021811810943231404), (1154, 0.012356164310967907), (1155, 0.0163361577607237), (1156, 0.02553799209892659), (1157, 0.05153799294704221), (1158, 0.0), (1159, 0.0060465512691449085), (1160, 0.015163481235237725), (1161, 0.0023177137116782726), (1162, 0.014510343738200293), (1163, 0.002563033077334904), (1164, 0.0), (1165, 0.003613688923874182), (1166, 0.003556113587521882), (1167, 0.010086637850707847), (1168, 0.06096786048047812), (1169, 0.07717766397993212), (1170, 0.02445567922697408), (1171, 0.023302692882220907), (1172, 0.020137368761110382), (1173, 0.04078729710103389), (1174, 0.0026248160105236803), (1175, 0.03893464237390564), (1176, 0.0026208823440973705), (1177, 0.020986948678030633), (1178, 0.013380308033040855), (1179, 0.02631486366566898), (1180, 0.01218995608465117), (1181, 0.0), (1182, 0.009404506617978646), (1183, 0.0023832058412547224), (1184, 0.009899388564496283), (1185, 0.012918872146713684), (1186, 0.04462022927084841), (1187, 0.014293859344872647), (1188, 0.06853772885182785), (1189, 0.0), (1190, 0.05272956702932629), (1191, 0.027198919771658968), (1192, 0.08650419869764521), (1193, 0.0036556253782147326), (1194, 0.042754454268816786), (1195, 0.05625599370536791), (1196, 0.003465845293005378), (1197, 0.023491579736897077), (1198, 0.003453265708291347), (1199, 0.02296098994206646), (1200, 0.008724360921336615), (1201, 0.03052118599969155), (1202, 0.04396920196583203), (1203, 0.00568623802607705), (1204, 0.0404198367550869), (1205, 0.0037119485209434486), (1206, 0.020079724497362644), (1207, 0.016114567284384797), (1208, 0.031143795281209086), (1209, 0.0021396109651385313), (1210, 0.07669201854586909), (1211, 0.003305654419906419), (1212, 0.003009592403625022), (1213, 0.0030645355209141948), (1214, 0.023489533510661735), (1215, 0.029862804732749236), (1216, 0.056548697011363655), (1217, 0.03877565458684715), (1218, 0.011697947077720735), (1219, 0.007784495737092438), (1220, 0.024901532591477146), (1221, 0.026423578932205705), (1222, 0.020307390166769544), (1223, 0.03825459500713242), (1224, 0.043231745655884515), (1225, 0.0027086271883950126), (1226, 0.024811412516024117), (1227, 0.003485077325829125), (1228, 0.0), (1229, 0.02872978342849461), (1230, 0.0), (1231, 0.038959400792246184), (1232, 0.0295598422013159), (1233, 0.01203750065657819), (1234, 0.041868330358191826), (1235, 0.0033881470995082022), (1236, 0.0055564334021790856), (1237, 0.007876947295075275), (1238, 0.022248266270172394), (1239, 0.06270244658806082), (1240, 0.0), (1241, 0.04431667006246311), (1242, 0.0031914189862220837), (1243, 0.016647724616405297), (1244, 0.0035984439355493175), (1245, 0.034131478614706896), (1246, 0.01701569716696957), (1247, 0.01947765560857466), (1248, 0.04900377159080427), (1249, 0.022537243155233068), (1250, 0.019276006848969005), (1251, 0.005359081059916709), (1252, 0.04789658259724322), (1253, 0.04525180114273557), (1254, 0.04139741320795655), (1255, 0.04715104572234791), (1256, 0.022151529019380244), (1257, 0.03980289101242003), (1258, 0.0), (1259, 0.04186380909300837), (1260, 0.0038915272892273986), (1261, 0.02069313778596617), (1262, 0.052759462579866155), (1263, 0.03605270557668862), (1264, 0.0030928165723123104), (1265, 0.0), (1266, 0.0192947223527727), (1267, 0.021655008039189506), (1268, 0.0027928756719184126), (1269, 0.0), (1270, 0.04382299513534345), (1271, 0.011021524048955705), (1272, 0.01814295081454728), (1273, 0.019928611434739046), (1274, 0.011645268618814165), (1275, 0.02688858140837202), (1276, 0.008569188356527625), (1277, 0.02246269728647371), (1278, 0.0989849410104913), (1279, 0.015923026622569662), (1280, 0.016020770754606152), (1281, 0.07231089367502588), (1282, 0.06539020298286936), (1283, 0.0), (1284, 0.04031541558144974), (1285, 0.0), (1286, 0.025517121048636383), (1287, 0.0), (1288, 0.026530594503452493), (1289, 0.01392681715594069), (1290, 0.04857340019921513), (1291, 0.04671988412172661), (1292, 0.05739760511737374), (1293, 0.01613694926532649), (1294, 0.014429733897820887), (1295, 0.05686339925796155), (1296, 0.007410263051449298), (1297, 0.04462814858775075), (1298, 0.016469109205074463), (1299, 0.01779469526885289), (1300, 0.01721284539726359), (1301, 0.012956055709922152), (1302, 0.01647988797329633), (1303, 0.018796713667368976), (1304, 0.03960984719235942), (1305, 0.06476239765542624), (1306, 0.044186004939824934), (1307, 0.048860423041401785), (1308, 0.022907641765770894), (1309, 0.0059714818360643495), (1310, 0.02766446755113005), (1311, 0.003913718706304771), (1312, 0.021070884340471684), (1313, 0.011988434861995498), (1314, 0.021119512643627956), (1315, 0.0), (1316, 0.048183206759679256), (1317, 0.015245272263898654), (1318, 0.017407844338230654), (1319, 0.038610511617690545), (1320, 0.0027385703127335405), (1321, 0.031349884749880465), (1322, 0.016033937007360687), (1323, 0.002997387936183654), (1324, 0.0334380319694486), (1325, 0.002782928735188933), (1326, 0.0028478728440111734), (1327, 0.009641166779762492), (1328, 0.012115264880868445), (1329, 0.1195424893144591), (1330, 0.0034246046442550668), (1331, 0.0031975912030140544), (1332, 0.0), (1333, 0.0037202306042005665), (1334, 0.002635736369489646), (1335, 0.0025931239562290843), (1336, 0.016538404510639156), (1337, 0.006180363972313739), (1338, 0.014585802879137702), (1339, 0.02368083969323643), (1340, 0.10096934364968316), (1341, 0.057858641223707236), (1342, 0.007688169190271923), (1343, 0.014576934303157423), (1344, 0.019555807289780222), (1345, 0.02669388980281067), (1346, 0.018477015442393184), (1347, 0.02073697919715499), (1348, 0.0030387550524309795), (1349, 0.016709411834079608), (1350, 0.008452504733448872), (1351, 0.017585622787644212), (1352, 0.012597007846741637), (1353, 0.060779006815391265), (1354, 0.02262363146024397), (1355, 0.01803631692024639), (1356, 0.011897049164910592), (1357, 0.002366126179973334), (1358, 0.031769097396484786), (1359, 0.028690055963624048), (1360, 0.013496907199138567), (1361, 0.04721163635772177), (1362, 0.02765822228387163), (1363, 0.009109301703327698), (1364, 0.025365235056473527), (1365, 0.03839184751964697), (1366, 0.036597702608891954), (1367, 0.10484808320254088), (1368, 0.015197066476916092), (1369, 0.023023576129112138), (1370, 0.005221916480128511), (1371, 0.003875252330017308), (1372, 0.011412425319720858), (1373, 0.048337858849179384), (1374, 0.018926024420319872), (1375, 0.024079053937054576), (1376, 0.025916679006130594), (1377, 0.024600119173301696), (1378, 0.008669989021618248), (1379, 0.025707419477404948), (1380, 0.012932180864476563), (1381, 0.014071655152578709), (1382, 0.03026442585210137), (1383, 0.0028983331157595876), (1384, 0.024303899257332985), (1385, 0.009229247697441241), (1386, 0.0), (1387, 0.021046101147301096), (1388, 0.003503807655342903), (1389, 0.05741053836131912), (1390, 0.028247399036747202), (1391, 0.0), (1392, 0.039544213108793774), (1393, 0.021783461104043136), (1394, 0.037956996306936636), (1395, 0.009870429064499765), (1396, 0.03260174238731341), (1397, 0.005237167419271481), (1398, 0.02556642733159193), (1399, 0.0), (1400, 0.002706490949405888), (1401, 0.01772815826620447), (1402, 0.025205082211104277), (1403, 0.024675385697808857), (1404, 0.014018123541937207), (1405, 0.05028435978345967), (1406, 0.013157738174028042), (1407, 0.01685121863773201), (1408, 0.022079621391521684), (1409, 0.006479033822759689), (1410, 0.012295993293215842), (1411, 0.04334921403640347), (1412, 0.036002183793428025), (1413, 0.08183938267019181), (1414, 0.06301128067637593), (1415, 0.007109432923537226), (1416, 0.0024535926078609097), (1417, 0.007195254087244732), (1418, 0.03938069549443309), (1419, 0.009026743534564147), (1420, 0.04673447384234695), (1421, 0.02018650476083876), (1422, 0.03241854184493448), (1423, 0.007701079418002731), (1424, 0.010958279698880365), (1425, 0.05758859447405254), (1426, 0.012991434158377032), (1427, 0.021336646588237855), (1428, 0.008727505310911866), (1429, 0.0030866570911655864), (1430, 0.04619315857068039), (1431, 0.012556356166968327), (1432, 0.017657490995703), (1433, 0.04741586310987725), (1434, 0.012833328089839793), (1435, 0.0), (1436, 0.012974318056895858), (1437, 0.01585630834026896), (1438, 0.008593541722076728), (1439, 0.024410176396893937), (1440, 0.00260719554067078), (1441, 0.010347262915655391), (1442, 0.06565415067090148), (1443, 0.06973084551270498), (1444, 0.0034714173624978005), (1445, 0.010028743584971805), (1446, 0.023927312058142795), (1447, 0.01553575384635774), (1448, 0.04797405234366492), (1449, 0.01459397591919747), (1450, 0.04267921893601331), (1451, 0.02303620383471255), (1452, 0.0), (1453, 0.032805992849135816), (1454, 0.039257814312016984), (1455, 0.0), (1456, 0.07098043370902157), (1457, 0.04355252771218463), (1458, 0.0076309043420584996), (1459, 0.02414002712759975), (1460, 0.0), (1461, 0.036265085834680105), (1462, 0.011990130792594679), (1463, 0.04357186419129266), (1464, 0.031603145293515746), (1465, 0.07436292844791594), (1466, 0.0), (1467, 0.08593717575953885), (1468, 0.013961384267506144), (1469, 0.040136420859055354), (1470, 0.0), (1471, 0.03663923643867552), (1472, 0.04599270409158013), (1473, 0.027110859061488413), (1474, 0.016538383894237056), (1475, 0.015978595418776956), (1476, 0.01232576934752777), (1477, 0.05346595135658033), (1478, 0.0024586847395749512), (1479, 0.03353936055511138), (1480, 0.026879011345647415), (1481, 0.013604529656183605), (1482, 0.02915014795147314), (1483, 0.011493712794595032), (1484, 0.022193923025802764), (1485, 0.01696630222512433), (1486, 0.024669900543061354), (1487, 0.035107882146959694), (1488, 0.009568790920353017), (1489, 0.056732151502094715), (1490, 0.04436243012518031), (1491, 0.041081078456651016), (1492, 0.03133867771949414), (1493, 0.04364819371518819), (1494, 0.05573186261805721), (1495, 0.03767271706923875), (1496, 0.02632375115790717), (1497, 0.0029302755076130523), (1498, 0.0028544831636394606), (1499, 0.0028741901447297455), (1500, 0.04545473053578869), (1501, 0.02847467956152079), (1502, 0.022470133818208442), (1503, 0.04933860061971898), (1504, 0.018237302047955498), (1505, 0.05197978754807503), (1506, 0.07191585463890196), (1507, 0.01715129303134895), (1508, 0.0539952505810941), (1509, 0.014673979228010687), (1510, 0.06409421166395571), (1511, 0.03859190210450837), (1512, 0.034421331740676825), (1513, 0.006308734858283203), (1514, 0.008530642641126008), (1515, 0.01903558443754717), (1516, 0.03396673934758072), (1517, 0.02788997212783276), (1518, 0.035729887910269306), (1519, 0.008523843550272647), (1520, 0.01690826274808964), (1521, 0.025230875377223405), (1522, 0.03830465725310103), (1523, 0.029516943775718743), (1524, 0.059725981221420206), (1525, 0.037420234493863155), (1526, 0.02140653039053426), (1527, 0.031961340982599486), (1528, 0.02458314563631965), (1529, 0.0), (1530, 0.05648698987453796), (1531, 0.0), (1532, 0.020790218217632127), (1533, 0.031019442339978536), (1534, 0.023913136678849246), (1535, 0.049146463698050806), (1536, 0.006353450788424322), (1537, 0.01961228015704409), (1538, 0.008366774198342421), (1539, 0.030822933603197364), (1540, 0.0), (1541, 0.005961722117991835), (1542, 0.032818641118036465), (1543, 0.011208690679117827), (1544, 0.003348875728857715), (1545, 0.012174111805628867), (1546, 0.010548945500338061), (1547, 0.0029904130261238166), (1548, 0.0155216562758013), (1549, 0.03881157043806545), (1550, 0.02527978825078528), (1551, 0.02763664664074138), (1552, 0.02067797098234097), (1553, 0.0541561920745174), (1554, 0.0), (1555, 0.029508156913558774), (1556, 0.0), (1557, 0.041644086701654814), (1558, 0.008066289036160848), (1559, 0.026548771371649217), (1560, 0.003931246298805621), (1561, 0.03808336291096478), (1562, 0.027697169493035006), (1563, 0.0075802810239696625), (1564, 0.016131533488879343), (1565, 0.0375387813059047), (1566, 0.038053279945568126), (1567, 0.021379460078732558), (1568, 0.011190032656738742), (1569, 0.04610885946153334), (1570, 0.016801090403461106), (1571, 0.0516212059488944), (1572, 0.02469748706877426), (1573, 0.011318163756629413), (1574, 0.014965252026330613), (1575, 0.027918484249283424), (1576, 0.0), (1577, 0.01588837389320231), (1578, 0.05382990461206315), (1579, 0.07474246501481122), (1580, 0.021446174388658548), (1581, 0.042426896674386635), (1582, 0.014653120552908431), (1583, 0.024541807385740536), (1584, 0.03359531407988946), (1585, 0.02281340120603989), (1586, 0.04197316361036592), (1587, 0.016033044024651572), (1588, 0.012004143266573786), (1589, 0.01842092024038936), (1590, 0.021902532573706605), (1591, 0.0), (1592, 0.05161801340829848), (1593, 0.003111561362809301), (1594, 0.05138771609783731), (1595, 0.02175244617396322), (1596, 0.0037057561371593288), (1597, 0.017645957908482127), (1598, 0.0059783219290199235), (1599, 0.03517275739039606), (1600, 0.014527125222964173), (1601, 0.021745099381310553), (1602, 0.048866610757685586), (1603, 0.014547751824528377), (1604, 0.0), (1605, 0.021431526769625057), (1606, 0.03857673331866167), (1607, 0.011188075453445277), (1608, 0.023913716807166224), (1609, 0.0037228020271861994), (1610, 0.008886762402712965), (1611, 0.015135974707847707), (1612, 0.0634578233587887), (1613, 0.036886416774416335), (1614, 0.03572103560670935), (1615, 0.03388017336160917), (1616, 0.010691346107298225), (1617, 0.02801131115152761), (1618, 0.009294025614805345), (1619, 0.02940197858304578), (1620, 0.013866724850474696), (1621, 0.002531155713354134), (1622, 0.04204332172351978), (1623, 0.012466602570052755), (1624, 0.03583427670129449), (1625, 0.0023087804027117063), (1626, 0.01427191656822687), (1627, 0.047590395619228516), (1628, 0.00793974144932931), (1629, 0.01582172105007548), (1630, 0.04732466159739746), (1631, 0.0), (1632, 0.011756892261520345), (1633, 0.0), (1634, 0.015515595484662845), (1635, 0.03394109543094906), (1636, 0.028135622392167638), (1637, 0.046334871312618306), (1638, 0.08912835935665726), (1639, 0.017851594684148705), (1640, 0.017011976167112197), (1641, 0.002380949818887078), (1642, 0.016953964195168196), (1643, 0.0744710917403621), (1644, 0.07948334556244817), (1645, 0.023220825536140105), (1646, 0.002806969788023494), (1647, 0.03362211614117125), (1648, 0.024794769911743193), (1649, 0.06164917956600184), (1650, 0.06407599735166433), (1651, 0.018816457638640375), (1652, 0.023741533235408566), (1653, 0.014461579755897227), (1654, 0.024813765156273454), (1655, 0.018644611800844486), (1656, 0.022315533670295856), (1657, 0.012520104407220454), (1658, 0.028912059232507895), (1659, 0.0415522112208614), (1660, 0.019139676297488566), (1661, 0.0), (1662, 0.02833430153747369), (1663, 0.005705358282021504), (1664, 0.02478616799382863), (1665, 0.002404027410329793), (1666, 0.03274172474884013), (1667, 0.0023662808441448366), (1668, 0.03708587914401515), (1669, 0.01508772318236191), (1670, 0.01479435038585111), (1671, 0.0024858328625788004), (1672, 0.002350446273543772), (1673, 0.003247756786711349), (1674, 0.0), (1675, 0.0463178464286781), (1676, 0.014798347781296711), (1677, 0.0166646800796255), (1678, 0.021357190506125973), (1679, 0.030352417739895308), (1680, 0.002331847429700666), (1681, 0.01346240833546389), (1682, 0.04471347491823039), (1683, 0.006480658096304431), (1684, 0.018082699846267748), (1685, 0.016216684018462456), (1686, 0.0), (1687, 0.015723570799563043), (1688, 0.037964635317508946), (1689, 0.02939059602928929), (1690, 0.02009575108622676), (1691, 0.04609108272761941), (1692, 0.07256741961922403), (1693, 0.011422815442862961), (1694, 0.003097413887788432), (1695, 0.018131341625233274), (1696, 0.01536215413359378), (1697, 0.003590948554497153), (1698, 0.045380411746016855), (1699, 0.019613638819462008), (1700, 0.02669739720039426), (1701, 0.09759434765027132), (1702, 0.03793335911905871), (1703, 0.0026565452338557297), (1704, 0.012499686009235244), (1705, 0.012302497480834203), (1706, 0.00259094316079785), (1707, 0.09901403963519267), (1708, 0.00990021939539724), (1709, 0.03775668280727437), (1710, 0.06477096643131564), (1711, 0.09096038199535711), (1712, 0.009852741667464401), (1713, 0.007551370686395171), (1714, 0.04937331258323874), (1715, 0.05420694827219359), (1716, 0.01663151909714069), (1717, 0.0026443020088578154), (1718, 0.02988458695403691), (1719, 0.09419112771747055), (1720, 0.06238397311497607), (1721, 0.01571008582911931), (1722, 0.02388704200007856), (1723, 0.017754106979149555), (1724, 0.014926255232982978), (1725, 0.05180570076846265), (1726, 0.01616299326857869), (1727, 0.02029442509334136), (1728, 0.08729802748212767), (1729, 0.018540553256736203), (1730, 0.020627572630620303), (1731, 0.010290615216960317), (1732, 0.0037286023783787902), (1733, 0.020085416811963425), (1734, 0.01569342889929253), (1735, 0.003597693336603813), (1736, 0.0172000819674392), (1737, 0.025117431638701233), (1738, 0.0249250931795083), (1739, 0.0023086183376153833), (1740, 0.01796675346820983), (1741, 0.03840543299251085), (1742, 0.026751557391624603), (1743, 0.023484079393677578), (1744, 0.025958878432682315), (1745, 0.0), (1746, 0.03805292627582352), (1747, 0.035443264512831966), (1748, 0.019236355074349135), (1749, 0.0), (1750, 0.023377436265240605), (1751, 0.029501600584154943), (1752, 0.010496398260974014), (1753, 0.0), (1754, 0.0028283979775857292), (1755, 0.023337194516572648), (1756, 0.037331433332229075), (1757, 0.003436654067579663), (1758, 0.018213615832943834), (1759, 0.023234043303527758), (1760, 0.0023738735066298395), (1761, 0.006795850374953151), (1762, 0.04335535107040129), (1763, 0.007430820459286161), (1764, 0.05251814210450602), (1765, 0.006263682348263755), (1766, 0.003849709001641311), (1767, 0.013442302764220138), (1768, 0.03232915721697526), (1769, 0.020570924062997622), (1770, 0.007150625552347915), (1771, 0.022483255889001737), (1772, 0.019756327359794768), (1773, 0.00651550294980706), (1774, 0.007038072901115374), (1775, 0.04125537603248188), (1776, 0.04525746956724289), (1777, 0.0035840487370100895), (1778, 0.02036181921740652), (1779, 0.035633965414746636), (1780, 0.02223269204046038), (1781, 0.041711488387908266), (1782, 0.03581841040275252), (1783, 0.0032824909372117287), (1784, 0.022662766857552027), (1785, 0.003301087084262724), (1786, 0.010556642103326259), (1787, 0.04491604284189003), (1788, 0.0744169508965345), (1789, 0.0), (1790, 0.025781881254967866), (1791, 0.0037139654200339734), (1792, 0.03869499929384626), (1793, 0.03090033717725875), (1794, 0.01441255041520222), (1795, 0.008324885329068202), (1796, 0.0023426586428496117), (1797, 0.01762429391351425), (1798, 0.11569487202698034), (1799, 0.03414378759563846), (1800, 0.011997691334896015), (1801, 0.011804594890711536), (1802, 0.04275168622027359), (1803, 0.02943150861323729), (1804, 0.021927025524536663), (1805, 0.01790097749432245), (1806, 0.010478892211128557), (1807, 0.0569789900331988), (1808, 0.02532460441947458), (1809, 0.017092007391225062), (1810, 0.019834244568531775), (1811, 0.012967117207705686), (1812, 0.033301996651611786), (1813, 0.0024927058546281022), (1814, 0.0023640862802216268), (1815, 0.0), (1816, 0.022850622194516022), (1817, 0.022008867714913852), (1818, 0.04555348320098171), (1819, 0.02210083125766938), (1820, 0.0), (1821, 0.0237898482521882), (1822, 0.006393027775291261), (1823, 0.03509612147258759), (1824, 0.01480556374516609), (1825, 0.03633761820774122), (1826, 0.0023217458119708097), (1827, 0.02765260680963902), (1828, 0.012796089745317183), (1829, 0.010021668544078547), (1830, 0.0053661575827636775), (1831, 0.01164192729519468), (1832, 0.0), (1833, 0.01611197503619857), (1834, 0.00345850229082793), (1835, 0.0), (1836, 0.003873438115239866), (1837, 0.0034543768229619333), (1838, 0.015704158507784), (1839, 0.016188120573588448), (1840, 0.0), (1841, 0.0412370374353664), (1842, 0.003413345101952608), (1843, 0.07289155979422586), (1844, 0.0038301124861501888), (1845, 0.02333113187928811), (1846, 0.0), (1847, 0.0036018812667059155), (1848, 0.04458277316919619), (1849, 0.051399066336548234), (1850, 0.034210974043783114), (1851, 0.02543185800240163), (1852, 0.06718874419662114), (1853, 0.0027177258864078753), (1854, 0.01248093656464516), (1855, 0.022658036996830527), (1856, 0.003710035648720326), (1857, 0.012071715627199855), (1858, 0.08836143023841048), (1859, 0.012929997972548351), (1860, 0.015762977380777702), (1861, 0.007234867530344258), (1862, 0.0028755606255627523), (1863, 0.025321795092951092), (1864, 0.0199157678208631), (1865, 0.02821754367651733), (1866, 0.009475007315034811), (1867, 0.05389394327475805), (1868, 0.022331924771520545), (1869, 0.007856479205895738), (1870, 0.015005491249953385), (1871, 0.009683091533970163), (1872, 0.01781385676399824), (1873, 0.02737268929333988), (1874, 0.04108221645505031), (1875, 0.025335598965383933), (1876, 0.020825304494853376), (1877, 0.017480216463789677), (1878, 0.021525593053231463), (1879, 0.0035293604284145873), (1880, 0.024026963203693075), (1881, 0.022864922841977612), (1882, 0.002515658822457969), (1883, 0.015346552374416187), (1884, 0.0023998167684586616), (1885, 0.01016725408301761), (1886, 0.029610166771990055), (1887, 0.01680570516434208), (1888, 0.033945552975571856), (1889, 0.003541806299734814), (1890, 0.0028489895009385716), (1891, 0.0025452805076877916), (1892, 0.002331460538715762), (1893, 0.029444671280688308), (1894, 0.0), (1895, 0.023330865802440103), (1896, 0.029956265143583793), (1897, 0.03490750717697899), (1898, 0.0032620571303536997), (1899, 0.003252246386038096), (1900, 0.00335871902015474), (1901, 0.0), (1902, 0.006365668866064181), (1903, 0.07551327887622936), (1904, 0.0), (1905, 0.013263720667362155), (1906, 0.03806692269465641), (1907, 0.019717959992388148), (1908, 0.032492154745897756), (1909, 0.009849116544457125), (1910, 0.010359154976092478), (1911, 0.033815468698126065), (1912, 0.0033400379202517747), (1913, 0.019091020903369862), (1914, 0.025600384934642815), (1915, 0.08962141374880266), (1916, 0.0027056802137589357), (1917, 0.003581078785864438), (1918, 0.0027120591836363684), (1919, 0.07634549636425929), (1920, 0.008522767771017428), (1921, 0.01432636702468453), (1922, 0.002591886239570072), (1923, 0.02975495305342589), (1924, 0.04332862438113609), (1925, 0.08425199260860242), (1926, 0.0037069876026032235), (1927, 0.0), (1928, 0.02799989500070926), (1929, 0.01578783890450564), (1930, 0.0), (1931, 0.0163785240039226), (1932, 0.01392262458872845), (1933, 0.0), (1934, 0.016280831206972872), (1935, 0.029045931467074217), (1936, 0.11300327831362766), (1937, 0.011284865405147823), (1938, 0.05376431040869882), (1939, 0.004629794221025117), (1940, 0.0), (1941, 0.004175452766155056), (1942, 0.015594070990003237), (1943, 0.005271328016247581), (1944, 0.01819093485796591), (1945, 0.0067005776215842095), (1946, 0.06888930523685216), (1947, 0.00703041250901829), (1948, 0.06510199531259077), (1949, 0.01798837917276554), (1950, 0.02990015172680614), (1951, 0.03667471378366245), (1952, 0.028132015718305012), (1953, 0.0), (1954, 0.0053647234284525305), (1955, 0.010082178972616112), (1956, 0.009708660291608537), (1957, 0.034707927675902306), (1958, 0.013741794817484079), (1959, 0.05368773142427222), (1960, 0.002842778730502311), (1961, 0.03003902050346182), (1962, 0.0), (1963, 0.01626492856058675), (1964, 0.07478547609996922), (1965, 0.029096030677476025), (1966, 0.0), (1967, 0.002494309083778729), (1968, 0.033225968963076224), (1969, 0.014311529364781228), (1970, 0.018761062720311177), (1971, 0.020211669338145034), (1972, 0.0), (1973, 0.03410615082031222), (1974, 0.035199639702813715), (1975, 0.0), (1976, 0.0), (1977, 0.0170787622875497), (1978, 0.011315223437844692), (1979, 0.0), (1980, 0.00543195981640408), (1981, 0.030698865609356966), (1982, 0.036890095890195124), (1983, 0.07434636906931086), (1984, 0.02009233878497627), (1985, 0.021704836866628736), (1986, 0.022153980270312918), (1987, 0.02571414147631627), (1988, 0.02422391543472825), (1989, 0.015610219766346054), (1990, 0.020741979080683377), (1991, 0.022311114339935594), (1992, 0.017314880560246458), (1993, 0.019759591210757675), (1994, 0.025848449619977634), (1995, 0.0027608499082624302), (1996, 0.030663673911307684), (1997, 0.029434609085452958), (1998, 0.03578539167583847), (1999, 0.003940743665355635), (2000, 0.07400533048017167), (2001, 0.03731469492364785), (2002, 0.0036513121311020124), (2003, 0.0463100974099906), (2004, 0.02928281327461719), (2005, 0.04925409839205926), (2006, 0.008185715799213147), (2007, 0.022493911620350845), (2008, 0.008964117383574645), (2009, 0.03593949376699655), (2010, 0.00202763797156765), (2011, 0.044993586420078155), (2012, 0.04561398500929844), (2013, 0.042704498160639065), (2014, 0.03701885977498205), (2015, 0.05116809115539872), (2016, 0.01539520995432924), (2017, 0.03675328891792067), (2018, 0.0028455196531734198), (2019, 0.01389732050453986), (2020, 0.01613211630737969), (2021, 0.0037762012793071185), (2022, 0.024723637963552435), (2023, 0.01396516208923056), (2024, 0.0168658493466901), (2025, 0.002877809893062724), (2026, 0.009590787393204165), (2027, 0.14722613681312074), (2028, 0.0), (2029, 0.02346684512955336), (2030, 0.0), (2031, 0.03551262718168148), (2032, 0.029705168926944032), (2033, 0.0031732783918466175), (2034, 0.014510639790157152), (2035, 0.018709730644165125), (2036, 0.040624847782755207), (2037, 0.030655988038350596), (2038, 0.0), (2039, 0.03248760724972397), (2040, 0.010183335782195822), (2041, 0.017596908913254376), (2042, 0.003640339183461632), (2043, 0.10393333953857428), (2044, 0.006489862949956916), (2045, 0.035511572970626265), (2046, 0.03257800778134082), (2047, 0.04948508984244905), (2048, 0.008931215834139639), (2049, 0.020743687569078986), (2050, 0.0033264879540629627), (2051, 0.05758768030465207), (2052, 0.015657200318709083), (2053, 0.015310597691328233), (2054, 0.0), (2055, 0.02549495863261568), (2056, 0.02158642927346433), (2057, 0.01911603118690121), (2058, 0.031280709354104284), (2059, 0.003042548517965858), (2060, 0.005994680023729682), (2061, 0.02744020891205313), (2062, 0.03018598510555901), (2063, 0.0031627496651200604), (2064, 0.02762927153726491), (2065, 0.02434007365503697), (2066, 0.0), (2067, 0.002582995281645686), (2068, 0.028283214520296134), (2069, 0.028141427078692542), (2070, 0.018372758995134346), (2071, 0.026060832907137364), (2072, 0.027271497771702152), (2073, 0.002616769448681376), (2074, 0.0685591723038033), (2075, 0.011369943153092697), (2076, 0.015449750381103735), (2077, 0.004254577603792459), (2078, 0.009752257812375561), (2079, 0.01798056932115342), (2080, 0.002480722768721594), (2081, 0.0034923074158195494), (2082, 0.003784645988235491), (2083, 0.016718694810474017), (2084, 0.040593254238536956), (2085, 0.00959236974802901), (2086, 0.023282836455504895), (2087, 0.012427628560367093), (2088, 0.03973564016007414), (2089, 0.003016994818484159), (2090, 0.0036409654939805816), (2091, 0.002603295126862726), (2092, 0.01741369391071414), (2093, 0.003226460744579754), (2094, 0.01789672537634205), (2095, 0.019424512720040883), (2096, 0.009824822935377734), (2097, 0.0027940145067739475), (2098, 0.008672521652881873), (2099, 0.018617672254651215), (2100, 0.042853536451898856), (2101, 0.01778097779661149), (2102, 0.0552146937841472), (2103, 0.020915568096461334), (2104, 0.03362595188466211), (2105, 0.009240104513246417), (2106, 0.013528911896471485), (2107, 0.042823085767400425), (2108, 0.013503307182959175), (2109, 0.02165234791776907), (2110, 0.0061015492839453), (2111, 0.026587973637334283), (2112, 0.0237078281324039), (2113, 0.007933884727185928), (2114, 0.07028647548756133), (2115, 0.01884653360437376), (2116, 0.02030786191618944), (2117, 0.03637941906701791), (2118, 0.0536447465187341), (2119, 0.006169058522274349), (2120, 0.009788606699656671), (2121, 0.008775349804003355), (2122, 0.03198560515857563), (2123, 0.002657587560801299), (2124, 0.003738717124817685), (2125, 0.013698055190421398), (2126, 0.015293797989597804), (2127, 0.03638181511798044), (2128, 0.024354739178778832), (2129, 0.020643925230318882), (2130, 0.0), (2131, 0.06627819949686325), (2132, 0.01602529334882198), (2133, 0.02659497541386457), (2134, 0.017869356234725287), (2135, 0.012227067509748425), (2136, 0.0), (2137, 0.05882273060155129), (2138, 0.003953970800242707), (2139, 0.011508561846669109), (2140, 0.003317140710684512), (2141, 0.0024541123079433263), (2142, 0.002994506500627788), (2143, 0.05264140476114174), (2144, 0.0294437475960988), (2145, 0.04779691473513478), (2146, 0.005175572495882269), (2147, 0.04577258855311815), (2148, 0.009893120692671793), (2149, 0.008107663870938203), (2150, 0.017947780066455806), (2151, 0.010176537168865674), (2152, 0.05083015373700226), (2153, 0.003507685375836461), (2154, 0.01180685399079482), (2155, 0.046400468302910156), (2156, 0.025387386800860917), (2157, 0.0050924078860472375), (2158, 0.14253395697027288), (2159, 0.02223707435223861), (2160, 0.051411460163608765), (2161, 0.056321604506293234), (2162, 0.0126442627564856), (2163, 0.015715559520672363), (2164, 0.003904791716469545), (2165, 0.01860568267655584), (2166, 0.01875917280503319), (2167, 0.032789609017588206), (2168, 0.015928888091067107), (2169, 0.04194474736319833), (2170, 0.008976133911677103), (2171, 0.0), (2172, 0.0), (2173, 0.002528310211493384), (2174, 0.02970040512564374), (2175, 0.050719388524908274), (2176, 0.02572495344995765), (2177, 0.030960681238925893), (2178, 0.05770566661694218), (2179, 0.0032772815983193168), (2180, 0.0571285537319522), (2181, 0.0), (2182, 0.023294525488945755), (2183, 0.012976221145446047), (2184, 0.0), (2185, 0.009082780211305616), (2186, 0.01087953540699765), (2187, 0.013962775399340526), (2188, 0.021494894025534093), (2189, 0.0036041725538701838), (2190, 0.01409065999615107), (2191, 0.0023026423655587496), (2192, 0.006098895908644849), (2193, 0.042954244690498834), (2194, 0.003618222318503984), (2195, 0.020884403280410968), (2196, 0.012451373874465089), (2197, 0.005624532703843468), (2198, 0.06444900974392961), (2199, 0.06968343871718223), (2200, 0.0035650118592196233), (2201, 0.011317352114071793), (2202, 0.029825733874894757), (2203, 0.03464707509640516), (2204, 0.01335211701546636), (2205, 0.025634333643751107), (2206, 0.0), (2207, 0.03564544143910741), (2208, 0.014831195805713883), (2209, 0.014145809734304168), (2210, 0.02675879226359011), (2211, 0.037321682501044944), (2212, 0.040502314994754283), (2213, 0.04259172907920664), (2214, 0.033787733092088365), (2215, 0.05156718558137094), (2216, 0.017261403815596918), (2217, 0.0036521596802156935), (2218, 0.06525055694964838), (2219, 0.02866911813566058), (2220, 0.012110276332723142), (2221, 0.03357968778396099), (2222, 0.016269169087782517), (2223, 0.006885918555690158), (2224, 0.03660957722693542), (2225, 0.003195331504941224), (2226, 0.022786521347016545), (2227, 0.01927811263798102), (2228, 0.004515178760661971), (2229, 0.030510658127723293), (2230, 0.00891152004643166), (2231, 0.08726585781572527), (2232, 0.0), (2233, 0.013456655379208586), (2234, 0.02524086756364452), (2235, 0.0), (2236, 0.03378431171544785), (2237, 0.029134118137291717), (2238, 0.0), (2239, 0.057046312044938374), (2240, 0.023879124616294337), (2241, 0.016378917141311386), (2242, 0.01156372368635019), (2243, 0.0), (2244, 0.05527688426748126), (2245, 0.01184371585004111), (2246, 0.021238274665848062), (2247, 0.013549303163829535), (2248, 0.0023082895397874125), (2249, 0.010037843186410022), (2250, 0.04463561506857012), (2251, 0.0035724226946598028), (2252, 0.026423814345365358), (2253, 0.0072811387129442925), (2254, 0.0027552358896113247), (2255, 0.003312581966926684), (2256, 0.08162337556229272), (2257, 0.003305686432774029), (2258, 0.03178264333541726), (2259, 0.02668613986878723), (2260, 0.006478551495531034), (2261, 0.00404375871716943), (2262, 0.014190118294042391), (2263, 0.013160643029536763), (2264, 0.015587049473918663), (2265, 0.033243464096841445), (2266, 0.010684600214584975), (2267, 0.015350475032460242), (2268, 0.027271532298975103), (2269, 0.03144221780945032), (2270, 0.005232643913193653), (2271, 0.011834066381306976), (2272, 0.0032404002204701396), (2273, 0.04037650249001422), (2274, 0.03614208278473885), (2275, 0.0), (2276, 0.03530988390977925), (2277, 0.03536547687973711), (2278, 0.012440050653469968), (2279, 0.0025016914089013935), (2280, 0.022982057637638664), (2281, 0.040880658400846384), (2282, 0.0044821971242810605), (2283, 0.022675707993760178), (2284, 0.006088851547357135), (2285, 0.03036191867382944), (2286, 0.01796331243862624), (2287, 0.032797325141551925), (2288, 0.002715805648129744), (2289, 0.002549778610860011), (2290, 0.003559997638546557), (2291, 0.016202888244275338), (2292, 0.019824158641692378), (2293, 0.002798692882288357), (2294, 0.07878512856811688), (2295, 0.0026083799209309397), (2296, 0.013231250284189151), (2297, 0.04283912159849097), (2298, 0.0034425555476942375), (2299, 0.0041058031573623375), (2300, 0.021096825754052386), (2301, 0.04862073024792698), (2302, 0.013818409929783077), (2303, 0.023548676761953), (2304, 0.023284611310190963), (2305, 0.003989985819632776), (2306, 0.011662115681155999), (2307, 0.0035783845647175297), (2308, 0.0120121191329351), (2309, 0.03194563218326715), (2310, 0.0034328927715562645), (2311, 0.02469816067470026), (2312, 0.005022564055897633), (2313, 0.008809871147401916), (2314, 0.0), (2315, 0.012897930904226806), (2316, 0.03787347800679962), (2317, 0.013721572701580928), (2318, 0.025739987377636827), (2319, 0.0369859707475621), (2320, 0.04265352764540173), (2321, 0.038965690708530676), (2322, 0.028403716254971158), (2323, 0.05387054273043093), (2324, 0.006625489151875197), (2325, 0.0036216320020412713), (2326, 0.009628689019340365), (2327, 0.028712503129234748), (2328, 0.00749896860042228), (2329, 0.015449333440141055), (2330, 0.012964855944018094), (2331, 0.007875368906199238), (2332, 0.021378927373196407), (2333, 0.01142611811614998), (2334, 0.029532329622234336), (2335, 0.019911522307528594), (2336, 0.0034690360940050884), (2337, 0.012163388732011343), (2338, 0.029997300784493103), (2339, 0.025442439602555822), (2340, 0.047256270719311814), (2341, 0.0), (2342, 0.0), (2343, 0.0), (2344, 0.008695395254050796), (2345, 0.0), (2346, 0.022097822199452437), (2347, 0.01082382733420675), (2348, 0.025493526112874844), (2349, 0.012014578940975584), (2350, 0.03557990590697944), (2351, 0.061005414446559984), (2352, 0.019715774202979233), (2353, 0.01936158254345364), (2354, 0.02333676019479821), (2355, 0.010898268167817825), (2356, 0.002870244030504274), (2357, 0.003960468236340897), (2358, 0.0), (2359, 0.0021430259605320977), (2360, 0.012366931183345756), (2361, 0.00272340995846628), (2362, 0.007954233756378158), (2363, 0.01946483108759942), (2364, 0.0028049168615095154), (2365, 0.0), (2366, 0.0030938216272731597), (2367, 0.035121135501988476), (2368, 0.022413412984032426), (2369, 0.0), (2370, 0.020248304332110095), (2371, 0.04208210996982846), (2372, 0.0), (2373, 0.0029093826423240467), (2374, 0.0026021250940181095), (2375, 0.013365511741090972), (2376, 0.0442855654273053), (2377, 0.01966039350945588), (2378, 0.0030216285988902674), (2379, 0.008740200490419132), (2380, 0.01814922656473528), (2381, 0.022696031591698272), (2382, 0.02521761823470891), (2383, 0.0), (2384, 0.0038854024764240977), (2385, 0.023877900110184112), (2386, 0.045664033798975254), (2387, 0.006043005863827145), (2388, 0.013805503476349335), (2389, 0.021608080126509742), (2390, 0.009512569360709506), (2391, 0.012993914237536031), (2392, 0.003352410705697558), (2393, 0.002740038745745145), (2394, 0.006381411571667113), (2395, 0.004825666529654838), (2396, 0.00611121806766922), (2397, 0.02305675992057272), (2398, 0.028054950898392498), (2399, 0.011230145651720029), (2400, 0.002904044687163757), (2401, 0.002495323703760169), (2402, 0.011017777964880203), (2403, 0.1128520545209776), (2404, 0.008237254924303874), (2405, 0.00902499180869798), (2406, 0.003015909527861921), (2407, 0.011994790033902442), (2408, 0.0372917478561743), (2409, 0.04235948999488399), (2410, 0.023446607994749256), (2411, 0.0068576340067199), (2412, 0.039476682076484776), (2413, 0.0), (2414, 0.012360530327857411), (2415, 0.010529366534699082), (2416, 0.023501858721495017), (2417, 0.010792506939875764), (2418, 0.060248603859403144), (2419, 0.002697482596919026), (2420, 0.010751421243227564), (2421, 0.04298633352666037), (2422, 0.03561552419501687), (2423, 0.007632280249134312), (2424, 0.0031620923623887067), (2425, 0.003327648976842877), (2426, 0.009138434168723071), (2427, 0.0314693352009307), (2428, 0.002833520518760182), (2429, 0.0), (2430, 0.07254901770112775), (2431, 0.02249904816361023), (2432, 0.01181954982267956), (2433, 0.0030550123096653374), (2434, 0.014544199520316315), (2435, 0.00344490902553523), (2436, 0.03798337914702916), (2437, 0.002914303358806625), (2438, 0.0031803001440962523), (2439, 0.017756401139402016), (2440, 0.018108118466730026), (2441, 0.033114531543046034), (2442, 0.01928468914490109), (2443, 0.05708998808643861), (2444, 0.027785382298234775), (2445, 0.0032109061529900012), (2446, 0.01701407903390401), (2447, 0.03073833432381468), (2448, 0.030433445068210656), (2449, 0.018653801046172504), (2450, 0.003243068710493472), (2451, 0.0), (2452, 0.0038272635980086795), (2453, 0.007975253638948274), (2454, 0.0031004018679344197), (2455, 0.004427973402391203), (2456, 0.0036006539604129793), (2457, 0.007805643583022449), (2458, 0.01716485436172374), (2459, 0.04833058655108753), (2460, 0.030265897290876895), (2461, 0.03656868629912669), (2462, 0.0), (2463, 0.06889318740789199), (2464, 0.006642008232974637), (2465, 0.021109032784127763), (2466, 0.01443556929914309), (2467, 0.011737754382440867), (2468, 0.004076125427270541), (2469, 0.018996301573166587), (2470, 0.013849273177017066), (2471, 0.0), (2472, 0.00962887514186199), (2473, 0.008778606181937116), (2474, 0.06129553748957008), (2475, 0.009331731867616587), (2476, 0.0), (2477, 0.012721324524543337), (2478, 0.006952310695385119), (2479, 0.003895640823486499), (2480, 0.06331100006573598), (2481, 0.023425711540157317), (2482, 0.024259147548995517), (2483, 0.0046007694559153725), (2484, 0.0034330010445119525), (2485, 0.06438763747021362), (2486, 0.03329175924886217), (2487, 0.03629077322885252), (2488, 0.014868160532331875), (2489, 0.008843077154469768), (2490, 0.008728851337496308), (2491, 0.014522060185899176), (2492, 0.03692012430499055), (2493, 0.03313456976165002), (2494, 0.048021596018234664), (2495, 0.006055640257178536), (2496, 0.014991216213450075), (2497, 0.023050256092108187), (2498, 0.07621157265004228), (2499, 0.00741839718384745), (2500, 0.013391884775139725), (2501, 0.012321234157515213), (2502, 0.05054210608188547), (2503, 0.018753932563831045), (2504, 0.09597048924256428), (2505, 0.010236842407161807), (2506, 0.0), (2507, 0.0065788167436191605), (2508, 0.015341025427763893), (2509, 0.06089926408062671), (2510, 0.06922427089136), (2511, 0.033547591852002644), (2512, 0.027848281728661967), (2513, 0.05262112749677118), (2514, 0.014150872813454854), (2515, 0.004331171448120785), (2516, 0.013451620829387455), (2517, 0.006321726678899236), (2518, 0.01778120579930809), (2519, 0.02419994820421143), (2520, 0.013848952252347205), (2521, 0.0), (2522, 0.033119458141684446), (2523, 0.0138211835150981), (2524, 0.010717233858055189), (2525, 0.024782663626989797), (2526, 0.012133636166609322), (2527, 0.04064838692182392), (2528, 0.11396862578533659), (2529, 0.017660255978594254), (2530, 0.04820402539423757), (2531, 0.057068575082743156), (2532, 0.04012195723281954), (2533, 0.0025823827945743124), (2534, 0.0356356153552667), (2535, 0.03646654916150679), (2536, 0.004557179248326611), (2537, 0.008307891162406216), (2538, 0.0015362489224331527), (2539, 0.02103789988266165), (2540, 0.03528021565591149), (2541, 0.0), (2542, 0.011318152660250845), (2543, 0.012043779339256369), (2544, 0.022617395135647058), (2545, 0.009603367679968205), (2546, 0.03302776005678702), (2547, 0.07988081833156473), (2548, 0.043562281001111286), (2549, 0.0), (2550, 0.0481394192951659), (2551, 0.00354467492622263), (2552, 0.013864935118771994), (2553, 0.04474569943775754), (2554, 0.006109517410812332), (2555, 0.0058394658811455405), (2556, 0.0023807922270369214), (2557, 0.003184357889287052), (2558, 0.08121966728967409), (2559, 0.011406974264652734), (2560, 0.02403272145971513), (2561, 0.006318269595302323), (2562, 0.026374422813475573), (2563, 0.017764895301125162), (2564, 0.033252314701533836), (2565, 0.04861418122830374), (2566, 0.013835801414167955), (2567, 0.013633279559249688), (2568, 0.026270651401039253), (2569, 0.005984225218055285), (2570, 0.014318975470229405), (2571, 0.02322290739694033), (2572, 0.008731632600853433), (2573, 0.0), (2574, 0.022098181097546653), (2575, 0.003813003410688894), (2576, 0.01568278183293538), (2577, 0.0), (2578, 0.008605810602386778), (2579, 0.04251157483592705), (2580, 0.017356438949983212), (2581, 0.019682612722144777), (2582, 0.08803904358568812), (2583, 0.0), (2584, 0.09490347177428245), (2585, 0.01310744317023729), (2586, 0.0035346674699839814), (2587, 0.02525366104970663), (2588, 0.05940636772704237), (2589, 0.01642353886817198), (2590, 0.013942402678253838), (2591, 0.021953203729141113), (2592, 0.006704576308418159), (2593, 0.0023688799443255908), (2594, 0.008990375443685868), (2595, 0.11955161342027026), (2596, 0.009545440727737947), (2597, 0.024732149264079163), (2598, 0.04684933859065382), (2599, 0.0), (2600, 0.004401344631387965), (2601, 0.01325134151125249), (2602, 0.0021304303695665722), (2603, 0.02610201802131372), (2604, 0.003796556534012764), (2605, 0.017695486798908686), (2606, 0.0025852908824086735), (2607, 0.04040279545308949), (2608, 0.01685117595785996), (2609, 0.03458874353802425), (2610, 0.029503067389901834), (2611, 0.021734725014564676), (2612, 0.058616833691731055), (2613, 0.003024798485872238), (2614, 0.012209925806890771), (2615, 0.024389605900770044), (2616, 0.05896485935772854), (2617, 0.01849823189379232), (2618, 0.018773194944097984), (2619, 0.02235182593810684), (2620, 0.003328941300915575), (2621, 0.01715873443612599), (2622, 0.026025847012307403), (2623, 0.002906666447581011), (2624, 0.02295798485829911), (2625, 0.06114141951000532), (2626, 0.03121315554996746), (2627, 0.07320997389091119), (2628, 0.0033611503171847965), (2629, 0.02289179038322016), (2630, 0.012236175007759132), (2631, 0.014957835091764357), (2632, 0.03294904143955217), (2633, 0.0326271698716101), (2634, 0.04781733648387342), (2635, 0.0040876980619043235), (2636, 0.017902564236413857), (2637, 0.04052391753862136), (2638, 0.02440554135485302), (2639, 0.0034228380690556437), (2640, 0.033465821445175056), (2641, 0.01290083076510017), (2642, 0.05220991531509439), (2643, 0.011222461037545437), (2644, 0.0033194842532798734), (2645, 0.03068843087253256), (2646, 0.002803111920779513), (2647, 0.0771973056615056), (2648, 0.01442909519306787), (2649, 0.019855023388888383), (2650, 0.1477798342860161), (2651, 0.050305995781690795), (2652, 0.029745934649385606), (2653, 0.034338938879373684), (2654, 0.019392041030804705), (2655, 0.018627684031130708), (2656, 0.03536921087387326), (2657, 0.00511009796514866), (2658, 0.0), (2659, 0.005025162960785075), (2660, 0.053168226224557066), (2661, 0.013060204785603937), (2662, 0.01442389685783634), (2663, 0.012794431561990612), (2664, 0.009250946057923615), (2665, 0.028542353098467806), (2666, 0.045866683685984844), (2667, 0.004753732768599823), (2668, 0.03471819192845213), (2669, 0.005159200578081965), (2670, 0.0), (2671, 0.02472238261332258), (2672, 0.03268248670363651), (2673, 0.07891520479709796), (2674, 0.0023635020657851555), (2675, 0.016511530501091314), (2676, 0.00400035879451228), (2677, 0.009351965943167753), (2678, 0.019813606600505143), (2679, 0.002429598123266618), (2680, 0.042735025537613894), (2681, 0.043890577540095475), (2682, 0.011440555157593091), (2683, 0.0), (2684, 0.005052098023369989), (2685, 0.0035404742271445107), (2686, 0.0), (2687, 0.022304344006715326), (2688, 0.022138741407091156), (2689, 0.03251815109592286), (2690, 0.003312773849932058), (2691, 0.03362559032343266), (2692, 0.00800429043895183), (2693, 0.009278694050975114), (2694, 0.0034201300091713806), (2695, 0.0025707256823931475), (2696, 0.014142473195355883), (2697, 0.002101956350610223), (2698, 0.03399144358020746), (2699, 0.030671011645123467), (2700, 0.0), (2701, 0.12791112574372052), (2702, 0.07646200768938798), (2703, 0.0054004560943494385), (2704, 0.014350229079971246), (2705, 0.00939567610110276), (2706, 0.023737499551413042), (2707, 0.0030134354892906653), (2708, 0.006778440903629556), (2709, 0.0034901342185756665), (2710, 0.010137350450785053), (2711, 0.06535120942939657), (2712, 0.03378291876184717), (2713, 0.012012671381159407), (2714, 0.01696553029892158), (2715, 0.004592651183434131), (2716, 0.0024731244243392744), (2717, 0.0), (2718, 0.02031351283260637), (2719, 0.013013063967349697), (2720, 0.021469631761736274), (2721, 0.005262300383257606), (2722, 0.027962573643504067), (2723, 0.0027536490270803444), (2724, 0.02407395122771012), (2725, 0.042486182790765124), (2726, 0.014071320652773788), (2727, 0.004195994393531954), (2728, 0.005512493712823769), (2729, 0.045864780922085645), (2730, 0.02685951811135305), (2731, 0.03597674687095244), (2732, 0.07228341630356135), (2733, 0.0), (2734, 0.012518855325831003), (2735, 0.0023706248068438174), (2736, 0.008766575738840052), (2737, 0.016048339921587752), (2738, 0.021617680564055004), (2739, 0.04115236561714523), (2740, 0.031064235930700537), (2741, 0.0054529119050502894), (2742, 0.006174310729541742), (2743, 0.0022013299642492084), (2744, 0.01950085460382874), (2745, 0.0525665003020173), (2746, 0.02173117776396153), (2747, 0.013564559542369396), (2748, 0.01322947838568579), (2749, 0.011159866316029382), (2750, 0.0), (2751, 0.014856108525830216), (2752, 0.002455744071812805), (2753, 0.014474369329807554), (2754, 0.0036574650704667634), (2755, 0.04366694213256425), (2756, 0.018030109952748844), (2757, 0.0039298399819123276), (2758, 0.017921178942601517), (2759, 0.015451232179489375), (2760, 0.041191746639095195), (2761, 0.018019397051219483), (2762, 0.015582669121690382), (2763, 0.02735759300264606), (2764, 0.017332753028505565), (2765, 0.0774905744742671), (2766, 0.06088897629975219), (2767, 0.01246371999510398), (2768, 0.0036497635517120193), (2769, 0.0639440433785273), (2770, 0.0028848577898046954), (2771, 0.020840678168606512), (2772, 0.0030414671894535535), (2773, 0.0), (2774, 0.046368114501949144), (2775, 0.011780049809383748), (2776, 0.01686035770015883), (2777, 0.03050565300824877), (2778, 0.0031046260952520936), (2779, 0.040939823282774485), (2780, 0.03582385317526185), (2781, 0.00420424405306757), (2782, 0.006741519181846575), (2783, 0.017724928666206223), (2784, 0.03636252266385576), (2785, 0.014039610232874289), (2786, 0.006485487214972409), (2787, 0.0033172667007418423), (2788, 0.012483741098531266), (2789, 0.02691077468994075), (2790, 0.022572992938919734), (2791, 0.03212544214205714), (2792, 0.03767978640197503), (2793, 0.02459695951528975), (2794, 0.00993699829877201), (2795, 0.0032424920751367775), (2796, 0.006930725885145737), (2797, 0.01489102255486258), (2798, 0.04962390975163933), (2799, 0.029957658151018637), (2800, 0.0024257814369661205), (2801, 0.01841672209123066), (2802, 0.05622377013782705), (2803, 0.008388445014523883), (2804, 0.0034896842497929245), (2805, 0.027167138385768924), (2806, 0.006766467221489127), (2807, 0.03459987126415526), (2808, 0.05507561144984405), (2809, 0.03683610760410468), (2810, 0.003909844385582716), (2811, 0.0038203595437278754), (2812, 0.023530868614053662), (2813, 0.036564425738971035), (2814, 0.03758673569179041), (2815, 0.0), (2816, 0.04695315973443097), (2817, 0.023310187718954732), (2818, 0.022056912261561604), (2819, 0.039952838968437814), (2820, 0.028965551564131633), (2821, 0.030137846545315636), (2822, 0.05476405268601206), (2823, 0.006605908592541822), (2824, 0.0), (2825, 0.0034463359709202665), (2826, 0.016060897441122816), (2827, 0.008564520529511267), (2828, 0.0), (2829, 0.01509059549382537), (2830, 0.0341346600526377), (2831, 0.009228245248831023), (2832, 0.015966022668239186), (2833, 0.003109615584728625), (2834, 0.030306416860476703), (2835, 0.032312745250558356), (2836, 0.009523799168856033), (2837, 0.0), (2838, 0.028972584232745676), (2839, 0.024921759128729407), (2840, 0.03332005898648747), (2841, 0.029501381724137823), (2842, 0.0185618806994984), (2843, 0.011258688359862556), (2844, 0.07569227473922545), (2845, 0.027785429710890888), (2846, 0.034323304434829484), (2847, 0.00890163170038503), (2848, 0.06777506924602465), (2849, 0.0027144008626349605), (2850, 0.03202739092245924), (2851, 0.0), (2852, 0.007791700579806615), (2853, 0.011715394811516676), (2854, 0.0477993025222022), (2855, 0.01853833895515014), (2856, 0.014372896958941807), (2857, 0.04983896608178621), (2858, 0.008584046945624329), (2859, 0.026157018307452144), (2860, 0.0), (2861, 0.0034032442924553604), (2862, 0.02524838306509547), (2863, 0.030327164890972643), (2864, 0.0), (2865, 0.013221963231789924), (2866, 0.008931694406040872), (2867, 0.07577952613590372), (2868, 0.014680608235420577), (2869, 0.0), (2870, 0.030555669103972845), (2871, 0.01337765159323259), (2872, 0.014004192073720757), (2873, 0.0384911293917669), (2874, 0.020790592999493866), (2875, 0.004433942368724534), (2876, 0.03529177946622753), (2877, 0.015627615152518717), (2878, 0.07296190207209224), (2879, 0.0031268873377528743), (2880, 0.010345002353677914), (2881, 0.002907926034449604), (2882, 0.006581016364004707), (2883, 0.05971014997443315), (2884, 0.0438309031830124), (2885, 0.0), (2886, 0.008278684886560672), (2887, 0.0026016071633610835), (2888, 0.0027812694672124326), (2889, 0.0035345093900077383), (2890, 0.00957507053248391), (2891, 0.013596035993456334), (2892, 0.02984825142859994), (2893, 0.01775263738901378), (2894, 0.029132641326089538), (2895, 0.02790559393752513), (2896, 0.0035426729853500847), (2897, 0.02088063700019384), (2898, 0.038532170496658594), (2899, 0.03125020951020202), (2900, 0.053171293154576235), (2901, 0.0032965128980957242), (2902, 0.0018883697174450693), (2903, 0.002879342164522563), (2904, 0.009025399564872968), (2905, 0.0), (2906, 0.018733151579601152), (2907, 0.008047696127221659), (2908, 0.025580774969606535), (2909, 0.013708824695408987), (2910, 0.014509758981290463), (2911, 0.021792868589569296), (2912, 0.005864149238391228), (2913, 0.0028614482373820723), (2914, 0.006849131858377143), (2915, 0.01666817042478425), (2916, 0.0028759506931457517), (2917, 0.021547507980933175), (2918, 0.0), (2919, 0.002652422541704181), (2920, 0.025836572323485997), (2921, 0.0), (2922, 0.004746785096920403), (2923, 0.052961997134639685), (2924, 0.024786923035067472), (2925, 0.004862479586693029), (2926, 0.006333638719825025), (2927, 0.0), (2928, 0.027229766032139745), (2929, 0.01686749384455506), (2930, 0.0038356636963996476), (2931, 0.04437768626058186), (2932, 0.003394725446066156), (2933, 0.03777931664092547), (2934, 0.002586264929502135), (2935, 0.01781420716696035), (2936, 0.02612705001678714), (2937, 0.0036869075568376456), (2938, 0.011479369659768006), (2939, 0.004344981595306327), (2940, 0.03080730220747802), (2941, 0.0044832502774479885), (2942, 0.018587046693047025), (2943, 0.008646172074028808), (2944, 0.053499813036449156), (2945, 0.011908945767877377), (2946, 0.002526807729021891), (2947, 0.0), (2948, 0.004543075449583066), (2949, 0.09980785526501688), (2950, 0.0), (2951, 0.034704902556642235), (2952, 0.0), (2953, 0.002717702865086251), (2954, 0.0167262841590033), (2955, 0.04783950600061227), (2956, 0.0), (2957, 0.020100633426643342), (2958, 0.019572837917671265), (2959, 0.0), (2960, 0.0), (2961, 0.0025272959213918987), (2962, 0.03946866924658731), (2963, 0.013092717518539626), (2964, 0.06884100335996174), (2965, 0.012417675161984358), (2966, 0.0105486359951403), (2967, 0.006891895686981155), (2968, 0.026397522129219586), (2969, 0.023330707992324076), (2970, 0.006455228236788815), (2971, 0.0030354796914731125), (2972, 0.018775412521406097), (2973, 0.01283573161473812), (2974, 0.009742337825434214), (2975, 0.05745802731443616), (2976, 0.005425153837385227), (2977, 0.03577808228029536), (2978, 0.030458850958655956), (2979, 0.0037901730409747774), (2980, 0.009040171461673002), (2981, 0.052418765376117865), (2982, 0.010923352118639582), (2983, 0.012113928921178014), (2984, 0.02929905400897035), (2985, 0.028144735155269055), (2986, 0.014390455388751482), (2987, 0.002964146147726197), (2988, 0.06732052444120334), (2989, 0.0035776694907155493), (2990, 0.004696289322098666), (2991, 0.011641691043425212), (2992, 0.026583661621899415), (2993, 0.0030968820701490958), (2994, 0.012585687314884162), (2995, 0.008223970709488488), (2996, 0.041375062385232406), (2997, 0.002426817284095897), (2998, 0.0038545743042868934), (2999, 0.012096989208651595), (3000, 0.012055424284236192), (3001, 0.028313698074063337), (3002, 0.0), (3003, 0.006727638858193904), (3004, 0.023626392275099876), (3005, 0.033817472901972165), (3006, 0.01152394028997632), (3007, 0.0027429482651527394), (3008, 0.007434443160645767), (3009, 0.013440175286051757), (3010, 0.0350030380395694), (3011, 0.020731501032937676), (3012, 0.002878620696905427), (3013, 0.009788758877106717), (3014, 0.04071305497917313), (3015, 0.010995880278821623), (3016, 0.04609760747893178), (3017, 0.011404076603003752), (3018, 0.10093158118351218), (3019, 0.03223317171461924), (3020, 0.007352137849230719), (3021, 0.008509098217715763), (3022, 0.028530990221325866), (3023, 0.046001182015777395), (3024, 0.0021239625869341285), (3025, 0.0), (3026, 0.05905607343643278), (3027, 0.02437906879072361), (3028, 0.027287573706288776), (3029, 0.0), (3030, 0.011755210741824156), (3031, 0.003136409161155946), (3032, 0.002873933719226336), (3033, 0.022388275867411055), (3034, 0.045338002256816626), (3035, 0.002444295391009515), (3036, 0.0024410858323495052), (3037, 0.006392631561347199), (3038, 0.0036493522450065504), (3039, 0.04526312592062977), (3040, 0.008457561074264833), (3041, 0.003682338469209066), (3042, 0.02377220019202363), (3043, 0.0029065809471695847), (3044, 0.021216864959843103), (3045, 0.03352365942600852), (3046, 0.021067432782952672), (3047, 0.0), (3048, 0.012169911108481344), (3049, 0.0), (3050, 0.011146317204700421), (3051, 0.0036624591278616877), (3052, 0.0035070178258466748), (3053, 0.011767376861768241), (3054, 0.004191911053650201), (3055, 0.0034937929605188727), (3056, 0.016706061665291257), (3057, 0.01391188762258122), (3058, 0.0), (3059, 0.0), (3060, 0.003546158568732322), (3061, 0.010035535720993975), (3062, 0.0067142466640784226), (3063, 0.02969504709333306), (3064, 0.0027938120538082323), (3065, 0.007829430590387718), (3066, 0.08818344144016843), (3067, 0.015141864029273177), (3068, 0.0), (3069, 0.002507349355769137), (3070, 0.0405369759873898), (3071, 0.03150442261694396), (3072, 0.010085410884993451), (3073, 0.04131604616390014), (3074, 0.00743027195223709), (3075, 0.00842749131417983), (3076, 0.025435453854546198), (3077, 0.053150692002497245), (3078, 0.012333980372409323), (3079, 0.0), (3080, 0.003888523497674348), (3081, 0.003021665681702312), (3082, 0.0315578293247243), (3083, 0.07222127697220894), (3084, 0.006423242619234793), (3085, 0.06215308696129035), (3086, 0.01412151328083973), (3087, 0.004401255036176391), (3088, 0.00518764696723464), (3089, 0.020529305285511994), (3090, 0.0034305428714776045), (3091, 0.042967583225627944), (3092, 0.009946335999622335), (3093, 0.0025268373637394935), (3094, 0.07552743825212246), (3095, 0.009896042529052818), (3096, 0.05447217333636093), (3097, 0.02152313855077076), (3098, 0.01188883346906245), (3099, 0.013382292198449745), (3100, 0.0), (3101, 0.013008353818400856), (3102, 0.012939064926854451), (3103, 0.025866375657777895), (3104, 0.0034804470619334525), (3105, 0.010030871259595406), (3106, 0.003477570401991412), (3107, 0.014065194390836418), (3108, 0.022409824021839803), (3109, 0.010222507755225364), (3110, 0.0), (3111, 0.0269816339957243), (3112, 0.0027609233908254343), (3113, 0.006176988295800583), (3114, 0.006147717322189112), (3115, 0.0054309120989593776), (3116, 0.00953537353710276), (3117, 0.010554628810402032), (3118, 0.032812579212524645), (3119, 0.0035199782069782757), (3120, 0.002377108349856202), (3121, 0.031991298746398736), (3122, 0.025845018197512122), (3123, 0.003131790889758528), (3124, 0.026081373709003965), (3125, 0.014903065773723748), (3126, 0.0), (3127, 0.023990251746422386), (3128, 0.020711216066890255), (3129, 0.04659722575510162), (3130, 0.02291760189854488), (3131, 0.013118998300698822), (3132, 0.021984418825158246), (3133, 0.031016012513717373), (3134, 0.021642163467270825), (3135, 0.026775504465004447), (3136, 0.0), (3137, 0.016912630632955443), (3138, 0.0), (3139, 0.008574404400898265), (3140, 0.01092042499724378), (3141, 0.06303681274153941), (3142, 0.06756796544331845), (3143, 0.028540712624553145), (3144, 0.0331952506783265), (3145, 0.015930880806407), (3146, 0.0067741300068564995), (3147, 0.04245804066082198), (3148, 0.009824635012143828), (3149, 0.044035545681172274), (3150, 0.02859919530519413), (3151, 0.020461139459930923), (3152, 0.026330720953691482), (3153, 0.032411360481797956), (3154, 0.03296677602693708), (3155, 0.0060976036042120684), (3156, 0.0), (3157, 0.02518359215838148), (3158, 0.011773707666512364), (3159, 0.0031777393007090472), (3160, 0.0), (3161, 0.0224178875579418), (3162, 0.0036377868930058967), (3163, 0.009813329860850265), (3164, 0.030370920629432408), (3165, 0.009966610264196157), (3166, 0.029381911296852223), (3167, 0.010544582703354448), (3168, 0.03935456729917632), (3169, 0.01778779790446679), (3170, 0.008255114194558474), (3171, 0.0024423704857998467), (3172, 0.034016513458743694), (3173, 0.03735038289724242), (3174, 0.014790223771460883), (3175, 0.020151117289747597), (3176, 0.0), (3177, 0.020031258046611766), (3178, 0.01923505689171848), (3179, 0.029694336858043582), (3180, 0.006797386789541941), (3181, 0.07491299375875017), (3182, 0.015947026254739), (3183, 0.013322316266072465), (3184, 0.06541509680485898), (3185, 0.0), (3186, 0.002911264008692851), (3187, 0.015860890514947483), (3188, 0.018783813417972403), (3189, 0.010084424823611658), (3190, 0.014489839371846898), (3191, 0.0), (3192, 0.007707970288605689), (3193, 0.027364046219413695), (3194, 0.01148310268427917), (3195, 0.0025267213405505942), (3196, 0.0028791342377305885), (3197, 0.029078683702551646), (3198, 0.01256792931120445), (3199, 0.02454640322249107), (3200, 0.042362725578733856), (3201, 0.02185982136199211), (3202, 0.0066429312653991535), (3203, 0.004201469061177679), (3204, 0.02322692947955695), (3205, 0.0642182497499246), (3206, 0.0031064844674343842), (3207, 0.003833699680578421), (3208, 0.0), (3209, 0.003567884161923895), (3210, 0.002589867366224867), (3211, 0.02345683484729802), (3212, 0.002892048071101457), (3213, 0.0), (3214, 0.027718270244074188), (3215, 0.0055615725327747235), (3216, 0.0025550342289197584), (3217, 0.012369035688211474), (3218, 0.03313266473033297), (3219, 0.017083435911920932), (3220, 0.03216598982849635), (3221, 0.017616697745001984), (3222, 0.02599234603955276), (3223, 0.0), (3224, 0.006305225543573333), (3225, 0.022830420969638637), (3226, 0.02823351157525318), (3227, 0.027918208890955074), (3228, 0.02606745502955338), (3229, 0.02190050297966404), (3230, 0.017120850119793293), (3231, 0.01410476845119359), (3232, 0.022279408325582995), (3233, 0.029049947584001812), (3234, 0.04348998914804561), (3235, 0.01886178953024082), (3236, 0.0037104054357828303), (3237, 0.04094278021276138), (3238, 0.035357361278060766), (3239, 0.01203377139724684), (3240, 0.05628543971191437), (3241, 0.03302409228860999), (3242, 0.013724480119691887), (3243, 0.01965091972024232), (3244, 0.009287629487116991), (3245, 0.003524789790299146), (3246, 0.02979368078612597), (3247, 0.008154262140073159), (3248, 0.009677489448527195), (3249, 0.007574535438527678), (3250, 0.003271873999832877), (3251, 0.0), (3252, 0.002139431592753199), (3253, 0.034856235636014796), (3254, 0.00709499619759092), (3255, 0.0), (3256, 0.011818691214514742), (3257, 0.014659396247538602), (3258, 0.013229202144398126), (3259, 0.027689588393513626), (3260, 0.028279372093512327), (3261, 0.023011550365981917), (3262, 0.0033036977825020362), (3263, 0.0), (3264, 0.02268075549531829), (3265, 0.039317175722384926), (3266, 0.004825889390712457), (3267, 0.005495220130848591), (3268, 0.00828195625900957), (3269, 0.019051850813274308), (3270, 0.029023749505003332), (3271, 0.03016413160260156), (3272, 0.0228783827102369), (3273, 0.009660512517474048), (3274, 0.009776984832697622), (3275, 0.019203536600449427), (3276, 0.01309882090191861), (3277, 0.01658483622064672), (3278, 0.0023346397734127114), (3279, 0.02477975903193016), (3280, 0.011416344546486124), (3281, 0.0), (3282, 0.02370104636527759), (3283, 0.02935847538111324), (3284, 0.03804327505059579), (3285, 0.08569419641939685), (3286, 0.02351894119201145), (3287, 0.017937468189458895), (3288, 0.015897958336113772), (3289, 0.07766878402039415), (3290, 0.01805555989964327), (3291, 0.01166086811582503), (3292, 0.003351737365527884), (3293, 0.026726993325440616), (3294, 0.07504962195378848), (3295, 0.06584324348494477), (3296, 0.00986934085282763), (3297, 0.07967891464260418), (3298, 0.042537802871515804), (3299, 0.02795224443935126), (3300, 0.018026270923120404), (3301, 0.002010612909025888), (3302, 0.010572561186979551), (3303, 0.02485909254295858), (3304, 0.020527989774728285), (3305, 0.0), (3306, 0.013595700588943889), (3307, 0.044055156621669096), (3308, 0.03773925736759555), (3309, 0.013012774777091113), (3310, 0.013244040055003988), (3311, 0.016570550486683672), (3312, 0.014242355697764598), (3313, 0.025026191515262954), (3314, 0.02034398824468389), (3315, 0.020234758764765957), (3316, 0.026836871334503097), (3317, 0.03317176319886669), (3318, 0.02441622980411713), (3319, 0.006523543397558621), (3320, 0.014793543039068715), (3321, 0.014573573156286603), (3322, 0.0033044799336646286), (3323, 0.020301335150890658), (3324, 0.004099934346631184), (3325, 0.06613683565566296), (3326, 0.009190472175305817), (3327, 0.02978092864350049), (3328, 0.05165144787422606), (3329, 0.02003309124764012), (3330, 0.014779311603282363), (3331, 0.0021402928427931914), (3332, 0.0035303940711673525), (3333, 0.016016317609826275), (3334, 0.011052385557198492), (3335, 0.07083826024407583), (3336, 0.09211206857561974), (3337, 0.006987889802728121), (3338, 0.0), (3339, 0.0), (3340, 0.0), (3341, 0.01409561884698745), (3342, 0.026272068930132064), (3343, 0.0157349430010688), (3344, 0.05707127402126515), (3345, 0.04428488578974547), (3346, 0.009193151857383008), (3347, 0.0021549874122373594), (3348, 0.04981084964106971), (3349, 0.006283167161644718), (3350, 0.003441684094601336), (3351, 0.017284269701698114), (3352, 0.06801302876780924), (3353, 0.002669323523384969), (3354, 0.003232588376215085), (3355, 0.018902369281228678), (3356, 0.009248590048418272), (3357, 0.02180845046837555), (3358, 0.0031171131477998716), (3359, 0.010098451539370702), (3360, 0.0411739769166318), (3361, 0.011607717032172699), (3362, 0.05043990282957147), (3363, 0.010822049416268017), (3364, 0.0932511802182561), (3365, 0.010458041625200398), (3366, 0.003369241122525992), (3367, 0.028552823644681584), (3368, 0.05871823751341104), (3369, 0.002368322207075356), (3370, 0.00249224823291987), (3371, 0.010632689648391997), (3372, 0.00269654424476201), (3373, 0.006816351787966543), (3374, 0.01471742452207089), (3375, 0.0373287802032207), (3376, 0.012663594342416398), (3377, 0.04728316576327578), (3378, 0.01643595312011406), (3379, 0.01610827985898512), (3380, 0.05841510027921159), (3381, 0.0025368998106017468), (3382, 0.006319405873934265), (3383, 0.003950198726621955), (3384, 0.022172256656337958), (3385, 0.0), (3386, 0.034627985598595985), (3387, 0.01751055990669642), (3388, 0.02700276854157293), (3389, 0.043813212811247164), (3390, 0.016781190712286082), (3391, 0.0647564410183547), (3392, 0.007823494302254992), (3393, 0.046240732167944415), (3394, 0.03438079662402887), (3395, 0.03389959698988781), (3396, 0.0029615460841336256), (3397, 0.037172994299134524), (3398, 0.017396501139380856), (3399, 0.020067904019539947), (3400, 0.009386762168846128), (3401, 0.024672823280656186), (3402, 0.005901617078929448), (3403, 0.038291843786697304), (3404, 0.0), (3405, 0.0), (3406, 0.01887415649538554), (3407, 0.0343652663514166), (3408, 0.024716035718449637), (3409, 0.04027346618139417), (3410, 0.020092386099834235), (3411, 0.013819022565538757), (3412, 0.014463299555738303), (3413, 0.014612791624062451), (3414, 0.0719324626681482), (3415, 0.003651074313183634), (3416, 0.0066438731281111855), (3417, 0.009557101211164879), (3418, 0.008662024664669716), (3419, 0.002963043929490368), (3420, 0.04637405391424798), (3421, 0.014786428170274462), (3422, 0.0036797022853710484), (3423, 0.010547065018967731), (3424, 0.07834419999476029), (3425, 0.04943626235673551), (3426, 0.039078325133873354), (3427, 0.0), (3428, 0.01547344134949541), (3429, 0.0), (3430, 0.015247679271576931), (3431, 0.002061825457721045), (3432, 0.0), (3433, 0.02964689466448321), (3434, 0.009231552235335366), (3435, 0.05881809508936349), (3436, 0.01653581147502333), (3437, 0.052781308264675884), (3438, 0.013090706839748611), (3439, 0.004524905752087829), (3440, 0.0), (3441, 0.002546469998561926), (3442, 0.0037004420376753507), (3443, 0.0034409801803242214), (3444, 0.021207667070548317), (3445, 0.02387603143892831), (3446, 0.02338147945315061), (3447, 0.06841427417263968), (3448, 0.05397892313783478), (3449, 0.06270632173062604), (3450, 0.05741764927365049), (3451, 0.018079504575511447), (3452, 0.0023941957831137804), (3453, 0.0), (3454, 0.023989716892901372), (3455, 0.002357519312717271), (3456, 0.03804078584846134), (3457, 0.0422796760360797), (3458, 0.05017931080455801), (3459, 0.023325553125381683), (3460, 0.06674369418395858), (3461, 0.031081494748929163), (3462, 0.0035319355781344435), (3463, 0.07125579031729586), (3464, 0.02886912324632642), (3465, 0.011647181343917647), (3466, 0.008667381854764325), (3467, 0.049390156089385004), (3468, 0.0), (3469, 0.04382419887524797), (3470, 0.023286265250222222), (3471, 0.009361859320931913), (3472, 0.0), (3473, 0.0), (3474, 0.0229322337825896), (3475, 0.04350889071246017), (3476, 0.0), (3477, 0.06107872868339404), (3478, 0.03792639466085115), (3479, 0.01624735932392507), (3480, 0.0), (3481, 0.013256166639437237), (3482, 0.0), (3483, 0.009759539903689746), (3484, 0.04768517123940881), (3485, 0.0031000338276548824), (3486, 0.039803568516794965), (3487, 0.02240535463668303), (3488, 0.0), (3489, 0.023771252099943803), (3490, 0.00921741721320133), (3491, 0.014888035577074943), (3492, 0.0519369565218417), (3493, 0.012733616296398447), (3494, 0.05070936363789963), (3495, 0.009340913553166628), (3496, 0.013059011893899627), (3497, 0.002805327527568606), (3498, 0.03616316774045941), (3499, 0.0320826823002942), (3500, 0.011287101907693182), (3501, 0.002609902859139853), (3502, 0.014842075764688465), (3503, 0.005807276177700741), (3504, 0.020573941525033352), (3505, 0.015492161859855786), (3506, 0.023258410952806785), (3507, 0.012711614902259073), (3508, 0.016522227005645828), (3509, 0.008796353537258769), (3510, 0.013686464394919549), (3511, 0.046354019728574884), (3512, 0.030543732800938393), (3513, 0.010056512503864858), (3514, 0.01728897415735719), (3515, 0.03389369468163119), (3516, 0.032491114024492035), (3517, 0.006270610769949671), (3518, 0.041121624532123154), (3519, 0.0038408399771833364), (3520, 0.0), (3521, 0.003163110392995015), (3522, 0.0), (3523, 0.020149972226637974), (3524, 0.04517607079017562), (3525, 0.030740043106667107), (3526, 0.03918648578499119), (3527, 0.0026540675631114567), (3528, 0.008481108355675759), (3529, 0.03815155345968336), (3530, 0.0), (3531, 0.04360520585751626), (3532, 0.01550046850609755), (3533, 0.02476981836821818), (3534, 0.04715831984749594), (3535, 0.0), (3536, 0.03978927354377262), (3537, 0.0075117629622104155), (3538, 0.021795569636153776), (3539, 0.014908224420952482), (3540, 0.019163204950673907), (3541, 0.025616791614499125), (3542, 0.0026269952975348284), (3543, 0.0032429898537821807), (3544, 0.007371917562256631), (3545, 0.003462684793088032), (3546, 0.06871056248760296), (3547, 0.029176377864192155), (3548, 0.002111426940620883), (3549, 0.02260826909329754), (3550, 0.0), (3551, 0.0418290565808824), (3552, 0.019786712709240872), (3553, 0.00913553780485207), (3554, 0.018130395386617607), (3555, 0.013435595419396793), (3556, 0.002295733515144553), (3557, 0.03487652810715292), (3558, 0.020289962129426), (3559, 0.008498085190978841), (3560, 0.009749815775117467), (3561, 0.0034805872557089096), (3562, 0.015171503208125896), (3563, 0.02626965987151547), (3564, 0.028402413242559876), (3565, 0.009446218226744962), (3566, 0.017765006542506914), (3567, 0.011748364849384458), (3568, 0.027936755032505978), (3569, 0.0255825060327564), (3570, 0.013905750820908369), (3571, 0.013327425292655702), (3572, 0.003862382473984863), (3573, 0.0), (3574, 0.0026793458327554155), (3575, 0.01831512934000398), (3576, 0.0), (3577, 0.030189254032633627), (3578, 0.01547729165663406), (3579, 0.02652783430879946), (3580, 0.02273014131875625), (3581, 0.0038350026666651867), (3582, 0.0033607593266317417), (3583, 0.016378453458497467), (3584, 0.048282318507156266), (3585, 0.006800372750960735), (3586, 0.025560706068655112), (3587, 0.016705344383534215), (3588, 0.011077451068470143), (3589, 0.040589739457447954), (3590, 0.0027273887645554184), (3591, 0.003641031837925203), (3592, 0.055894571700360204), (3593, 0.018341017974969193), (3594, 0.024923300523611792), (3595, 0.003337794683024227), (3596, 0.00912241462634834), (3597, 0.009422566866019264), (3598, 0.025238424683794176), (3599, 0.12351841944961642), (3600, 0.0), (3601, 0.03096405491080833), (3602, 0.0), (3603, 0.034613953499636356), (3604, 0.011537868183961379), (3605, 0.0), (3606, 0.006174889614857916), (3607, 0.0), (3608, 0.001672378225401687), (3609, 0.0), (3610, 0.07393336942681814), (3611, 0.10854547292694551), (3612, 0.07474565901776965), (3613, 0.0031669130389094533), (3614, 0.04118805299482624), (3615, 0.002417844288619788), (3616, 0.022779707024329108), (3617, 0.013313234738425701), (3618, 0.01571940888080148), (3619, 0.05586802314662632), (3620, 0.0031264969894710098), (3621, 0.007126351097360739), (3622, 0.006539947736743013), (3623, 0.01694910888711495), (3624, 0.0025437662615897466), (3625, 0.0), (3626, 0.030284286849491637), (3627, 0.0023756450874387923), (3628, 0.0038149219537830913), (3629, 0.020021966212297782), (3630, 0.006022062086009504), (3631, 0.017796212085260957), (3632, 0.010363168252151021), (3633, 0.025088741696828155), (3634, 0.02555678744587169), (3635, 0.0034713598956133663), (3636, 0.0026459735289108984), (3637, 0.02102047766790589), (3638, 0.018489412964115888), (3639, 0.0029384945300156935), (3640, 0.002863422354053355), (3641, 0.01769155828845215), (3642, 0.002784233377657123), (3643, 0.02182137589276121), (3644, 0.03276571989356546), (3645, 0.008731032374098328), (3646, 0.03162371799163093), (3647, 0.002526147304687428), (3648, 0.06608451618194111), (3649, 0.00395764500771297), (3650, 0.025288681098233068), (3651, 0.016964719980791746), (3652, 0.0038547268884257836), (3653, 0.0026172828653272524), (3654, 0.022022158858097753), (3655, 0.06392428647785907), (3656, 0.09095349930602784), (3657, 0.019665304101599574), (3658, 0.03065996865204662), (3659, 0.05839777506400892), (3660, 0.002475985742282096), (3661, 0.03978954783661238), (3662, 0.014969816066876642), (3663, 0.0), (3664, 0.0), (3665, 0.02973619576944343), (3666, 0.0026659276006368885), (3667, 0.023056478568630957), (3668, 0.012552265547556929), (3669, 0.007353658252471293), (3670, 0.05342431944679406), (3671, 0.0333176857279635), (3672, 0.0036484453232115237), (3673, 0.006031648464541056), (3674, 0.0132957181362434), (3675, 0.0030606403254711924), (3676, 0.0035254350155720852), (3677, 0.04234943078839706), (3678, 0.04396311357910654), (3679, 0.0), (3680, 0.0029034070340634827), (3681, 0.024267845650506457), (3682, 0.0), (3683, 0.01776103992569307), (3684, 0.013669537797412057), (3685, 0.003422468325622955), (3686, 0.011410746743631649), (3687, 0.0032069063854457455), (3688, 0.00386554316672567), (3689, 0.022217676684012522), (3690, 0.04601762848621699), (3691, 0.002443150935904576), (3692, 0.002764504801338569), (3693, 0.0), (3694, 0.019061004136695786), (3695, 0.011489992417885337), (3696, 0.02612696345543506), (3697, 0.012656728797758032), (3698, 0.04799154724877416), (3699, 0.0026224924911344735), (3700, 0.0), (3701, 0.062221878467252925), (3702, 0.0), (3703, 0.017148077778349653), (3704, 0.002774640159783718), (3705, 0.04165466739149688), (3706, 0.016034686758071334), (3707, 0.00261319097969183), (3708, 0.019475625063986094), (3709, 0.046836451980854364), (3710, 0.0), (3711, 0.022595700179741194), (3712, 0.028771563090518926), (3713, 0.023285190231292108), (3714, 0.002806426327732497), (3715, 0.00450166234420082), (3716, 0.02750933902457184), (3717, 0.0), (3718, 0.011370519495820448), (3719, 0.002506080817955044), (3720, 0.01183338347306629), (3721, 0.008105165089602802), (3722, 0.01619450132455014), (3723, 0.0), (3724, 0.013002014202955133), (3725, 0.01809660326217609), (3726, 0.0), (3727, 0.0025457111871679977), (3728, 0.013587297109487143), (3729, 0.0029755712154636254), (3730, 0.028701445163733953), (3731, 0.016128531103891848), (3732, 0.003250208600537925), (3733, 0.018746686389029526), (3734, 0.002421654495921017), (3735, 0.015484615284260109), (3736, 0.0410994430535235), (3737, 0.0028669958883273104), (3738, 0.008421202067685797), (3739, 0.018519823610089556), (3740, 0.004415078954140407), (3741, 0.041832761942385915), (3742, 0.014592462057867576), (3743, 0.025375580919727476), (3744, 0.0), (3745, 0.03459986310028242), (3746, 0.0224118956228774), (3747, 0.09065606874077733), (3748, 0.024668126291625563), (3749, 0.002799492244756144), (3750, 0.0), (3751, 0.095868919192082), (3752, 0.026484358319647287), (3753, 0.008842238369718558), (3754, 0.007023413489290644), (3755, 0.00535240996669362), (3756, 0.002100213228006703), (3757, 0.0027696589766224794), (3758, 0.011479848795747547), (3759, 0.04447647796298716), (3760, 0.0), (3761, 0.006832484438435143), (3762, 0.003344995445965624), (3763, 0.007137375796081695), (3764, 0.006894512498415019), (3765, 0.0775183864738399), (3766, 0.0030618944180653414), (3767, 0.017284486655170444), (3768, 0.0), (3769, 0.0), (3770, 0.0026849426704264137), (3771, 0.012546441707773985), (3772, 0.030489117754875464), (3773, 0.013558355918682744), (3774, 0.022161148160045004), (3775, 0.0), (3776, 0.01050188265272554), (3777, 0.06767437299354447), (3778, 0.03694265450028433), (3779, 0.045797281735979134), (3780, 0.027050225300720744), (3781, 0.0027510211712248453), (3782, 0.0), (3783, 0.0253436239461127), (3784, 0.020445299512736055), (3785, 0.0), (3786, 0.044962374191401845), (3787, 0.015176624806414848), (3788, 0.0), (3789, 0.02001940436009204), (3790, 0.014544211000618711), (3791, 0.003980700690767978), (3792, 0.05901305061051225), (3793, 0.0), (3794, 0.008539578331295173), (3795, 0.007762140356623995), (3796, 0.004825020543954763), (3797, 0.020388443197050757), (3798, 0.006337526620449949), (3799, 0.0024338406429663543), (3800, 0.01266341894011327), (3801, 0.014216403291896038), (3802, 0.010081300244381603), (3803, 0.022971702693577678), (3804, 0.009679686177143421), (3805, 0.003478471524660853), (3806, 0.00776710431842658), (3807, 0.011712651718074406), (3808, 0.0483939659192439), (3809, 0.04511804135133201), (3810, 0.012495042498691926), (3811, 0.015612135618309422), (3812, 0.02465611398601971), (3813, 0.017927015412933473), (3814, 0.023854186956573854), (3815, 0.025611794780168843), (3816, 0.0), (3817, 0.013640635504105159), (3818, 0.028971118826948597), (3819, 0.027091059912650435), (3820, 0.0039439566806393775), (3821, 0.018014020421658603), (3822, 0.028035266260081227), (3823, 0.02305860181410196), (3824, 0.003329675290681045), (3825, 0.04066305691969129), (3826, 0.026524054407889835), (3827, 0.0025174310923615616), (3828, 0.0032471865600417343), (3829, 0.02713390996789887), (3830, 0.008111330213549013), (3831, 0.026045139398334027), (3832, 0.011652195719590653), (3833, 0.0677629459532639), (3834, 0.006537261587879132), (3835, 0.009231290606726658), (3836, 0.016532226629079633), (3837, 0.003829353496079162), (3838, 0.0), (3839, 0.04497341761374353), (3840, 0.036247338604126995), (3841, 0.025730915719229315), (3842, 0.023808755683745478), (3843, 0.0), (3844, 0.004371654246968737), (3845, 0.02714908998473596), (3846, 0.02209706506066917), (3847, 0.009535571375558452), (3848, 0.003257433468817412), (3849, 0.0), (3850, 0.0), (3851, 0.01098964049022224), (3852, 0.010684406264940263), (3853, 0.05842826226224715), (3854, 0.01371383402051979), (3855, 0.015543419033058156), (3856, 0.04242510288055065), (3857, 0.061395975187594105), (3858, 0.03123634208790276), (3859, 0.014857760719439506), (3860, 0.0), (3861, 0.00308908364368655), (3862, 0.0026815458250428617), (3863, 0.0023072041115708196), (3864, 0.037640372002351444), (3865, 0.019977411320180022), (3866, 0.13165771373972115), (3867, 0.02560551779023828), (3868, 0.032183044829083185), (3869, 0.014758075367407184), (3870, 0.016466614713640842), (3871, 0.009410255405600284), (3872, 0.018994475172850068), (3873, 0.06420009451103209), (3874, 0.0031397054288208057), (3875, 0.04603789191531981), (3876, 0.02920277714847275), (3877, 0.07131413246968461), (3878, 0.018474259267240622), (3879, 0.009305665708840623), (3880, 0.008041868259633173), (3881, 0.012838647535100039), (3882, 0.01280418442046274), (3883, 0.0029267187209265624), (3884, 0.0029873078165225096), (3885, 0.0031736039757171404), (3886, 0.05799930289205739), (3887, 0.0), (3888, 0.005992273195685004), (3889, 0.023179144701061888), (3890, 0.03887165873783588), (3891, 0.011612262144041176), (3892, 0.007872816162508536), (3893, 0.009374144410545586), (3894, 0.013006068922048506), (3895, 0.0193333991665511), (3896, 0.0033639572305247264), (3897, 0.013001018964431671), (3898, 0.008234503635423614), (3899, 0.017079347342093945), (3900, 0.0024689431988957878), (3901, 0.0030964765098094723), (3902, 0.026891011369423692), (3903, 0.06805206711441575), (3904, 0.009281350352856727), (3905, 0.018353814577883584), (3906, 0.03353207059344762), (3907, 0.03935482108952427), (3908, 0.0), (3909, 0.020899943810812734), (3910, 0.026168100569174783), (3911, 0.06466736216882081), (3912, 0.04326647357345885), (3913, 0.008010929019622779), (3914, 0.027574919150349562), (3915, 0.03190397096862127), (3916, 0.014444330501780728), (3917, 0.014265537637466425), (3918, 0.0), (3919, 0.05612879780506144), (3920, 0.0153607722508449), (3921, 0.048253514315408697), (3922, 0.007476190255283037), (3923, 0.04967700279992502), (3924, 0.04452012677906396), (3925, 0.012916017283927706), (3926, 0.02243696609684087), (3927, 0.044441482642985745), (3928, 0.02358744690227406), (3929, 0.008810746612177171), (3930, 0.016306547436163263), (3931, 0.02834962798204388), (3932, 0.04298401645189298), (3933, 0.008555720907640256), (3934, 0.007409207877910957), (3935, 0.0030254828887343985), (3936, 0.029173622831681734), (3937, 0.010367361093710767), (3938, 0.03596933807206397), (3939, 0.003419693316958212), (3940, 0.0054828120713969735), (3941, 0.029618114692626547), (3942, 0.0), (3943, 0.003749850940149428), (3944, 0.009884489968140607), (3945, 0.007476467467475138), (3946, 0.005157081145085511), (3947, 0.0), (3948, 0.014913787930714774), (3949, 0.004795542057490237), (3950, 0.01454772470371137), (3951, 0.05437544320961872), (3952, 0.013951749539757582), (3953, 0.014535536293222916), (3954, 0.0715454669191921), (3955, 0.0610912023717152), (3956, 0.018700511685009143), (3957, 0.017704792764128393), (3958, 0.007895386159888043), (3959, 0.02469797453013012), (3960, 0.016812402643553312), (3961, 0.04716774465915388), (3962, 0.006801704981952154), (3963, 0.03275099028886109), (3964, 0.010719824600183978), (3965, 0.10294898963590221), (3966, 0.011436239811050807), (3967, 0.01055137784633649), (3968, 0.03383979203884471), (3969, 0.02021175922055006), (3970, 0.023455843515006757), (3971, 0.0028133701001136053), (3972, 0.013158810359919185), (3973, 0.017242610507151587), (3974, 0.0023109532354595535), (3975, 0.014974819931811816), (3976, 0.0426130033659475), (3977, 0.0381886095025223), (3978, 0.0024489905603263342), (3979, 0.022015215344053977), (3980, 0.0405899013027272), (3981, 0.0), (3982, 0.02073054113245249), (3983, 0.016092023398857982), (3984, 0.017416609890528234), (3985, 0.008801369490944407), (3986, 0.013343247348852942), (3987, 0.002734630736912732), (3988, 0.004391134500472014), (3989, 0.04545138628207828), (3990, 0.003543969893639031), (3991, 0.02369069343909994), (3992, 0.006845762248290867), (3993, 0.010614745372877243), (3994, 0.011916342147608417), (3995, 0.0), (3996, 0.0341120037658062), (3997, 0.0), (3998, 0.05870050442429166), (3999, 0.01068456749587456), (4000, 0.0025467482134510014), (4001, 0.048152187518464784), (4002, 0.032793688851721924), (4003, 0.03501513298380365), (4004, 0.002603857186571113), (4005, 0.04934232726758657), (4006, 0.03491133891026252), (4007, 0.03185240091094305), (4008, 0.035395814661425225), (4009, 0.029914171536295456), (4010, 0.019559591286443447), (4011, 0.020792991581477755), (4012, 0.052927301351399836), (4013, 0.027582475566344824), (4014, 0.0025978545509224315), (4015, 0.03990087541179705), (4016, 0.01155166730849304), (4017, 0.06916168717467555), (4018, 0.03774709701962031), (4019, 0.003328389422933002), (4020, 0.011551209048871759), (4021, 0.0), (4022, 0.0766741239536585), (4023, 0.0071520184344456145), (4024, 0.002772701920389326), (4025, 0.0449634795461351), (4026, 0.007687293838335716), (4027, 0.010135389098127681), (4028, 0.04172347330456969), (4029, 0.012441447395461425), (4030, 0.0030052356512168124), (4031, 0.05974629699554515), (4032, 0.05368068090729837), (4033, 0.024584288383255132), (4034, 0.014875134119871071), (4035, 0.008821812947228651), (4036, 0.005917428782722265), (4037, 0.003304833194818481), (4038, 0.04147760448601873), (4039, 0.013123706577324428), (4040, 0.004501678571169247), (4041, 0.0), (4042, 0.015524890858566702), (4043, 0.0), (4044, 0.008180586404642774), (4045, 0.00972665531187645), (4046, 0.025557917684615516), (4047, 0.0), (4048, 0.0028108049271270375), (4049, 0.0061463639152542285), (4050, 0.03555285628977885), (4051, 0.029038759356136357), (4052, 0.013429007665534669), (4053, 0.002329783565238166), (4054, 0.006421667466404324), (4055, 0.028118241615854096), (4056, 0.029214166377456306), (4057, 0.01681030290645751), (4058, 0.004339269722535139), (4059, 0.0488588507480197), (4060, 0.008621107481930308), (4061, 0.04453616555034164), (4062, 0.06718323845615758), (4063, 0.00849669867937055), (4064, 0.024250893626676182), (4065, 0.0), (4066, 0.005318480185887004), (4067, 0.013521225110517262), (4068, 0.045824042637796686), (4069, 0.03172319478386888), (4070, 0.045268584708302015), (4071, 0.022920514180012043), (4072, 0.0), (4073, 0.0093553328608004), (4074, 0.043200369775532044), (4075, 0.01917133935096341), (4076, 0.01321022986171572), (4077, 0.03567294811015053), (4078, 0.0), (4079, 0.008995331492573293), (4080, 0.007780361525639879), (4081, 0.0025817693445174578), (4082, 0.012258292243670154), (4083, 0.002680560808391208), (4084, 0.027115087416568054), (4085, 0.03609729243287348), (4086, 0.02005558747119589), (4087, 0.0027911241200862095), (4088, 0.0), (4089, 0.03385027379842455), (4090, 0.0), (4091, 0.01347351795002123), (4092, 0.0029056071578545243), (4093, 0.024779682293015144), (4094, 0.025554776243519827), (4095, 0.019776510457216435), (4096, 0.0), (4097, 0.04438141942029642), (4098, 0.0026318613002293836), (4099, 0.04931360030981928), (4100, 0.014480834631828258), (4101, 0.04806314607268046), (4102, 0.007689495259025435), (4103, 0.0), (4104, 0.010783784923930548), (4105, 0.019027623010776908), (4106, 0.06503912585955307), (4107, 0.0031703925513062057), (4108, 0.017624521310518677), (4109, 0.026433354609787806), (4110, 0.04797298985201953), (4111, 0.006483252997776637), (4112, 0.015374328771462439), (4113, 0.05516487472803333), (4114, 0.050889562917187776), (4115, 0.004707180010605427), (4116, 0.0027992219314583707), (4117, 0.013887724283811402), (4118, 0.04466763527229729), (4119, 0.056026105947909646), (4120, 0.013668334397441792), (4121, 0.03709941003156614), (4122, 0.0), (4123, 0.0027110108307738406), (4124, 0.014032305291001728), (4125, 0.03070503698688145), (4126, 0.002987716596223677), (4127, 0.004234621827934647), (4128, 0.0), (4129, 0.002485216551494507), (4130, 0.04045952169158147), (4131, 0.003733265208936914), (4132, 0.03688316356049194), (4133, 0.017915278037792633), (4134, 0.009126246334734398), (4135, 0.018578260789682447), (4136, 0.021813505192547135), (4137, 0.06002421672745354), (4138, 0.009618231856927825), (4139, 0.008379343599879241), (4140, 0.029273296135222438), (4141, 0.019595333628869577), (4142, 0.039536513032390835), (4143, 0.04687777100541142), (4144, 0.005137227336910412), (4145, 0.010193074297112897), (4146, 0.021231501238641058), (4147, 0.007374178824979934), (4148, 0.018341606415792175), (4149, 0.028017784711306587), (4150, 0.042472902012296365), (4151, 0.0044114178737168904), (4152, 0.06165875182066424), (4153, 0.04900176799226012), (4154, 0.014485264094865084), (4155, 0.04277297670549251), (4156, 0.06989594377672544), (4157, 0.025209256083111094), (4158, 0.023980105915832287), (4159, 0.027102110937553197), (4160, 0.0028787177661896216), (4161, 0.0027621851462251265), (4162, 0.05570621667374184), (4163, 0.002976783809210096), (4164, 0.009593382685573986), (4165, 0.0), (4166, 0.012391675933180222), (4167, 0.0), (4168, 0.013712894473617353), (4169, 0.03596988529145279), (4170, 0.0), (4171, 0.027419613191021115), (4172, 0.003394353627754003), (4173, 0.0037325505432793888), (4174, 0.049486238724271187), (4175, 0.009239778381867712), (4176, 0.03443088576647623), (4177, 0.008462337231750255), (4178, 0.012363338158268726), (4179, 0.0), (4180, 0.0036866129330156605), (4181, 0.0), (4182, 0.021054544056827256), (4183, 0.04271075778721824), (4184, 0.0035028534240796653), (4185, 0.0), (4186, 0.0031934632965152144), (4187, 0.0029133122516117357), (4188, 0.03736276374231897), (4189, 0.05813959495644145), (4190, 0.028903171786274655), (4191, 0.057943343559311675), (4192, 0.0697694573828969), (4193, 0.020616158913752652), (4194, 0.0278852354180699), (4195, 0.003486497298731073), (4196, 0.007240992868355159), (4197, 0.012402541732403394), (4198, 0.01267400576773788), (4199, 0.021525369765347687), (4200, 0.034313929447431356), (4201, 0.04392384791043744), (4202, 0.0035901798893290425), (4203, 0.028942177912850305), (4204, 0.00415221930686253), (4205, 0.07813347486737399), (4206, 0.005752667340392845), (4207, 0.013570831418387587), (4208, 0.0), (4209, 0.0031462369806758107), (4210, 0.033376372493511254), (4211, 0.013607901226612264), (4212, 0.0), (4213, 0.03938109932195667), (4214, 0.0035336697414484653), (4215, 0.0), (4216, 0.07651407859329219), (4217, 0.02500550396053488), (4218, 0.038175926829904346), (4219, 0.0), (4220, 0.002265038200649951), (4221, 0.0034328235819963923), (4222, 0.016316318412171363), (4223, 0.014712536189433283), (4224, 0.0), (4225, 0.014755260728147198), (4226, 0.04603901898868671), (4227, 0.0), (4228, 0.0025366098726402526), (4229, 0.005906469275639749), (4230, 0.0032898293307341824), (4231, 0.0027388996063509243), (4232, 0.0022321335137623134), (4233, 0.007389991744417912), (4234, 0.0034032572762698002), (4235, 0.0), (4236, 0.006150145499600694), (4237, 0.015091521301374172), (4238, 0.0), (4239, 0.004819730196110723), (4240, 0.013386182784641246), (4241, 0.01212728448617033), (4242, 0.018423476555793586), (4243, 0.00987849322590461), (4244, 0.002941445555066705), (4245, 0.0027586136028960166), (4246, 0.0057341707500344116), (4247, 0.01148950131772074), (4248, 0.0), (4249, 0.002649184673117784), (4250, 0.0), (4251, 0.0), (4252, 0.029707449281314472), (4253, 0.016135870500681687), (4254, 0.005686466305490972), (4255, 0.030364418335704586), (4256, 0.00370207677470138), (4257, 0.023521069380295547), (4258, 0.0038010937481373383), (4259, 0.03334939041978927), (4260, 0.0036872589438846624), (4261, 0.0), (4262, 0.024954695361942232), (4263, 0.02354021431076169), (4264, 0.034844138266951784), (4265, 0.025954598173026932), (4266, 0.002590844128884648), (4267, 0.09640741256017413), (4268, 0.0025571887647834668), (4269, 0.030776482430484857), (4270, 0.021715592497762875), (4271, 0.03604491766291048), (4272, 0.06964560352921598), (4273, 0.01634805349508694), (4274, 0.059887095317119804), (4275, 0.00954606442630761), (4276, 0.0), (4277, 0.010610021702766384), (4278, 0.0), (4279, 0.011726145965578501), (4280, 0.030274241263949765), (4281, 0.06567982476618936), (4282, 0.04856816425331538), (4283, 0.03625353860394884), (4284, 0.014550809335979391), (4285, 0.004093960272380541), (4286, 0.031916947289741704), (4287, 0.012568969851160284), (4288, 0.04111963321389683), (4289, 0.03763391930867588), (4290, 0.022134657806682927), (4291, 0.0034837265909414784), (4292, 0.020227730900009202), (4293, 0.02178082823101867), (4294, 0.0212374481517474), (4295, 0.020866098340728625), (4296, 0.002236452624075409), (4297, 0.025670472959554855), (4298, 0.02858882163741002), (4299, 0.09279292457749383), (4300, 0.03915101775822927), (4301, 0.0019049273876737942), (4302, 0.0), (4303, 0.009735858570197315), (4304, 0.013698669760822584), (4305, 0.0032408980934613913), (4306, 0.010728006242940858), (4307, 0.0), (4308, 0.0066414546514392886), (4309, 0.0519666834683535), (4310, 0.0), (4311, 0.009884198770683944), (4312, 0.026348783229526888), (4313, 0.04406410650750499), (4314, 0.03745807717522268), (4315, 0.01022159133497488), (4316, 0.0), (4317, 0.003955943708558948), (4318, 0.002713108656774516), (4319, 0.04225691594299606), (4320, 0.04392427353537402), (4321, 0.02911315367177846), (4322, 0.005594185129400257), (4323, 0.0036746339044144084), (4324, 0.030752737474095675), (4325, 0.013891964133832452), (4326, 0.00235399189157236), (4327, 0.03183673045042693), (4328, 0.02291053451947579), (4329, 0.013035532778303173), (4330, 0.014838085584712208), (4331, 0.0), (4332, 0.03039154303754931), (4333, 0.029566883531240363), (4334, 0.039198835444052366), (4335, 0.046309236811787356), (4336, 0.021854469722272188), (4337, 0.017606694086746554), (4338, 0.05201387053163739), (4339, 0.011201147937358363), (4340, 0.002655510331379493), (4341, 0.02010806778108685), (4342, 0.036535448001169), (4343, 0.002271047637175282), (4344, 0.028843312152932343), (4345, 0.031153412985791943), (4346, 0.00404737337034369), (4347, 0.03664856909091333), (4348, 0.046154545327121), (4349, 0.002524709506031552), (4350, 0.03969165047334204), (4351, 0.03057486151466889), (4352, 0.0), (4353, 0.013678499862937179), (4354, 0.024377735560806798), (4355, 0.002735314726198712), (4356, 0.015401744231851335), (4357, 0.012968444332327626), (4358, 0.0030779401411482805), (4359, 0.01915522433929222), (4360, 0.024095374395217237), (4361, 0.002671278118718971), (4362, 0.0025140351053724586), (4363, 0.07428287773044896), (4364, 0.013475615240689907), (4365, 0.0), (4366, 0.0), (4367, 0.009825061720245871), (4368, 0.016690209157512875), (4369, 0.03998143010335938), (4370, 0.003725879534632733), (4371, 0.051542683434508484), (4372, 0.01721109816734903), (4373, 0.014237000241579891), (4374, 0.05046787878818312), (4375, 0.0), (4376, 0.012571868648761624), (4377, 0.0), (4378, 0.048184362306165955), (4379, 0.02470653364821772), (4380, 0.0), (4381, 0.008412360088198116), (4382, 0.025906837534994093), (4383, 0.011528824478482682), (4384, 0.0), (4385, 0.01493114135111664), (4386, 0.0022144082924310427), (4387, 0.014460170811705279), (4388, 0.03850815215884265), (4389, 0.015253603489976121), (4390, 0.0), (4391, 0.04308182448513832), (4392, 0.01584251834251977), (4393, 0.0), (4394, 0.01817761596471425), (4395, 0.026592152520754198), (4396, 0.002872604550324879), (4397, 0.002857504689708214), (4398, 0.002966872647642806), (4399, 0.03430508051535906), (4400, 0.003273059753037215), (4401, 0.002868652800255299), (4402, 0.013712668411645673), (4403, 0.02965058311639577), (4404, 0.012970467183606072), (4405, 0.0), (4406, 0.04914353659046895), (4407, 0.0033584322706539708), (4408, 0.011524057029240241), (4409, 0.0025523695603765955), (4410, 0.0), (4411, 0.037725804378192236), (4412, 0.0030076802376807947), (4413, 0.0037826696680463997), (4414, 0.00929328848016689), (4415, 0.0), (4416, 0.0030222675178583082), (4417, 0.0), (4418, 0.019420825621803056), (4419, 0.024293716232778956), (4420, 0.02417222164455224), (4421, 0.01563455620009252), (4422, 0.012572289332745833), (4423, 0.003329416871112062), (4424, 0.0), (4425, 0.0), (4426, 0.003010128730751289), (4427, 0.011761172789937442), (4428, 0.014081676415193688), (4429, 0.0022293060203486957), (4430, 0.002688213239479675), (4431, 0.028973333278932242), (4432, 0.0022473153260005427), (4433, 0.0036397108782850983), (4434, 0.003341902760093196), (4435, 0.031071581227642114), (4436, 0.03858229094203008), (4437, 0.014910022991423326), (4438, 0.01761366564132911), (4439, 0.0), (4440, 0.012965998827543658), (4441, 0.011648317097069255), (4442, 0.06425740820761329), (4443, 0.0031453157238586966), (4444, 0.01942624205251505), (4445, 0.011993030548238037), (4446, 0.006643527051432443), (4447, 0.0031650482764454648), (4448, 0.03313307445040703), (4449, 0.014387856121216059), (4450, 0.01086992935267837), (4451, 0.02000036152741609), (4452, 0.03601930632428925), (4453, 0.013961909964046724), (4454, 0.05896425797425334), (4455, 0.0), (4456, 0.0), (4457, 0.0034757584531682865), (4458, 0.01034909763679688), (4459, 0.029991161548724374), (4460, 0.06485987888642036), (4461, 0.002471758335283455), (4462, 0.035917085333547594), (4463, 0.02231428933025577), (4464, 0.0146078586487126), (4465, 0.02670732393960372), (4466, 0.05836878004129789), (4467, 0.08177649191862091), (4468, 0.010030991471712356), (4469, 0.0032079994082565527), (4470, 0.039101625912070725), (4471, 0.04021832408251219), (4472, 0.027349150341006608), (4473, 0.015954158697535418), (4474, 0.020463863040542752), (4475, 0.0023088730584602665), (4476, 0.052681824679874784), (4477, 0.01732546541039761), (4478, 0.02685777627059628), (4479, 0.03943882800446696), (4480, 0.05247741727848562), (4481, 0.024526586569994468), (4482, 0.06966138558627999), (4483, 0.044102685799141325), (4484, 0.008074596603368532), (4485, 0.0), (4486, 0.0325641719989672), (4487, 0.03646973084897955), (4488, 0.03728179691760428), (4489, 0.006423139892633755), (4490, 0.0030449284810767203), (4491, 0.0), (4492, 0.04627391123123842), (4493, 0.012442130473890284), (4494, 0.0029005909835132337), (4495, 0.014001832634210344), (4496, 0.003993089181461662), (4497, 0.002688111471322725), (4498, 0.03336079384214523), (4499, 0.01891267165384677), (4500, 0.0), (4501, 0.02354357540221753), (4502, 0.0023450230858281145), (4503, 0.01495629846069529), (4504, 0.04063327394266021), (4505, 0.0027177533036265686), (4506, 0.020238469364325898), (4507, 0.04396957975846967), (4508, 0.013395905223506126), (4509, 0.0), (4510, 0.03672270187219811), (4511, 0.04199832163490913), (4512, 0.0), (4513, 0.0), (4514, 0.011609959559540058), (4515, 0.028626025352876353), (4516, 0.04349009799877703), (4517, 0.011845609128415627), (4518, 0.012752071005846632), (4519, 0.002798785295302266), (4520, 0.002541717692165005), (4521, 0.0032047893374542577), (4522, 0.0065998681277512315), (4523, 0.07415048403318676), (4524, 0.022568725840753902), (4525, 0.0242978774282318), (4526, 0.0), (4527, 0.0), (4528, 0.0027883703373417544), (4529, 0.003442571359992003), (4530, 0.005922897698191142), (4531, 0.016434940041823637), (4532, 0.0), (4533, 0.07660945587089846), (4534, 0.02012830866820251), (4535, 0.04244976788213853), (4536, 0.042071786350463776), (4537, 0.004541170376423788), (4538, 0.0), (4539, 0.027560274116156382), (4540, 0.0027588402858543166), (4541, 0.041928715674853984), (4542, 0.03634045007151589), (4543, 0.024196788765201142), (4544, 0.04742186722913321), (4545, 0.0027784993354809037), (4546, 0.05080938862975265), (4547, 0.0), (4548, 0.011494692824742305), (4549, 0.013602942363585032), (4550, 0.014376612019223965), (4551, 0.02998261121784631), (4552, 0.0036160541644217263), (4553, 0.0), (4554, 0.010957015938934358), (4555, 0.03922886341456959), (4556, 0.010916308073339657), (4557, 0.0522476087259382), (4558, 0.01312299397880674), (4559, 0.0), (4560, 0.0037100033712843795), (4561, 0.0), (4562, 0.004333876731005506), (4563, 0.023895842752162076), (4564, 0.04153465657621692), (4565, 0.026926529378528075), (4566, 0.009147371489327228), (4567, 0.0024539192295525755), (4568, 0.05597229483597388), (4569, 0.0), (4570, 0.004170264048281614), (4571, 0.009623401353332534), (4572, 0.003151146522092972), (4573, 0.002489032223729645), (4574, 0.02080984919958081), (4575, 0.04659325582442495), (4576, 0.08815383379235713), (4577, 0.0032031782609754176), (4578, 0.0), (4579, 0.002767507353730121), (4580, 0.010710856641184001), (4581, 0.013588226262748889), (4582, 0.008212382889320694), (4583, 0.009302220382040274), (4584, 0.0030185385973384255), (4585, 0.0), (4586, 0.0), (4587, 0.008774816031952968), (4588, 0.03424377774189269), (4589, 0.03171014780397897), (4590, 0.0449409617514022), (4591, 0.021673332664652226), (4592, 0.015702099807977793), (4593, 0.0028550443760641535), (4594, 0.04045697630634727), (4595, 0.0), (4596, 0.036412377684783545), (4597, 0.02403710233168871), (4598, 0.0468327851244788), (4599, 0.01501176180961112), (4600, 0.026684511582671072), (4601, 0.0028103069573981185), (4602, 0.025567529326584994), (4603, 0.011852402383088528), (4604, 0.03186882581873392), (4605, 0.017025467392719835), (4606, 0.0032505224074999236), (4607, 0.003728382880654233), (4608, 0.0022784623067922064), (4609, 0.0379462541139833), (4610, 0.01948019851997144), (4611, 0.0034223368172097927), (4612, 0.018461719503951424), (4613, 0.012980962805061147), (4614, 0.016823271215679884), (4615, 0.01119141866520635), (4616, 0.002371793817082009), (4617, 0.0035116125385265076), (4618, 0.01604951870480851), (4619, 0.034286719406668525), (4620, 0.002345940773789624), (4621, 0.012813671968691084), (4622, 0.0037031045756513266), (4623, 0.0), (4624, 0.042945716305831265), (4625, 0.00900981607989966), (4626, 0.002075849870375647), (4627, 0.005196593774854886), (4628, 0.04335605231033947), (4629, 0.0587436454538848), (4630, 0.1184103619750066), (4631, 0.004236438965345717), (4632, 0.010230118489870672), (4633, 0.007117339306118833), (4634, 0.013837855361111253), (4635, 0.017441512641935473), (4636, 0.0051071683770033145), (4637, 0.0030466656917921614), (4638, 0.0023421307007931266), (4639, 0.0), (4640, 0.017645285302778483), (4641, 0.01565976150605259), (4642, 0.016359645983234725), (4643, 0.06128950080482338), (4644, 0.0), (4645, 0.0), (4646, 0.02712978019890902), (4647, 0.014242887855934229), (4648, 0.003607913325701432), (4649, 0.01972630070214942), (4650, 0.019085366345376498), (4651, 0.0), (4652, 0.03312750553462948), (4653, 0.01125657586330306), (4654, 0.0), (4655, 0.003692628799395925), (4656, 0.0), (4657, 0.00933252135719067), (4658, 0.032439129204321286), (4659, 0.013232420221936648), (4660, 0.0182869697486431), (4661, 0.0022759219772733163), (4662, 0.0), (4663, 0.04560206629454111), (4664, 0.0), (4665, 0.0), (4666, 0.0), (4667, 0.015852433844962308), (4668, 0.0025299071585638015), (4669, 0.02538041229523789), (4670, 0.03095475589971672), (4671, 0.0), (4672, 0.0), (4673, 0.0024868002684820057), (4674, 0.04942835732040496), (4675, 0.003475500931626074), (4676, 0.015047041717552063), (4677, 0.0025951101021629273), (4678, 0.011742176790392357), (4679, 0.02381822555492922), (4680, 0.045668229185659256), (4681, 0.0), (4682, 0.043701065437535554), (4683, 0.00923783570367125), (4684, 0.03833286943856327), (4685, 0.021088473244135902), (4686, 0.014920226765379074), (4687, 0.08364790763352956), (4688, 0.04506889441204819), (4689, 0.01941603130798534), (4690, 0.0032716321359480783), (4691, 0.0), (4692, 0.003205011723756482), (4693, 0.0024940531673991735), (4694, 0.0030168068591010923), (4695, 0.041784548743981895), (4696, 0.003363712346513822), (4697, 0.0), (4698, 0.0), (4699, 0.03026000644192335), (4700, 0.004723656423518959), (4701, 0.003060107262637849), (4702, 0.00974669046944632), (4703, 0.0), (4704, 0.0035075995085875555), (4705, 0.0036709428890916744), (4706, 0.022129570117508844), (4707, 0.0), (4708, 0.03166919583937136), (4709, 0.0), (4710, 0.003245453711143474), (4711, 0.004117452596871878), (4712, 0.1083411939406762), (4713, 0.010045037683218943), (4714, 0.0), (4715, 0.0025741823468749116), (4716, 0.0), (4717, 0.020716693860551152), (4718, 0.009731936538922414), (4719, 0.023562796193366778), (4720, 0.004234285922302329), (4721, 0.03452578276202694), (4722, 0.0276934349237415), (4723, 0.0031392699352190767), (4724, 0.003165045011187218), (4725, 0.00425867002556522), (4726, 0.012932731602431628), (4727, 0.02227564321445675), (4728, 0.0), (4729, 0.0024662756111315746), (4730, 0.01651369256727797), (4731, 0.01994130218854454), (4732, 0.026008792916305246), (4733, 0.019443978142709033), (4734, 0.0065448579373482765), (4735, 0.0030382733636199564), (4736, 0.0), (4737, 0.003955591903992868), (4738, 0.016241140288941327), (4739, 0.018796727210487363), (4740, 0.0), (4741, 0.01893264686419602), (4742, 0.0), (4743, 0.002505218390645071), (4744, 0.004909464381220755), (4745, 0.0), (4746, 0.05546629656709132), (4747, 0.0), (4748, 0.0264115104227747), (4749, 0.003445754848729087), (4750, 0.0), (4751, 0.0), (4752, 0.010622696313157428), (4753, 0.0029277273909282847), (4754, 0.0), (4755, 0.012336650106010724), (4756, 0.017189549505293146), (4757, 0.03144141476475778), (4758, 0.0), (4759, 0.0)]\n"
          ]
        }
      ]
    },
    {
      "cell_type": "code",
      "source": [
        "len(Recommendation_Score)"
      ],
      "metadata": {
        "colab": {
          "base_uri": "https://localhost:8080/"
        },
        "id": "TomPGqh4YKZm",
        "outputId": "f0b8fd37-bc20-42e7-d3a8-f30a3502b378"
      },
      "execution_count": null,
      "outputs": [
        {
          "output_type": "execute_result",
          "data": {
            "text/plain": [
              "4760"
            ]
          },
          "metadata": {},
          "execution_count": 50
        }
      ]
    },
    {
      "cell_type": "markdown",
      "source": [
        "Get All Movies Sort Based on Recommendation Score wrt Favourite Movie"
      ],
      "metadata": {
        "id": "eUMoreQ0YOfP"
      }
    },
    {
      "cell_type": "code",
      "source": [
        "# sorting the movies based on their similarity score\n",
        "\n",
        "Sorted_Similar_Movies = sorted(Recommendation_Score, key = lambda x:x[1], reverse = True)\n",
        "print(Sorted_Similar_Movies)"
      ],
      "metadata": {
        "colab": {
          "base_uri": "https://localhost:8080/"
        },
        "id": "TvT9m47-YPoh",
        "outputId": "f4715013-cfd0-435f-a090-aca6b9fecb3a"
      },
      "execution_count": null,
      "outputs": [
        {
          "output_type": "stream",
          "name": "stdout",
          "text": [
            "[(3, 1.0000000000000002), (206, 0.17910479970435603), (2650, 0.1477798342860161), (2027, 0.14722613681312074), (164, 0.14589758456473872), (1087, 0.14468135603945587), (2158, 0.14253395697027288), (452, 0.13980809021421695), (3866, 0.13165771373972115), (2701, 0.12791112574372052), (524, 0.1274427335967744), (235, 0.12400604704949816), (3599, 0.12351841944961642), (307, 0.1228769129612349), (12, 0.12113761972627256), (2595, 0.11955161342027026), (1329, 0.1195424893144591), (4630, 0.1184103619750066), (891, 0.11770483501438778), (1798, 0.11569487202698034), (388, 0.11544228583648783), (387, 0.11477520957929307), (2528, 0.11396862578533659), (751, 0.11383198385280849), (1048, 0.11304603430735158), (1936, 0.11300327831362766), (2403, 0.1128520545209776), (3611, 0.10854547292694551), (4712, 0.1083411939406762), (1128, 0.10817761505635787), (703, 0.10785985844708129), (1120, 0.10763674508378011), (1367, 0.10484808320254088), (2043, 0.10393333953857428), (852, 0.10296479032542377), (3965, 0.10294898963590221), (250, 0.10208695685084583), (714, 0.10113204323678006), (1340, 0.10096934364968316), (3018, 0.10093158118351218), (197, 0.10020116492102218), (685, 0.0998786212851564), (2949, 0.09980785526501688), (1707, 0.09901403963519267), (1278, 0.0989849410104913), (1701, 0.09759434765027132), (403, 0.09693738427823909), (4267, 0.09640741256017413), (919, 0.09634504757220613), (909, 0.09618020057477147), (2504, 0.09597048924256428), (3751, 0.095868919192082), (108, 0.09575331242074896), (43, 0.09566139359553241), (2584, 0.09490347177428245), (1719, 0.09419112771747055), (3364, 0.0932511802182561), (4299, 0.09279292457749383), (3336, 0.09211206857561974), (734, 0.09138497286686673), (1711, 0.09096038199535711), (3656, 0.09095349930602784), (3747, 0.09065606874077733), (1915, 0.08962141374880266), (1638, 0.08912835935665726), (1858, 0.08836143023841048), (3066, 0.08818344144016843), (4576, 0.08815383379235713), (2582, 0.08803904358568812), (609, 0.08782544300767502), (663, 0.08750568841394554), (941, 0.08744258661239473), (1728, 0.08729802748212767), (2231, 0.08726585781572527), (1192, 0.08650419869764521), (829, 0.08616623234997911), (1467, 0.08593717575953885), (3285, 0.08569419641939685), (726, 0.08548264154197945), (1132, 0.08460375585511554), (91, 0.08455606075163971), (1925, 0.08425199260860242), (4687, 0.08364790763352956), (736, 0.08289075312502786), (1413, 0.08183938267019181), (4467, 0.08177649191862091), (2256, 0.08162337556229272), (371, 0.08152444079477916), (969, 0.08125544810327132), (2558, 0.08121966728967409), (39, 0.08023132979222701), (264, 0.07989967350866659), (2547, 0.07988081833156473), (3297, 0.07967891464260418), (1644, 0.07948334556244817), (2673, 0.07891520479709796), (2294, 0.07878512856811688), (372, 0.07848899524940633), (3424, 0.07834419999476029), (212, 0.07827328834436109), (4205, 0.07813347486737399), (3289, 0.07766878402039415), (3765, 0.0775183864738399), (2765, 0.0774905744742671), (2647, 0.0771973056615056), (1169, 0.07717766397993212), (959, 0.0770414605457901), (50, 0.07701597707581857), (1210, 0.07669201854586909), (4022, 0.0766741239536585), (4533, 0.07660945587089846), (4216, 0.07651407859329219), (2702, 0.07646200768938798), (1919, 0.07634549636425929), (2498, 0.07621157265004228), (468, 0.07593550738111692), (655, 0.07581221034544651), (2867, 0.07577952613590372), (2844, 0.07569227473922545), (3094, 0.07552743825212246), (1903, 0.07551327887622936), (119, 0.075443691271782), (351, 0.0753540018109471), (3294, 0.07504962195378848), (353, 0.07500768126261928), (653, 0.07499900365132167), (3181, 0.07491299375875017), (1964, 0.07478547609996922), (3612, 0.07474565901776965), (1579, 0.07474246501481122), (1643, 0.0744710917403621), (342, 0.07443312090736337), (1788, 0.0744169508965345), (1465, 0.07436292844791594), (1983, 0.07434636906931086), (4363, 0.07428287773044896), (606, 0.07415195209163582), (4523, 0.07415048403318676), (2000, 0.07400533048017167), (3610, 0.07393336942681814), (500, 0.07355480034151606), (88, 0.07344961205056624), (467, 0.0734369492535448), (2627, 0.07320997389091119), (725, 0.07314188290183303), (2878, 0.07296190207209224), (1843, 0.07289155979422586), (1692, 0.07256741961922403), (2430, 0.07254901770112775), (1281, 0.07231089367502588), (2732, 0.07228341630356135), (3083, 0.07222127697220894), (809, 0.07221122910329876), (3414, 0.0719324626681482), (1506, 0.07191585463890196), (700, 0.07155505431083266), (3954, 0.0715454669191921), (464, 0.07142954067353233), (3877, 0.07131413246968461), (3463, 0.07125579031729586), (1456, 0.07098043370902157), (3335, 0.07083826024407583), (251, 0.07058226439929306), (2114, 0.07028647548756133), (4156, 0.06989594377672544), (4192, 0.0697694573828969), (1443, 0.06973084551270498), (2199, 0.06968343871718223), (4482, 0.06966138558627999), (4272, 0.06964560352921598), (328, 0.06959695956707428), (2510, 0.06922427089136), (124, 0.0691692278156905), (4017, 0.06916168717467555), (739, 0.06914547697619788), (930, 0.06907496466012103), (2463, 0.06889318740789199), (1946, 0.06888930523685216), (2964, 0.06884100335996174), (3546, 0.06871056248760296), (2074, 0.0685591723038033), (1188, 0.06853772885182785), (269, 0.0684886687229144), (3447, 0.06841427417263968), (608, 0.06807186087298957), (3903, 0.06805206711441575), (3352, 0.06801302876780924), (563, 0.06795067215578927), (2848, 0.06777506924602465), (3833, 0.0677629459532639), (56, 0.06774035995527501), (802, 0.06772203621600496), (3777, 0.06767437299354447), (483, 0.06762740339377991), (3142, 0.06756796544331845), (2988, 0.06732052444120334), (1852, 0.06718874419662114), (4062, 0.06718323845615758), (656, 0.0670974803734091), (1111, 0.06674788595450949), (3460, 0.06674369418395858), (271, 0.06642731475158625), (2131, 0.06627819949686325), (3325, 0.06613683565566296), (3648, 0.06608451618194111), (3295, 0.06584324348494477), (1080, 0.06576371056610866), (4281, 0.06567982476618936), (1442, 0.06565415067090148), (189, 0.06563788801251441), (3184, 0.06541509680485898), (228, 0.0654105618834449), (1282, 0.06539020298286936), (2711, 0.06535120942939657), (2218, 0.06525055694964838), (1948, 0.06510199531259077), (75, 0.06509511924822968), (963, 0.06508617172312683), (4106, 0.06503912585955307), (13, 0.06497614809897558), (773, 0.06495479206963754), (280, 0.06491991768725482), (4460, 0.06485987888642036), (1710, 0.06477096643131564), (1305, 0.06476239765542624), (3391, 0.0647564410183547), (3911, 0.06466736216882081), (2198, 0.06444900974392961), (2485, 0.06438763747021362), (1106, 0.06436394573495477), (1090, 0.06436310736102947), (1077, 0.06430897571139493), (4442, 0.06425740820761329), (3205, 0.0642182497499246), (3873, 0.06420009451103209), (1047, 0.06419501829084986), (1510, 0.06409421166395571), (1650, 0.06407599735166433), (2769, 0.0639440433785273), (3655, 0.06392428647785907), (45, 0.06387456411129853), (808, 0.06368184817363123), (1612, 0.0634578233587887), (2480, 0.06331100006573598), (719, 0.06305610063151622), (392, 0.06305561111929797), (3141, 0.06303681274153941), (1414, 0.06301128067637593), (766, 0.06289736501386402), (3449, 0.06270632173062604), (1239, 0.06270244658806082), (44, 0.06262277271031223), (681, 0.062499475181972755), (1720, 0.06238397311497607), (843, 0.06234166078862283), (3701, 0.062221878467252925), (3085, 0.06215308696129035), (634, 0.06184711556759907), (4152, 0.06165875182066424), (1649, 0.06164917956600184), (3857, 0.061395975187594105), (744, 0.06138819191111468), (727, 0.06135674232356449), (272, 0.06129566749249628), (2474, 0.06129553748957008), (4643, 0.06128950080482338), (916, 0.06116575385548475), (2625, 0.06114141951000532), (3955, 0.0610912023717152), (3477, 0.06107872868339404), (2351, 0.061005414446559984), (1168, 0.06096786048047812), (2509, 0.06089926408062671), (2766, 0.06088897629975219), (553, 0.06085655143775047), (1353, 0.060779006815391265), (706, 0.06072907703257889), (246, 0.06063979725607677), (391, 0.06032128006813801), (2418, 0.060248603859403144), (4137, 0.06002421672745354), (97, 0.059938196196615744), (723, 0.05991426614472087), (4274, 0.059887095317119804), (57, 0.05980193434790941), (4031, 0.05974629699554515), (1524, 0.059725981221420206), (2883, 0.05971014997443315), (515, 0.05957183813889034), (937, 0.0595450439875631), (34, 0.05950856374455928), (1109, 0.05948105183372347), (865, 0.05945032543961981), (2588, 0.05940636772704237), (361, 0.059334584455909875), (982, 0.05922011247454054), (876, 0.059212706625418464), (3026, 0.05905607343643278), (3792, 0.05901305061051225), (2616, 0.05896485935772854), (4454, 0.05896425797425334), (762, 0.05886730729353812), (794, 0.05884593772870067), (2137, 0.05882273060155129), (3435, 0.05881809508936349), (4629, 0.0587436454538848), (3368, 0.05871823751341104), (412, 0.05871374808664351), (3998, 0.05870050442429166), (179, 0.058661213203498604), (418, 0.058644799443410556), (2612, 0.058616833691731055), (277, 0.05848400478877059), (3853, 0.05842826226224715), (3380, 0.05841510027921159), (3659, 0.05839777506400892), (4466, 0.05836878004129789), (669, 0.058183535631743), (4189, 0.05813959495644145), (3886, 0.05799930289205739), (4191, 0.057943343559311675), (407, 0.05790868288386337), (1341, 0.057858641223707236), (496, 0.05779858163405605), (2178, 0.05770566661694218), (130, 0.05764319004105656), (1425, 0.05758859447405254), (2051, 0.05758768030465207), (2975, 0.05745802731443616), (3450, 0.05741764927365049), (1389, 0.05741053836131912), (1292, 0.05739760511737374), (522, 0.05720885663131978), (1016, 0.05720711974009264), (104, 0.057197486399854995), (263, 0.05714701743334861), (2180, 0.0571285537319522), (2443, 0.05708998808643861), (3344, 0.05707127402126515), (2531, 0.057068575082743156), (2239, 0.057046312044938374), (1807, 0.0569789900331988), (1130, 0.05696317501957455), (1295, 0.05686339925796155), (993, 0.05675826571354553), (776, 0.0567535476912637), (274, 0.056738397294023836), (1489, 0.056732151502094715), (1216, 0.056548697011363655), (1530, 0.05648698987453796), (2161, 0.056321604506293234), (3240, 0.05628543971191437), (1195, 0.05625599370536791), (2802, 0.05622377013782705), (3919, 0.05612879780506144), (4119, 0.056026105947909646), (701, 0.05602432108546512), (4568, 0.05597229483597388), (887, 0.05592352232382941), (3592, 0.055894571700360204), (3619, 0.05586802314662632), (1494, 0.05573186261805721), (4162, 0.05570621667374184), (330, 0.055628134402843185), (357, 0.055541042451585074), (4746, 0.05546629656709132), (2244, 0.05527688426748126), (2102, 0.0552146937841472), (4113, 0.05516487472803333), (1071, 0.05508284663711759), (2808, 0.05507561144984405), (805, 0.05492446540352856), (2822, 0.05476405268601206), (3096, 0.05447217333636093), (254, 0.054465470363861034), (138, 0.05438136753195495), (3951, 0.05437544320961872), (253, 0.054301314183290705), (1715, 0.05420694827219359), (1553, 0.0541561920745174), (1066, 0.05403367420727738), (1508, 0.0539952505810941), (165, 0.05398632418536522), (3448, 0.05397892313783478), (1867, 0.05389394327475805), (2323, 0.05387054273043093), (310, 0.053840820857785424), (1578, 0.05382990461206315), (566, 0.05381365880225545), (1938, 0.05376431040869882), (1959, 0.05368773142427222), (4032, 0.05368068090729837), (684, 0.05365707759841962), (2118, 0.0536447465187341), (633, 0.05363162195148252), (2944, 0.053499813036449156), (1477, 0.05346595135658033), (3670, 0.05342431944679406), (1004, 0.05340580360754334), (1059, 0.05323964861174661), (2900, 0.053171293154576235), (2660, 0.053168226224557066), (3077, 0.053150692002497245), (2923, 0.052961997134639685), (844, 0.05295064670344735), (4012, 0.052927301351399836), (74, 0.052865138231668996), (813, 0.05286011578249004), (3437, 0.052781308264675884), (1262, 0.052759462579866155), (1190, 0.05272956702932629), (4476, 0.052681824679874784), (2143, 0.05264140476114174), (2513, 0.05262112749677118), (2745, 0.0525665003020173), (1764, 0.05251814210450602), (4480, 0.05247741727848562), (35, 0.05245230431298357), (127, 0.05242989633924968), (2981, 0.052418765376117865), (4557, 0.0522476087259382), (2642, 0.05220991531509439), (850, 0.05216606718108499), (1013, 0.05214707457276087), (544, 0.05209362407542986), (4338, 0.05201387053163739), (5, 0.051991101182556704), (195, 0.05198235286187505), (1505, 0.05197978754807503), (4309, 0.0519666834683535), (737, 0.05194586727049376), (3492, 0.0519369565218417), (1725, 0.05180570076846265), (3328, 0.05165144787422606), (1571, 0.0516212059488944), (242, 0.05162057323757445), (1592, 0.05161801340829848), (856, 0.05161212719304183), (2215, 0.05156718558137094), (4371, 0.051542683434508484), (1157, 0.05153799294704221), (336, 0.0515165144353115), (1131, 0.051505657383691505), (2160, 0.051411460163608765), (1849, 0.051399066336548234), (1594, 0.05138771609783731), (135, 0.05135117471580796), (677, 0.05131138679098712), (555, 0.051282922101398426), (1129, 0.05125208413677662), (2015, 0.05116809115539872), (96, 0.05112307304797353), (950, 0.05108414713060393), (259, 0.05104661421094849), (489, 0.051038584578048746), (82, 0.050963277021738654), (864, 0.05091509842017641), (4114, 0.050889562917187776), (506, 0.05087077917603999), (2152, 0.05083015373700226), (4546, 0.05080938862975265), (2175, 0.050719388524908274), (3494, 0.05070936363789963), (2502, 0.05054210608188547), (913, 0.050513102875660534), (4374, 0.05046787878818312), (3362, 0.05043990282957147), (2651, 0.050305995781690795), (1405, 0.05028435978345967), (3458, 0.05017931080455801), (561, 0.05011498778827138), (2857, 0.04983896608178621), (3348, 0.04981084964106971), (3923, 0.04967700279992502), (457, 0.049670722089749514), (2798, 0.04962390975163933), (936, 0.04956024402669121), (4174, 0.049486238724271187), (2047, 0.04948508984244905), (3425, 0.04943626235673551), (4674, 0.04942835732040496), (3467, 0.049390156089385004), (1714, 0.04937331258323874), (4005, 0.04934232726758657), (1503, 0.04933860061971898), (4099, 0.04931360030981928), (2005, 0.04925409839205926), (697, 0.049237236920611535), (1108, 0.04917200421802753), (1535, 0.049146463698050806), (4406, 0.04914353659046895), (895, 0.049056060043087324), (934, 0.04903247519707507), (1248, 0.04900377159080427), (4153, 0.04900176799226012), (1052, 0.048896000992698696), (1602, 0.048866610757685586), (1307, 0.048860423041401785), (4059, 0.0488588507480197), (354, 0.04885378443013917), (198, 0.048803535474788926), (240, 0.04879748425999869), (368, 0.048790923732183786), (7, 0.04871036100310375), (2301, 0.04862073024792698), (2565, 0.04861418122830374), (1290, 0.04857340019921513), (4282, 0.04856816425331538), (396, 0.04845689624900107), (3808, 0.0483939659192439), (1373, 0.048337858849179384), (2459, 0.04833058655108753), (3584, 0.048282318507156266), (3921, 0.048253514315408697), (2530, 0.04820402539423757), (4378, 0.048184362306165955), (1316, 0.048183206759679256), (4001, 0.048152187518464784), (2550, 0.0481394192951659), (4101, 0.04806314607268046), (341, 0.04806265627520388), (2494, 0.048021596018234664), (3698, 0.04799154724877416), (1448, 0.04797405234366492), (4110, 0.04797298985201953), (1252, 0.04789658259724322), (2955, 0.04783950600061227), (2634, 0.04781733648387342), (2854, 0.0477993025222022), (2145, 0.04779691473513478), (731, 0.04769377183298744), (3484, 0.04768517123940881), (73, 0.04765088993235882), (288, 0.04761797990368623), (1627, 0.047590395619228516), (747, 0.04742570996346151), (4544, 0.04742186722913321), (1433, 0.04741586310987725), (899, 0.0473881023008909), (1630, 0.04732466159739746), (3377, 0.04728316576327578), (2340, 0.047256270719311814), (1361, 0.04721163635772177), (239, 0.047197759802509336), (3961, 0.04716774465915388), (3534, 0.04715831984749594), (1255, 0.04715104572234791), (1069, 0.04700119204453894), (1068, 0.04696950134437894), (2816, 0.04695315973443097), (4143, 0.04687777100541142), (2598, 0.04684933859065382), (3709, 0.046836451980854364), (4598, 0.0468327851244788), (182, 0.04680790977513004), (1420, 0.04673447384234695), (1291, 0.04671988412172661), (3129, 0.04659722575510162), (4575, 0.04659325582442495), (25, 0.04650444092238118), (2155, 0.046400468302910156), (3420, 0.04637405391424798), (2774, 0.046368114501949144), (3511, 0.046354019728574884), (222, 0.04634442061674302), (1637, 0.046334871312618306), (1675, 0.0463178464286781), (2003, 0.0463100974099906), (4335, 0.046309236811787356), (4492, 0.04627391123123842), (324, 0.04625797095690377), (694, 0.04625758129178477), (3393, 0.046240732167944415), (1430, 0.04619315857068039), (4348, 0.046154545327121), (1569, 0.04610885946153334), (3016, 0.04609760747893178), (1691, 0.04609108272761941), (4226, 0.04603901898868671), (3875, 0.04603789191531981), (3690, 0.04601762848621699), (3023, 0.046001182015777395), (1472, 0.04599270409158013), (2666, 0.045866683685984844), (2729, 0.045864780922085645), (4068, 0.045824042637796686), (37, 0.04582204427181403), (3779, 0.045797281735979134), (2147, 0.04577258855311815), (266, 0.04571386638650919), (4680, 0.045668229185659256), (2386, 0.045664033798975254), (2012, 0.04561398500929844), (4663, 0.04560206629454111), (1818, 0.04555348320098171), (1500, 0.04545473053578869), (3989, 0.04545138628207828), (67, 0.04541847409867375), (1698, 0.045380411746016855), (3034, 0.045338002256816626), (4070, 0.045268584708302015), (3039, 0.04526312592062977), (1776, 0.04525746956724289), (1253, 0.04525180114273557), (3524, 0.04517607079017562), (117, 0.045168363253599034), (3809, 0.04511804135133201), (1033, 0.045091312759699936), (4688, 0.04506889441204819), (2011, 0.044993586420078155), (807, 0.04498312980511203), (3839, 0.04497341761374353), (1060, 0.04497066048658757), (4025, 0.0449634795461351), (3786, 0.044962374191401845), (4590, 0.0449409617514022), (1787, 0.04491604284189003), (84, 0.04487936917872589), (757, 0.044846304399460545), (705, 0.044804101374144895), (2553, 0.04474569943775754), (1019, 0.04473655046836845), (1682, 0.04471347491823039), (470, 0.04471016110779567), (4118, 0.04466763527229729), (733, 0.044659158556454394), (2250, 0.04463561506857012), (1297, 0.04462814858775075), (1186, 0.04462022927084841), (1848, 0.04458277316919619), (4061, 0.04453616555034164), (3924, 0.04452012677906396), (569, 0.044517502789491445), (3759, 0.04447647796298716), (3927, 0.044441482642985745), (4097, 0.04438141942029642), (2931, 0.04437768626058186), (1490, 0.04436243012518031), (1241, 0.04431667006246311), (2376, 0.0442855654273053), (3345, 0.04428488578974547), (1306, 0.044186004939824934), (983, 0.044154932265386374), (4483, 0.044102685799141325), (4313, 0.04406410650750499), (3307, 0.044055156621669096), (3149, 0.044035545681172274), (4507, 0.04396957975846967), (1202, 0.04396920196583203), (3678, 0.04396311357910654), (4320, 0.04392427353537402), (4201, 0.04392384791043744), (2681, 0.043890577540095475), (2884, 0.0438309031830124), (3469, 0.04382419887524797), (1270, 0.04382299513534345), (3389, 0.043813212811247164), (48, 0.043772704716197944), (4682, 0.043701065437535554), (433, 0.043674114153518295), (2755, 0.04366694213256425), (1493, 0.04364819371518819), (756, 0.04362347374498181), (3531, 0.04360520585751626), (1463, 0.04357186419129266), (2548, 0.043562281001111286), (1457, 0.04355252771218463), (642, 0.04354949301526097), (607, 0.0435390202160343), (3475, 0.04350889071246017), (4516, 0.04349009799877703), (3234, 0.04348998914804561), (4628, 0.04335605231033947), (1762, 0.04335535107040129), (191, 0.043349303255539755), (1411, 0.04334921403640347), (1924, 0.04332862438113609), (3912, 0.04326647357345885), (1224, 0.043231745655884515), (4074, 0.043200369775532044), (287, 0.0431668066935218), (4391, 0.04308182448513832), (285, 0.04303944427989961), (2421, 0.04298633352666037), (3932, 0.04298401645189298), (3091, 0.042967583225627944), (2193, 0.042954244690498834), (4624, 0.042945716305831265), (2100, 0.042853536451898856), (2297, 0.04283912159849097), (2107, 0.042823085767400425), (4155, 0.04277297670549251), (1194, 0.042754454268816786), (1802, 0.04275168622027359), (202, 0.042745489232818484), (2680, 0.042735025537613894), (4183, 0.04271075778721824), (2013, 0.042704498160639065), (1450, 0.04267921893601331), (2320, 0.04265352764540173), (3976, 0.0426130033659475), (2213, 0.04259172907920664), (428, 0.042568833525135276), (192, 0.0425632959993079), (3298, 0.042537802871515804), (2579, 0.04251157483592705), (2725, 0.042486182790765124), (862, 0.04247793342909302), (4150, 0.042472902012296365), (3147, 0.04245804066082198), (4535, 0.04244976788213853), (1581, 0.042426896674386635), (3856, 0.04242510288055065), (356, 0.04240606440881446), (3200, 0.042362725578733856), (2409, 0.04235948999488399), (3677, 0.04234943078839706), (729, 0.042292106673581915), (3457, 0.0422796760360797), (4319, 0.04225691594299606), (86, 0.04215368402795401), (787, 0.04212066787275776), (2371, 0.04208210996982846), (4536, 0.042071786350463776), (101, 0.042058642060742044), (1622, 0.04204332172351978), (432, 0.04203820012929217), (4511, 0.04199832163490913), (1586, 0.04197316361036592), (2169, 0.04194474736319833), (4541, 0.041928715674853984), (362, 0.04188703169700994), (1234, 0.041868330358191826), (1259, 0.04186380909300837), (3741, 0.041832761942385915), (3551, 0.0418290565808824), (4695, 0.041784548743981895), (1118, 0.04173536818910429), (4028, 0.04172347330456969), (1781, 0.041711488387908266), (3705, 0.04165466739149688), (1557, 0.041644086701654814), (1659, 0.0415522112208614), (4564, 0.04153465657621692), (4038, 0.04147760448601873), (1254, 0.04139741320795655), (2996, 0.041375062385232406), (479, 0.041366020773739354), (597, 0.0413543866978208), (3073, 0.04131604616390014), (463, 0.04131211942942826), (1775, 0.04125537603248188), (1841, 0.0412370374353664), (348, 0.04122590225297962), (2760, 0.041191746639095195), (3614, 0.04118805299482624), (3360, 0.0411739769166318), (2739, 0.04115236561714523), (3518, 0.041121624532123154), (4288, 0.04111963321389683), (3736, 0.0410994430535235), (282, 0.04109651227303907), (1874, 0.04108221645505031), (1491, 0.041081078456651016), (3237, 0.04094278021276138), (2779, 0.040939823282774485), (728, 0.04090601002572547), (2281, 0.040880658400846384), (657, 0.040852877469026966), (1173, 0.04078729710103389), (248, 0.040766356694718904), (3014, 0.04071305497917313), (643, 0.04068421253704912), (3825, 0.04066305691969129), (343, 0.04065559896693685), (2527, 0.04064838692182392), (4504, 0.04063327394266021), (2036, 0.040624847782755207), (297, 0.04061167948095922), (2084, 0.040593254238536956), (3980, 0.0405899013027272), (3589, 0.040589739457447954), (3070, 0.0405369759873898), (2637, 0.04052391753862136), (2212, 0.040502314994754283), (4130, 0.04045952169158147), (4594, 0.04045697630634727), (1113, 0.040425253199374844), (1204, 0.0404198367550869), (203, 0.04041460135838952), (162, 0.04040428506362985), (2607, 0.04040279545308949), (2273, 0.04037650249001422), (1284, 0.04031541558144974), (866, 0.04028866019423738), (3409, 0.04027346618139417), (28, 0.04027077198037511), (966, 0.04025485179844798), (4471, 0.04021832408251219), (1074, 0.040204398437639594), (131, 0.040179417743113066), (1469, 0.040136420859055354), (2532, 0.04012195723281954), (220, 0.04010317072739344), (4369, 0.03998143010335938), (2819, 0.039952838968437814), (4015, 0.03990087541179705), (1095, 0.03984227071631424), (780, 0.03984161925963165), (3486, 0.039803568516794965), (1257, 0.03980289101242003), (3661, 0.03978954783661238), (3536, 0.03978927354377262), (2088, 0.03973564016007414), (4350, 0.03969165047334204), (1304, 0.03960984719235942), (99, 0.039580997539331315), (1005, 0.03957345099102897), (1392, 0.039544213108793774), (4142, 0.039536513032390835), (2412, 0.039476682076484776), (2962, 0.03946866924658731), (995, 0.0394552454676093), (4479, 0.03943882800446696), (4213, 0.03938109932195667), (1418, 0.03938069549443309), (3907, 0.03935482108952427), (3168, 0.03935456729917632), (3265, 0.039317175722384926), (334, 0.03931205401337801), (258, 0.03927885360036589), (1454, 0.039257814312016984), (374, 0.039248454366937295), (4555, 0.03922886341456959), (4334, 0.039198835444052366), (3526, 0.03918648578499119), (4300, 0.03915101775822927), (538, 0.039119057459836196), (4470, 0.039101625912070725), (3426, 0.039078325133873354), (201, 0.03900331875974426), (840, 0.03899318609647935), (2321, 0.038965690708530676), (1231, 0.038959400792246184), (1175, 0.03893464237390564), (123, 0.0389226283856849), (3890, 0.03887165873783588), (481, 0.038869582845729785), (1549, 0.03881157043806545), (1217, 0.03877565458684715), (1792, 0.03869499929384626), (881, 0.038691879394732884), (1039, 0.03868887756386702), (1319, 0.038610511617690545), (1511, 0.03859190210450837), (4436, 0.03858229094203008), (1606, 0.03857673331866167), (2898, 0.038532170496658594), (4388, 0.03850815215884265), (2873, 0.0384911293917669), (1741, 0.03840543299251085), (1365, 0.03839184751964697), (427, 0.0383700455685176), (768, 0.038369358456965263), (911, 0.038369138462096025), (514, 0.03834505094312163), (1028, 0.0383402851514012), (4684, 0.03833286943856327), (867, 0.03831228410080912), (1522, 0.03830465725310103), (3403, 0.038291843786697304), (1002, 0.038282478877993575), (1223, 0.03825459500713242), (3977, 0.0381886095025223), (4218, 0.038175926829904346), (3529, 0.03815155345968336), (541, 0.03810477039976225), (1561, 0.03808336291096478), (1906, 0.03806692269465641), (1566, 0.038053279945568126), (1746, 0.03805292627582352), (172, 0.03804656537788816), (3284, 0.03804327505059579), (3456, 0.03804078584846134), (2436, 0.03798337914702916), (1688, 0.037964635317508946), (618, 0.03796122727501287), (1394, 0.037956996306936636), (4609, 0.0379462541139833), (1702, 0.03793335911905871), (3478, 0.03792639466085115), (2316, 0.03787347800679962), (686, 0.03780788523309721), (2933, 0.03777931664092547), (1709, 0.03775668280727437), (460, 0.03775623137748366), (4018, 0.03774709701962031), (3308, 0.03773925736759555), (4411, 0.037725804378192236), (2792, 0.03767978640197503), (1495, 0.03767271706923875), (144, 0.037647354617029546), (3864, 0.037640372002351444), (4289, 0.03763391930867588), (2814, 0.03758673569179041), (617, 0.03755705066973159), (1565, 0.0375387813059047), (591, 0.0374964745773974), (4314, 0.03745807717522268), (1525, 0.037420234493863155), (898, 0.03736319967739689), (4188, 0.03736276374231897), (3173, 0.03735038289724242), (1756, 0.037331433332229075), (3375, 0.0373287802032207), (2211, 0.037321682501044944), (2001, 0.03731469492364785), (2408, 0.0372917478561743), (4488, 0.03728179691760428), (1011, 0.0372777060274152), (169, 0.037173918346319675), (3397, 0.037172994299134524), (4121, 0.03709941003156614), (115, 0.037089282525699145), (1668, 0.03708587914401515), (2014, 0.03701885977498205), (788, 0.03699831176324056), (846, 0.03699786481408427), (2319, 0.0369859707475621), (55, 0.03694613554763754), (3778, 0.03694265450028433), (2492, 0.03692012430499055), (659, 0.036915294341370274), (1982, 0.036890095890195124), (1613, 0.036886416774416335), (4132, 0.03688316356049194), (2809, 0.03683610760410468), (302, 0.03683466844179592), (53, 0.036811383139009876), (2017, 0.03675328891792067), (4510, 0.03672270187219811), (1951, 0.03667471378366245), (184, 0.03667268124751378), (4347, 0.03664856909091333), (1471, 0.03663923643867552), (2224, 0.03660957722693542), (111, 0.03660744748504929), (935, 0.03660449907574157), (546, 0.03660439381546316), (1366, 0.036597702608891954), (2461, 0.03656868629912669), (2813, 0.036564425738971035), (98, 0.03655681874736586), (262, 0.03655005575019824), (4342, 0.036535448001169), (4487, 0.03646973084897955), (2535, 0.03646654916150679), (981, 0.03646131408492574), (4596, 0.036412377684783545), (2127, 0.03638181511798044), (2117, 0.03637941906701791), (2784, 0.03636252266385576), (4542, 0.03634045007151589), (1825, 0.03633761820774122), (689, 0.036324735024200444), (214, 0.036317701419760234), (2487, 0.03629077322885252), (1461, 0.036265085834680105), (4283, 0.03625353860394884), (3840, 0.036247338604126995), (3498, 0.03616316774045941), (973, 0.0361480086127941), (2274, 0.03614208278473885), (4085, 0.03609729243287348), (1263, 0.03605270557668862), (4271, 0.03604491766291048), (4452, 0.03601930632428925), (1412, 0.036002183793428025), (2731, 0.03597674687095244), (4169, 0.03596988529145279), (3938, 0.03596933807206397), (2009, 0.03593949376699655), (301, 0.035920618703760135), (4462, 0.035917085333547594), (967, 0.03590428031320878), (767, 0.03586405992409993), (1624, 0.03583427670129449), (2780, 0.03582385317526185), (1782, 0.03581841040275252), (1998, 0.03578539167583847), (2977, 0.03577808228029536), (588, 0.03574850073011193), (1518, 0.035729887910269306), (1614, 0.03572103560670935), (4077, 0.03567294811015053), (2207, 0.03564544143910741), (847, 0.035638531335385144), (2534, 0.0356356153552667), (1779, 0.035633965414746636), (949, 0.0356283843231406), (2422, 0.03561552419501687), (2350, 0.03557990590697944), (4050, 0.03555285628977885), (2031, 0.03551262718168148), (2045, 0.035511572970626265), (530, 0.035450612185074094), (1747, 0.035443264512831966), (4008, 0.035395814661425225), (2656, 0.03536921087387326), (2277, 0.03536547687973711), (3238, 0.035357361278060766), (2276, 0.03530988390977925), (2876, 0.03529177946622753), (2540, 0.03528021565591149), (237, 0.03526016493596604), (979, 0.03521509808402326), (1974, 0.035199639702813715), (1599, 0.03517275739039606), (154, 0.035142969621951126), (2367, 0.035121135501988476), (724, 0.03511492516366535), (1487, 0.035107882146959694), (1823, 0.03509612147258759), (1029, 0.03504083963007382), (4003, 0.03501513298380365), (3010, 0.0350030380395694), (161, 0.034942186688403175), (620, 0.03493446031911885), (4006, 0.03491133891026252), (1897, 0.03490750717697899), (233, 0.034897848349552715), (3557, 0.03487652810715292), (3253, 0.034856235636014796), (4264, 0.034844138266951784), (907, 0.03479465347401128), (2668, 0.03471819192845213), (1957, 0.034707927675902306), (2951, 0.034704902556642235), (2203, 0.03464707509640516), (3386, 0.034627985598595985), (3603, 0.034613953499636356), (2807, 0.03459987126415526), (3745, 0.03459986310028242), (2609, 0.03458874353802425), (4721, 0.03452578276202694), (249, 0.03451354799647002), (798, 0.034457953254175507), (4176, 0.03443088576647623), (1512, 0.034421331740676825), (3394, 0.03438079662402887), (613, 0.034377510564489455), (3407, 0.0343652663514166), (2653, 0.034338938879373684), (2846, 0.034323304434829484), (4200, 0.034313929447431356), (4399, 0.03430508051535906), (4619, 0.034286719406668525), (4588, 0.03424377774189269), (1850, 0.034210974043783114), (699, 0.0341614575578441), (1799, 0.03414378759563846), (785, 0.0341431515573672), (2830, 0.0341346600526377), (1245, 0.034131478614706896), (3996, 0.0341120037658062), (1973, 0.03410615082031222), (49, 0.034068839411434605), (635, 0.03403574948020351), (3172, 0.034016513458743694), (886, 0.03400557365827954), (2698, 0.03399144358020746), (1086, 0.033984409675585255), (1516, 0.03396673934758072), (1888, 0.033945552975571856), (1635, 0.03394109543094906), (3395, 0.03389959698988781), (3515, 0.03389369468163119), (1615, 0.03388017336160917), (4089, 0.03385027379842455), (3968, 0.03383979203884471), (227, 0.033829900748183275), (3005, 0.033817472901972165), (1911, 0.033815468698126065), (2214, 0.033787733092088365), (2236, 0.03378431171544785), (2712, 0.03378291876184717), (346, 0.033769239384688156), (511, 0.03374388723939415), (2104, 0.03362595188466211), (2691, 0.03362559032343266), (6, 0.03362337142952708), (1647, 0.03362211614117125), (623, 0.0336198606165508), (1584, 0.03359531407988946), (2221, 0.03357968778396099), (529, 0.033555495326746884), (2511, 0.033547591852002644), (1479, 0.03353936055511138), (3906, 0.03353207059344762), (3045, 0.03352365942600852), (707, 0.033508008830611946), (2640, 0.033465821445175056), (1324, 0.0334380319694486), (4210, 0.033376372493511254), (4498, 0.03336079384214523), (4259, 0.03334939041978927), (2840, 0.03332005898648747), (3671, 0.0333176857279635), (1812, 0.033301996651611786), (2486, 0.03329175924886217), (2564, 0.033252314701533836), (2265, 0.033243464096841445), (1968, 0.033225968963076224), (3144, 0.0331952506783265), (3317, 0.03317176319886669), (2493, 0.03313456976165002), (4448, 0.03313307445040703), (3218, 0.03313266473033297), (4652, 0.03312750553462948), (2522, 0.033119458141684446), (2441, 0.033114531543046034), (349, 0.03305484720628375), (2546, 0.03302776005678702), (3241, 0.03302409228860999), (299, 0.033002889166316524), (3154, 0.03296677602693708), (2632, 0.03294904143955217), (803, 0.032878985573340576), (79, 0.03286580868184336), (1542, 0.032818641118036465), (3118, 0.032812579212524645), (769, 0.03280828359099388), (1453, 0.032805992849135816), (2287, 0.032797325141551925), (4002, 0.032793688851721924), (2167, 0.032789609017588206), (523, 0.03277076179544172), (3644, 0.03276571989356546), (3963, 0.03275099028886109), (1666, 0.03274172474884013), (2672, 0.03268248670363651), (322, 0.03267666008493493), (974, 0.032649429400477874), (2633, 0.0326271698716101), (1396, 0.03260174238731341), (2046, 0.03257800778134082), (156, 0.03257090765102276), (4486, 0.0325641719989672), (2689, 0.03251815109592286), (940, 0.03249893566582443), (1908, 0.032492154745897756), (3516, 0.032491114024492035), (332, 0.03248936261422587), (2039, 0.03248760724972397), (4658, 0.032439129204321286), (1422, 0.03241854184493448), (3153, 0.032411360481797956), (1054, 0.03234642154219915), (1768, 0.03232915721697526), (2835, 0.032312745250558356), (3019, 0.03223317171461924), (923, 0.032192538725565406), (3868, 0.032183044829083185), (3220, 0.03216598982849635), (2791, 0.03212544214205714), (29, 0.03209160357055785), (3499, 0.0320826823002942), (924, 0.032051510185351545), (2850, 0.03202739092245924), (962, 0.031994869545672114), (3121, 0.031991298746398736), (2122, 0.03198560515857563), (1527, 0.031961340982599486), (410, 0.03195504398330048), (2309, 0.03194563218326715), (4286, 0.031916947289741704), (22, 0.03190460522891306), (3915, 0.03190397096862127), (331, 0.031879955748323696), (4604, 0.03186882581873392), (4007, 0.03185240091094305), (4327, 0.03183673045042693), (956, 0.0318151784376709), (2258, 0.03178264333541726), (1358, 0.031769097396484786), (4069, 0.03172319478386888), (4589, 0.03171014780397897), (309, 0.031697154990038286), (4708, 0.03166919583937136), (204, 0.03166373750422273), (484, 0.031662258130685385), (782, 0.03163607635989986), (3646, 0.03162371799163093), (345, 0.03161368930270231), (1464, 0.031603145293515746), (399, 0.03158017602223937), (221, 0.0315678213035532), (3082, 0.0315578293247243), (3071, 0.03150442261694396), (2427, 0.0314693352009307), (2269, 0.03144221780945032), (4757, 0.03144141476475778), (9, 0.03142442817063111), (107, 0.03140357886054654), (173, 0.03140341230421844), (0, 0.031389805561765814), (619, 0.031367990296451674), (1321, 0.031349884749880465), (1492, 0.03133867771949414), (2058, 0.031280709354104284), (2899, 0.03125020951020202), (455, 0.031248109712184995), (3858, 0.03123634208790276), (2626, 0.03121315554996746), (100, 0.031179005483521004), (241, 0.03117386965350651), (4345, 0.031153412985791943), (1208, 0.031143795281209086), (3461, 0.031081494748929163), (122, 0.031072649752047626), (4435, 0.031071581227642114), (2740, 0.031064235930700537), (1533, 0.031019442339978536), (3133, 0.031016012513717373), (3601, 0.03096405491080833), (2177, 0.030960681238925893), (4670, 0.03095475589971672), (938, 0.03094987197998996), (1793, 0.03090033717725875), (456, 0.030849506257636418), (1539, 0.030822933603197364), (2940, 0.03080730220747802), (4269, 0.030776482430484857), (4324, 0.030752737474095675), (3525, 0.030740043106667107), (2447, 0.03073833432381468), (4125, 0.03070503698688145), (1981, 0.030698865609356966), (2645, 0.03068843087253256), (2699, 0.030671011645123467), (1996, 0.030663673911307684), (3658, 0.03065996865204662), (2037, 0.030655988038350596), (978, 0.030617830457996723), (397, 0.030592172738379702), (929, 0.03059214040875062), (4351, 0.03057486151466889), (2870, 0.030555669103972845), (3512, 0.030543732800938393), (828, 0.030530342907792916), (1201, 0.03052118599969155), (2229, 0.030510658127723293), (2777, 0.03050565300824877), (166, 0.03050534936851945), (3772, 0.030489117754875464), (2978, 0.030458850958655956), (2448, 0.030433445068210656), (928, 0.030398728824055084), (4332, 0.03039154303754931), (3164, 0.030370920629432408), (4255, 0.030364418335704586), (2285, 0.03036191867382944), (1679, 0.030352417739895308), (2863, 0.030327164890972643), (2834, 0.030306416860476703), (3626, 0.030284286849491637), (4280, 0.030274241263949765), (2460, 0.030265897290876895), (1382, 0.03026442585210137), (4699, 0.03026000644192335), (586, 0.03024859214063402), (384, 0.030193485210942755), (3577, 0.030189254032633627), (2062, 0.03018598510555901), (3271, 0.03016413160260156), (2821, 0.030137846545315636), (616, 0.03011981168584335), (691, 0.03009070495270202), (1961, 0.03003902050346182), (491, 0.030010206016092576), (2338, 0.029997300784493103), (4459, 0.029991161548724374), (4551, 0.02998261121784631), (2799, 0.029957658151018637), (1896, 0.029956265143583793), (4009, 0.029914171536295456), (1950, 0.02990015172680614), (1718, 0.02988458695403691), (810, 0.02987277450588699), (1215, 0.029862804732749236), (2892, 0.02984825142859994), (543, 0.029831215432673502), (2202, 0.029825733874894757), (109, 0.029822551439722546), (3246, 0.02979368078612597), (3327, 0.02978092864350049), (800, 0.0297786607843498), (1923, 0.02975495305342589), (2652, 0.029745934649385606), (3665, 0.02973619576944343), (365, 0.029723366582399945), (683, 0.02971166855779737), (4252, 0.029707449281314472), (2032, 0.029705168926944032), (2174, 0.02970040512564374), (3063, 0.02969504709333306), (3179, 0.029694336858043582), (424, 0.029663060691212627), (4403, 0.02965058311639577), (3433, 0.02964689466448321), (425, 0.02963732468691123), (105, 0.029628976436649676), (3941, 0.029618114692626547), (1886, 0.029610166771990055), (1136, 0.029581245992944864), (4333, 0.029566883531240363), (1232, 0.0295598422013159), (2334, 0.029532329622234336), (1523, 0.029516943775718743), (1555, 0.029508156913558774), (2610, 0.029503067389901834), (1751, 0.029501600584154943), (2841, 0.029501381724137823), (1893, 0.029444671280688308), (2144, 0.0294437475960988), (1997, 0.029434609085452958), (1803, 0.02943150861323729), (256, 0.029431364469359046), (763, 0.029430887363590792), (1619, 0.02940197858304578), (1689, 0.02939059602928929), (3166, 0.029381911296852223), (3283, 0.02935847538111324), (869, 0.0293334767611117), (575, 0.02930469697458723), (2984, 0.02929905400897035), (2004, 0.02928281327461719), (4140, 0.029273296135222438), (551, 0.029214233225721094), (4056, 0.029214166377456306), (3876, 0.02920277714847275), (211, 0.029180089257160292), (3547, 0.029176377864192155), (3936, 0.029173622831681734), (440, 0.02915512914019763), (904, 0.029154346844714362), (225, 0.02915348910713203), (1096, 0.029150484811419478), (1482, 0.02915014795147314), (291, 0.02914434783426599), (2237, 0.029134118137291717), (2894, 0.029132641326089538), (4321, 0.02911315367177846), (874, 0.029098428145820816), (1965, 0.029096030677476025), (3197, 0.029078683702551646), (3233, 0.029049947584001812), (1935, 0.029045931467074217), (4051, 0.029038759356136357), (3270, 0.029023749505003332), (583, 0.029009199851207982), (4431, 0.028973333278932242), (2838, 0.028972584232745676), (3818, 0.028971118826948597), (2820, 0.028965551564131633), (469, 0.02894860195576935), (4203, 0.028942177912850305), (775, 0.028937215425178207), (568, 0.028913528217961625), (1658, 0.028912059232507895), (19, 0.028909640014530318), (4190, 0.028903171786274655), (957, 0.028871556793070338), (3464, 0.02886912324632642), (742, 0.02884546182384291), (4344, 0.028843312152932343), (3712, 0.028771563090518926), (752, 0.02876707779082014), (1229, 0.02872978342849461), (2327, 0.028712503129234748), (3730, 0.028701445163733953), (1359, 0.028690055963624048), (2219, 0.02866911813566058), (445, 0.028652339569785967), (1093, 0.028649580414670254), (217, 0.028628859733557693), (4515, 0.028626025352876353), (3150, 0.02859919530519413), (106, 0.02859443762248541), (4298, 0.02858882163741002), (451, 0.028576092562018224), (3367, 0.028552823644681584), (2665, 0.028542353098467806), (3143, 0.028540712624553145), (3022, 0.028530990221325866), (408, 0.028502059964978323), (1501, 0.02847467956152079), (218, 0.028444159245155698), (1105, 0.028429075847059764), (2322, 0.028403716254971158), (472, 0.028403691397072345), (3564, 0.028402413242559876), (3931, 0.02834962798204388), (1662, 0.02833430153747369), (215, 0.028316578440947086), (3001, 0.028313698074063337), (38, 0.028303769303117128), (2068, 0.028283214520296134), (3260, 0.028279372093512327), (61, 0.028277903348624227), (1390, 0.028247399036747202), (3226, 0.02823351157525318), (1018, 0.028232022353484567), (1865, 0.02821754367651733), (502, 0.028197797391846684), (2985, 0.028144735155269055), (2069, 0.028141427078692542), (402, 0.028136244965485408), (1636, 0.028135622392167638), (1952, 0.028132015718305012), (4055, 0.028118241615854096), (640, 0.02807859102230965), (1101, 0.02807448566721568), (2398, 0.028054950898392498), (102, 0.02804512964150038), (3822, 0.028035266260081227), (4149, 0.028017784711306587), (1617, 0.02801131115152761), (1928, 0.02799989500070926), (565, 0.027966568689789507), (2722, 0.027962573643504067), (415, 0.02795426612126471), (3299, 0.02795224443935126), (3568, 0.027936755032505978), (1575, 0.027918484249283424), (3227, 0.027918208890955074), (2895, 0.02790559393752513), (1517, 0.02788997212783276), (4194, 0.0278852354180699), (441, 0.027883338984642358), (1144, 0.027858688739250417), (2512, 0.027848281728661967), (908, 0.02782767520106031), (897, 0.027799536933151164), (2845, 0.027785429710890888), (2444, 0.027785382298234775), (3214, 0.027718270244074188), (1562, 0.027697169493035006), (4722, 0.0276934349237415), (3259, 0.027689588393513626), (1310, 0.02766446755113005), (1362, 0.02765822228387163), (1827, 0.02765260680963902), (1551, 0.02763664664074138), (2064, 0.02762927153726491), (129, 0.02760968994912702), (4013, 0.027582475566344824), (3914, 0.027574919150349562), (4539, 0.027560274116156382), (948, 0.027525256093952757), (18, 0.02751282591387441), (3716, 0.02750933902457184), (454, 0.027484024725623262), (687, 0.02747795142152276), (200, 0.027458542180423935), (2061, 0.02744020891205313), (4171, 0.027419613191021115), (1873, 0.02737268929333988), (3193, 0.027364046219413695), (2763, 0.02735759300264606), (4472, 0.027349150341006608), (449, 0.02733765988948148), (594, 0.02733354384172801), (3028, 0.027287573706288776), (216, 0.02728535740301938), (2268, 0.027271532298975103), (2072, 0.027271497771702152), (528, 0.027253758830433746), (2928, 0.027229766032139745), (78, 0.027214096506513), (1191, 0.027198919771658968), (2805, 0.027167138385768924), (3845, 0.02714908998473596), (3829, 0.02713390996789887), (4646, 0.02712978019890902), (690, 0.027129635457851062), (401, 0.027127733142246094), (4084, 0.027115087416568054), (696, 0.02711143752194871), (1473, 0.027110859061488413), (749, 0.027108358719600545), (4159, 0.027102110937553197), (3819, 0.027091059912650435), (395, 0.027076973216922325), (545, 0.02705320521056912), (3780, 0.027050225300720744), (3388, 0.02700276854157293), (3111, 0.0269816339957243), (758, 0.026960724701386198), (692, 0.026944056978275985), (4565, 0.026926529378528075), (2789, 0.02691077468994075), (3902, 0.026891011369423692), (1275, 0.02688858140837202), (1480, 0.026879011345647415), (2730, 0.02685951811135305), (4478, 0.02685777627059628), (3316, 0.026836871334503097), (3135, 0.026775504465004447), (2210, 0.02675879226359011), (1742, 0.026751557391624603), (3293, 0.026726993325440616), (1115, 0.026709288917105507), (4465, 0.02670732393960372), (1700, 0.02669739720039426), (1345, 0.02669388980281067), (2259, 0.02668613986878723), (4600, 0.026684511582671072), (741, 0.0266481186419463), (778, 0.0266435223072837), (33, 0.026641768971019896), (2133, 0.02659497541386457), (4395, 0.026592152520754198), (2111, 0.026587973637334283), (60, 0.02658524861981776), (1026, 0.026583718543313963), (2992, 0.026583661621899415), (177, 0.026575798234230293), (1559, 0.026548771371649217), (1288, 0.026530594503452493), (3579, 0.02652783430879946), (3826, 0.026524054407889835), (3752, 0.026484358319647287), (960, 0.02648104545473913), (939, 0.02645671247004896), (4109, 0.026433354609787806), (2252, 0.026423814345365358), (1221, 0.026423578932205705), (4748, 0.0264115104227747), (159, 0.026408313104601837), (2968, 0.026397522129219586), (2562, 0.026374422813475573), (4312, 0.026348783229526888), (3152, 0.026330720953691482), (1496, 0.02632375115790717), (1179, 0.02631486366566898), (3342, 0.026272068930132064), (2568, 0.026270651401039253), (3563, 0.02626965987151547), (3910, 0.026168100569174783), (577, 0.0261643452616385), (2859, 0.026157018307452144), (2936, 0.02612705001678714), (3696, 0.02612696345543506), (1143, 0.026115780974481764), (2603, 0.02610201802131372), (1006, 0.026085738367936068), (3124, 0.026081373709003965), (3228, 0.02606745502955338), (2071, 0.026060832907137364), (3831, 0.026045139398334027), (2622, 0.026025847012307403), (590, 0.026025798888059927), (4732, 0.026008792916305246), (3222, 0.02599234603955276), (1744, 0.025958878432682315), (4265, 0.025954598173026932), (1376, 0.025916679006130594), (1114, 0.025909508597782648), (4382, 0.025906837534994093), (3103, 0.025866375657777895), (1994, 0.025848449619977634), (3122, 0.025845018197512122), (2920, 0.025836572323485997), (1001, 0.025820827272959635), (1790, 0.025781881254967866), (2318, 0.025739987377636827), (1140, 0.025736623867621003), (3841, 0.025730915719229315), (2176, 0.02572495344995765), (1987, 0.02571414147631627), (1379, 0.025707419477404948), (772, 0.025677701483784905), (4297, 0.025670472959554855), (2205, 0.025634333643751107), (63, 0.025623127490841384), (3541, 0.025616791614499125), (3815, 0.025611794780168843), (3867, 0.02560551779023828), (1914, 0.025600384934642815), (3569, 0.0255825060327564), (2908, 0.025580774969606535), (4602, 0.025567529326584994), (1398, 0.02556642733159193), (3586, 0.025560706068655112), (4046, 0.025557917684615516), (338, 0.025557779155612557), (3634, 0.02555678744587169), (4094, 0.025554776243519827), (1156, 0.02553799209892659), (1286, 0.025517121048636383), (2055, 0.02549495863261568), (2348, 0.025493526112874844), (890, 0.02547704724976571), (746, 0.02546258534795988), (2339, 0.025442439602555822), (3076, 0.025435453854546198), (1851, 0.02543185800240163), (1041, 0.02543064564555203), (2156, 0.025387386800860917), (4669, 0.02538041229523789), (3743, 0.025375580919727476), (722, 0.025372857913529244), (1364, 0.025365235056473527), (3783, 0.0253436239461127), (1875, 0.025335598965383933), (1808, 0.02532460441947458), (1863, 0.025321795092951092), (188, 0.025315654612253095), (3650, 0.025288681098233068), (1550, 0.02527978825078528), (2587, 0.02525366104970663), (2862, 0.02524838306509547), (2234, 0.02524086756364452), (3598, 0.025238424683794176), (1521, 0.025230875377223405), (2382, 0.02521761823470891), (4157, 0.025209256083111094), (1402, 0.025205082211104277), (3157, 0.02518359215838148), (988, 0.025163679179845633), (1737, 0.025117431638701233), (3633, 0.025088741696828155), (1124, 0.025084069183779464), (702, 0.025042090803610403), (3313, 0.025026191515262954), (4217, 0.02500550396053488), (901, 0.025004022701456963), (638, 0.02496874726605129), (4262, 0.024954695361942232), (1738, 0.0249250931795083), (3594, 0.024923300523611792), (2839, 0.024921759128729407), (1220, 0.024901532591477146), (857, 0.02489047635959314), (477, 0.02486718286111111), (3303, 0.02485909254295858), (1654, 0.024813765156273454), (1226, 0.024811412516024117), (1648, 0.024794769911743193), (2924, 0.024786923035067472), (1664, 0.02478616799382863), (2525, 0.024782663626989797), (3279, 0.02477975903193016), (4093, 0.024779682293015144), (3533, 0.02476981836821818), (261, 0.024766914661297233), (2597, 0.024732149264079163), (2022, 0.024723637963552435), (2671, 0.02472238261332258), (3408, 0.024716035718449637), (4379, 0.02470653364821772), (2311, 0.02469816067470026), (3959, 0.02469797453013012), (1572, 0.02469748706877426), (688, 0.02468009080038946), (1403, 0.024675385697808857), (3401, 0.024672823280656186), (1486, 0.024669900543061354), (3748, 0.024668126291625563), (3812, 0.02465611398601971), (1377, 0.024600119173301696), (2793, 0.02459695951528975), (4033, 0.024584288383255132), (1528, 0.02458314563631965), (918, 0.024579202892145546), (504, 0.024575862335183437), (3199, 0.02454640322249107), (1583, 0.024541807385740536), (4481, 0.024526586569994468), (1170, 0.02445567922697408), (426, 0.02443561076389236), (3318, 0.02441622980411713), (1439, 0.024410176396893937), (2638, 0.02440554135485302), (128, 0.024398798332991606), (2615, 0.024389605900770044), (3027, 0.02437906879072361), (4354, 0.024377735560806798), (171, 0.024367137562380056), (2128, 0.024354739178778832), (260, 0.024348041678295344), (952, 0.024341531174447324), (2065, 0.02434007365503697), (1384, 0.024303899257332985), (4525, 0.0242978774282318), (4419, 0.024293716232778956), (76, 0.024284149616662667), (3681, 0.024267845650506457), (62, 0.024264428856520637), (2482, 0.024259147548995517), (4064, 0.024250893626676182), (1988, 0.02422391543472825), (373, 0.024209694679113433), (2519, 0.02419994820421143), (4543, 0.024196788765201142), (409, 0.02417249852157986), (4420, 0.02417222164455224), (448, 0.02416948437849041), (1459, 0.02414002712759975), (4360, 0.024095374395217237), (1375, 0.024079053937054576), (2724, 0.02407395122771012), (4597, 0.02403710233168871), (2560, 0.02403272145971513), (1880, 0.024026963203693075), (955, 0.024001697379108643), (3127, 0.023990251746422386), (3454, 0.023989716892901372), (4158, 0.023980105915832287), (1446, 0.023927312058142795), (1608, 0.023913716807166224), (1534, 0.023913136678849246), (4563, 0.023895842752162076), (1722, 0.02388704200007856), (2240, 0.023879124616294337), (2385, 0.023877900110184112), (3445, 0.02387603143892831), (3814, 0.023854186956573854), (4679, 0.02381822555492922), (3842, 0.023808755683745478), (1821, 0.0237898482521882), (3042, 0.02377220019202363), (3489, 0.023771252099943803), (1092, 0.02376149714418096), (243, 0.023755515845896993), (352, 0.023744387322573), (1652, 0.023741533235408566), (2706, 0.023737499551413042), (145, 0.02372964189959103), (2112, 0.0237078281324039), (3282, 0.02370104636527759), (3991, 0.02369069343909994), (1339, 0.02368083969323643), (3004, 0.023626392275099876), (411, 0.02361223058208988), (1103, 0.023601468058821098), (3928, 0.02358744690227406), (4719, 0.023562796193366778), (65, 0.023552842694651095), (2303, 0.023548676761953), (4501, 0.02354357540221753), (4263, 0.02354021431076169), (2812, 0.023530868614053662), (4257, 0.023521069380295547), (3286, 0.02351894119201145), (2416, 0.023501858721495017), (1197, 0.023491579736897077), (1214, 0.023489533510661735), (1743, 0.023484079393677578), (1043, 0.02347310681536336), (2029, 0.02346684512955336), (3211, 0.02345683484729802), (3970, 0.023455843515006757), (2410, 0.023446607994749256), (2481, 0.023425711540157317), (604, 0.02340261809068587), (3446, 0.02338147945315061), (1750, 0.023377436265240605), (497, 0.023364540397850214), (36, 0.023348407579821488), (1755, 0.023337194516572648), (2354, 0.02333676019479821), (883, 0.023335088155215105), (1845, 0.02333113187928811), (1895, 0.023330865802440103), (2969, 0.023330707992324076), (3459, 0.023325553125381683), (2817, 0.023310187718954732), (1171, 0.023302692882220907), (2182, 0.023294525488945755), (3470, 0.023286265250222222), (3713, 0.023285190231292108), (2304, 0.023284611310190963), (2086, 0.023282836455504895), (783, 0.02326513962012053), (547, 0.02326114467862216), (3506, 0.023258410952806785), (1759, 0.023234043303527758), (178, 0.02323298295056201), (3204, 0.02322692947955695), (2571, 0.02322290739694033), (1645, 0.023220825536140105), (1046, 0.023193889991362793), (3889, 0.023179144701061888), (527, 0.023176610608337405), (3823, 0.02305860181410196), (2397, 0.02305675992057272), (3667, 0.023056478568630957), (2497, 0.023050256092108187), (1010, 0.023038972612626628), (1451, 0.02303620383471255), (1369, 0.023023576129112138), (3261, 0.023011550365981917), (417, 0.023005217133418705), (2280, 0.022982057637638664), (3803, 0.022971702693577678), (1199, 0.02296098994206646), (2624, 0.02295798485829911), (112, 0.022957183883449337), (319, 0.02295306431059221), (3474, 0.0229322337825896), (4071, 0.022920514180012043), (3130, 0.02291760189854488), (4328, 0.02291053451947579), (1308, 0.022907641765770894), (537, 0.022894285210385307), (2629, 0.02289179038322016), (3272, 0.0228783827102369), (279, 0.02286870399317167), (1881, 0.022864922841977612), (1816, 0.022850622194516022), (3225, 0.022830420969638637), (1585, 0.02281340120603989), (2226, 0.022786521347016545), (3616, 0.022779707024329108), (3580, 0.02273014131875625), (2381, 0.022696031591698272), (3264, 0.02268075549531829), (2283, 0.022675707993760178), (1784, 0.022662766857552027), (1855, 0.022658036996830527), (540, 0.022634507923468702), (15, 0.022629595606704064), (1354, 0.02262363146024397), (2544, 0.022617395135647058), (3549, 0.02260826909329754), (708, 0.022597281470730913), (306, 0.022595823017577298), (3711, 0.022595700179741194), (1075, 0.02258264152115705), (2790, 0.022572992938919734), (4524, 0.022568725840753902), (293, 0.022537855734647345), (1249, 0.022537243155233068), (971, 0.022501373132201304), (2431, 0.02249904816361023), (2007, 0.022493911620350845), (1771, 0.022483255889001737), (1502, 0.022470133818208442), (1277, 0.02246269728647371), (3926, 0.02243696609684087), (3161, 0.0224178875579418), (2368, 0.022413412984032426), (3746, 0.0224118956228774), (3108, 0.022409824021839803), (3487, 0.02240535463668303), (3033, 0.022388275867411055), (2619, 0.02235182593810684), (110, 0.02234212016286994), (1868, 0.022331924771520545), (369, 0.022316037237483703), (1656, 0.022315533670295856), (4463, 0.02231428933025577), (1991, 0.022311114339935594), (2687, 0.022304344006715326), (3232, 0.022279408325582995), (4727, 0.02227564321445675), (1238, 0.022248266270172394), (52, 0.0222428773265625), (2159, 0.02223707435223861), (1780, 0.02223269204046038), (170, 0.022220648896413852), (3689, 0.022217676684012522), (1484, 0.022193923025802764), (3384, 0.022172256656337958), (3774, 0.022161148160045004), (1986, 0.022153980270312918), (1256, 0.022151529019380244), (2688, 0.022138741407091156), (4290, 0.022134657806682927), (4706, 0.022129570117508844), (152, 0.02210946371995271), (1819, 0.02210083125766938), (2574, 0.022098181097546653), (2346, 0.022097822199452437), (3846, 0.02209706506066917), (631, 0.02208540602113161), (1408, 0.022079621391521684), (2818, 0.022056912261561604), (340, 0.022039607303174752), (3654, 0.022022158858097753), (3979, 0.022015215344053977), (1817, 0.022008867714913852), (3132, 0.021984418825158246), (2591, 0.021953203729141113), (1804, 0.021927025524536663), (885, 0.02191098291913225), (1590, 0.021902532573706605), (3229, 0.02190050297966404), (3201, 0.02185982136199211), (4336, 0.021854469722272188), (3643, 0.02182137589276121), (4136, 0.021813505192547135), (1153, 0.021811810943231404), (3357, 0.02180845046837555), (488, 0.021801822803165054), (3538, 0.021795569636153776), (2911, 0.021792868589569296), (1393, 0.021783461104043136), (4293, 0.02178082823101867), (1595, 0.02175244617396322), (629, 0.02174662937723827), (1601, 0.021745099381310553), (2611, 0.021734725014564676), (2746, 0.02173117776396153), (4270, 0.021715592497762875), (1985, 0.021704836866628736), (209, 0.02167449201371437), (4591, 0.021673332664652226), (1267, 0.021655008039189506), (2109, 0.02165234791776907), (1107, 0.021644155153406897), (3134, 0.021642163467270825), (2738, 0.021617680564055004), (2389, 0.021608080126509742), (2056, 0.02158642927346433), (1067, 0.021569209094209132), (521, 0.02156766724964437), (2917, 0.021547507980933175), (1878, 0.021525593053231463), (4199, 0.021525369765347687), (3097, 0.02152313855077076), (64, 0.021499897039921733), (2188, 0.021494894025534093), (579, 0.02147217323403752), (2720, 0.021469631761736274), (562, 0.021464213843008964), (1580, 0.021446174388658548), (1605, 0.021431526769625057), (1526, 0.02140653039053426), (1567, 0.021379460078732558), (2332, 0.021378927373196407), (358, 0.021374719018545336), (386, 0.021359501736530444), (1678, 0.021357190506125973), (560, 0.02134260850799992), (1427, 0.021336646588237855), (2246, 0.021238274665848062), (4294, 0.0212374481517474), (312, 0.021233024514136084), (4146, 0.021231501238641058), (3044, 0.021216864959843103), (3444, 0.021207667070548317), (160, 0.021145343267716707), (275, 0.021120694314765508), (1314, 0.021119512643627956), (2465, 0.021109032784127763), (2300, 0.021096825754052386), (4685, 0.021088473244135902), (175, 0.021083535298245207), (1312, 0.021070884340471684), (3046, 0.021067432782952672), (508, 0.02106306946485937), (4182, 0.021054544056827256), (1387, 0.021046101147301096), (2539, 0.02103789988266165), (3637, 0.02102047766790589), (1112, 0.021016957366639756), (23, 0.021014751189773563), (870, 0.021003455421885652), (1177, 0.020986948678030633), (389, 0.020916018544659028), (2103, 0.020915568096461334), (3909, 0.020899943810812734), (872, 0.02089621716839546), (116, 0.020895996282477642), (2195, 0.020884403280410968), (2897, 0.02088063700019384), (4295, 0.020866098340728625), (2771, 0.020840678168606512), (292, 0.02084014249545454), (485, 0.020827910837929925), (1876, 0.020825304494853376), (4574, 0.02080984919958081), (4011, 0.020792991581477755), (2874, 0.020790592999493866), (1532, 0.020790218217632127), (2049, 0.020743687569078986), (1990, 0.020741979080683377), (1347, 0.02073697919715499), (3011, 0.020731501032937676), (3982, 0.02073054113245249), (4717, 0.020716693860551152), (3128, 0.020711216066890255), (422, 0.020694063416344437), (1261, 0.02069313778596617), (1552, 0.02067797098234097), (951, 0.02065714087007965), (2129, 0.020643925230318882), (1730, 0.020627572630620303), (944, 0.020627570504569814), (4193, 0.020616158913752652), (1121, 0.020584429658473572), (3504, 0.020573941525033352), (1769, 0.020570924062997622), (81, 0.02054490326556206), (1122, 0.020530860237251432), (3089, 0.020529305285511994), (3304, 0.020527989774728285), (821, 0.02051563790814594), (4474, 0.020463863040542752), (3151, 0.020461139459930923), (494, 0.020449857572949696), (3784, 0.020445299512736055), (3797, 0.020388443197050757), (493, 0.020366357615851677), (232, 0.02036246308171532), (1778, 0.02036181921740652), (668, 0.020352104031847215), (3314, 0.02034398824468389), (2718, 0.02031351283260637), (2116, 0.02030786191618944), (1222, 0.020307390166769544), (3323, 0.020301335150890658), (1727, 0.02029442509334136), (3558, 0.020289962129426), (414, 0.020280476108086577), (90, 0.020276870913285748), (2370, 0.020248304332110095), (4506, 0.020238469364325898), (344, 0.020235047425438746), (3315, 0.020234758764765957), (4292, 0.020227730900009202), (3969, 0.02021175922055006), (1971, 0.020211669338145034), (738, 0.020203265472189605), (1421, 0.02018650476083876), (3175, 0.020151117289747597), (3523, 0.020149972226637974), (873, 0.02013743697738318), (1172, 0.020137368761110382), (4534, 0.02012830866820251), (4341, 0.02010806778108685), (2957, 0.020100633426643342), (1690, 0.02009575108622676), (3410, 0.020092386099834235), (1984, 0.02009233878497627), (877, 0.020089498524450654), (1733, 0.020085416811963425), (664, 0.020080023302259775), (1206, 0.020079724497362644), (748, 0.020068340979913116), (3399, 0.020067904019539947), (465, 0.020064476817935654), (4086, 0.02005558747119589), (660, 0.020037175490469808), (3329, 0.02003309124764012), (3177, 0.020031258046611766), (3629, 0.020021966212297782), (3789, 0.02001940436009204), (4451, 0.02000036152741609), (416, 0.019983394156780365), (3865, 0.019977411320180022), (318, 0.019972362715184315), (4731, 0.01994130218854454), (1273, 0.019928611434739046), (1864, 0.0199157678208631), (2335, 0.019911522307528594), (600, 0.019900347203923266), (644, 0.0198917388344561), (32, 0.01988942575845245), (190, 0.01988613716767594), (2649, 0.019855023388888383), (335, 0.019847800428124538), (1810, 0.019834244568531775), (2292, 0.019824158641692378), (2678, 0.019813606600505143), (126, 0.019795922433162073), (789, 0.019791538519181563), (3552, 0.019786712709240872), (4095, 0.019776510457216435), (1993, 0.019759591210757675), (1772, 0.019756327359794768), (549, 0.019742052133228532), (4649, 0.01972630070214942), (1907, 0.019717959992388148), (2352, 0.019715774202979233), (2581, 0.019682612722144777), (3657, 0.019665304101599574), (2377, 0.01966039350945588), (3243, 0.01965091972024232), (1699, 0.019613638819462008), (1537, 0.01961228015704409), (4141, 0.019595333628869577), (615, 0.019590994263232155), (196, 0.0195733879665914), (2958, 0.019572837917671265), (1125, 0.01956146128444012), (4010, 0.019559591286443447), (1344, 0.019555807289780222), (46, 0.019527082746645084), (510, 0.01952642829961302), (2744, 0.01950085460382874), (4610, 0.01948019851997144), (1247, 0.01947765560857466), (3708, 0.019475625063986094), (137, 0.019471293465224953), (2363, 0.01946483108759942), (4733, 0.019443978142709033), (4444, 0.01942624205251505), (2095, 0.019424512720040883), (4418, 0.019420825621803056), (4689, 0.01941603130798534), (2654, 0.019392041030804705), (2353, 0.01936158254345364), (927, 0.019334907506821833), (3895, 0.0193333991665511), (820, 0.019310378319763892), (148, 0.0193092568716752), (1266, 0.0192947223527727), (2442, 0.01928468914490109), (244, 0.019283148586834338), (2227, 0.01927811263798102), (1250, 0.019276006848969005), (1135, 0.019242136847259637), (1748, 0.019236355074349135), (3178, 0.01923505689171848), (3275, 0.019203536600449427), (710, 0.019177758896517107), (4075, 0.01917133935096341), (83, 0.01916490439221156), (3540, 0.019163204950673907), (4359, 0.01915522433929222), (582, 0.019142071095003276), (1660, 0.019139676297488566), (2057, 0.01911603118690121), (1913, 0.019091020903369862), (4650, 0.019085366345376498), (3694, 0.019061004136695786), (141, 0.01905833112867378), (3269, 0.019051850813274308), (186, 0.019039199521774332), (1515, 0.01903558443754717), (4105, 0.019027623010776908), (573, 0.019013155444413603), (2469, 0.018996301573166587), (3872, 0.018994475172850068), (892, 0.01897438606034524), (4741, 0.01893264686419602), (970, 0.018926320088714886), (1374, 0.018926024420319872), (4499, 0.01891267165384677), (3355, 0.018902369281228678), (3406, 0.01887415649538554), (1152, 0.01887244032443266), (3235, 0.01886178953024082), (2115, 0.01884653360437376), (1651, 0.018816457638640375), (605, 0.018806316320811187), (830, 0.018799746977805815), (4739, 0.018796727210487363), (1303, 0.018796713667368976), (3188, 0.018783813417972403), (2972, 0.018775412521406097), (2618, 0.018773194944097984), (1149, 0.01876607537786564), (1970, 0.018761062720311177), (2166, 0.01875917280503319), (2503, 0.018753932563831045), (3733, 0.018746686389029526), (2906, 0.018733151579601152), (2035, 0.018709730644165125), (3956, 0.018700511685009143), (2449, 0.018653801046172504), (1655, 0.018644611800844486), (2655, 0.018627684031130708), (2099, 0.018617672254651215), (2165, 0.01860568267655584), (2942, 0.018587046693047025), (174, 0.018585569225251213), (4135, 0.018578260789682447), (2842, 0.0185618806994984), (1729, 0.018540553256736203), (2855, 0.01853833895515014), (255, 0.018527882435850157), (3739, 0.018519823610089556), (153, 0.018512264689381944), (2617, 0.01849823189379232), (3638, 0.018489412964115888), (1346, 0.018477015442393184), (3878, 0.018474259267240622), (536, 0.018465692908256018), (4612, 0.018461719503951424), (347, 0.018434265945250508), (4242, 0.018423476555793586), (1589, 0.01842092024038936), (2801, 0.01841672209123066), (823, 0.018414289236343848), (632, 0.018397903927153802), (871, 0.0183756708081856), (2070, 0.018372758995134346), (1034, 0.018369791638739343), (3905, 0.018353814577883584), (1027, 0.01834248778616536), (113, 0.018341786724898786), (4148, 0.018341606415792175), (3593, 0.018341017974969193), (3575, 0.01831512934000398), (926, 0.018298524407686905), (4660, 0.0182869697486431), (1146, 0.01828637997785777), (376, 0.01825013281818848), (1504, 0.018237302047955498), (1758, 0.018213615832943834), (888, 0.01820959009732255), (1944, 0.01819093485796591), (4394, 0.01817761596471425), (2380, 0.01814922656473528), (1272, 0.01814295081454728), (1695, 0.018131341625233274), (3554, 0.018130395386617607), (2440, 0.018108118466730026), (3725, 0.01809660326217609), (1684, 0.018082699846267748), (3451, 0.018079504575511447), (509, 0.018062184997129183), (3290, 0.01805555989964327), (1355, 0.01803631692024639), (2756, 0.018030109952748844), (3300, 0.018026270923120404), (2761, 0.018019397051219483), (3821, 0.018014020421658603), (419, 0.01799272227055549), (1949, 0.01798837917276554), (2079, 0.01798056932115342), (1740, 0.01796675346820983), (2286, 0.01796331243862624), (2150, 0.017947780066455806), (824, 0.01794377469697252), (3287, 0.017937468189458895), (3813, 0.017927015412933473), (2758, 0.017921178942601517), (4133, 0.017915278037792633), (2636, 0.017902564236413857), (1805, 0.01790097749432245), (2094, 0.01789672537634205), (2134, 0.017869356234725287), (444, 0.017861345691555546), (1639, 0.017851594684148705), (41, 0.017837342766393573), (2935, 0.01781420716696035), (1872, 0.01781385676399824), (3631, 0.017796212085260957), (1299, 0.01779469526885289), (3169, 0.01778779790446679), (2518, 0.01778120579930809), (2101, 0.01778097779661149), (3566, 0.017765006542506914), (2563, 0.017764895301125162), (3683, 0.01776103992569307), (2439, 0.017756401139402016), (367, 0.017754923345125167), (1723, 0.017754106979149555), (2893, 0.01775263738901378), (1401, 0.01772815826620447), (2783, 0.017724928666206223), (3957, 0.017704792764128393), (2605, 0.017695486798908686), (3641, 0.01769155828845215), (958, 0.017682179290490325), (2529, 0.017660255978594254), (1432, 0.017657490995703), (1597, 0.017645957908482127), (4640, 0.017645285302778483), (4108, 0.017624521310518677), (1797, 0.01762429391351425), (3221, 0.017616697745001984), (4438, 0.01761366564132911), (4337, 0.017606694086746554), (2041, 0.017596908913254376), (476, 0.017596662087215338), (1351, 0.017585622787644212), (66, 0.01757835666352584), (520, 0.017565077876095216), (1119, 0.01754194628264909), (3387, 0.01751055990669642), (1877, 0.017480216463789677), (4635, 0.017441512641935473), (3984, 0.017416609890528234), (2092, 0.01741369391071414), (1318, 0.017407844338230654), (3398, 0.017396501139380856), (2580, 0.017356438949983212), (2764, 0.017332753028505565), (4477, 0.01732546541039761), (670, 0.017322740766395762), (1992, 0.017314880560246458), (3514, 0.01728897415735719), (3767, 0.017284486655170444), (3351, 0.017284269701698114), (2216, 0.017261403815596918), (679, 0.017261011232421276), (814, 0.017246154977753468), (3973, 0.017242610507151587), (1023, 0.01722911241623782), (900, 0.017226612168828294), (1300, 0.01721284539726359), (4372, 0.01721109816734903), (507, 0.01720049574956809), (1736, 0.0172000819674392), (4756, 0.017189549505293146), (149, 0.01716841661298655), (2458, 0.01716485436172374), (914, 0.01716416726881062), (2621, 0.01715873443612599), (1507, 0.01715129303134895), (3703, 0.017148077778349653), (142, 0.017131589133699006), (3230, 0.017120850119793293), (294, 0.01709415949242077), (1809, 0.017092007391225062), (3219, 0.017083435911920932), (3899, 0.017079347342093945), (1977, 0.0170787622875497), (816, 0.01707683455751445), (630, 0.017072587333956505), (4605, 0.017025467392719835), (1246, 0.01701569716696957), (614, 0.017015049162034536), (2446, 0.01701407903390401), (1640, 0.017011976167112197), (304, 0.016976408469756437), (1485, 0.01696630222512433), (2714, 0.01696553029892158), (327, 0.01696546581611679), (3651, 0.016964719980791746), (1642, 0.016953964195168196), (3623, 0.01694910888711495), (3137, 0.016912630632955443), (1520, 0.01690826274808964), (2929, 0.01686749384455506), (2024, 0.0168658493466901), (2776, 0.01686035770015883), (1407, 0.01685121863773201), (2608, 0.01685117595785996), (4614, 0.016823271215679884), (3960, 0.016812402643553312), (4057, 0.01681030290645751), (1887, 0.01680570516434208), (1570, 0.016801090403461106), (3390, 0.016781190712286082), (671, 0.01677796319385933), (1061, 0.01675796102489508), (975, 0.016742341842461643), (2954, 0.0167262841590033), (2083, 0.016718694810474017), (157, 0.0167096023372294), (1349, 0.016709411834079608), (3056, 0.016706061665291257), (3587, 0.016705344383534215), (4368, 0.016690209157512875), (2915, 0.01666817042478425), (1677, 0.0166646800796255), (1243, 0.016647724616405297), (818, 0.016638843855243484), (1716, 0.01663151909714069), (735, 0.016612659772709603), (853, 0.016607774361796983), (1116, 0.016596568000261006), (781, 0.016587740342178896), (584, 0.016586994949758693), (3277, 0.01658483622064672), (3311, 0.016570550486683672), (987, 0.01657011133401223), (1336, 0.016538404510639156), (1474, 0.016538383894237056), (3436, 0.01653581147502333), (3836, 0.016532226629079633), (3508, 0.016522227005645828), (4730, 0.01651369256727797), (2675, 0.016511530501091314), (1302, 0.01647988797329633), (518, 0.0164785646960802), (1298, 0.016469109205074463), (3870, 0.016466614713640842), (3378, 0.01643595312011406), (4531, 0.016434940041823637), (2589, 0.01642353886817198), (2241, 0.016378917141311386), (1931, 0.0163785240039226), (3583, 0.016378453458497467), (4642, 0.016359645983234725), (4273, 0.01634805349508694), (1155, 0.0163361577607237), (4222, 0.016316318412171363), (3930, 0.016306547436163263), (912, 0.01629739032910423), (994, 0.016290742975668075), (1934, 0.016280831206972872), (2222, 0.016269169087782517), (1963, 0.01626492856058675), (121, 0.01626169109113968), (3479, 0.01624735932392507), (4738, 0.016241140288941327), (1685, 0.016216684018462456), (193, 0.016205576717940345), (2291, 0.016202888244275338), (3722, 0.01619450132455014), (1839, 0.016188120573588448), (675, 0.01617244827575245), (1726, 0.01616299326857869), (1293, 0.01613694926532649), (4253, 0.016135870500681687), (2020, 0.01613211630737969), (1564, 0.016131533488879343), (3731, 0.016128531103891848), (1207, 0.016114567284384797), (438, 0.016114315328025673), (1833, 0.01611197503619857), (3379, 0.01610827985898512), (3983, 0.016092023398857982), (2826, 0.016060897441122816), (4618, 0.01604951870480851), (2737, 0.016048339921587752), (3706, 0.016034686758071334), (1322, 0.016033937007360687), (1587, 0.016033044024651572), (2132, 0.01602529334882198), (1280, 0.016020770754606152), (3333, 0.016016317609826275), (1475, 0.015978595418776956), (2832, 0.015966022668239186), (4473, 0.015954158697535418), (945, 0.01594873874101766), (3182, 0.015947026254739), (3145, 0.015930880806407), (2168, 0.015928888091067107), (1279, 0.015923026622569662), (1117, 0.015909268729787044), (1094, 0.015901378005107235), (3288, 0.015897958336113772), (1577, 0.01588837389320231), (3187, 0.015860890514947483), (1437, 0.01585630834026896), (4667, 0.015852433844962308), (4392, 0.01584251834251977), (1629, 0.01582172105007548), (1929, 0.01578783890450564), (792, 0.01577488441433734), (680, 0.01577125509000531), (1860, 0.015762977380777702), (1110, 0.015756842695357858), (931, 0.01574000011007027), (3343, 0.0157349430010688), (436, 0.0157265385803649), (377, 0.015726116073156392), (1687, 0.015723570799563043), (3618, 0.01571940888080148), (308, 0.01571815776350914), (2163, 0.015715559520672363), (531, 0.01571282255067242), (1721, 0.01571008582911931), (1838, 0.015704158507784), (4592, 0.015702099807977793), (1734, 0.01569342889929253), (648, 0.01569009816153287), (2576, 0.01568278183293538), (1022, 0.015678834515372612), (525, 0.015666546246772793), (4641, 0.01565976150605259), (2052, 0.015657200318709083), (406, 0.01563808624088793), (4421, 0.01563455620009252), (797, 0.015630959986317815), (2877, 0.015627615152518717), (3811, 0.015612135618309422), (1989, 0.015610219766346054), (1942, 0.015594070990003237), (2264, 0.015587049473918663), (2762, 0.015582669121690382), (3855, 0.015543419033058156), (1447, 0.01553575384635774), (1044, 0.015528976484376749), (4042, 0.015524890858566702), (1548, 0.0155216562758013), (1634, 0.015515595484662845), (3532, 0.01550046850609755), (3505, 0.015492161859855786), (3735, 0.015484615284260109), (3578, 0.01547729165663406), (3428, 0.01547344134949541), (717, 0.01546502142036598), (2759, 0.015451232179489375), (2076, 0.015449750381103735), (2329, 0.015449333440141055), (1045, 0.01542733265582809), (4356, 0.015401744231851335), (2016, 0.01539520995432924), (329, 0.015392951493181694), (4112, 0.015374328771462439), (1696, 0.01536215413359378), (3920, 0.0153607722508449), (11, 0.01535686620666722), (2267, 0.015350475032460242), (1883, 0.015346552374416187), (2508, 0.015341025427763893), (2053, 0.015310597691328233), (2126, 0.015293797989597804), (4389, 0.015253603489976121), (3430, 0.015247679271576931), (1317, 0.015245272263898654), (1368, 0.015197066476916092), (3787, 0.015176624806414848), (3562, 0.015171503208125896), (1160, 0.015163481235237725), (585, 0.015152159178229447), (3067, 0.015141864029273177), (1611, 0.015135974707847707), (434, 0.015113715352309487), (4237, 0.015091521301374172), (2829, 0.01509059549382537), (1669, 0.01508772318236191), (832, 0.015078712104653802), (437, 0.01505631625576713), (4676, 0.015047041717552063), (498, 0.015016037943613718), (4599, 0.01501176180961112), (1870, 0.015005491249953385), (2496, 0.014991216213450075), (3975, 0.014974819931811816), (3662, 0.014969816066876642), (1574, 0.014965252026330613), (2631, 0.014957835091764357), (4503, 0.01495629846069529), (622, 0.01493596745741825), (4385, 0.01493114135111664), (1724, 0.014926255232982978), (4686, 0.014920226765379074), (3948, 0.014913787930714774), (4437, 0.014910022991423326), (3539, 0.014908224420952482), (3125, 0.014903065773723748), (2797, 0.01489102255486258), (3491, 0.014888035577074943), (4034, 0.014875134119871071), (2488, 0.014868160532331875), (168, 0.014863756505600963), (3859, 0.014857760719439506), (2751, 0.014856108525830216), (3502, 0.014842075764688465), (4330, 0.014838085584712208), (2208, 0.014831195805713883), (205, 0.014817406655384106), (1824, 0.01480556374516609), (1676, 0.014798347781296711), (1670, 0.01479435038585111), (3320, 0.014793543039068715), (3174, 0.014790223771460883), (3421, 0.014786428170274462), (3330, 0.014779311603282363), (3869, 0.014758075367407184), (4225, 0.014755260728147198), (85, 0.014745193285137823), (158, 0.014737951234051467), (3374, 0.01471742452207089), (4223, 0.014712536189433283), (1042, 0.014709854343873372), (1020, 0.014704991073467896), (894, 0.014690505546817426), (2868, 0.014680608235420577), (1509, 0.014673979228010687), (3257, 0.014659396247538602), (1582, 0.014653120552908431), (3413, 0.014612791624062451), (4464, 0.0146078586487126), (1449, 0.01459397591919747), (3742, 0.014592462057867576), (1338, 0.014585802879137702), (1343, 0.014576934303157423), (512, 0.014574373495571589), (3321, 0.014573573156286603), (413, 0.014551613824223267), (4284, 0.014550809335979391), (1603, 0.014547751824528377), (3950, 0.01454772470371137), (3790, 0.014544211000618711), (2434, 0.014544199520316315), (3953, 0.014535536293222916), (1600, 0.014527125222964173), (2491, 0.014522060185899176), (2034, 0.014510639790157152), (1162, 0.014510343738200293), (2910, 0.014509758981290463), (3190, 0.014489839371846898), (4154, 0.014485264094865084), (4100, 0.014480834631828258), (2753, 0.014474369329807554), (3412, 0.014463299555738303), (1653, 0.014461579755897227), (4387, 0.014460170811705279), (3916, 0.014444330501780728), (2466, 0.01443556929914309), (1294, 0.014429733897820887), (2648, 0.01442909519306787), (1049, 0.014426053721878523), (2662, 0.01442389685783634), (14, 0.014412946101960474), (1794, 0.01441255041520222), (1035, 0.014406798336090336), (27, 0.014400126672840541), (2986, 0.014390455388751482), (4449, 0.014387856121216059), (4550, 0.014376612019223965), (968, 0.014373829526230793), (2856, 0.014372896958941807), (804, 0.014368799026953075), (2704, 0.014350229079971246), (431, 0.014347634321983315), (450, 0.014344017653742698), (1921, 0.01432636702468453), (2570, 0.014318975470229405), (1969, 0.014311529364781228), (1187, 0.014293859344872647), (827, 0.014272919294274924), (815, 0.014272505344597603), (1626, 0.01427191656822687), (3917, 0.014265537637466425), (921, 0.014265013168314042), (838, 0.014252384576461169), (4647, 0.014242887855934229), (3312, 0.014242355697764598), (4373, 0.014237000241579891), (3801, 0.014216403291896038), (2262, 0.014190118294042391), (854, 0.014152883716804336), (2514, 0.014150872813454854), (2209, 0.014145809734304168), (2696, 0.014142473195355883), (3086, 0.01412151328083973), (3231, 0.01410476845119359), (3341, 0.01409561884698745), (2190, 0.01409065999615107), (1139, 0.014087391237667566), (380, 0.014086936499429128), (4428, 0.014081676415193688), (1381, 0.014071655152578709), (2726, 0.014071320652773788), (3107, 0.014065194390836418), (252, 0.014055397621234502), (2785, 0.014039610232874289), (1025, 0.014036102388358356), (370, 0.014033487728000189), (4124, 0.014032305291001728), (1404, 0.014018123541937207), (764, 0.014008339543024956), (878, 0.014006951743432184), (2872, 0.014004192073720757), (4495, 0.014001832634210344), (2023, 0.01396516208923056), (2187, 0.013962775399340526), (4453, 0.013961909964046724), (1468, 0.013961384267506144), (3952, 0.013951749539757582), (231, 0.013946922841306443), (2590, 0.013942402678253838), (400, 0.013927199655767487), (1289, 0.01392681715594069), (1932, 0.01392262458872845), (985, 0.013916974891725595), (3057, 0.01391188762258122), (532, 0.013907678316794172), (3570, 0.013905750820908369), (2019, 0.01389732050453986), (317, 0.013894170958127002), (4325, 0.013891964133832452), (4117, 0.013887724283811402), (534, 0.013882848922158115), (1620, 0.013866724850474696), (2552, 0.013864935118771994), (2470, 0.013849273177017066), (2520, 0.013848952252347205), (4634, 0.013837855361111253), (2566, 0.013835801414167955), (2523, 0.0138211835150981), (3411, 0.013819022565538757), (2302, 0.013818409929783077), (902, 0.013810210761368864), (2388, 0.013805503476349335), (666, 0.013798493886822357), (998, 0.01379174131317976), (999, 0.013780453734146221), (572, 0.013745264042902631), (1958, 0.013741794817484079), (3242, 0.013724480119691887), (2317, 0.013721572701580928), (3854, 0.01371383402051979), (4168, 0.013712894473617353), (4402, 0.013712668411645673), (2909, 0.013708824695408987), (4304, 0.013698669760822584), (2125, 0.013698055190421398), (3510, 0.013686464394919549), (4353, 0.013678499862937179), (3684, 0.013669537797412057), (4120, 0.013668334397441792), (3817, 0.013640635504105159), (2567, 0.013633279559249688), (443, 0.013618668368616716), (4211, 0.013607901226612264), (1481, 0.013604529656183605), (4549, 0.013602942363585032), (2891, 0.013596035993456334), (3306, 0.013595700588943889), (4581, 0.013588226262748889), (3728, 0.013587297109487143), (4207, 0.013570831418387587), (2747, 0.013564559542369396), (3773, 0.013558355918682744), (2247, 0.013549303163829535), (2106, 0.013528911896471485), (4067, 0.013521225110517262), (2108, 0.013503307182959175), (1360, 0.013496907199138567), (4364, 0.013475615240689907), (4091, 0.01347351795002123), (1681, 0.01346240833546389), (2233, 0.013456655379208586), (2516, 0.013451620829387455), (1767, 0.013442302764220138), (3009, 0.013440175286051757), (3555, 0.013435595419396793), (4052, 0.013429007665534669), (4508, 0.013395905223506126), (2500, 0.013391884775139725), (4240, 0.013386182784641246), (3099, 0.013382292198449745), (1178, 0.013380308033040855), (2871, 0.01337765159323259), (2375, 0.013365511741090972), (2204, 0.01335211701546636), (3986, 0.013343247348852942), (1056, 0.013341486425535882), (1000, 0.013338523604241545), (3571, 0.013327425292655702), (3183, 0.013322316266072465), (753, 0.013317728675103701), (750, 0.013317677132649655), (3617, 0.013313234738425701), (3674, 0.0132957181362434), (1905, 0.013263720667362155), (704, 0.013258912254099869), (3481, 0.013256166639437237), (2601, 0.01325134151125249), (906, 0.013244626731925118), (3310, 0.013244040055003988), (4659, 0.013232420221936648), (2296, 0.013231250284189151), (2748, 0.01322947838568579), (3258, 0.013229202144398126), (1150, 0.01322592209951853), (2865, 0.013221963231789924), (4076, 0.01321022986171572), (420, 0.013185636858915668), (2263, 0.013160643029536763), (3972, 0.013158810359919185), (1406, 0.013157738174028042), (4039, 0.013123706577324428), (4558, 0.01312299397880674), (3131, 0.013118998300698822), (495, 0.013116410412239012), (665, 0.013116247677264027), (2585, 0.01310744317023729), (3276, 0.01309882090191861), (2963, 0.013092717518539626), (3438, 0.013090706839748611), (10, 0.01306760331485426), (2661, 0.013060204785603937), (3496, 0.013059011893899627), (603, 0.013042407300877289), (1031, 0.013037507188500537), (4329, 0.013035532778303173), (2719, 0.013013063967349697), (3309, 0.013012774777091113), (3101, 0.013008353818400856), (3894, 0.013006068922048506), (3724, 0.013002014202955133), (3897, 0.013001018964431671), (2391, 0.012993914237536031), (1426, 0.012991434158377032), (4613, 0.012980962805061147), (2183, 0.012976221145446047), (1436, 0.012974318056895858), (4404, 0.012970467183606072), (4357, 0.012968444332327626), (1811, 0.012967117207705686), (4440, 0.012965998827543658), (2330, 0.012964855944018094), (765, 0.012959507726107725), (1301, 0.012956055709922152), (89, 0.012953723418909355), (1085, 0.012942436871014264), (3102, 0.012939064926854451), (961, 0.012937733998721678), (4726, 0.012932731602431628), (1380, 0.012932180864476563), (1859, 0.012929997972548351), (654, 0.0129240240267141), (1185, 0.012918872146713684), (3925, 0.012916017283927706), (1104, 0.012906598655336667), (2641, 0.01290083076510017), (599, 0.01290039985482553), (2315, 0.012897930904226806), (910, 0.012867060699388035), (3881, 0.012838647535100039), (2973, 0.01283573161473812), (1434, 0.012833328089839793), (4621, 0.012813671968691084), (298, 0.012809269950070413), (3882, 0.01280418442046274), (1828, 0.012796089745317183), (2663, 0.012794431561990612), (4518, 0.012752071005846632), (3493, 0.012733616296398447), (219, 0.012722888892989916), (2477, 0.012721324524543337), (3507, 0.012711614902259073), (879, 0.012692569270392483), (4198, 0.01267400576773788), (676, 0.012673232483428888), (1133, 0.012668146736725583), (3376, 0.012663594342416398), (3800, 0.01266341894011327), (3697, 0.012656728797758032), (1021, 0.01265650582186039), (791, 0.012648897748357073), (2162, 0.0126442627564856), (1352, 0.012597007846741637), (2994, 0.012585687314884162), (4422, 0.012572289332745833), (4376, 0.012571868648761624), (4287, 0.012568969851160284), (3198, 0.01256792931120445), (1431, 0.012556356166968327), (3668, 0.012552265547556929), (3771, 0.012546441707773985), (1657, 0.012520104407220454), (2734, 0.012518855325831003), (1704, 0.012499686009235244), (3810, 0.012495042498691926), (2788, 0.012483741098531266), (1854, 0.01248093656464516), (1623, 0.012466602570052755), (2767, 0.01246371999510398), (2196, 0.012451373874465089), (4493, 0.012442130473890284), (4029, 0.012441447395461425), (2278, 0.012440050653469968), (2087, 0.012427628560367093), (2965, 0.012417675161984358), (4197, 0.012402541732403394), (4166, 0.012391675933180222), (3217, 0.012369035688211474), (2360, 0.012366931183345756), (4178, 0.012363338158268726), (2414, 0.012360530327857411), (1154, 0.012356164310967907), (379, 0.012347817758613823), (578, 0.012337516692718048), (4755, 0.012336650106010724), (3078, 0.012333980372409323), (382, 0.012332261768523409), (845, 0.012326695398924933), (1476, 0.01232576934752777), (2501, 0.012321234157515213), (270, 0.012314111743431775), (1705, 0.012302497480834203), (442, 0.012296481902554635), (1410, 0.012295993293215842), (31, 0.012294064824934019), (4082, 0.012258292243670154), (305, 0.012250356481831651), (2630, 0.012236175007759132), (2135, 0.012227067509748425), (447, 0.0122261800585173), (366, 0.012214089754354316), (2614, 0.012209925806890771), (610, 0.012191798240697606), (439, 0.012190092218942137), (1180, 0.01218995608465117), (421, 0.012181537796565505), (114, 0.012177546936732953), (1545, 0.012174111805628867), (3048, 0.012169911108481344), (2337, 0.012163388732011343), (2526, 0.012133636166609322), (4241, 0.01212728448617033), (1328, 0.012115264880868445), (2983, 0.012113928921178014), (2220, 0.012110276332723142), (997, 0.012108012698320953), (339, 0.01210087425825274), (2999, 0.012096989208651595), (1857, 0.012071715627199855), (3000, 0.012055424284236192), (2543, 0.012043779339256369), (1233, 0.01203750065657819), (3239, 0.01203377139724684), (2349, 0.012014578940975584), (2713, 0.012012671381159407), (2308, 0.0120121191329351), (1588, 0.012004143266573786), (150, 0.012003499844017933), (1145, 0.011999130467789285), (1800, 0.011997691334896015), (2407, 0.011994790033902442), (4445, 0.011993030548238037), (1008, 0.011990685000018715), (1462, 0.011990130792594679), (1313, 0.011988434861995498), (624, 0.011956836374723534), (863, 0.011949115251767072), (1084, 0.011921070299674551), (3994, 0.011916342147608417), (2945, 0.011908945767877377), (1356, 0.011897049164910592), (296, 0.011892541110747123), (72, 0.011892313793560311), (3098, 0.01188883346906245), (790, 0.01188497370818766), (4603, 0.011852402383088528), (4517, 0.011845609128415627), (2245, 0.01184371585004111), (2271, 0.011834066381306976), (3720, 0.01183338347306629), (2432, 0.01181954982267956), (3256, 0.011818691214514742), (223, 0.011807937402167616), (2154, 0.01180685399079482), (1801, 0.011804594890711536), (915, 0.011799424370315196), (2775, 0.011780049809383748), (486, 0.011775708374723706), (3158, 0.011773707666512364), (3053, 0.011767376861768241), (4427, 0.011761172789937442), (1632, 0.011756892261520345), (3030, 0.011755210741824156), (3567, 0.011748364849384458), (4678, 0.011742176790392357), (2467, 0.011737754382440867), (4279, 0.011726145965578501), (2853, 0.011715394811516676), (3807, 0.011712651718074406), (1218, 0.011697947077720735), (284, 0.01169426420191805), (658, 0.011666271404767246), (2306, 0.011662115681155999), (3291, 0.01166086811582503), (3832, 0.011652195719590653), (4441, 0.011648317097069255), (3465, 0.011647181343917647), (1274, 0.011645268618814165), (1831, 0.01164192729519468), (2991, 0.011641691043425212), (3891, 0.011612262144041176), (4514, 0.011609959559540058), (3361, 0.011607717032172699), (2242, 0.01156372368635019), (4016, 0.01155166730849304), (4020, 0.011551209048871759), (3604, 0.011537868183961379), (4383, 0.011528824478482682), (4408, 0.011524057029240241), (3006, 0.01152394028997632), (2139, 0.011508561846669109), (661, 0.01150310439667484), (548, 0.011498862287164829), (325, 0.011496443473382682), (4548, 0.011494692824742305), (1483, 0.011493712794595032), (3695, 0.011489992417885337), (4247, 0.01148950131772074), (3194, 0.01148310268427917), (3758, 0.011479848795747547), (2938, 0.011479369659768006), (480, 0.011470864026860761), (492, 0.011448526637770393), (2682, 0.011440555157593091), (3966, 0.011436239811050807), (2333, 0.01142611811614998), (1693, 0.011422815442862961), (3280, 0.011416344546486124), (1372, 0.011412425319720858), (3686, 0.011410746743631649), (2559, 0.011406974264652734), (3017, 0.011404076603003752), (303, 0.011399036368139529), (1030, 0.011397501320528887), (621, 0.011390723436781934), (40, 0.011373128624278899), (3718, 0.011370519495820448), (2075, 0.011369943153092697), (471, 0.011361265180397137), (795, 0.011344738652705463), (1573, 0.011318163756629413), (2542, 0.011318152660250845), (2201, 0.011317352114071793), (831, 0.01131677168127239), (1978, 0.011315223437844692), (3500, 0.011287101907693182), (1937, 0.011284865405147823), (589, 0.011275075347442407), (1057, 0.011271590830664039), (94, 0.011260722059021717), (2843, 0.011258688359862556), (861, 0.01125683582773405), (4653, 0.01125657586330306), (80, 0.011235534728400425), (2399, 0.011230145651720029), (2643, 0.011222461037545437), (1543, 0.011208690679117827), (567, 0.011203322101928528), (4339, 0.011201147937358363), (4615, 0.01119141866520635), (167, 0.0111903988380411), (1568, 0.011190032656738742), (1607, 0.011188075453445277), (2749, 0.011159866316029382), (3050, 0.011146317204700421), (337, 0.011129457717533856), (1063, 0.011100386901223783), (363, 0.011078819362217896), (3588, 0.011077451068470143), (3334, 0.011052385557198492), (1271, 0.011021524048955705), (2402, 0.011017777964880203), (760, 0.011011114754079078), (3015, 0.010995880278821623), (3851, 0.01098964049022224), (213, 0.010958683762208807), (1424, 0.010958279698880365), (4554, 0.010957015938934358), (2982, 0.010923352118639582), (3140, 0.01092042499724378), (4556, 0.010916308073339657), (2355, 0.010898268167817825), (2186, 0.01087953540699765), (4450, 0.01086992935267837), (882, 0.010869692331138072), (2347, 0.01082382733420675), (3363, 0.010822049416268017), (2417, 0.010792506939875764), (4104, 0.010783784923930548), (2420, 0.010751421243227564), (1099, 0.01075083627639759), (4306, 0.010728006242940858), (3964, 0.010719824600183978), (2524, 0.010717233858055189), (4580, 0.010710856641184001), (1616, 0.010691346107298225), (2266, 0.010684600214584975), (3999, 0.01068456749587456), (3852, 0.010684406264940263), (3371, 0.010632689648391997), (326, 0.010626742269998057), (385, 0.010625511059573618), (4752, 0.010622696313157428), (3993, 0.010614745372877243), (4277, 0.010610021702766384), (3302, 0.010572561186979551), (1786, 0.010556642103326259), (3117, 0.010554628810402032), (234, 0.01055349891842243), (3967, 0.01055137784633649), (1546, 0.010548945500338061), (2966, 0.0105486359951403), (3423, 0.010547065018967731), (3167, 0.010544582703354448), (103, 0.01053748093904321), (2415, 0.010529366534699082), (2, 0.010521591718659169), (3776, 0.01050188265272554), (1752, 0.010496398260974014), (779, 0.010481881749439365), (1806, 0.010478892211128557), (278, 0.010478110496030433), (3365, 0.010458041625200398), (3937, 0.010367361093710767), (3632, 0.010363168252151021), (893, 0.010359652156046222), (1910, 0.010359154976092478), (639, 0.010354470935881413), (146, 0.010353519576594954), (4458, 0.01034909763679688), (1441, 0.010347262915655391), (2880, 0.010345002353677914), (647, 0.010330860169068246), (1731, 0.010290615216960317), (405, 0.010289958645934945), (754, 0.01028325161535737), (58, 0.010281750778967707), (2505, 0.010236842407161807), (4632, 0.010230118489870672), (3109, 0.010222507755225364), (4315, 0.01022159133497488), (1053, 0.010206260691190117), (4145, 0.010193074297112897), (2040, 0.010183335782195822), (2151, 0.010176537168865674), (715, 0.010171607511280822), (1885, 0.01016725408301761), (2710, 0.010137350450785053), (4027, 0.010135389098127681), (390, 0.01011047249572029), (875, 0.010104927777906388), (3359, 0.010098451539370702), (1167, 0.010086637850707847), (474, 0.010085533303733293), (3072, 0.010085410884993451), (3189, 0.010084424823611658), (1955, 0.010082178972616112), (3802, 0.010081300244381603), (70, 0.010070020451863346), (3513, 0.010056512503864858), (4713, 0.010045037683218943), (2249, 0.010037843186410022), (3061, 0.010035535720993975), (4468, 0.010030991471712356), (3105, 0.010030871259595406), (257, 0.010030676426110167), (1445, 0.010028743584971805), (1829, 0.010021668544078547), (381, 0.0100152584038519), (3165, 0.009966610264196157), (364, 0.00996539590445927), (1015, 0.009964028362485583), (784, 0.009952307888386693), (3092, 0.009946335999622335), (2794, 0.00993699829877201), (1708, 0.00990021939539724), (1184, 0.009899388564496283), (3095, 0.009896042529052818), (2148, 0.009893120692671793), (3944, 0.009884489968140607), (4311, 0.009884198770683944), (4243, 0.00987849322590461), (1395, 0.009870429064499765), (3296, 0.00986934085282763), (1712, 0.009852741667464401), (1141, 0.009850650942242856), (1909, 0.009849116544457125), (4367, 0.009825061720245871), (2096, 0.009824822935377734), (3148, 0.009824635012143828), (3163, 0.009813329860850265), (3013, 0.009788758877106717), (2120, 0.009788606699656671), (208, 0.009786043005873556), (576, 0.00978185630328853), (3274, 0.009776984832697622), (3483, 0.009759539903689746), (2078, 0.009752257812375561), (3560, 0.009749815775117467), (4702, 0.00974669046944632), (2974, 0.009742337825434214), (4303, 0.009735858570197315), (4718, 0.009731936538922414), (4045, 0.00972665531187645), (1956, 0.009708660291608537), (976, 0.009703992595401353), (1871, 0.009683091533970163), (3804, 0.009679686177143421), (3248, 0.009677489448527195), (398, 0.009665162762812617), (3273, 0.009660512517474048), (1327, 0.009641166779762492), (2472, 0.00962887514186199), (2326, 0.009628689019340365), (4571, 0.009623401353332534), (482, 0.009621119195480962), (4138, 0.009618231856927825), (2545, 0.009603367679968205), (4164, 0.009593382685573986), (2085, 0.00959236974802901), (2026, 0.009590787393204165), (185, 0.009585139492964228), (2890, 0.00957507053248391), (1488, 0.009568790920353017), (517, 0.00956777582335929), (3417, 0.009557101211164879), (946, 0.009551644735107006), (4275, 0.00954606442630761), (2596, 0.009545440727737947), (587, 0.009543201857072659), (3847, 0.009535571375558452), (3116, 0.00953537353710276), (2836, 0.009523799168856033), (2390, 0.009512569360709506), (1040, 0.009502149526047443), (1126, 0.009478034253474816), (1866, 0.009475007315034811), (3565, 0.009446218226744962), (8, 0.009423750708816837), (3597, 0.009422566866019264), (3871, 0.009410255405600284), (1182, 0.009404506617978646), (2705, 0.00939567610110276), (3400, 0.009386762168846128), (3893, 0.009374144410545586), (3471, 0.009361859320931913), (4073, 0.0093553328608004), (2677, 0.009351965943167753), (3495, 0.009340913553166628), (4657, 0.00933252135719067), (2475, 0.009331731867616587), (3879, 0.009305665708840623), (4583, 0.009302220382040274), (1618, 0.009294025614805345), (4414, 0.00929328848016689), (3244, 0.009287629487116991), (3904, 0.009281350352856727), (2693, 0.009278694050975114), (2664, 0.009250946057923615), (3356, 0.009248590048418272), (2105, 0.009240104513246417), (4175, 0.009239778381867712), (4683, 0.00923783570367125), (3434, 0.009231552235335366), (3835, 0.009231290606726658), (1385, 0.009229247697441241), (2831, 0.009228245248831023), (3490, 0.00921741721320133), (612, 0.00921298045967105), (3346, 0.009193151857383008), (3326, 0.009190472175305817), (4566, 0.009147371489327228), (2426, 0.009138434168723071), (3553, 0.00913553780485207), (51, 0.009129600006610627), (4134, 0.009126246334734398), (1073, 0.009125376781846991), (3596, 0.00912241462634834), (1363, 0.009109301703327698), (375, 0.009098917850533787), (649, 0.009096717080010967), (564, 0.009090826384045259), (2185, 0.009082780211305616), (859, 0.009073009973942139), (2980, 0.009040171461673002), (1419, 0.009026743534564147), (2904, 0.009025399564872968), (2405, 0.00902499180869798), (4625, 0.00900981607989966), (4079, 0.008995331492573293), (446, 0.008991893032308042), (774, 0.008991015241593731), (2594, 0.008990375443685868), (2170, 0.008976133911677103), (2008, 0.008964117383574645), (1017, 0.008959378222919919), (2866, 0.008931694406040872), (2048, 0.008931215834139639), (817, 0.008920084967195896), (2230, 0.00891152004643166), (2847, 0.00890163170038503), (651, 0.008899197098531254), (71, 0.008889664217753803), (1610, 0.008886762402712965), (2489, 0.008843077154469768), (3753, 0.008842238369718558), (4035, 0.008821812947228651), (3929, 0.008810746612177171), (2313, 0.008809871147401916), (3985, 0.008801369490944407), (3509, 0.008796353537258769), (2473, 0.008778606181937116), (2121, 0.008775349804003355), (4587, 0.008774816031952968), (2736, 0.008766575738840052), (1038, 0.008766212101051978), (2379, 0.008740200490419132), (2572, 0.008731632600853433), (3645, 0.008731032374098328), (2490, 0.008728851337496308), (1428, 0.008727505310911866), (1200, 0.008724360921336615), (2344, 0.008695395254050796), (2098, 0.008672521652881873), (1378, 0.008669989021618248), (3466, 0.008667381854764325), (3418, 0.008662024664669716), (2943, 0.008646172074028808), (4060, 0.008621107481930308), (2578, 0.008605810602386778), (1438, 0.008593541722076728), (490, 0.00859258709863078), (2858, 0.008584046945624329), (3139, 0.008574404400898265), (1276, 0.008569188356527625), (2827, 0.008564520529511267), (3933, 0.008555720907640256), (880, 0.008552753781218333), (3794, 0.008539578331295173), (1514, 0.008530642641126008), (1519, 0.008523843550272647), (1920, 0.008522767771017428), (3021, 0.008509098217715763), (3559, 0.008498085190978841), (4063, 0.00849669867937055), (3528, 0.008481108355675759), (4177, 0.008462337231750255), (3040, 0.008457561074264833), (183, 0.008453651242103054), (1350, 0.008452504733448872), (693, 0.008445609127716025), (3075, 0.00842749131417983), (3738, 0.008421202067685797), (4381, 0.008412360088198116), (199, 0.008404799077386088), (2803, 0.008388445014523883), (4139, 0.008379343599879241), (1538, 0.008366774198342421), (1795, 0.008324885329068202), (2537, 0.008307891162406216), (3268, 0.00828195625900957), (2886, 0.008278684886560672), (3170, 0.008255114194558474), (2404, 0.008237254924303874), (3898, 0.008234503635423614), (732, 0.008228599338346255), (2995, 0.008223970709488488), (4582, 0.008212382889320694), (698, 0.00820986683972422), (2006, 0.008185715799213147), (4044, 0.008180586404642774), (1009, 0.0081772237638261), (3247, 0.008154262140073159), (519, 0.008138701376925716), (3830, 0.008111330213549013), (2149, 0.008107663870938203), (3721, 0.008105165089602802), (4484, 0.008074596603368532), (1558, 0.008066289036160848), (2907, 0.008047696127221659), (3880, 0.008041868259633173), (786, 0.008039192129034317), (709, 0.00803743779580528), (3913, 0.008010929019622779), (2692, 0.00800429043895183), (355, 0.008001350373298067), (2453, 0.007975253638948274), (147, 0.00797476476621098), (2362, 0.007954233756378158), (1628, 0.00793974144932931), (2113, 0.007933884727185928), (1065, 0.007931066451228288), (3958, 0.007895386159888043), (1237, 0.007876947295075275), (2331, 0.007875368906199238), (3892, 0.007872816162508536), (1869, 0.007856479205895738), (3065, 0.007829430590387718), (3392, 0.007823494302254992), (2457, 0.007805643583022449), (2852, 0.007791700579806615), (1219, 0.007784495737092438), (4080, 0.007780361525639879), (3806, 0.00776710431842658), (3795, 0.007762140356623995), (3192, 0.007707970288605689), (1014, 0.0077045667377564995), (1423, 0.007701079418002731), (132, 0.007693090523471574), (4102, 0.007689495259025435), (1342, 0.007688169190271923), (4026, 0.007687293838335716), (2423, 0.007632280249134312), (1458, 0.0076309043420584996), (125, 0.0076131062338095), (1563, 0.0075802810239696625), (3249, 0.007574535438527678), (1713, 0.007551370686395171), (3537, 0.0075117629622104155), (2328, 0.00749896860042228), (1037, 0.00749822626613556), (3945, 0.007476467467475138), (3922, 0.007476190255283037), (3008, 0.007434443160645767), (1763, 0.007430820459286161), (3074, 0.00743027195223709), (2499, 0.00741839718384745), (1296, 0.007410263051449298), (3934, 0.007409207877910957), (4233, 0.007389991744417912), (4147, 0.007374178824979934), (3544, 0.007371917562256631), (3669, 0.007353658252471293), (3020, 0.007352137849230719), (2253, 0.0072811387129442925), (4196, 0.007240992868355159), (1861, 0.007234867530344258), (796, 0.007204129695422064), (1417, 0.007195254087244732), (4023, 0.0071520184344456145), (1770, 0.007150625552347915), (3763, 0.007137375796081695), (3621, 0.007126351097360739), (4633, 0.007117339306118833), (1415, 0.007109432923537226), (3254, 0.00709499619759092), (1774, 0.007038072901115374), (1947, 0.00703041250901829), (3754, 0.007023413489290644), (3337, 0.006987889802728121), (925, 0.006963586913833484), (194, 0.006962055309102449), (2478, 0.006952310695385119), (2796, 0.006930725885145737), (3764, 0.006894512498415019), (2967, 0.006891895686981155), (313, 0.006891828685235902), (2223, 0.006885918555690158), (2411, 0.0068576340067199), (2914, 0.006849131858377143), (3992, 0.006845762248290867), (3761, 0.006832484438435143), (3373, 0.006816351787966543), (3962, 0.006801704981952154), (3585, 0.006800372750960735), (3180, 0.006797386789541941), (1761, 0.006795850374953151), (2708, 0.006778440903629556), (3146, 0.0067741300068564995), (2806, 0.006766467221489127), (283, 0.006745500588826851), (2782, 0.006741519181846575), (3003, 0.006727638858193904), (3062, 0.0067142466640784226), (2592, 0.006704576308418159), (1945, 0.0067005776215842095), (3416, 0.0066438731281111855), (4446, 0.006643527051432443), (3202, 0.0066429312653991535), (2464, 0.006642008232974637), (4308, 0.0066414546514392886), (224, 0.006639037752791262), (2324, 0.006625489151875197), (2823, 0.006605908592541822), (641, 0.006600745592053667), (4522, 0.0065998681277512315), (834, 0.00659595338910969), (350, 0.006593118643439805), (1012, 0.006587812065109098), (2882, 0.006581016364004707), (2507, 0.0065788167436191605), (4734, 0.0065448579373482765), (3622, 0.006539947736743013), (3834, 0.006537261587879132), (3319, 0.006523543397558621), (1773, 0.00651550294980706), (2044, 0.006489862949956916), (2786, 0.006485487214972409), (4111, 0.006483252997776637), (1683, 0.006480658096304431), (1409, 0.006479033822759689), (2260, 0.006478551495531034), (230, 0.006476190556561405), (2970, 0.006455228236788815), (321, 0.006454634165240067), (273, 0.0064533133719347265), (3084, 0.006423242619234793), (4489, 0.006423139892633755), (4054, 0.006421667466404324), (1822, 0.006393027775291261), (3037, 0.006392631561347199), (2394, 0.006381411571667113), (1007, 0.006375646511111641), (1902, 0.006365668866064181), (1536, 0.006353450788424322), (3798, 0.006337526620449949), (300, 0.0063355638844378665), (2926, 0.006333638719825025), (2517, 0.006321726678899236), (3382, 0.006319405873934265), (2561, 0.006318269595302323), (1513, 0.006308734858283203), (3224, 0.006305225543573333), (884, 0.006300884504030145), (812, 0.0062879061330173465), (835, 0.006287658751295124), (3349, 0.006283167161644718), (3517, 0.006270610769949671), (1765, 0.006263682348263755), (833, 0.006223662986701521), (933, 0.006185030041959052), (1337, 0.006180363972313739), (3113, 0.006176988295800583), (238, 0.006176871448531915), (3606, 0.006174889614857916), (2742, 0.006174310729541742), (2119, 0.006169058522274349), (4236, 0.006150145499600694), (3114, 0.006147717322189112), (4049, 0.0061463639152542285), (2396, 0.00611121806766922), (2554, 0.006109517410812332), (2110, 0.0061015492839453), (2192, 0.006098895908644849), (3155, 0.0060976036042120684), (2284, 0.006088851547357135), (2495, 0.006055640257178536), (1159, 0.0060465512691449085), (2387, 0.006043005863827145), (3673, 0.006031648464541056), (3630, 0.006022062086009504), (2060, 0.005994680023729682), (3888, 0.005992273195685004), (2569, 0.005984225218055285), (1598, 0.0059783219290199235), (1309, 0.0059714818360643495), (1541, 0.005961722117991835), (1100, 0.005955945830070409), (4530, 0.005922897698191142), (4036, 0.005917428782722265), (4229, 0.005906469275639749), (3402, 0.005901617078929448), (755, 0.005885560478849423), (2912, 0.005864149238391228), (2555, 0.0058394658811455405), (3503, 0.005807276177700741), (819, 0.005790991209543668), (984, 0.005760669741355915), (505, 0.005753249812554398), (4206, 0.005752667340392845), (4246, 0.0057341707500344116), (1663, 0.005705358282021504), (4254, 0.005686466305490972), (1203, 0.00568623802607705), (903, 0.005676865448227027), (2197, 0.005624532703843468), (4322, 0.005594185129400257), (1079, 0.005569220094488125), (3215, 0.0055615725327747235), (1236, 0.0055564334021790856), (759, 0.005513968465809033), (2728, 0.005512493712823769), (3267, 0.005495220130848591), (3940, 0.0054828120713969735), (473, 0.00547907149081869), (2741, 0.0054529119050502894), (1980, 0.00543195981640408), (3115, 0.0054309120989593776), (2976, 0.005425153837385227), (2703, 0.0054004560943494385), (672, 0.005400298183478753), (1830, 0.0053661575827636775), (1954, 0.0053647234284525305), (1251, 0.005359081059916709), (475, 0.00535831952313296), (3755, 0.00535240996669362), (712, 0.005350591141527781), (4066, 0.005318480185887004), (851, 0.00530542942744069), (1943, 0.005271328016247581), (2721, 0.005262300383257606), (1397, 0.005237167419271481), (2270, 0.005232643913193653), (1370, 0.005221916480128511), (4627, 0.005196593774854886), (3088, 0.00518764696723464), (1088, 0.005177059246237447), (2146, 0.005175572495882269), (2669, 0.005159200578081965), (3946, 0.005157081145085511), (4144, 0.005137227336910412), (2657, 0.00511009796514866), (4636, 0.0051071683770033145), (2157, 0.0050924078860472375), (2684, 0.005052098023369989), (1078, 0.0050434789078881645), (2659, 0.005025162960785075), (2312, 0.005022564055897633), (155, 0.0049623996769662705), (996, 0.004922768133654968), (4744, 0.004909464381220755), (2925, 0.004862479586693029), (3266, 0.004825889390712457), (2395, 0.004825666529654838), (3796, 0.004825020543954763), (4239, 0.004819730196110723), (3949, 0.004795542057490237), (2667, 0.004753732768599823), (2922, 0.004746785096920403), (4700, 0.004723656423518959), (4115, 0.004707180010605427), (2990, 0.004696289322098666), (1939, 0.004629794221025117), (2483, 0.0046007694559153725), (2715, 0.004592651183434131), (2536, 0.004557179248326611), (2948, 0.004543075449583066), (4537, 0.004541170376423788), (3439, 0.004524905752087829), (2228, 0.004515178760661971), (4040, 0.004501678571169247), (3715, 0.00450166234420082), (2941, 0.0044832502774479885), (2282, 0.0044821971242810605), (2875, 0.004433942368724534), (2455, 0.004427973402391203), (3740, 0.004415078954140407), (4151, 0.0044114178737168904), (2600, 0.004401344631387965), (3087, 0.004401255036176391), (3988, 0.004391134500472014), (3844, 0.004371654246968737), (2939, 0.004344981595306327), (4058, 0.004339269722535139), (4562, 0.004333876731005506), (2515, 0.004331171448120785), (842, 0.004265706615715706), (4725, 0.00425867002556522), (2077, 0.004254577603792459), (4631, 0.004236438965345717), (4127, 0.004234621827934647), (4720, 0.004234285922302329), (2781, 0.00420424405306757), (3203, 0.004201469061177679), (2727, 0.004195994393531954), (3054, 0.004191911053650201), (1941, 0.004175452766155056), (4570, 0.004170264048281614), (4204, 0.00415221930686253), (461, 0.004131274958824264), (611, 0.004125153089544757), (4711, 0.004117452596871878), (2299, 0.0041058031573623375), (3324, 0.004099934346631184), (711, 0.004097795798865602), (4285, 0.004093960272380541), (2635, 0.0040876980619043235), (2468, 0.004076125427270541), (740, 0.004062729635641237), (4346, 0.00404737337034369), (2261, 0.00404375871716943), (905, 0.0040355797155344104), (2676, 0.00400035879451228), (4496, 0.003993089181461662), (2305, 0.003989985819632776), (3791, 0.003980700690767978), (2357, 0.003960468236340897), (3649, 0.00395764500771297), (4317, 0.003955943708558948), (4737, 0.003955591903992868), (2138, 0.003953970800242707), (3383, 0.003950198726621955), (3820, 0.0039439566806393775), (839, 0.003941491090939392), (1999, 0.003940743665355635), (1560, 0.003931246298805621), (2757, 0.0039298399819123276), (139, 0.003914149239360486), (1311, 0.003913718706304771), (2810, 0.003909844385582716), (2164, 0.003904791716469545), (2479, 0.003895640823486499), (1260, 0.0038915272892273986), (3080, 0.003888523497674348), (2384, 0.0038854024764240977), (1371, 0.003875252330017308), (1836, 0.003873438115239866), (3688, 0.00386554316672567), (3572, 0.003862382473984863), (3652, 0.0038547268884257836), (2998, 0.0038545743042868934), (1766, 0.003849709001641311), (3519, 0.0038408399771833364), (2930, 0.0038356636963996476), (1089, 0.003835494620632082), (3581, 0.0038350026666651867), (3207, 0.003833699680578421), (990, 0.0038323110150085666), (841, 0.0038306157610582753), (1844, 0.0038301124861501888), (3837, 0.003829353496079162), (2452, 0.0038272635980086795), (2811, 0.0038203595437278754), (3628, 0.0038149219537830913), (2575, 0.003813003410688894), (678, 0.0038031775853366507), (4258, 0.0038010937481373383), (2604, 0.003796556534012764), (2979, 0.0037901730409747774), (2082, 0.003784645988235491), (4413, 0.0037826696680463997), (2021, 0.0037762012793071185), (771, 0.0037584638124951654), (3943, 0.003749850940149428), (2124, 0.003738717124817685), (4131, 0.003733265208936914), (4173, 0.0037325505432793888), (1732, 0.0037286023783787902), (4607, 0.003728382880654233), (4370, 0.003725879534632733), (1609, 0.0037228020271861994), (1333, 0.0037202306042005665), (1791, 0.0037139654200339734), (1205, 0.0037119485209434486), (3236, 0.0037104054357828303), (1856, 0.003710035648720326), (4560, 0.0037100033712843795), (1926, 0.0037069876026032235), (1596, 0.0037057561371593288), (4622, 0.0037031045756513266), (4256, 0.00370207677470138), (3442, 0.0037004420376753507), (4655, 0.003692628799395925), (4260, 0.0036872589438846624), (2937, 0.0036869075568376456), (4180, 0.0036866129330156605), (3041, 0.003682338469209066), (3422, 0.0036797022853710484), (4323, 0.0036746339044144084), (4705, 0.0036709428890916744), (667, 0.0036677757478249715), (3051, 0.0036624591278616877), (2754, 0.0036574650704667634), (1193, 0.0036556253782147326), (1142, 0.003654749442981261), (2217, 0.0036521596802156935), (2002, 0.0036513121311020124), (3415, 0.003651074313183634), (2768, 0.0036497635517120193), (3038, 0.0036493522450065504), (3672, 0.0036484453232115237), (3591, 0.003641031837925203), (2090, 0.0036409654939805816), (2042, 0.003640339183461632), (4433, 0.0036397108782850983), (3162, 0.0036377868930058967), (1024, 0.0036335069266729626), (793, 0.003623053808968971), (2325, 0.0036216320020412713), (2194, 0.003618222318503984), (4552, 0.0036160541644217263), (1165, 0.003613688923874182), (4648, 0.003607913325701432), (2189, 0.0036041725538701838), (1847, 0.0036018812667059155), (2456, 0.0036006539604129793), (1244, 0.0035984439355493175), (1735, 0.003597693336603813), (59, 0.003594295528287061), (730, 0.003592133855954383), (1697, 0.003590948554497153), (4202, 0.0035901798893290425), (1777, 0.0035840487370100895), (1917, 0.003581078785864438), (245, 0.0035784128206092676), (2307, 0.0035783845647175297), (2989, 0.0035776694907155493), (2251, 0.0035724226946598028), (42, 0.003568382906565819), (3209, 0.003567884161923895), (2200, 0.0035650118592196233), (134, 0.0035637670768959265), (2290, 0.003559997638546557), (1166, 0.003556113587521882), (3060, 0.003546158568732322), (2551, 0.00354467492622263), (3990, 0.003543969893639031), (2896, 0.0035426729853500847), (1889, 0.003541806299734814), (2685, 0.0035404742271445107), (2586, 0.0035346674699839814), (2889, 0.0035345093900077383), (4214, 0.0035336697414484653), (3462, 0.0035319355781344435), (3332, 0.0035303940711673525), (1879, 0.0035293604284145873), (3676, 0.0035254350155720852), (3245, 0.003524789790299146), (3119, 0.0035199782069782757), (4617, 0.0035116125385265076), (2153, 0.003507685375836461), (4704, 0.0035075995085875555), (3052, 0.0035070178258466748), (1388, 0.003503807655342903), (822, 0.0035033780648896454), (4184, 0.0035028534240796653), (943, 0.0034969802108603017), (3055, 0.0034937929605188727), (2081, 0.0034923074158195494), (2709, 0.0034901342185756665), (2804, 0.0034896842497929245), (4195, 0.003486497298731073), (849, 0.003486316101361592), (1227, 0.003485077325829125), (4291, 0.0034837265909414784), (965, 0.003480988361355605), (3561, 0.0034805872557089096), (3104, 0.0034804470619334525), (3805, 0.003478471524660853), (3106, 0.003477570401991412), (627, 0.003476687206632144), (4457, 0.0034757584531682865), (4675, 0.003475500931626074), (1444, 0.0034714173624978005), (3635, 0.0034713598956133663), (2336, 0.0034690360940050884), (1196, 0.003465845293005378), (947, 0.003463457837582885), (3545, 0.003462684793088032), (1834, 0.00345850229082793), (1837, 0.0034543768229619333), (1198, 0.003453265708291347), (2825, 0.0034463359709202665), (4749, 0.003445754848729087), (2435, 0.00344490902553523), (4529, 0.003442571359992003), (2298, 0.0034425555476942375), (535, 0.00344223523761519), (3350, 0.003441684094601336), (3443, 0.0034409801803242214), (1757, 0.003436654067579663), (2484, 0.0034330010445119525), (2310, 0.0034328927715562645), (4221, 0.0034328235819963923), (3090, 0.0034305428714776045), (1330, 0.0034246046442550668), (2639, 0.0034228380690556437), (3685, 0.003422468325622955), (4611, 0.0034223368172097927), (2694, 0.0034201300091713806), (3939, 0.003419693316958212), (459, 0.003417757621793038), (1842, 0.003413345101952608), (4234, 0.0034032572762698002), (2861, 0.0034032442924553604), (2932, 0.003394725446066156), (4172, 0.003394353627754003), (503, 0.0033936064071479186), (1235, 0.0033881470995082022), (404, 0.00338553085564829), (662, 0.0033824459308668155), (3366, 0.003369241122525992), (3896, 0.0033639572305247264), (4696, 0.003363712346513822), (2628, 0.0033611503171847965), (3582, 0.0033607593266317417), (1900, 0.00335871902015474), (4407, 0.0033584322706539708), (720, 0.0033552535221399527), (2392, 0.003352410705697558), (3292, 0.003351737365527884), (1544, 0.003348875728857715), (3762, 0.003344995445965624), (4434, 0.003341902760093196), (1912, 0.0033400379202517747), (3595, 0.003337794683024227), (3824, 0.003329675290681045), (4423, 0.003329416871112062), (2620, 0.003328941300915575), (4019, 0.003328389422933002), (2425, 0.003327648976842877), (2050, 0.0033264879540629627), (2644, 0.0033194842532798734), (2787, 0.0033172667007418423), (2140, 0.003317140710684512), (2690, 0.003312773849932058), (2255, 0.003312581966926684), (2257, 0.003305686432774029), (1211, 0.003305654419906419), (4037, 0.003304833194818481), (3322, 0.0033044799336646286), (889, 0.0033043634644788966), (3262, 0.0033036977825020362), (1785, 0.003301087084262724), (2901, 0.0032965128980957242), (4230, 0.0032898293307341824), (1783, 0.0032824909372117287), (2179, 0.0032772815983193168), (311, 0.0032744513254385032), (4400, 0.003273059753037215), (3250, 0.003271873999832877), (4690, 0.0032716321359480783), (1898, 0.0032620571303536997), (3848, 0.003257433468817412), (1899, 0.003252246386038096), (4606, 0.0032505224074999236), (3732, 0.003250208600537925), (1673, 0.003247756786711349), (3828, 0.0032471865600417343), (4710, 0.003245453711143474), (2450, 0.003243068710493472), (3543, 0.0032429898537821807), (2795, 0.0032424920751367775), (4305, 0.0032408980934613913), (2272, 0.0032404002204701396), (3354, 0.003232588376215085), (526, 0.0032286621690680696), (2093, 0.003226460744579754), (745, 0.0032255015118743758), (770, 0.0032222178283398016), (2445, 0.0032109061529900012), (4469, 0.0032079994082565527), (3687, 0.0032069063854457455), (4692, 0.003205011723756482), (4521, 0.0032047893374542577), (4577, 0.0032031782609754176), (920, 0.0032026074078659096), (1331, 0.0031975912030140544), (2225, 0.003195331504941224), (4186, 0.0031934632965152144), (1242, 0.0031914189862220837), (2557, 0.003184357889287052), (2438, 0.0031803001440962523), (3159, 0.0031777393007090472), (3885, 0.0031736039757171404), (2033, 0.0031732783918466175), (4107, 0.0031703925513062057), (3613, 0.0031669130389094533), (4447, 0.0031650482764454648), (4724, 0.003165045011187218), (3521, 0.003163110392995015), (2063, 0.0031627496651200604), (2424, 0.0031620923623887067), (4572, 0.003151146522092972), (4209, 0.0031462369806758107), (4443, 0.0031453157238586966), (3874, 0.0031397054288208057), (4723, 0.0031392699352190767), (3031, 0.003136409161155946), (3123, 0.003131790889758528), (2879, 0.0031268873377528743), (3620, 0.0031264969894710098), (3358, 0.0031171131477998716), (1593, 0.003111561362809301), (1064, 0.003110684355864439), (2833, 0.003109615584728625), (383, 0.0031091833139591375), (3206, 0.0031064844674343842), (2778, 0.0031046260952520936), (2454, 0.0031004018679344197), (3485, 0.0031000338276548824), (1694, 0.003097413887788432), (2993, 0.0030968820701490958), (3901, 0.0030964765098094723), (2366, 0.0030938216272731597), (1264, 0.0030928165723123104), (393, 0.003089392759855011), (3861, 0.00308908364368655), (1429, 0.0030866570911655864), (777, 0.0030859183293524784), (4358, 0.0030779401411482805), (836, 0.003075482217329023), (1213, 0.0030645355209141948), (3766, 0.0030618944180653414), (3675, 0.0030606403254711924), (4701, 0.003060107262637849), (2433, 0.0030550123096653374), (4637, 0.0030466656917921614), (4490, 0.0030449284810767203), (2059, 0.003042548517965858), (2772, 0.0030414671894535535), (1348, 0.0030387550524309795), (4735, 0.0030382733636199564), (2971, 0.0030354796914731125), (3935, 0.0030254828887343985), (2613, 0.003024798485872238), (4416, 0.0030222675178583082), (3081, 0.003021665681702312), (2378, 0.0030216285988902674), (4584, 0.0030185385973384255), (2089, 0.003016994818484159), (4694, 0.0030168068591010923), (2406, 0.003015909527861921), (2707, 0.0030134354892906653), (4426, 0.003010128730751289), (1212, 0.003009592403625022), (4412, 0.0030076802376807947), (4030, 0.0030052356512168124), (1323, 0.002997387936183654), (2142, 0.002994506500627788), (1547, 0.0029904130261238166), (4126, 0.002987716596223677), (3884, 0.0029873078165225096), (1070, 0.0029817178302954917), (4163, 0.002976783809210096), (3729, 0.0029755712154636254), (860, 0.0029748737248781352), (4398, 0.002966872647642806), (2987, 0.002964146147726197), (3419, 0.002963043929490368), (3396, 0.0029615460841336256), (721, 0.0029418768934066624), (4244, 0.002941445555066705), (3639, 0.0029384945300156935), (1497, 0.0029302755076130523), (4753, 0.0029277273909282847), (3883, 0.0029267187209265624), (1062, 0.0029169812295178612), (2437, 0.002914303358806625), (4187, 0.0029133122516117357), (3186, 0.002911264008692851), (2373, 0.0029093826423240467), (964, 0.002908271341206503), (2881, 0.002907926034449604), (2623, 0.002906666447581011), (3043, 0.0029065809471695847), (478, 0.0029058199348062728), (4092, 0.0029056071578545243), (2400, 0.002904044687163757), (3680, 0.0029034070340634827), (4494, 0.0029005909835132337), (1148, 0.002898943301383189), (281, 0.0028985121875174133), (1383, 0.0028983331157595876), (3212, 0.002892048071101457), (533, 0.002887857744066844), (2770, 0.0028848577898046954), (922, 0.0028806350133298944), (2903, 0.002879342164522563), (3196, 0.0028791342377305885), (4160, 0.0028787177661896216), (3012, 0.002878620696905427), (2025, 0.002877809893062724), (596, 0.0028768240358485963), (2916, 0.0028759506931457517), (1862, 0.0028755606255627523), (1499, 0.0028741901447297455), (3032, 0.002873933719226336), (4396, 0.002872604550324879), (2356, 0.002870244030504274), (4401, 0.002868652800255299), (3737, 0.0028669958883273104), (458, 0.0028648964399279617), (3640, 0.002863422354053355), (2913, 0.0028614482373820723), (4397, 0.002857504689708214), (4593, 0.0028550443760641535), (1498, 0.0028544831636394606), (1890, 0.0028489895009385716), (1326, 0.0028478728440111734), (2018, 0.0028455196531734198), (1960, 0.002842778730502311), (2428, 0.002833520518760182), (1754, 0.0028283979775857292), (3971, 0.0028133701001136053), (4048, 0.0028108049271270375), (4601, 0.0028103069573981185), (1646, 0.002806969788023494), (3714, 0.002806426327732497), (3497, 0.002805327527568606), (2364, 0.0028049168615095154), (896, 0.002804870011410795), (2646, 0.002803111920779513), (673, 0.0028018780424018475), (3749, 0.002799492244756144), (4116, 0.0027992219314583707), (4519, 0.002798785295302266), (2293, 0.002798692882288357), (499, 0.002794189681797705), (2097, 0.0027940145067739475), (3064, 0.0027938120538082323), (1268, 0.0027928756719184126), (4087, 0.0027911241200862095), (4528, 0.0027883703373417544), (3642, 0.002784233377657123), (1325, 0.002782928735188933), (2888, 0.0027812694672124326), (4545, 0.0027784993354809037), (3704, 0.002774640159783718), (4024, 0.002772701920389326), (3757, 0.0027696589766224794), (4579, 0.002767507353730121), (210, 0.002767183106811639), (3692, 0.002764504801338569), (430, 0.0027635336433314223), (4161, 0.0027621851462251265), (3112, 0.0027609233908254343), (1995, 0.0027608499082624302), (4540, 0.0027588402858543166), (4245, 0.0027586136028960166), (991, 0.0027560853766519997), (2254, 0.0027552358896113247), (2723, 0.0027536490270803444), (3781, 0.0027510211712248453), (21, 0.0027457101217876873), (3007, 0.0027429482651527394), (2393, 0.002740038745745145), (4231, 0.0027388996063509243), (1320, 0.0027385703127335405), (826, 0.002738278571358697), (4355, 0.002735314726198712), (3987, 0.002734630736912732), (3590, 0.0027273887645554184), (2361, 0.00272340995846628), (68, 0.00272302751480883), (4505, 0.0027177533036265686), (1853, 0.0027177258864078753), (2953, 0.002717702865086251), (2288, 0.002715805648129744), (2849, 0.0027144008626349605), (4318, 0.002713108656774516), (1918, 0.0027120591836363684), (4123, 0.0027110108307738406), (4, 0.0027090731075112796), (1225, 0.0027086271883950126), (1400, 0.002706490949405888), (1916, 0.0027056802137589357), (2419, 0.002697482596919026), (3372, 0.00269654424476201), (716, 0.002692436382485364), (429, 0.0026908703284352275), (4430, 0.002688213239479675), (4497, 0.002688111471322725), (20, 0.002685576464944684), (3770, 0.0026849426704264137), (580, 0.0026829949230014203), (837, 0.002681722921396708), (3862, 0.0026815458250428617), (4083, 0.002680560808391208), (3574, 0.0026793458327554155), (972, 0.0026721549742290385), (1083, 0.0026714376837206877), (4361, 0.002671278118718971), (3353, 0.002669323523384969), (3666, 0.0026659276006368885), (637, 0.002658819334892687), (2123, 0.002657587560801299), (1703, 0.0026565452338557297), (4340, 0.002655510331379493), (3527, 0.0026540675631114567), (980, 0.002653638124603261), (2919, 0.002652422541704181), (806, 0.0026496589741944894), (4249, 0.002649184673117784), (120, 0.002647992825624751), (3636, 0.0026459735289108984), (1717, 0.0026443020088578154), (743, 0.002638401046272076), (176, 0.002638272616218978), (1334, 0.002635736369489646), (4098, 0.0026318613002293836), (3542, 0.0026269952975348284), (652, 0.002626218119552039), (1174, 0.0026248160105236803), (3699, 0.0026224924911344735), (1176, 0.0026208823440973705), (593, 0.0026188278447565544), (3653, 0.0026172828653272524), (2073, 0.002616769448681376), (3707, 0.00261319097969183), (3501, 0.002609902859139853), (2295, 0.0026083799209309397), (1440, 0.00260719554067078), (4004, 0.002603857186571113), (2091, 0.002603295126862726), (2374, 0.0026021250940181095), (2887, 0.0026016071633610835), (4014, 0.0025978545509224315), (1138, 0.002597264718266207), (4677, 0.0025951101021629273), (1335, 0.0025931239562290843), (636, 0.002593029689429659), (1922, 0.002591886239570072), (1706, 0.00259094316079785), (4266, 0.002590844128884648), (3210, 0.002589867366224867), (848, 0.0025893883224982145), (628, 0.0025886700109589047), (2934, 0.002586264929502135), (2606, 0.0025852908824086735), (2067, 0.002582995281645686), (2533, 0.0025823827945743124), (4081, 0.0025817693445174578), (378, 0.0025785547441565105), (4715, 0.0025741823468749116), (2695, 0.0025707256823931475), (761, 0.002567939721854314), (226, 0.0025672064123432848), (986, 0.0025655984809659135), (1163, 0.002563033077334904), (4268, 0.0025571887647834668), (3216, 0.0025550342289197584), (4409, 0.0025523695603765955), (2289, 0.002549778610860011), (1102, 0.0025482504567911585), (4000, 0.0025467482134510014), (3441, 0.002546469998561926), (3727, 0.0025457111871679977), (1891, 0.0025452805076877916), (3624, 0.0025437662615897466), (1072, 0.002543046684565979), (4520, 0.002541717692165005), (247, 0.0025386734428399223), (466, 0.002538405848396342), (3381, 0.0025368998106017468), (4228, 0.0025366098726402526), (1621, 0.002531155713354134), (4668, 0.0025299071585638015), (2173, 0.002528310211493384), (2961, 0.0025272959213918987), (3093, 0.0025268373637394935), (2946, 0.002526807729021891), (3195, 0.0025267213405505942), (3647, 0.002526147304687428), (989, 0.0025253868126055277), (4349, 0.002524709506031552), (3827, 0.0025174310923615616), (1882, 0.002515658822457969), (4362, 0.0025140351053724586), (26, 0.002512220809421148), (3069, 0.002507349355769137), (3719, 0.002506080817955044), (4743, 0.002505218390645071), (799, 0.002502977927671527), (2279, 0.0025016914089013935), (2401, 0.002495323703760169), (1967, 0.002494309083778729), (4693, 0.0024940531673991735), (1813, 0.0024927058546281022), (3370, 0.00249224823291987), (4573, 0.002489032223729645), (4673, 0.0024868002684820057), (1671, 0.0024858328625788004), (4129, 0.002485216551494507), (2080, 0.002480722768721594), (87, 0.0024785863046322023), (3660, 0.002475985742282096), (2716, 0.0024731244243392744), (4461, 0.002471758335283455), (646, 0.0024690989901126853), (3900, 0.0024689431988957878), (4729, 0.0024662756111315746), (1478, 0.0024586847395749512), (487, 0.0024578682311527664), (2752, 0.002455744071812805), (2141, 0.0024541123079433263), (4567, 0.0024539192295525755), (1416, 0.0024535926078609097), (3978, 0.0024489905603263342), (3035, 0.002444295391009515), (3691, 0.002443150935904576), (3171, 0.0024423704857998467), (3036, 0.0024410858323495052), (1123, 0.0024401831882674883), (3799, 0.0024338406429663543), (2679, 0.002429598123266618), (2997, 0.002426817284095897), (2800, 0.0024257814369661205), (1032, 0.002425076048243319), (3734, 0.002421654495921017), (1036, 0.0024215885944733886), (276, 0.0024209220267167823), (3615, 0.002417844288619788), (236, 0.002411747953056569), (140, 0.0024051062369709053), (1665, 0.002404027410329793), (1884, 0.0023998167684586616), (3452, 0.0023941957831137804), (229, 0.00239371757346028), (598, 0.0023922517853804427), (868, 0.0023838780711921085), (1183, 0.0023832058412547224), (1641, 0.002380949818887078), (2556, 0.0023807922270369214), (3120, 0.002377108349856202), (3627, 0.0023756450874387923), (1760, 0.0023738735066298395), (4616, 0.002371793817082009), (136, 0.0023710290753699223), (2735, 0.0023706248068438174), (2593, 0.0023688799443255908), (3369, 0.002368322207075356), (558, 0.0023675916681274774), (1667, 0.0023662808441448366), (1357, 0.002366126179973334), (1814, 0.0023640862802216268), (2674, 0.0023635020657851555), (3455, 0.002357519312717271), (359, 0.002356263089180655), (4326, 0.00235399189157236), (1672, 0.002350446273543772), (4620, 0.002345940773789624), (4502, 0.0023450230858281145), (1796, 0.0023426586428496117), (4638, 0.0023421307007931266), (3278, 0.0023346397734127114), (1680, 0.002331847429700666), (1892, 0.002331460538715762), (4053, 0.002329783565238166), (1826, 0.0023217458119708097), (1161, 0.0023177137116782726), (581, 0.0023137812441322613), (3974, 0.0023109532354595535), (4475, 0.0023088730584602665), (1625, 0.0023087804027117063), (1739, 0.0023086183376153833), (2248, 0.0023082895397874125), (3863, 0.0023072041115708196), (2191, 0.0023026423655587496), (917, 0.0022982024143152254), (3556, 0.002295733515144553), (268, 0.002290009772016618), (4608, 0.0022784623067922064), (4661, 0.0022759219772733163), (4343, 0.002271047637175282), (4220, 0.002265038200649951), (92, 0.0022595512880432345), (4432, 0.0022473153260005427), (4296, 0.002236452624075409), (4232, 0.0022321335137623134), (4429, 0.0022293060203486957), (4386, 0.0022144082924310427), (286, 0.0022032704605936633), (2743, 0.0022013299642492084), (1050, 0.0021873666811585194), (626, 0.002175889504568845), (267, 0.0021758579021435953), (3347, 0.0021549874122373594), (2359, 0.0021430259605320977), (3331, 0.0021402928427931914), (16, 0.002140027973020624), (1209, 0.0021396109651385313), (3252, 0.002139431592753199), (2602, 0.0021304303695665722), (3024, 0.0021239625869341285), (3548, 0.002111426940620883), (2697, 0.002101956350610223), (3756, 0.002100213228006703), (645, 0.0020970320488099933), (1098, 0.0020936930978605775), (942, 0.00208733901899014), (4626, 0.002075849870375647), (953, 0.002067284498008495), (3431, 0.002061825457721045), (2010, 0.00202763797156765), (3301, 0.002010612909025888), (571, 0.0019796274614391975), (453, 0.0019633277883869754), (4301, 0.0019049273876737942), (2902, 0.0018883697174450693), (542, 0.0018004905652402468), (858, 0.0017336094808185721), (24, 0.0016769415048338069), (3608, 0.001672378225401687), (2538, 0.0015362489224331527), (1, 0.0), (17, 0.0), (30, 0.0), (47, 0.0), (54, 0.0), (69, 0.0), (77, 0.0), (93, 0.0), (95, 0.0), (118, 0.0), (133, 0.0), (143, 0.0), (151, 0.0), (163, 0.0), (180, 0.0), (181, 0.0), (187, 0.0), (207, 0.0), (265, 0.0), (289, 0.0), (290, 0.0), (295, 0.0), (314, 0.0), (315, 0.0), (316, 0.0), (320, 0.0), (323, 0.0), (333, 0.0), (360, 0.0), (394, 0.0), (423, 0.0), (435, 0.0), (462, 0.0), (501, 0.0), (513, 0.0), (516, 0.0), (539, 0.0), (550, 0.0), (552, 0.0), (554, 0.0), (556, 0.0), (557, 0.0), (559, 0.0), (570, 0.0), (574, 0.0), (592, 0.0), (595, 0.0), (601, 0.0), (602, 0.0), (625, 0.0), (650, 0.0), (674, 0.0), (682, 0.0), (695, 0.0), (713, 0.0), (718, 0.0), (801, 0.0), (811, 0.0), (825, 0.0), (855, 0.0), (932, 0.0), (954, 0.0), (977, 0.0), (992, 0.0), (1003, 0.0), (1051, 0.0), (1055, 0.0), (1058, 0.0), (1076, 0.0), (1081, 0.0), (1082, 0.0), (1091, 0.0), (1097, 0.0), (1127, 0.0), (1134, 0.0), (1137, 0.0), (1147, 0.0), (1151, 0.0), (1158, 0.0), (1164, 0.0), (1181, 0.0), (1189, 0.0), (1228, 0.0), (1230, 0.0), (1240, 0.0), (1258, 0.0), (1265, 0.0), (1269, 0.0), (1283, 0.0), (1285, 0.0), (1287, 0.0), (1315, 0.0), (1332, 0.0), (1386, 0.0), (1391, 0.0), (1399, 0.0), (1435, 0.0), (1452, 0.0), (1455, 0.0), (1460, 0.0), (1466, 0.0), (1470, 0.0), (1529, 0.0), (1531, 0.0), (1540, 0.0), (1554, 0.0), (1556, 0.0), (1576, 0.0), (1591, 0.0), (1604, 0.0), (1631, 0.0), (1633, 0.0), (1661, 0.0), (1674, 0.0), (1686, 0.0), (1745, 0.0), (1749, 0.0), (1753, 0.0), (1789, 0.0), (1815, 0.0), (1820, 0.0), (1832, 0.0), (1835, 0.0), (1840, 0.0), (1846, 0.0), (1894, 0.0), (1901, 0.0), (1904, 0.0), (1927, 0.0), (1930, 0.0), (1933, 0.0), (1940, 0.0), (1953, 0.0), (1962, 0.0), (1966, 0.0), (1972, 0.0), (1975, 0.0), (1976, 0.0), (1979, 0.0), (2028, 0.0), (2030, 0.0), (2038, 0.0), (2054, 0.0), (2066, 0.0), (2130, 0.0), (2136, 0.0), (2171, 0.0), (2172, 0.0), (2181, 0.0), (2184, 0.0), (2206, 0.0), (2232, 0.0), (2235, 0.0), (2238, 0.0), (2243, 0.0), (2275, 0.0), (2314, 0.0), (2341, 0.0), (2342, 0.0), (2343, 0.0), (2345, 0.0), (2358, 0.0), (2365, 0.0), (2369, 0.0), (2372, 0.0), (2383, 0.0), (2413, 0.0), (2429, 0.0), (2451, 0.0), (2462, 0.0), (2471, 0.0), (2476, 0.0), (2506, 0.0), (2521, 0.0), (2541, 0.0), (2549, 0.0), (2573, 0.0), (2577, 0.0), (2583, 0.0), (2599, 0.0), (2658, 0.0), (2670, 0.0), (2683, 0.0), (2686, 0.0), (2700, 0.0), (2717, 0.0), (2733, 0.0), (2750, 0.0), (2773, 0.0), (2815, 0.0), (2824, 0.0), (2828, 0.0), (2837, 0.0), (2851, 0.0), (2860, 0.0), (2864, 0.0), (2869, 0.0), (2885, 0.0), (2905, 0.0), (2918, 0.0), (2921, 0.0), (2927, 0.0), (2947, 0.0), (2950, 0.0), (2952, 0.0), (2956, 0.0), (2959, 0.0), (2960, 0.0), (3002, 0.0), (3025, 0.0), (3029, 0.0), (3047, 0.0), (3049, 0.0), (3058, 0.0), (3059, 0.0), (3068, 0.0), (3079, 0.0), (3100, 0.0), (3110, 0.0), (3126, 0.0), (3136, 0.0), (3138, 0.0), (3156, 0.0), (3160, 0.0), (3176, 0.0), (3185, 0.0), (3191, 0.0), (3208, 0.0), (3213, 0.0), (3223, 0.0), (3251, 0.0), (3255, 0.0), (3263, 0.0), (3281, 0.0), (3305, 0.0), (3338, 0.0), (3339, 0.0), (3340, 0.0), (3385, 0.0), (3404, 0.0), (3405, 0.0), (3427, 0.0), (3429, 0.0), (3432, 0.0), (3440, 0.0), (3453, 0.0), (3468, 0.0), (3472, 0.0), (3473, 0.0), (3476, 0.0), (3480, 0.0), (3482, 0.0), (3488, 0.0), (3520, 0.0), (3522, 0.0), (3530, 0.0), (3535, 0.0), (3550, 0.0), (3573, 0.0), (3576, 0.0), (3600, 0.0), (3602, 0.0), (3605, 0.0), (3607, 0.0), (3609, 0.0), (3625, 0.0), (3663, 0.0), (3664, 0.0), (3679, 0.0), (3682, 0.0), (3693, 0.0), (3700, 0.0), (3702, 0.0), (3710, 0.0), (3717, 0.0), (3723, 0.0), (3726, 0.0), (3744, 0.0), (3750, 0.0), (3760, 0.0), (3768, 0.0), (3769, 0.0), (3775, 0.0), (3782, 0.0), (3785, 0.0), (3788, 0.0), (3793, 0.0), (3816, 0.0), (3838, 0.0), (3843, 0.0), (3849, 0.0), (3850, 0.0), (3860, 0.0), (3887, 0.0), (3908, 0.0), (3918, 0.0), (3942, 0.0), (3947, 0.0), (3981, 0.0), (3995, 0.0), (3997, 0.0), (4021, 0.0), (4041, 0.0), (4043, 0.0), (4047, 0.0), (4065, 0.0), (4072, 0.0), (4078, 0.0), (4088, 0.0), (4090, 0.0), (4096, 0.0), (4103, 0.0), (4122, 0.0), (4128, 0.0), (4165, 0.0), (4167, 0.0), (4170, 0.0), (4179, 0.0), (4181, 0.0), (4185, 0.0), (4208, 0.0), (4212, 0.0), (4215, 0.0), (4219, 0.0), (4224, 0.0), (4227, 0.0), (4235, 0.0), (4238, 0.0), (4248, 0.0), (4250, 0.0), (4251, 0.0), (4261, 0.0), (4276, 0.0), (4278, 0.0), (4302, 0.0), (4307, 0.0), (4310, 0.0), (4316, 0.0), (4331, 0.0), (4352, 0.0), (4365, 0.0), (4366, 0.0), (4375, 0.0), (4377, 0.0), (4380, 0.0), (4384, 0.0), (4390, 0.0), (4393, 0.0), (4405, 0.0), (4410, 0.0), (4415, 0.0), (4417, 0.0), (4424, 0.0), (4425, 0.0), (4439, 0.0), (4455, 0.0), (4456, 0.0), (4485, 0.0), (4491, 0.0), (4500, 0.0), (4509, 0.0), (4512, 0.0), (4513, 0.0), (4526, 0.0), (4527, 0.0), (4532, 0.0), (4538, 0.0), (4547, 0.0), (4553, 0.0), (4559, 0.0), (4561, 0.0), (4569, 0.0), (4578, 0.0), (4585, 0.0), (4586, 0.0), (4595, 0.0), (4623, 0.0), (4639, 0.0), (4644, 0.0), (4645, 0.0), (4651, 0.0), (4654, 0.0), (4656, 0.0), (4662, 0.0), (4664, 0.0), (4665, 0.0), (4666, 0.0), (4671, 0.0), (4672, 0.0), (4681, 0.0), (4691, 0.0), (4697, 0.0), (4698, 0.0), (4703, 0.0), (4707, 0.0), (4709, 0.0), (4714, 0.0), (4716, 0.0), (4728, 0.0), (4736, 0.0), (4740, 0.0), (4742, 0.0), (4745, 0.0), (4747, 0.0), (4750, 0.0), (4751, 0.0), (4754, 0.0), (4758, 0.0), (4759, 0.0)]\n"
          ]
        }
      ]
    },
    {
      "cell_type": "code",
      "source": [
        "# print the name of similar movies based on the index\n",
        "\n",
        "print('Top 30 Movies Suggested for you: \\n')\n",
        "\n",
        "i = 1\n",
        "\n",
        "for movie in Sorted_Similar_Movies:\n",
        "    index = movie[0]\n",
        "    title_from_index = df[df.index==index]['Movie_Title'].values[0]\n",
        "    if (i<31):\n",
        "        print(i, '.',title_from_index)\n",
        "        i+=1"
      ],
      "metadata": {
        "colab": {
          "base_uri": "https://localhost:8080/"
        },
        "id": "nGdyQIcfYWk0",
        "outputId": "692f15f6-5dd9-4972-b9f7-35af6db8bed4"
      },
      "execution_count": null,
      "outputs": [
        {
          "output_type": "stream",
          "name": "stdout",
          "text": [
            "Top 30 Movies Suggested for you: \n",
            "\n",
            "1 . Forrest Gump\n",
            "2 . The Green Mile\n",
            "3 . A Home at the End of the World\n",
            "4 . The Deer Hunter\n",
            "5 . Rain Man\n",
            "6 . Cast Away\n",
            "7 . The Big Bounce\n",
            "8 . Letters from Iwo Jima\n",
            "9 . Silver Linings Playbook\n",
            "10 . Say It Isn't So\n",
            "11 . What's Eating Gilbert Grape\n",
            "12 . Apollo 13\n",
            "13 . Larry Crowne\n",
            "14 . Contact\n",
            "15 . Apocalypse Now\n",
            "16 . A Christmas Carol\n",
            "17 . You've Got Mail\n",
            "18 . The Purge: Election Year\n",
            "19 . Impostor\n",
            "20 . Robin and Marian\n",
            "21 . Dangerous Liaisons\n",
            "22 . Saving Private Ryan\n",
            "23 . Days of Heaven\n",
            "24 . Memoirs of an Invisible Man\n",
            "25 . Gigli\n",
            "26 . The Musketeer\n",
            "27 . Last Orders\n",
            "28 . Moneyball\n",
            "29 . Dancin' It's On\n",
            "30 . Snake Eyes\n"
          ]
        }
      ]
    },
    {
      "cell_type": "markdown",
      "source": [
        "Top 10 Movie Recommendation System"
      ],
      "metadata": {
        "id": "A7zEQvwQYdtA"
      }
    },
    {
      "cell_type": "code",
      "source": [
        "Movie_Name = input('Enter your favorite movie name: ')\n",
        "\n",
        "list_of_all_titles = df['Movie_Title'].tolist()\n",
        "\n",
        "Find_Close_Match = difflib.get_close_matches(Movie_Name, list_of_all_titles)\n",
        "\n",
        "Close_Match = Find_Close_Match[0]\n",
        "\n",
        "Index_of_Movie = df[df.Movie_Title == Close_Match]['Movie_ID'].values[0]\n",
        "\n",
        "Recommendation_Score = list(enumerate(Similarity_Score[Index_of_Movie]))\n",
        "\n",
        "sorted_similar_movies = sorted(Recommendation_Score, key = lambda x:x[1], reverse = True)\n",
        "\n",
        "print('Top 10 Movies suggested for you : \\n')\n",
        "\n",
        "i = 1\n",
        "\n",
        "for movie in sorted_similar_movies:\n",
        "    index = movie[0]\n",
        "    title_from_index = df[df.Movie_ID==index]['Movie_Title'].values\n",
        "    if (i<11):\n",
        "        print(i,'.',title_from_index)\n",
        "        i+=1"
      ],
      "metadata": {
        "colab": {
          "base_uri": "https://localhost:8080/"
        },
        "id": "d68DRREMYe7z",
        "outputId": "417ed067-d874-44ff-a3e6-115935a6139c"
      },
      "execution_count": null,
      "outputs": [
        {
          "output_type": "stream",
          "name": "stdout",
          "text": [
            "Enter your favorite movie name: Avatar\n",
            "Top 10 Movies suggested for you : \n",
            "\n",
            "1 . ['Avatar']\n",
            "2 . ['The Girl on the Train']\n",
            "3 . ['Act of Valor']\n",
            "4 . ['Donnie Darko']\n",
            "5 . ['Precious']\n",
            "6 . ['Freaky Friday']\n",
            "7 . ['The Opposite Sex']\n",
            "8 . ['Heaven is for Real']\n",
            "9 . ['Run Lola Run']\n",
            "10 . ['Elizabethtown']\n"
          ]
        }
      ]
    },
    {
      "cell_type": "code",
      "source": [
        "!jupyter nbconvert --to html \"/content/Untitled1.ipynb\""
      ],
      "metadata": {
        "id": "N05MhGJesWnp",
        "outputId": "c8b1ad3a-d08c-49a2-de14-2ad8cc92c706",
        "colab": {
          "base_uri": "https://localhost:8080/"
        }
      },
      "execution_count": null,
      "outputs": [
        {
          "output_type": "stream",
          "name": "stdout",
          "text": [
            "[NbConvertApp] WARNING | pattern '/content/Untitled1.ipynb' matched no files\n",
            "This application is used to convert notebook files (*.ipynb)\n",
            "        to various other formats.\n",
            "\n",
            "        WARNING: THE COMMANDLINE INTERFACE MAY CHANGE IN FUTURE RELEASES.\n",
            "\n",
            "Options\n",
            "=======\n",
            "The options below are convenience aliases to configurable class-options,\n",
            "as listed in the \"Equivalent to\" description-line of the aliases.\n",
            "To see all configurable class-options for some <cmd>, use:\n",
            "    <cmd> --help-all\n",
            "\n",
            "--debug\n",
            "    set log level to logging.DEBUG (maximize logging output)\n",
            "    Equivalent to: [--Application.log_level=10]\n",
            "--show-config\n",
            "    Show the application's configuration (human-readable format)\n",
            "    Equivalent to: [--Application.show_config=True]\n",
            "--show-config-json\n",
            "    Show the application's configuration (json format)\n",
            "    Equivalent to: [--Application.show_config_json=True]\n",
            "--generate-config\n",
            "    generate default config file\n",
            "    Equivalent to: [--JupyterApp.generate_config=True]\n",
            "-y\n",
            "    Answer yes to any questions instead of prompting.\n",
            "    Equivalent to: [--JupyterApp.answer_yes=True]\n",
            "--execute\n",
            "    Execute the notebook prior to export.\n",
            "    Equivalent to: [--ExecutePreprocessor.enabled=True]\n",
            "--allow-errors\n",
            "    Continue notebook execution even if one of the cells throws an error and include the error message in the cell output (the default behaviour is to abort conversion). This flag is only relevant if '--execute' was specified, too.\n",
            "    Equivalent to: [--ExecutePreprocessor.allow_errors=True]\n",
            "--stdin\n",
            "    read a single notebook file from stdin. Write the resulting notebook with default basename 'notebook.*'\n",
            "    Equivalent to: [--NbConvertApp.from_stdin=True]\n",
            "--stdout\n",
            "    Write notebook output to stdout instead of files.\n",
            "    Equivalent to: [--NbConvertApp.writer_class=StdoutWriter]\n",
            "--inplace\n",
            "    Run nbconvert in place, overwriting the existing notebook (only\n",
            "            relevant when converting to notebook format)\n",
            "    Equivalent to: [--NbConvertApp.use_output_suffix=False --NbConvertApp.export_format=notebook --FilesWriter.build_directory=]\n",
            "--clear-output\n",
            "    Clear output of current file and save in place,\n",
            "            overwriting the existing notebook.\n",
            "    Equivalent to: [--NbConvertApp.use_output_suffix=False --NbConvertApp.export_format=notebook --FilesWriter.build_directory= --ClearOutputPreprocessor.enabled=True]\n",
            "--no-prompt\n",
            "    Exclude input and output prompts from converted document.\n",
            "    Equivalent to: [--TemplateExporter.exclude_input_prompt=True --TemplateExporter.exclude_output_prompt=True]\n",
            "--no-input\n",
            "    Exclude input cells and output prompts from converted document.\n",
            "            This mode is ideal for generating code-free reports.\n",
            "    Equivalent to: [--TemplateExporter.exclude_output_prompt=True --TemplateExporter.exclude_input=True --TemplateExporter.exclude_input_prompt=True]\n",
            "--allow-chromium-download\n",
            "    Whether to allow downloading chromium if no suitable version is found on the system.\n",
            "    Equivalent to: [--WebPDFExporter.allow_chromium_download=True]\n",
            "--disable-chromium-sandbox\n",
            "    Disable chromium security sandbox when converting to PDF..\n",
            "    Equivalent to: [--WebPDFExporter.disable_sandbox=True]\n",
            "--show-input\n",
            "    Shows code input. This flag is only useful for dejavu users.\n",
            "    Equivalent to: [--TemplateExporter.exclude_input=False]\n",
            "--embed-images\n",
            "    Embed the images as base64 dataurls in the output. This flag is only useful for the HTML/WebPDF/Slides exports.\n",
            "    Equivalent to: [--HTMLExporter.embed_images=True]\n",
            "--sanitize-html\n",
            "    Whether the HTML in Markdown cells and cell outputs should be sanitized..\n",
            "    Equivalent to: [--HTMLExporter.sanitize_html=True]\n",
            "--log-level=<Enum>\n",
            "    Set the log level by value or name.\n",
            "    Choices: any of [0, 10, 20, 30, 40, 50, 'DEBUG', 'INFO', 'WARN', 'ERROR', 'CRITICAL']\n",
            "    Default: 30\n",
            "    Equivalent to: [--Application.log_level]\n",
            "--config=<Unicode>\n",
            "    Full path of a config file.\n",
            "    Default: ''\n",
            "    Equivalent to: [--JupyterApp.config_file]\n",
            "--to=<Unicode>\n",
            "    The export format to be used, either one of the built-in formats\n",
            "            ['asciidoc', 'custom', 'html', 'latex', 'markdown', 'notebook', 'pdf', 'python', 'rst', 'script', 'slides', 'webpdf']\n",
            "            or a dotted object name that represents the import path for an\n",
            "            ``Exporter`` class\n",
            "    Default: ''\n",
            "    Equivalent to: [--NbConvertApp.export_format]\n",
            "--template=<Unicode>\n",
            "    Name of the template to use\n",
            "    Default: ''\n",
            "    Equivalent to: [--TemplateExporter.template_name]\n",
            "--template-file=<Unicode>\n",
            "    Name of the template file to use\n",
            "    Default: None\n",
            "    Equivalent to: [--TemplateExporter.template_file]\n",
            "--theme=<Unicode>\n",
            "    Template specific theme(e.g. the name of a JupyterLab CSS theme distributed\n",
            "    as prebuilt extension for the lab template)\n",
            "    Default: 'light'\n",
            "    Equivalent to: [--HTMLExporter.theme]\n",
            "--sanitize_html=<Bool>\n",
            "    Whether the HTML in Markdown cells and cell outputs should be sanitized.This\n",
            "    should be set to True by nbviewer or similar tools.\n",
            "    Default: False\n",
            "    Equivalent to: [--HTMLExporter.sanitize_html]\n",
            "--writer=<DottedObjectName>\n",
            "    Writer class used to write the\n",
            "                                        results of the conversion\n",
            "    Default: 'FilesWriter'\n",
            "    Equivalent to: [--NbConvertApp.writer_class]\n",
            "--post=<DottedOrNone>\n",
            "    PostProcessor class used to write the\n",
            "                                        results of the conversion\n",
            "    Default: ''\n",
            "    Equivalent to: [--NbConvertApp.postprocessor_class]\n",
            "--output=<Unicode>\n",
            "    overwrite base name use for output files.\n",
            "                can only be used when converting one notebook at a time.\n",
            "    Default: ''\n",
            "    Equivalent to: [--NbConvertApp.output_base]\n",
            "--output-dir=<Unicode>\n",
            "    Directory to write output(s) to. Defaults\n",
            "                                  to output to the directory of each notebook. To recover\n",
            "                                  previous default behaviour (outputting to the current\n",
            "                                  working directory) use . as the flag value.\n",
            "    Default: ''\n",
            "    Equivalent to: [--FilesWriter.build_directory]\n",
            "--reveal-prefix=<Unicode>\n",
            "    The URL prefix for reveal.js (version 3.x).\n",
            "            This defaults to the reveal CDN, but can be any url pointing to a copy\n",
            "            of reveal.js.\n",
            "            For speaker notes to work, this must be a relative path to a local\n",
            "            copy of reveal.js: e.g., \"reveal.js\".\n",
            "            If a relative path is given, it must be a subdirectory of the\n",
            "            current directory (from which the server is run).\n",
            "            See the usage documentation\n",
            "            (https://nbconvert.readthedocs.io/en/latest/usage.html#reveal-js-html-slideshow)\n",
            "            for more details.\n",
            "    Default: ''\n",
            "    Equivalent to: [--SlidesExporter.reveal_url_prefix]\n",
            "--nbformat=<Enum>\n",
            "    The nbformat version to write.\n",
            "            Use this to downgrade notebooks.\n",
            "    Choices: any of [1, 2, 3, 4]\n",
            "    Default: 4\n",
            "    Equivalent to: [--NotebookExporter.nbformat_version]\n",
            "\n",
            "Examples\n",
            "--------\n",
            "\n",
            "    The simplest way to use nbconvert is\n",
            "\n",
            "            > jupyter nbconvert mynotebook.ipynb --to html\n",
            "\n",
            "            Options include ['asciidoc', 'custom', 'html', 'latex', 'markdown', 'notebook', 'pdf', 'python', 'rst', 'script', 'slides', 'webpdf'].\n",
            "\n",
            "            > jupyter nbconvert --to latex mynotebook.ipynb\n",
            "\n",
            "            Both HTML and LaTeX support multiple output templates. LaTeX includes\n",
            "            'base', 'article' and 'report'.  HTML includes 'basic', 'lab' and\n",
            "            'classic'. You can specify the flavor of the format used.\n",
            "\n",
            "            > jupyter nbconvert --to html --template lab mynotebook.ipynb\n",
            "\n",
            "            You can also pipe the output to stdout, rather than a file\n",
            "\n",
            "            > jupyter nbconvert mynotebook.ipynb --stdout\n",
            "\n",
            "            PDF is generated via latex\n",
            "\n",
            "            > jupyter nbconvert mynotebook.ipynb --to pdf\n",
            "\n",
            "            You can get (and serve) a Reveal.js-powered slideshow\n",
            "\n",
            "            > jupyter nbconvert myslides.ipynb --to slides --post serve\n",
            "\n",
            "            Multiple notebooks can be given at the command line in a couple of\n",
            "            different ways:\n",
            "\n",
            "            > jupyter nbconvert notebook*.ipynb\n",
            "            > jupyter nbconvert notebook1.ipynb notebook2.ipynb\n",
            "\n",
            "            or you can specify the notebooks list in a config file, containing::\n",
            "\n",
            "                c.NbConvertApp.notebooks = [\"my_notebook.ipynb\"]\n",
            "\n",
            "            > jupyter nbconvert --config mycfg.py\n",
            "\n",
            "To see all available configurables, use `--help-all`.\n",
            "\n"
          ]
        }
      ]
    },
    {
      "cell_type": "code",
      "source": [
        "!jupyter nbconvert --to html \"/content/Untitled1.ipynb\""
      ],
      "metadata": {
        "colab": {
          "base_uri": "https://localhost:8080/"
        },
        "id": "Kv3FHMRxt_w1",
        "outputId": "49a5f483-4f7f-40e2-a47d-907e3bfc338c"
      },
      "execution_count": 58,
      "outputs": [
        {
          "output_type": "stream",
          "name": "stdout",
          "text": [
            "[NbConvertApp] WARNING | pattern '/content/Untitled1.ipynb' matched no files\n",
            "This application is used to convert notebook files (*.ipynb)\n",
            "        to various other formats.\n",
            "\n",
            "        WARNING: THE COMMANDLINE INTERFACE MAY CHANGE IN FUTURE RELEASES.\n",
            "\n",
            "Options\n",
            "=======\n",
            "The options below are convenience aliases to configurable class-options,\n",
            "as listed in the \"Equivalent to\" description-line of the aliases.\n",
            "To see all configurable class-options for some <cmd>, use:\n",
            "    <cmd> --help-all\n",
            "\n",
            "--debug\n",
            "    set log level to logging.DEBUG (maximize logging output)\n",
            "    Equivalent to: [--Application.log_level=10]\n",
            "--show-config\n",
            "    Show the application's configuration (human-readable format)\n",
            "    Equivalent to: [--Application.show_config=True]\n",
            "--show-config-json\n",
            "    Show the application's configuration (json format)\n",
            "    Equivalent to: [--Application.show_config_json=True]\n",
            "--generate-config\n",
            "    generate default config file\n",
            "    Equivalent to: [--JupyterApp.generate_config=True]\n",
            "-y\n",
            "    Answer yes to any questions instead of prompting.\n",
            "    Equivalent to: [--JupyterApp.answer_yes=True]\n",
            "--execute\n",
            "    Execute the notebook prior to export.\n",
            "    Equivalent to: [--ExecutePreprocessor.enabled=True]\n",
            "--allow-errors\n",
            "    Continue notebook execution even if one of the cells throws an error and include the error message in the cell output (the default behaviour is to abort conversion). This flag is only relevant if '--execute' was specified, too.\n",
            "    Equivalent to: [--ExecutePreprocessor.allow_errors=True]\n",
            "--stdin\n",
            "    read a single notebook file from stdin. Write the resulting notebook with default basename 'notebook.*'\n",
            "    Equivalent to: [--NbConvertApp.from_stdin=True]\n",
            "--stdout\n",
            "    Write notebook output to stdout instead of files.\n",
            "    Equivalent to: [--NbConvertApp.writer_class=StdoutWriter]\n",
            "--inplace\n",
            "    Run nbconvert in place, overwriting the existing notebook (only\n",
            "            relevant when converting to notebook format)\n",
            "    Equivalent to: [--NbConvertApp.use_output_suffix=False --NbConvertApp.export_format=notebook --FilesWriter.build_directory=]\n",
            "--clear-output\n",
            "    Clear output of current file and save in place,\n",
            "            overwriting the existing notebook.\n",
            "    Equivalent to: [--NbConvertApp.use_output_suffix=False --NbConvertApp.export_format=notebook --FilesWriter.build_directory= --ClearOutputPreprocessor.enabled=True]\n",
            "--no-prompt\n",
            "    Exclude input and output prompts from converted document.\n",
            "    Equivalent to: [--TemplateExporter.exclude_input_prompt=True --TemplateExporter.exclude_output_prompt=True]\n",
            "--no-input\n",
            "    Exclude input cells and output prompts from converted document.\n",
            "            This mode is ideal for generating code-free reports.\n",
            "    Equivalent to: [--TemplateExporter.exclude_output_prompt=True --TemplateExporter.exclude_input=True --TemplateExporter.exclude_input_prompt=True]\n",
            "--allow-chromium-download\n",
            "    Whether to allow downloading chromium if no suitable version is found on the system.\n",
            "    Equivalent to: [--WebPDFExporter.allow_chromium_download=True]\n",
            "--disable-chromium-sandbox\n",
            "    Disable chromium security sandbox when converting to PDF..\n",
            "    Equivalent to: [--WebPDFExporter.disable_sandbox=True]\n",
            "--show-input\n",
            "    Shows code input. This flag is only useful for dejavu users.\n",
            "    Equivalent to: [--TemplateExporter.exclude_input=False]\n",
            "--embed-images\n",
            "    Embed the images as base64 dataurls in the output. This flag is only useful for the HTML/WebPDF/Slides exports.\n",
            "    Equivalent to: [--HTMLExporter.embed_images=True]\n",
            "--sanitize-html\n",
            "    Whether the HTML in Markdown cells and cell outputs should be sanitized..\n",
            "    Equivalent to: [--HTMLExporter.sanitize_html=True]\n",
            "--log-level=<Enum>\n",
            "    Set the log level by value or name.\n",
            "    Choices: any of [0, 10, 20, 30, 40, 50, 'DEBUG', 'INFO', 'WARN', 'ERROR', 'CRITICAL']\n",
            "    Default: 30\n",
            "    Equivalent to: [--Application.log_level]\n",
            "--config=<Unicode>\n",
            "    Full path of a config file.\n",
            "    Default: ''\n",
            "    Equivalent to: [--JupyterApp.config_file]\n",
            "--to=<Unicode>\n",
            "    The export format to be used, either one of the built-in formats\n",
            "            ['asciidoc', 'custom', 'html', 'latex', 'markdown', 'notebook', 'pdf', 'python', 'rst', 'script', 'slides', 'webpdf']\n",
            "            or a dotted object name that represents the import path for an\n",
            "            ``Exporter`` class\n",
            "    Default: ''\n",
            "    Equivalent to: [--NbConvertApp.export_format]\n",
            "--template=<Unicode>\n",
            "    Name of the template to use\n",
            "    Default: ''\n",
            "    Equivalent to: [--TemplateExporter.template_name]\n",
            "--template-file=<Unicode>\n",
            "    Name of the template file to use\n",
            "    Default: None\n",
            "    Equivalent to: [--TemplateExporter.template_file]\n",
            "--theme=<Unicode>\n",
            "    Template specific theme(e.g. the name of a JupyterLab CSS theme distributed\n",
            "    as prebuilt extension for the lab template)\n",
            "    Default: 'light'\n",
            "    Equivalent to: [--HTMLExporter.theme]\n",
            "--sanitize_html=<Bool>\n",
            "    Whether the HTML in Markdown cells and cell outputs should be sanitized.This\n",
            "    should be set to True by nbviewer or similar tools.\n",
            "    Default: False\n",
            "    Equivalent to: [--HTMLExporter.sanitize_html]\n",
            "--writer=<DottedObjectName>\n",
            "    Writer class used to write the\n",
            "                                        results of the conversion\n",
            "    Default: 'FilesWriter'\n",
            "    Equivalent to: [--NbConvertApp.writer_class]\n",
            "--post=<DottedOrNone>\n",
            "    PostProcessor class used to write the\n",
            "                                        results of the conversion\n",
            "    Default: ''\n",
            "    Equivalent to: [--NbConvertApp.postprocessor_class]\n",
            "--output=<Unicode>\n",
            "    overwrite base name use for output files.\n",
            "                can only be used when converting one notebook at a time.\n",
            "    Default: ''\n",
            "    Equivalent to: [--NbConvertApp.output_base]\n",
            "--output-dir=<Unicode>\n",
            "    Directory to write output(s) to. Defaults\n",
            "                                  to output to the directory of each notebook. To recover\n",
            "                                  previous default behaviour (outputting to the current\n",
            "                                  working directory) use . as the flag value.\n",
            "    Default: ''\n",
            "    Equivalent to: [--FilesWriter.build_directory]\n",
            "--reveal-prefix=<Unicode>\n",
            "    The URL prefix for reveal.js (version 3.x).\n",
            "            This defaults to the reveal CDN, but can be any url pointing to a copy\n",
            "            of reveal.js.\n",
            "            For speaker notes to work, this must be a relative path to a local\n",
            "            copy of reveal.js: e.g., \"reveal.js\".\n",
            "            If a relative path is given, it must be a subdirectory of the\n",
            "            current directory (from which the server is run).\n",
            "            See the usage documentation\n",
            "            (https://nbconvert.readthedocs.io/en/latest/usage.html#reveal-js-html-slideshow)\n",
            "            for more details.\n",
            "    Default: ''\n",
            "    Equivalent to: [--SlidesExporter.reveal_url_prefix]\n",
            "--nbformat=<Enum>\n",
            "    The nbformat version to write.\n",
            "            Use this to downgrade notebooks.\n",
            "    Choices: any of [1, 2, 3, 4]\n",
            "    Default: 4\n",
            "    Equivalent to: [--NotebookExporter.nbformat_version]\n",
            "\n",
            "Examples\n",
            "--------\n",
            "\n",
            "    The simplest way to use nbconvert is\n",
            "\n",
            "            > jupyter nbconvert mynotebook.ipynb --to html\n",
            "\n",
            "            Options include ['asciidoc', 'custom', 'html', 'latex', 'markdown', 'notebook', 'pdf', 'python', 'rst', 'script', 'slides', 'webpdf'].\n",
            "\n",
            "            > jupyter nbconvert --to latex mynotebook.ipynb\n",
            "\n",
            "            Both HTML and LaTeX support multiple output templates. LaTeX includes\n",
            "            'base', 'article' and 'report'.  HTML includes 'basic', 'lab' and\n",
            "            'classic'. You can specify the flavor of the format used.\n",
            "\n",
            "            > jupyter nbconvert --to html --template lab mynotebook.ipynb\n",
            "\n",
            "            You can also pipe the output to stdout, rather than a file\n",
            "\n",
            "            > jupyter nbconvert mynotebook.ipynb --stdout\n",
            "\n",
            "            PDF is generated via latex\n",
            "\n",
            "            > jupyter nbconvert mynotebook.ipynb --to pdf\n",
            "\n",
            "            You can get (and serve) a Reveal.js-powered slideshow\n",
            "\n",
            "            > jupyter nbconvert myslides.ipynb --to slides --post serve\n",
            "\n",
            "            Multiple notebooks can be given at the command line in a couple of\n",
            "            different ways:\n",
            "\n",
            "            > jupyter nbconvert notebook*.ipynb\n",
            "            > jupyter nbconvert notebook1.ipynb notebook2.ipynb\n",
            "\n",
            "            or you can specify the notebooks list in a config file, containing::\n",
            "\n",
            "                c.NbConvertApp.notebooks = [\"my_notebook.ipynb\"]\n",
            "\n",
            "            > jupyter nbconvert --config mycfg.py\n",
            "\n",
            "To see all available configurables, use `--help-all`.\n",
            "\n"
          ]
        }
      ]
    }
  ]
}